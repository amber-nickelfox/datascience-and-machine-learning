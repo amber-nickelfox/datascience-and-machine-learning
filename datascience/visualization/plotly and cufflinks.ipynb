{
 "cells": [
  {
   "cell_type": "markdown",
   "metadata": {},
   "source": [
    "### Plotly is a Interactive visualization library. Cufflinks connects plotly with pandas"
   ]
  },
  {
   "cell_type": "code",
   "execution_count": 1,
   "metadata": {},
   "outputs": [],
   "source": [
    "import chart_studio.plotly as py"
   ]
  },
  {
   "cell_type": "code",
   "execution_count": 2,
   "metadata": {},
   "outputs": [],
   "source": [
    "import pandas as pd\n",
    "import numpy as np\n",
    "from plotly import __version__"
   ]
  },
  {
   "cell_type": "code",
   "execution_count": 3,
   "metadata": {},
   "outputs": [
    {
     "name": "stdout",
     "output_type": "stream",
     "text": [
      "4.7.0\n"
     ]
    }
   ],
   "source": [
    "print(__version__)"
   ]
  },
  {
   "cell_type": "code",
   "execution_count": 4,
   "metadata": {},
   "outputs": [],
   "source": [
    "import cufflinks as cf\n",
    "from plotly.offline import download_plotlyjs, init_notebook_mode, iplot"
   ]
  },
  {
   "cell_type": "code",
   "execution_count": 6,
   "metadata": {},
   "outputs": [
    {
     "data": {
      "text/html": [
       "        <script type=\"text/javascript\">\n",
       "        window.PlotlyConfig = {MathJaxConfig: 'local'};\n",
       "        if (window.MathJax) {MathJax.Hub.Config({SVG: {font: \"STIX-Web\"}});}\n",
       "        if (typeof require !== 'undefined') {\n",
       "        require.undef(\"plotly\");\n",
       "        requirejs.config({\n",
       "            paths: {\n",
       "                'plotly': ['https://cdn.plot.ly/plotly-latest.min']\n",
       "            }\n",
       "        });\n",
       "        require(['plotly'], function(Plotly) {\n",
       "            window._Plotly = Plotly;\n",
       "        });\n",
       "        }\n",
       "        </script>\n",
       "        "
      ]
     },
     "metadata": {},
     "output_type": "display_data"
    }
   ],
   "source": [
    "# connect javascript to notebook\n",
    "init_notebook_mode(connected=True)"
   ]
  },
  {
   "cell_type": "code",
   "execution_count": 7,
   "metadata": {},
   "outputs": [
    {
     "data": {
      "text/html": [
       "        <script type=\"text/javascript\">\n",
       "        window.PlotlyConfig = {MathJaxConfig: 'local'};\n",
       "        if (window.MathJax) {MathJax.Hub.Config({SVG: {font: \"STIX-Web\"}});}\n",
       "        if (typeof require !== 'undefined') {\n",
       "        require.undef(\"plotly\");\n",
       "        requirejs.config({\n",
       "            paths: {\n",
       "                'plotly': ['https://cdn.plot.ly/plotly-latest.min']\n",
       "            }\n",
       "        });\n",
       "        require(['plotly'], function(Plotly) {\n",
       "            window._Plotly = Plotly;\n",
       "        });\n",
       "        }\n",
       "        </script>\n",
       "        "
      ]
     },
     "metadata": {},
     "output_type": "display_data"
    }
   ],
   "source": [
    "cf.go_offline()"
   ]
  },
  {
   "cell_type": "code",
   "execution_count": 8,
   "metadata": {},
   "outputs": [],
   "source": [
    "# Get some data\n",
    "df = pd.DataFrame(np.random.randn(100,4), columns='A B C D'.split())"
   ]
  },
  {
   "cell_type": "code",
   "execution_count": 9,
   "metadata": {},
   "outputs": [
    {
     "data": {
      "text/html": [
       "<div>\n",
       "<style scoped>\n",
       "    .dataframe tbody tr th:only-of-type {\n",
       "        vertical-align: middle;\n",
       "    }\n",
       "\n",
       "    .dataframe tbody tr th {\n",
       "        vertical-align: top;\n",
       "    }\n",
       "\n",
       "    .dataframe thead th {\n",
       "        text-align: right;\n",
       "    }\n",
       "</style>\n",
       "<table border=\"1\" class=\"dataframe\">\n",
       "  <thead>\n",
       "    <tr style=\"text-align: right;\">\n",
       "      <th></th>\n",
       "      <th>A</th>\n",
       "      <th>B</th>\n",
       "      <th>C</th>\n",
       "      <th>D</th>\n",
       "    </tr>\n",
       "  </thead>\n",
       "  <tbody>\n",
       "    <tr>\n",
       "      <th>0</th>\n",
       "      <td>1.352242</td>\n",
       "      <td>0.285396</td>\n",
       "      <td>-1.211474</td>\n",
       "      <td>-0.422071</td>\n",
       "    </tr>\n",
       "    <tr>\n",
       "      <th>1</th>\n",
       "      <td>-1.436749</td>\n",
       "      <td>-0.440660</td>\n",
       "      <td>1.700801</td>\n",
       "      <td>0.571335</td>\n",
       "    </tr>\n",
       "    <tr>\n",
       "      <th>2</th>\n",
       "      <td>0.342466</td>\n",
       "      <td>0.333656</td>\n",
       "      <td>-1.178994</td>\n",
       "      <td>0.209309</td>\n",
       "    </tr>\n",
       "    <tr>\n",
       "      <th>3</th>\n",
       "      <td>0.225014</td>\n",
       "      <td>0.201835</td>\n",
       "      <td>0.145130</td>\n",
       "      <td>0.235736</td>\n",
       "    </tr>\n",
       "    <tr>\n",
       "      <th>4</th>\n",
       "      <td>-1.383577</td>\n",
       "      <td>0.468673</td>\n",
       "      <td>1.286943</td>\n",
       "      <td>-0.190331</td>\n",
       "    </tr>\n",
       "    <tr>\n",
       "      <th>...</th>\n",
       "      <td>...</td>\n",
       "      <td>...</td>\n",
       "      <td>...</td>\n",
       "      <td>...</td>\n",
       "    </tr>\n",
       "    <tr>\n",
       "      <th>95</th>\n",
       "      <td>0.278256</td>\n",
       "      <td>-1.399594</td>\n",
       "      <td>-0.791824</td>\n",
       "      <td>0.985153</td>\n",
       "    </tr>\n",
       "    <tr>\n",
       "      <th>96</th>\n",
       "      <td>0.566616</td>\n",
       "      <td>-2.282914</td>\n",
       "      <td>-0.666430</td>\n",
       "      <td>-0.967572</td>\n",
       "    </tr>\n",
       "    <tr>\n",
       "      <th>97</th>\n",
       "      <td>-0.930273</td>\n",
       "      <td>0.874277</td>\n",
       "      <td>0.613607</td>\n",
       "      <td>-0.732323</td>\n",
       "    </tr>\n",
       "    <tr>\n",
       "      <th>98</th>\n",
       "      <td>-1.346301</td>\n",
       "      <td>-3.559129</td>\n",
       "      <td>-1.728326</td>\n",
       "      <td>-0.811096</td>\n",
       "    </tr>\n",
       "    <tr>\n",
       "      <th>99</th>\n",
       "      <td>0.324688</td>\n",
       "      <td>-0.529223</td>\n",
       "      <td>-0.193429</td>\n",
       "      <td>0.782409</td>\n",
       "    </tr>\n",
       "  </tbody>\n",
       "</table>\n",
       "<p>100 rows × 4 columns</p>\n",
       "</div>"
      ],
      "text/plain": [
       "           A         B         C         D\n",
       "0   1.352242  0.285396 -1.211474 -0.422071\n",
       "1  -1.436749 -0.440660  1.700801  0.571335\n",
       "2   0.342466  0.333656 -1.178994  0.209309\n",
       "3   0.225014  0.201835  0.145130  0.235736\n",
       "4  -1.383577  0.468673  1.286943 -0.190331\n",
       "..       ...       ...       ...       ...\n",
       "95  0.278256 -1.399594 -0.791824  0.985153\n",
       "96  0.566616 -2.282914 -0.666430 -0.967572\n",
       "97 -0.930273  0.874277  0.613607 -0.732323\n",
       "98 -1.346301 -3.559129 -1.728326 -0.811096\n",
       "99  0.324688 -0.529223 -0.193429  0.782409\n",
       "\n",
       "[100 rows x 4 columns]"
      ]
     },
     "execution_count": 9,
     "metadata": {},
     "output_type": "execute_result"
    }
   ],
   "source": [
    "df"
   ]
  },
  {
   "cell_type": "code",
   "execution_count": 11,
   "metadata": {},
   "outputs": [],
   "source": [
    "df1 = pd.DataFrame(\n",
    "{\n",
    "    'Category': ['A','B','C'],\n",
    "    'value': [32,43,45]\n",
    "})"
   ]
  },
  {
   "cell_type": "code",
   "execution_count": 12,
   "metadata": {},
   "outputs": [
    {
     "data": {
      "text/html": [
       "<div>\n",
       "<style scoped>\n",
       "    .dataframe tbody tr th:only-of-type {\n",
       "        vertical-align: middle;\n",
       "    }\n",
       "\n",
       "    .dataframe tbody tr th {\n",
       "        vertical-align: top;\n",
       "    }\n",
       "\n",
       "    .dataframe thead th {\n",
       "        text-align: right;\n",
       "    }\n",
       "</style>\n",
       "<table border=\"1\" class=\"dataframe\">\n",
       "  <thead>\n",
       "    <tr style=\"text-align: right;\">\n",
       "      <th></th>\n",
       "      <th>Category</th>\n",
       "      <th>value</th>\n",
       "    </tr>\n",
       "  </thead>\n",
       "  <tbody>\n",
       "    <tr>\n",
       "      <th>0</th>\n",
       "      <td>A</td>\n",
       "      <td>32</td>\n",
       "    </tr>\n",
       "    <tr>\n",
       "      <th>1</th>\n",
       "      <td>B</td>\n",
       "      <td>43</td>\n",
       "    </tr>\n",
       "    <tr>\n",
       "      <th>2</th>\n",
       "      <td>C</td>\n",
       "      <td>45</td>\n",
       "    </tr>\n",
       "  </tbody>\n",
       "</table>\n",
       "</div>"
      ],
      "text/plain": [
       "  Category  value\n",
       "0        A     32\n",
       "1        B     43\n",
       "2        C     45"
      ]
     },
     "execution_count": 12,
     "metadata": {},
     "output_type": "execute_result"
    }
   ],
   "source": [
    "df1"
   ]
  },
  {
   "cell_type": "code",
   "execution_count": 13,
   "metadata": {},
   "outputs": [
    {
     "data": {
      "text/html": [
       "<div>\n",
       "<style scoped>\n",
       "    .dataframe tbody tr th:only-of-type {\n",
       "        vertical-align: middle;\n",
       "    }\n",
       "\n",
       "    .dataframe tbody tr th {\n",
       "        vertical-align: top;\n",
       "    }\n",
       "\n",
       "    .dataframe thead th {\n",
       "        text-align: right;\n",
       "    }\n",
       "</style>\n",
       "<table border=\"1\" class=\"dataframe\">\n",
       "  <thead>\n",
       "    <tr style=\"text-align: right;\">\n",
       "      <th></th>\n",
       "      <th>A</th>\n",
       "      <th>B</th>\n",
       "      <th>C</th>\n",
       "      <th>D</th>\n",
       "    </tr>\n",
       "  </thead>\n",
       "  <tbody>\n",
       "    <tr>\n",
       "      <th>0</th>\n",
       "      <td>1.352242</td>\n",
       "      <td>0.285396</td>\n",
       "      <td>-1.211474</td>\n",
       "      <td>-0.422071</td>\n",
       "    </tr>\n",
       "    <tr>\n",
       "      <th>1</th>\n",
       "      <td>-1.436749</td>\n",
       "      <td>-0.440660</td>\n",
       "      <td>1.700801</td>\n",
       "      <td>0.571335</td>\n",
       "    </tr>\n",
       "    <tr>\n",
       "      <th>2</th>\n",
       "      <td>0.342466</td>\n",
       "      <td>0.333656</td>\n",
       "      <td>-1.178994</td>\n",
       "      <td>0.209309</td>\n",
       "    </tr>\n",
       "    <tr>\n",
       "      <th>3</th>\n",
       "      <td>0.225014</td>\n",
       "      <td>0.201835</td>\n",
       "      <td>0.145130</td>\n",
       "      <td>0.235736</td>\n",
       "    </tr>\n",
       "    <tr>\n",
       "      <th>4</th>\n",
       "      <td>-1.383577</td>\n",
       "      <td>0.468673</td>\n",
       "      <td>1.286943</td>\n",
       "      <td>-0.190331</td>\n",
       "    </tr>\n",
       "    <tr>\n",
       "      <th>...</th>\n",
       "      <td>...</td>\n",
       "      <td>...</td>\n",
       "      <td>...</td>\n",
       "      <td>...</td>\n",
       "    </tr>\n",
       "    <tr>\n",
       "      <th>95</th>\n",
       "      <td>0.278256</td>\n",
       "      <td>-1.399594</td>\n",
       "      <td>-0.791824</td>\n",
       "      <td>0.985153</td>\n",
       "    </tr>\n",
       "    <tr>\n",
       "      <th>96</th>\n",
       "      <td>0.566616</td>\n",
       "      <td>-2.282914</td>\n",
       "      <td>-0.666430</td>\n",
       "      <td>-0.967572</td>\n",
       "    </tr>\n",
       "    <tr>\n",
       "      <th>97</th>\n",
       "      <td>-0.930273</td>\n",
       "      <td>0.874277</td>\n",
       "      <td>0.613607</td>\n",
       "      <td>-0.732323</td>\n",
       "    </tr>\n",
       "    <tr>\n",
       "      <th>98</th>\n",
       "      <td>-1.346301</td>\n",
       "      <td>-3.559129</td>\n",
       "      <td>-1.728326</td>\n",
       "      <td>-0.811096</td>\n",
       "    </tr>\n",
       "    <tr>\n",
       "      <th>99</th>\n",
       "      <td>0.324688</td>\n",
       "      <td>-0.529223</td>\n",
       "      <td>-0.193429</td>\n",
       "      <td>0.782409</td>\n",
       "    </tr>\n",
       "  </tbody>\n",
       "</table>\n",
       "<p>100 rows × 4 columns</p>\n",
       "</div>"
      ],
      "text/plain": [
       "           A         B         C         D\n",
       "0   1.352242  0.285396 -1.211474 -0.422071\n",
       "1  -1.436749 -0.440660  1.700801  0.571335\n",
       "2   0.342466  0.333656 -1.178994  0.209309\n",
       "3   0.225014  0.201835  0.145130  0.235736\n",
       "4  -1.383577  0.468673  1.286943 -0.190331\n",
       "..       ...       ...       ...       ...\n",
       "95  0.278256 -1.399594 -0.791824  0.985153\n",
       "96  0.566616 -2.282914 -0.666430 -0.967572\n",
       "97 -0.930273  0.874277  0.613607 -0.732323\n",
       "98 -1.346301 -3.559129 -1.728326 -0.811096\n",
       "99  0.324688 -0.529223 -0.193429  0.782409\n",
       "\n",
       "[100 rows x 4 columns]"
      ]
     },
     "execution_count": 13,
     "metadata": {},
     "output_type": "execute_result"
    }
   ],
   "source": [
    "df"
   ]
  },
  {
   "cell_type": "code",
   "execution_count": 14,
   "metadata": {},
   "outputs": [
    {
     "data": {
      "text/plain": [
       "<matplotlib.axes._subplots.AxesSubplot at 0x7fbb5804dfd0>"
      ]
     },
     "execution_count": 14,
     "metadata": {},
     "output_type": "execute_result"
    },
    {
     "data": {
      "image/png": "[encoded data removed]",
      "text/plain": [
       "<Figure size 432x288 with 1 Axes>"
      ]
     },
     "metadata": {
      "needs_background": "light"
     },
     "output_type": "display_data"
    }
   ],
   "source": [
    "df.plot()"
   ]
  },
  {
   "cell_type": "code",
   "execution_count": 15,
   "metadata": {},
   "outputs": [
    {
     "data": {
      "text/plain": [
       "<matplotlib.axes._subplots.AxesSubplot at 0x7fbb55cdc7b8>"
      ]
     },
     "execution_count": 15,
     "metadata": {},
     "output_type": "execute_result"
    },
    {
     "data": {
      "image/png": "[encoded data removed]",
      "text/plain": [
       "<Figure size 432x288 with 1 Axes>"
      ]
     },
     "metadata": {
      "needs_background": "light"
     },
     "output_type": "display_data"
    }
   ],
   "source": [
    "df1.plot()"
   ]
  },
  {
   "cell_type": "code",
   "execution_count": 19,
   "metadata": {},
   "outputs": [
    {
     "data": {
      "application/vnd.plotly.v1+json": {
       "config": {
        "linkText": "Export to plot.ly",
        "plotlyServerURL": "https://plot.ly",
        "showLink": true
       },
       "data": [
        {
         "line": {
          "color": "rgba(255, 153, 51, 1.0)",
          "dash": "solid",
          "shape": "linear",
          "width": 1.3
         },
         "mode": "lines",
         "name": "A",
         "text": "",
         "type": "scatter",
         "x": [
          0,
          1,
          2,
          3,
          4,
          5,
          6,
          7,
          8,
          9,
          10,
          11,
          12,
          13,
          14,
          15,
          16,
          17,
          18,
          19,
          20,
          21,
          22,
          23,
          24,
          25,
          26,
          27,
          28,
          29,
          30,
          31,
          32,
          33,
          34,
          35,
          36,
          37,
          38,
          39,
          40,
          41,
          42,
          43,
          44,
          45,
          46,
          47,
          48,
          49,
          50,
          51,
          52,
          53,
          54,
          55,
          56,
          57,
          58,
          59,
          60,
          61,
          62,
          63,
          64,
          65,
          66,
          67,
          68,
          69,
          70,
          71,
          72,
          73,
          74,
          75,
          76,
          77,
          78,
          79,
          80,
          81,
          82,
          83,
          84,
          85,
          86,
          87,
          88,
          89,
          90,
          91,
          92,
          93,
          94,
          95,
          96,
          97,
          98,
          99
         ],
         "y": [
          1.3522419087117923,
          -1.4367485228096082,
          0.34246615131765074,
          0.22501371995467404,
          -1.3835773588716889,
          -0.3786606793558325,
          1.5700394365681638,
          -0.4389112823843724,
          0.019327259196934583,
          -0.7871373062572039,
          1.1582459987267817,
          0.5419561074166749,
          0.10300724317610074,
          1.056526493789133,
          -0.5935929218146352,
          -0.9400064843743166,
          0.8184536422660786,
          0.6051514716477069,
          1.986033931482904,
          3.654979997899412,
          0.17858108615271165,
          -1.5513735777578752,
          1.9711731349620212,
          0.6244032392053847,
          1.1358931781345123,
          0.40377740852876387,
          -1.1112520429721875,
          -0.4837839184642077,
          -0.4697476049298041,
          0.4624700962665709,
          -0.40519454607155914,
          0.26826033900583474,
          -3.363286877728186,
          1.8642796689830858,
          0.3546706184336565,
          -0.3010076943115201,
          -0.184736525521066,
          -0.17078051736817168,
          1.0582430636820745,
          -0.8379417122297186,
          -0.17913716056313403,
          0.2868655884201024,
          1.4975251686775926,
          0.1673545509032834,
          1.8892720942055872,
          1.2000191097252784,
          -0.11723758426468586,
          -1.3923642324153118,
          1.2067384689802523,
          0.6995092920577454,
          -0.450318572383938,
          -1.0768058506215945,
          1.8240423037842124,
          -1.2848847471231686,
          -1.3092995799985827,
          -2.252081015062117,
          1.6516269181221692,
          1.5514491437019398,
          0.17685847323240705,
          -0.9136086216446226,
          1.2010817770884787,
          -0.19816291549069612,
          1.321136986359857,
          -0.3394538966085169,
          0.34016035243713444,
          -0.7941748905370211,
          0.19043318709089463,
          -0.5436817352645537,
          1.0661669821985864,
          2.2851010625069286,
          -0.8266733303952352,
          0.7884285801220625,
          0.8231972467330367,
          0.324008182428142,
          0.6752070165857296,
          -0.8439726176579643,
          -0.20609333658074047,
          -1.5482680054696205,
          -0.38434511261941934,
          0.07692083586667725,
          -0.6248572409586476,
          -0.16248851481555132,
          -1.8459074757071747,
          1.4126122652500914,
          0.19075917126177336,
          0.1756756844178885,
          -0.6453507523108135,
          1.689030633833263,
          -0.8708237540304141,
          0.25013438914188446,
          -1.4214869901784088,
          0.2984832844136182,
          -0.5636158302217779,
          -0.30474446122783944,
          1.006249773260137,
          0.2782559169320781,
          0.5666162539211673,
          -0.9302725711947286,
          -1.3463008359939528,
          0.32468815436776594
         ]
        },
        {
         "line": {
          "color": "rgba(55, 128, 191, 1.0)",
          "dash": "solid",
          "shape": "linear",
          "width": 1.3
         },
         "mode": "lines",
         "name": "B",
         "text": "",
         "type": "scatter",
         "x": [
          0,
          1,
          2,
          3,
          4,
          5,
          6,
          7,
          8,
          9,
          10,
          11,
          12,
          13,
          14,
          15,
          16,
          17,
          18,
          19,
          20,
          21,
          22,
          23,
          24,
          25,
          26,
          27,
          28,
          29,
          30,
          31,
          32,
          33,
          34,
          35,
          36,
          37,
          38,
          39,
          40,
          41,
          42,
          43,
          44,
          45,
          46,
          47,
          48,
          49,
          50,
          51,
          52,
          53,
          54,
          55,
          56,
          57,
          58,
          59,
          60,
          61,
          62,
          63,
          64,
          65,
          66,
          67,
          68,
          69,
          70,
          71,
          72,
          73,
          74,
          75,
          76,
          77,
          78,
          79,
          80,
          81,
          82,
          83,
          84,
          85,
          86,
          87,
          88,
          89,
          90,
          91,
          92,
          93,
          94,
          95,
          96,
          97,
          98,
          99
         ],
         "y": [
          0.2853960742036141,
          -0.4406604289569714,
          0.33365589029910364,
          0.2018345194581368,
          0.468673037397461,
          -1.3528010257124101,
          0.800285334395616,
          0.8735403499291123,
          -0.4971589012856189,
          -1.1501645383832924,
          -0.11235634631765345,
          0.4723699885089022,
          0.0712305561391159,
          0.24284710471750473,
          -0.9122241746416804,
          0.8269817335779781,
          -0.00874132852355032,
          -0.6318762826014234,
          0.43011057200838515,
          1.0704132732721918,
          2.134360594704674,
          0.31373630965031646,
          -0.8829218217202525,
          -0.73474365392336,
          0.3200172946062929,
          1.2920107799210232,
          -0.4672134494390364,
          -0.4255892680362301,
          -0.7883031262036172,
          -0.42466003092600074,
          1.312409195297587,
          0.09591687871532022,
          1.3971624576376163,
          0.5876017168531212,
          -0.9320959746324256,
          -1.554159956817357,
          0.34482741176093945,
          1.5468924170915168,
          -1.4034301158921905,
          -0.3421364854793705,
          -0.3700258002299505,
          0.18963240578518814,
          -0.8367522861239166,
          -1.4354639631629302,
          -0.1924128922031911,
          -0.4471995622697898,
          -0.20594738032034565,
          1.1666927760052315,
          0.8542061073093862,
          -0.045340865093400975,
          0.8829678490586947,
          2.6408083514235363,
          -0.5007660975317126,
          0.15144509399049666,
          -0.14989090307841002,
          -1.6619153347196627,
          1.0238621209857814,
          1.2221517095795575,
          -0.9735974374641312,
          -0.5627451263909823,
          -0.05804543402331785,
          0.9850109566618794,
          0.8381067825455304,
          -1.1621346812659719,
          -0.6289189456340682,
          0.9332556602694779,
          0.1801566919373079,
          0.10417651779157987,
          -0.14807796339151225,
          1.5990250523195302,
          -0.053927329507619894,
          -0.7783360488156015,
          -0.3700849764827003,
          2.2810591763490504,
          0.2542492977753961,
          2.762357088437156,
          0.6376042127156709,
          1.2695848172126263,
          0.45641857354305465,
          0.46965554004453053,
          -1.1173114686529768,
          0.3186506440608256,
          -1.2750038871380027,
          0.6618715619915841,
          0.08003220670383365,
          0.8067700142648925,
          -0.1022498040061927,
          -0.11343763353982858,
          -1.2410875845656366,
          0.5410071859457992,
          -0.008862683281114241,
          0.01483585722941619,
          -2.2886479470860417,
          -2.2874057157464414,
          -1.8809150648910813,
          -1.3995936415281152,
          -2.2829143071083657,
          0.8742765899714318,
          -3.559128971832099,
          -0.5292230111010272
         ]
        },
        {
         "line": {
          "color": "rgba(50, 171, 96, 1.0)",
          "dash": "solid",
          "shape": "linear",
          "width": 1.3
         },
         "mode": "lines",
         "name": "C",
         "text": "",
         "type": "scatter",
         "x": [
          0,
          1,
          2,
          3,
          4,
          5,
          6,
          7,
          8,
          9,
          10,
          11,
          12,
          13,
          14,
          15,
          16,
          17,
          18,
          19,
          20,
          21,
          22,
          23,
          24,
          25,
          26,
          27,
          28,
          29,
          30,
          31,
          32,
          33,
          34,
          35,
          36,
          37,
          38,
          39,
          40,
          41,
          42,
          43,
          44,
          45,
          46,
          47,
          48,
          49,
          50,
          51,
          52,
          53,
          54,
          55,
          56,
          57,
          58,
          59,
          60,
          61,
          62,
          63,
          64,
          65,
          66,
          67,
          68,
          69,
          70,
          71,
          72,
          73,
          74,
          75,
          76,
          77,
          78,
          79,
          80,
          81,
          82,
          83,
          84,
          85,
          86,
          87,
          88,
          89,
          90,
          91,
          92,
          93,
          94,
          95,
          96,
          97,
          98,
          99
         ],
         "y": [
          -1.2114743390562264,
          1.700800915419909,
          -1.178994477837021,
          0.14513018194727986,
          1.286942779256458,
          0.6955018892298953,
          -0.9780020693548642,
          1.46808894919136,
          0.5822854672166777,
          0.19151145671021533,
          1.2105212178471323,
          1.4569023841482407,
          1.1756193827787285,
          0.7542403015929829,
          0.8434614724697863,
          -0.8560461320728188,
          0.9936037814303642,
          -0.31434565857476593,
          0.04525888276113422,
          0.5083100632905638,
          0.5286150797252278,
          -1.0246358503243014,
          -5.635076311253026e-05,
          -0.007341225579132861,
          0.5545965801178203,
          0.0810432372767892,
          1.1999323217913713,
          0.7471526407393261,
          0.0852219670418781,
          0.7993831939237878,
          -0.7922259472297779,
          -0.17945078997743538,
          0.7445919702954994,
          -0.07543975670014871,
          0.2958411375086231,
          0.11288799429313509,
          0.5866679922058633,
          0.7693347762832684,
          1.202395837276869,
          -0.515623404678566,
          -1.1129721035407865,
          -0.2899754175382606,
          0.20716303560209146,
          -0.8111795583989764,
          -0.7029578790728146,
          0.2923644478814588,
          -0.021076270898370716,
          -0.498923747661836,
          2.786513630916273,
          0.024913166024660306,
          -1.7807545602182158,
          -1.357397531105,
          0.1270269844378426,
          -0.5197410481686981,
          0.6008872605864622,
          -0.4423647332569923,
          0.15909986938826357,
          -0.47620993889168306,
          0.2870340326809318,
          1.0484693388735191,
          -1.7089889393481843,
          0.03309500492681004,
          0.9709780861585363,
          -0.2674736636277588,
          -0.1719559943280335,
          -0.25103460113072934,
          1.9652966578048763,
          -1.0299412274250208,
          -0.9521461846731799,
          -0.538170621043196,
          -0.3111127524093368,
          -0.5969506068307517,
          -1.6525314381120113,
          0.07541342778795664,
          0.8188151546411473,
          1.5122827976558877,
          0.09889150579605903,
          -0.7085815791607246,
          -2.2022019766422916,
          0.45863390939431736,
          0.6389744930862618,
          0.44307298846494525,
          0.6322602528309235,
          0.4190339353806155,
          0.2019674361957441,
          1.2653444505074438,
          1.6010436074640049,
          -0.04273937600904199,
          2.4247514443140528,
          -0.07098998568331391,
          -0.2494477920339057,
          -1.5733955487514455,
          -0.2705985504473421,
          -0.16015968417545634,
          1.5576972107642162,
          -0.7918241252487018,
          -0.6664298961171453,
          0.6136067512289997,
          -1.7283263219878962,
          -0.1934294523399556
         ]
        },
        {
         "line": {
          "color": "rgba(128, 0, 128, 1.0)",
          "dash": "solid",
          "shape": "linear",
          "width": 1.3
         },
         "mode": "lines",
         "name": "D",
         "text": "",
         "type": "scatter",
         "x": [
          0,
          1,
          2,
          3,
          4,
          5,
          6,
          7,
          8,
          9,
          10,
          11,
          12,
          13,
          14,
          15,
          16,
          17,
          18,
          19,
          20,
          21,
          22,
          23,
          24,
          25,
          26,
          27,
          28,
          29,
          30,
          31,
          32,
          33,
          34,
          35,
          36,
          37,
          38,
          39,
          40,
          41,
          42,
          43,
          44,
          45,
          46,
          47,
          48,
          49,
          50,
          51,
          52,
          53,
          54,
          55,
          56,
          57,
          58,
          59,
          60,
          61,
          62,
          63,
          64,
          65,
          66,
          67,
          68,
          69,
          70,
          71,
          72,
          73,
          74,
          75,
          76,
          77,
          78,
          79,
          80,
          81,
          82,
          83,
          84,
          85,
          86,
          87,
          88,
          89,
          90,
          91,
          92,
          93,
          94,
          95,
          96,
          97,
          98,
          99
         ],
         "y": [
          -0.42207092062544505,
          0.571334851427382,
          0.209309099577975,
          0.2357360351882224,
          -0.19033052317107174,
          1.7954668044031779,
          0.03753594495671657,
          -0.34444488948102764,
          0.5145014018508386,
          0.7792744997652691,
          1.802800703652718,
          0.12961945987754453,
          -2.2451385004143423,
          -0.5476262287075142,
          1.8147112758073896,
          1.7774030039222173,
          -0.2890566123981602,
          -1.4229622366313441,
          0.5617914011982906,
          -1.2551830304274805,
          -1.6294584594711694,
          -0.06845787408972442,
          0.5677003676723057,
          -0.25533216789681634,
          2.17800882925841,
          1.5569574961587103,
          0.13536002901035704,
          -1.9501362472694592,
          -0.4084740162108226,
          0.09864966201708075,
          0.7005521862610382,
          -1.0237131750107904,
          -3.7198755066257703,
          1.2401281855439659,
          -0.24963018210588891,
          -0.4495616394996091,
          -1.334142897239012,
          -0.05199385707357265,
          -0.3636576150250563,
          0.6155077403985042,
          -0.8367399055275807,
          -1.0065113759366735,
          -2.53522971674168,
          -0.22123698017928725,
          1.7810788278251577,
          1.0037516165704732,
          -1.1182941395835115,
          -0.648522184773254,
          0.6592307181632687,
          -3.3148689366391255,
          0.5106039962665352,
          0.7016254374433916,
          0.6878489361253675,
          1.1427259382637898,
          -0.15063296235128362,
          1.7457182916932434,
          0.5152133093405894,
          -0.036109000356071556,
          0.7830740550725146,
          -0.44928100405539784,
          -0.07516099765662752,
          -1.1966712721257133,
          -1.812651207171741,
          0.7011874349784221,
          -0.6852555009642081,
          0.9776338731551988,
          0.4018853632616528,
          -0.19676303051306304,
          1.1682857171730392,
          -0.42026047686310775,
          1.0596319099267317,
          2.1167466718626504,
          -1.940722935149875,
          -0.9433259313316542,
          1.0845925686579752,
          -0.3825290633316056,
          0.6189134578674937,
          0.16208020847827534,
          -0.8392312772360102,
          -0.33911222257382945,
          -0.4049050065854754,
          -0.7610784392404565,
          -0.031673418319424954,
          -0.5905931178369421,
          0.09284308666716118,
          -1.4569240927626794,
          2.233444474053686,
          -2.2463777812587433,
          0.8247773217007768,
          1.2873820847023052,
          0.018378373475883426,
          1.0728725272475856,
          0.2049473995358994,
          -0.09993459592442042,
          0.12833398650529076,
          0.9851533536016509,
          -0.9675715123129737,
          -0.7323234244894197,
          -0.8110955871650228,
          0.7824093705610112
         ]
        }
       ],
       "layout": {
        "legend": {
         "bgcolor": "#F5F6F9",
         "font": {
          "color": "#4D5663"
         }
        },
        "paper_bgcolor": "#F5F6F9",
        "plot_bgcolor": "#F5F6F9",
        "template": {
         "data": {
          "bar": [
           {
            "error_x": {
             "color": "#2a3f5f"
            },
            "error_y": {
             "color": "#2a3f5f"
            },
            "marker": {
             "line": {
              "color": "#E5ECF6",
              "width": 0.5
             }
            },
            "type": "bar"
           }
          ],
          "barpolar": [
           {
            "marker": {
             "line": {
              "color": "#E5ECF6",
              "width": 0.5
             }
            },
            "type": "barpolar"
           }
          ],
          "carpet": [
           {
            "aaxis": {
             "endlinecolor": "#2a3f5f",
             "gridcolor": "white",
             "linecolor": "white",
             "minorgridcolor": "white",
             "startlinecolor": "#2a3f5f"
            },
            "baxis": {
             "endlinecolor": "#2a3f5f",
             "gridcolor": "white",
             "linecolor": "white",
             "minorgridcolor": "white",
             "startlinecolor": "#2a3f5f"
            },
            "type": "carpet"
           }
          ],
          "choropleth": [
           {
            "colorbar": {
             "outlinewidth": 0,
             "ticks": ""
            },
            "type": "choropleth"
           }
          ],
          "contour": [
           {
            "colorbar": {
             "outlinewidth": 0,
             "ticks": ""
            },
            "colorscale": [
             [
              0,
              "#0d0887"
             ],
             [
              0.1111111111111111,
              "#46039f"
             ],
             [
              0.2222222222222222,
              "#7201a8"
             ],
             [
              0.3333333333333333,
              "#9c179e"
             ],
             [
              0.4444444444444444,
              "#bd3786"
             ],
             [
              0.5555555555555556,
              "#d8576b"
             ],
             [
              0.6666666666666666,
              "#ed7953"
             ],
             [
              0.7777777777777778,
              "#fb9f3a"
             ],
             [
              0.8888888888888888,
              "#fdca26"
             ],
             [
              1,
              "#f0f921"
             ]
            ],
            "type": "contour"
           }
          ],
          "contourcarpet": [
           {
            "colorbar": {
             "outlinewidth": 0,
             "ticks": ""
            },
            "type": "contourcarpet"
           }
          ],
          "heatmap": [
           {
            "colorbar": {
             "outlinewidth": 0,
             "ticks": ""
            },
            "colorscale": [
             [
              0,
              "#0d0887"
             ],
             [
              0.1111111111111111,
              "#46039f"
             ],
             [
              0.2222222222222222,
              "#7201a8"
             ],
             [
              0.3333333333333333,
              "#9c179e"
             ],
             [
              0.4444444444444444,
              "#bd3786"
             ],
             [
              0.5555555555555556,
              "#d8576b"
             ],
             [
              0.6666666666666666,
              "#ed7953"
             ],
             [
              0.7777777777777778,
              "#fb9f3a"
             ],
             [
              0.8888888888888888,
              "#fdca26"
             ],
             [
              1,
              "#f0f921"
             ]
            ],
            "type": "heatmap"
           }
          ],
          "heatmapgl": [
           {
            "colorbar": {
             "outlinewidth": 0,
             "ticks": ""
            },
            "colorscale": [
             [
              0,
              "#0d0887"
             ],
             [
              0.1111111111111111,
              "#46039f"
             ],
             [
              0.2222222222222222,
              "#7201a8"
             ],
             [
              0.3333333333333333,
              "#9c179e"
             ],
             [
              0.4444444444444444,
              "#bd3786"
             ],
             [
              0.5555555555555556,
              "#d8576b"
             ],
             [
              0.6666666666666666,
              "#ed7953"
             ],
             [
              0.7777777777777778,
              "#fb9f3a"
             ],
             [
              0.8888888888888888,
              "#fdca26"
             ],
             [
              1,
              "#f0f921"
             ]
            ],
            "type": "heatmapgl"
           }
          ],
          "histogram": [
           {
            "marker": {
             "colorbar": {
              "outlinewidth": 0,
              "ticks": ""
             }
            },
            "type": "histogram"
           }
          ],
          "histogram2d": [
           {
            "colorbar": {
             "outlinewidth": 0,
             "ticks": ""
            },
            "colorscale": [
             [
              0,
              "#0d0887"
             ],
             [
              0.1111111111111111,
              "#46039f"
             ],
             [
              0.2222222222222222,
              "#7201a8"
             ],
             [
              0.3333333333333333,
              "#9c179e"
             ],
             [
              0.4444444444444444,
              "#bd3786"
             ],
             [
              0.5555555555555556,
              "#d8576b"
             ],
             [
              0.6666666666666666,
              "#ed7953"
             ],
             [
              0.7777777777777778,
              "#fb9f3a"
             ],
             [
              0.8888888888888888,
              "#fdca26"
             ],
             [
              1,
              "#f0f921"
             ]
            ],
            "type": "histogram2d"
           }
          ],
          "histogram2dcontour": [
           {
            "colorbar": {
             "outlinewidth": 0,
             "ticks": ""
            },
            "colorscale": [
             [
              0,
              "#0d0887"
             ],
             [
              0.1111111111111111,
              "#46039f"
             ],
             [
              0.2222222222222222,
              "#7201a8"
             ],
             [
              0.3333333333333333,
              "#9c179e"
             ],
             [
              0.4444444444444444,
              "#bd3786"
             ],
             [
              0.5555555555555556,
              "#d8576b"
             ],
             [
              0.6666666666666666,
              "#ed7953"
             ],
             [
              0.7777777777777778,
              "#fb9f3a"
             ],
             [
              0.8888888888888888,
              "#fdca26"
             ],
             [
              1,
              "#f0f921"
             ]
            ],
            "type": "histogram2dcontour"
           }
          ],
          "mesh3d": [
           {
            "colorbar": {
             "outlinewidth": 0,
             "ticks": ""
            },
            "type": "mesh3d"
           }
          ],
          "parcoords": [
           {
            "line": {
             "colorbar": {
              "outlinewidth": 0,
              "ticks": ""
             }
            },
            "type": "parcoords"
           }
          ],
          "pie": [
           {
            "automargin": true,
            "type": "pie"
           }
          ],
          "scatter": [
           {
            "marker": {
             "colorbar": {
              "outlinewidth": 0,
              "ticks": ""
             }
            },
            "type": "scatter"
           }
          ],
          "scatter3d": [
           {
            "line": {
             "colorbar": {
              "outlinewidth": 0,
              "ticks": ""
             }
            },
            "marker": {
             "colorbar": {
              "outlinewidth": 0,
              "ticks": ""
             }
            },
            "type": "scatter3d"
           }
          ],
          "scattercarpet": [
           {
            "marker": {
             "colorbar": {
              "outlinewidth": 0,
              "ticks": ""
             }
            },
            "type": "scattercarpet"
           }
          ],
          "scattergeo": [
           {
            "marker": {
             "colorbar": {
              "outlinewidth": 0,
              "ticks": ""
             }
            },
            "type": "scattergeo"
           }
          ],
          "scattergl": [
           {
            "marker": {
             "colorbar": {
              "outlinewidth": 0,
              "ticks": ""
             }
            },
            "type": "scattergl"
           }
          ],
          "scattermapbox": [
           {
            "marker": {
             "colorbar": {
              "outlinewidth": 0,
              "ticks": ""
             }
            },
            "type": "scattermapbox"
           }
          ],
          "scatterpolar": [
           {
            "marker": {
             "colorbar": {
              "outlinewidth": 0,
              "ticks": ""
             }
            },
            "type": "scatterpolar"
           }
          ],
          "scatterpolargl": [
           {
            "marker": {
             "colorbar": {
              "outlinewidth": 0,
              "ticks": ""
             }
            },
            "type": "scatterpolargl"
           }
          ],
          "scatterternary": [
           {
            "marker": {
             "colorbar": {
              "outlinewidth": 0,
              "ticks": ""
             }
            },
            "type": "scatterternary"
           }
          ],
          "surface": [
           {
            "colorbar": {
             "outlinewidth": 0,
             "ticks": ""
            },
            "colorscale": [
             [
              0,
              "#0d0887"
             ],
             [
              0.1111111111111111,
              "#46039f"
             ],
             [
              0.2222222222222222,
              "#7201a8"
             ],
             [
              0.3333333333333333,
              "#9c179e"
             ],
             [
              0.4444444444444444,
              "#bd3786"
             ],
             [
              0.5555555555555556,
              "#d8576b"
             ],
             [
              0.6666666666666666,
              "#ed7953"
             ],
             [
              0.7777777777777778,
              "#fb9f3a"
             ],
             [
              0.8888888888888888,
              "#fdca26"
             ],
             [
              1,
              "#f0f921"
             ]
            ],
            "type": "surface"
           }
          ],
          "table": [
           {
            "cells": {
             "fill": {
              "color": "#EBF0F8"
             },
             "line": {
              "color": "white"
             }
            },
            "header": {
             "fill": {
              "color": "#C8D4E3"
             },
             "line": {
              "color": "white"
             }
            },
            "type": "table"
           }
          ]
         },
         "layout": {
          "annotationdefaults": {
           "arrowcolor": "#2a3f5f",
           "arrowhead": 0,
           "arrowwidth": 1
          },
          "coloraxis": {
           "colorbar": {
            "outlinewidth": 0,
            "ticks": ""
           }
          },
          "colorscale": {
           "diverging": [
            [
             0,
             "#8e0152"
            ],
            [
             0.1,
             "#c51b7d"
            ],
            [
             0.2,
             "#de77ae"
            ],
            [
             0.3,
             "#f1b6da"
            ],
            [
             0.4,
             "#fde0ef"
            ],
            [
             0.5,
             "#f7f7f7"
            ],
            [
             0.6,
             "#e6f5d0"
            ],
            [
             0.7,
             "#b8e186"
            ],
            [
             0.8,
             "#7fbc41"
            ],
            [
             0.9,
             "#4d9221"
            ],
            [
             1,
             "#276419"
            ]
           ],
           "sequential": [
            [
             0,
             "#0d0887"
            ],
            [
             0.1111111111111111,
             "#46039f"
            ],
            [
             0.2222222222222222,
             "#7201a8"
            ],
            [
             0.3333333333333333,
             "#9c179e"
            ],
            [
             0.4444444444444444,
             "#bd3786"
            ],
            [
             0.5555555555555556,
             "#d8576b"
            ],
            [
             0.6666666666666666,
             "#ed7953"
            ],
            [
             0.7777777777777778,
             "#fb9f3a"
            ],
            [
             0.8888888888888888,
             "#fdca26"
            ],
            [
             1,
             "#f0f921"
            ]
           ],
           "sequentialminus": [
            [
             0,
             "#0d0887"
            ],
            [
             0.1111111111111111,
             "#46039f"
            ],
            [
             0.2222222222222222,
             "#7201a8"
            ],
            [
             0.3333333333333333,
             "#9c179e"
            ],
            [
             0.4444444444444444,
             "#bd3786"
            ],
            [
             0.5555555555555556,
             "#d8576b"
            ],
            [
             0.6666666666666666,
             "#ed7953"
            ],
            [
             0.7777777777777778,
             "#fb9f3a"
            ],
            [
             0.8888888888888888,
             "#fdca26"
            ],
            [
             1,
             "#f0f921"
            ]
           ]
          },
          "colorway": [
           "#636efa",
           "#EF553B",
           "#00cc96",
           "#ab63fa",
           "#FFA15A",
           "#19d3f3",
           "#FF6692",
           "#B6E880",
           "#FF97FF",
           "#FECB52"
          ],
          "font": {
           "color": "#2a3f5f"
          },
          "geo": {
           "bgcolor": "white",
           "lakecolor": "white",
           "landcolor": "#E5ECF6",
           "showlakes": true,
           "showland": true,
           "subunitcolor": "white"
          },
          "hoverlabel": {
           "align": "left"
          },
          "hovermode": "closest",
          "mapbox": {
           "style": "light"
          },
          "paper_bgcolor": "white",
          "plot_bgcolor": "#E5ECF6",
          "polar": {
           "angularaxis": {
            "gridcolor": "white",
            "linecolor": "white",
            "ticks": ""
           },
           "bgcolor": "#E5ECF6",
           "radialaxis": {
            "gridcolor": "white",
            "linecolor": "white",
            "ticks": ""
           }
          },
          "scene": {
           "xaxis": {
            "backgroundcolor": "#E5ECF6",
            "gridcolor": "white",
            "gridwidth": 2,
            "linecolor": "white",
            "showbackground": true,
            "ticks": "",
            "zerolinecolor": "white"
           },
           "yaxis": {
            "backgroundcolor": "#E5ECF6",
            "gridcolor": "white",
            "gridwidth": 2,
            "linecolor": "white",
            "showbackground": true,
            "ticks": "",
            "zerolinecolor": "white"
           },
           "zaxis": {
            "backgroundcolor": "#E5ECF6",
            "gridcolor": "white",
            "gridwidth": 2,
            "linecolor": "white",
            "showbackground": true,
            "ticks": "",
            "zerolinecolor": "white"
           }
          },
          "shapedefaults": {
           "line": {
            "color": "#2a3f5f"
           }
          },
          "ternary": {
           "aaxis": {
            "gridcolor": "white",
            "linecolor": "white",
            "ticks": ""
           },
           "baxis": {
            "gridcolor": "white",
            "linecolor": "white",
            "ticks": ""
           },
           "bgcolor": "#E5ECF6",
           "caxis": {
            "gridcolor": "white",
            "linecolor": "white",
            "ticks": ""
           }
          },
          "title": {
           "x": 0.05
          },
          "xaxis": {
           "automargin": true,
           "gridcolor": "white",
           "linecolor": "white",
           "ticks": "",
           "title": {
            "standoff": 15
           },
           "zerolinecolor": "white",
           "zerolinewidth": 2
          },
          "yaxis": {
           "automargin": true,
           "gridcolor": "white",
           "linecolor": "white",
           "ticks": "",
           "title": {
            "standoff": 15
           },
           "zerolinecolor": "white",
           "zerolinewidth": 2
          }
         }
        },
        "title": {
         "font": {
          "color": "#4D5663"
         }
        },
        "xaxis": {
         "gridcolor": "#E1E5ED",
         "showgrid": true,
         "tickfont": {
          "color": "#4D5663"
         },
         "title": {
          "font": {
           "color": "#4D5663"
          },
          "text": ""
         },
         "zerolinecolor": "#E1E5ED"
        },
        "yaxis": {
         "gridcolor": "#E1E5ED",
         "showgrid": true,
         "tickfont": {
          "color": "#4D5663"
         },
         "title": {
          "font": {
           "color": "#4D5663"
          },
          "text": ""
         },
         "zerolinecolor": "#E1E5ED"
        }
       }
      },
      "text/html": [
       "<div>\n",
       "        \n",
       "        \n",
       "            <div id=\"cc705cc2-e45c-4ece-8e41-3f3077ac42bf\" class=\"plotly-graph-div\" style=\"height:525px; width:100%;\"></div>\n",
       "            <script type=\"text/javascript\">\n",
       "                require([\"plotly\"], function(Plotly) {\n",
       "                    window.PLOTLYENV=window.PLOTLYENV || {};\n",
       "                    window.PLOTLYENV.BASE_URL='https://plot.ly';\n",
       "                    \n",
       "                if (document.getElementById(\"cc705cc2-e45c-4ece-8e41-3f3077ac42bf\")) {\n",
       "                    Plotly.newPlot(\n",
       "                        'cc705cc2-e45c-4ece-8e41-3f3077ac42bf',\n",
       "                        [{\"line\": {\"color\": \"rgba(255, 153, 51, 1.0)\", \"dash\": \"solid\", \"shape\": \"linear\", \"width\": 1.3}, \"mode\": \"lines\", \"name\": \"A\", \"text\": \"\", \"type\": \"scatter\", \"x\": [0, 1, 2, 3, 4, 5, 6, 7, 8, 9, 10, 11, 12, 13, 14, 15, 16, 17, 18, 19, 20, 21, 22, 23, 24, 25, 26, 27, 28, 29, 30, 31, 32, 33, 34, 35, 36, 37, 38, 39, 40, 41, 42, 43, 44, 45, 46, 47, 48, 49, 50, 51, 52, 53, 54, 55, 56, 57, 58, 59, 60, 61, 62, 63, 64, 65, 66, 67, 68, 69, 70, 71, 72, 73, 74, 75, 76, 77, 78, 79, 80, 81, 82, 83, 84, 85, 86, 87, 88, 89, 90, 91, 92, 93, 94, 95, 96, 97, 98, 99], \"y\": [1.3522419087117923, -1.4367485228096082, 0.34246615131765074, 0.22501371995467404, -1.3835773588716889, -0.3786606793558325, 1.5700394365681638, -0.4389112823843724, 0.019327259196934583, -0.7871373062572039, 1.1582459987267817, 0.5419561074166749, 0.10300724317610074, 1.056526493789133, -0.5935929218146352, -0.9400064843743166, 0.8184536422660786, 0.6051514716477069, 1.986033931482904, 3.654979997899412, 0.17858108615271165, -1.5513735777578752, 1.9711731349620212, 0.6244032392053847, 1.1358931781345123, 0.40377740852876387, -1.1112520429721875, -0.4837839184642077, -0.4697476049298041, 0.4624700962665709, -0.40519454607155914, 0.26826033900583474, -3.363286877728186, 1.8642796689830858, 0.3546706184336565, -0.3010076943115201, -0.184736525521066, -0.17078051736817168, 1.0582430636820745, -0.8379417122297186, -0.17913716056313403, 0.2868655884201024, 1.4975251686775926, 0.1673545509032834, 1.8892720942055872, 1.2000191097252784, -0.11723758426468586, -1.3923642324153118, 1.2067384689802523, 0.6995092920577454, -0.450318572383938, -1.0768058506215945, 1.8240423037842124, -1.2848847471231686, -1.3092995799985827, -2.252081015062117, 1.6516269181221692, 1.5514491437019398, 0.17685847323240705, -0.9136086216446226, 1.2010817770884787, -0.19816291549069612, 1.321136986359857, -0.3394538966085169, 0.34016035243713444, -0.7941748905370211, 0.19043318709089463, -0.5436817352645537, 1.0661669821985864, 2.2851010625069286, -0.8266733303952352, 0.7884285801220625, 0.8231972467330367, 0.324008182428142, 0.6752070165857296, -0.8439726176579643, -0.20609333658074047, -1.5482680054696205, -0.38434511261941934, 0.07692083586667725, -0.6248572409586476, -0.16248851481555132, -1.8459074757071747, 1.4126122652500914, 0.19075917126177336, 0.1756756844178885, -0.6453507523108135, 1.689030633833263, -0.8708237540304141, 0.25013438914188446, -1.4214869901784088, 0.2984832844136182, -0.5636158302217779, -0.30474446122783944, 1.006249773260137, 0.2782559169320781, 0.5666162539211673, -0.9302725711947286, -1.3463008359939528, 0.32468815436776594]}, {\"line\": {\"color\": \"rgba(55, 128, 191, 1.0)\", \"dash\": \"solid\", \"shape\": \"linear\", \"width\": 1.3}, \"mode\": \"lines\", \"name\": \"B\", \"text\": \"\", \"type\": \"scatter\", \"x\": [0, 1, 2, 3, 4, 5, 6, 7, 8, 9, 10, 11, 12, 13, 14, 15, 16, 17, 18, 19, 20, 21, 22, 23, 24, 25, 26, 27, 28, 29, 30, 31, 32, 33, 34, 35, 36, 37, 38, 39, 40, 41, 42, 43, 44, 45, 46, 47, 48, 49, 50, 51, 52, 53, 54, 55, 56, 57, 58, 59, 60, 61, 62, 63, 64, 65, 66, 67, 68, 69, 70, 71, 72, 73, 74, 75, 76, 77, 78, 79, 80, 81, 82, 83, 84, 85, 86, 87, 88, 89, 90, 91, 92, 93, 94, 95, 96, 97, 98, 99], \"y\": [0.2853960742036141, -0.4406604289569714, 0.33365589029910364, 0.2018345194581368, 0.468673037397461, -1.3528010257124101, 0.800285334395616, 0.8735403499291123, -0.4971589012856189, -1.1501645383832924, -0.11235634631765345, 0.4723699885089022, 0.0712305561391159, 0.24284710471750473, -0.9122241746416804, 0.8269817335779781, -0.00874132852355032, -0.6318762826014234, 0.43011057200838515, 1.0704132732721918, 2.134360594704674, 0.31373630965031646, -0.8829218217202525, -0.73474365392336, 0.3200172946062929, 1.2920107799210232, -0.4672134494390364, -0.4255892680362301, -0.7883031262036172, -0.42466003092600074, 1.312409195297587, 0.09591687871532022, 1.3971624576376163, 0.5876017168531212, -0.9320959746324256, -1.554159956817357, 0.34482741176093945, 1.5468924170915168, -1.4034301158921905, -0.3421364854793705, -0.3700258002299505, 0.18963240578518814, -0.8367522861239166, -1.4354639631629302, -0.1924128922031911, -0.4471995622697898, -0.20594738032034565, 1.1666927760052315, 0.8542061073093862, -0.045340865093400975, 0.8829678490586947, 2.6408083514235363, -0.5007660975317126, 0.15144509399049666, -0.14989090307841002, -1.6619153347196627, 1.0238621209857814, 1.2221517095795575, -0.9735974374641312, -0.5627451263909823, -0.05804543402331785, 0.9850109566618794, 0.8381067825455304, -1.1621346812659719, -0.6289189456340682, 0.9332556602694779, 0.1801566919373079, 0.10417651779157987, -0.14807796339151225, 1.5990250523195302, -0.053927329507619894, -0.7783360488156015, -0.3700849764827003, 2.2810591763490504, 0.2542492977753961, 2.762357088437156, 0.6376042127156709, 1.2695848172126263, 0.45641857354305465, 0.46965554004453053, -1.1173114686529768, 0.3186506440608256, -1.2750038871380027, 0.6618715619915841, 0.08003220670383365, 0.8067700142648925, -0.1022498040061927, -0.11343763353982858, -1.2410875845656366, 0.5410071859457992, -0.008862683281114241, 0.01483585722941619, -2.2886479470860417, -2.2874057157464414, -1.8809150648910813, -1.3995936415281152, -2.2829143071083657, 0.8742765899714318, -3.559128971832099, -0.5292230111010272]}, {\"line\": {\"color\": \"rgba(50, 171, 96, 1.0)\", \"dash\": \"solid\", \"shape\": \"linear\", \"width\": 1.3}, \"mode\": \"lines\", \"name\": \"C\", \"text\": \"\", \"type\": \"scatter\", \"x\": [0, 1, 2, 3, 4, 5, 6, 7, 8, 9, 10, 11, 12, 13, 14, 15, 16, 17, 18, 19, 20, 21, 22, 23, 24, 25, 26, 27, 28, 29, 30, 31, 32, 33, 34, 35, 36, 37, 38, 39, 40, 41, 42, 43, 44, 45, 46, 47, 48, 49, 50, 51, 52, 53, 54, 55, 56, 57, 58, 59, 60, 61, 62, 63, 64, 65, 66, 67, 68, 69, 70, 71, 72, 73, 74, 75, 76, 77, 78, 79, 80, 81, 82, 83, 84, 85, 86, 87, 88, 89, 90, 91, 92, 93, 94, 95, 96, 97, 98, 99], \"y\": [-1.2114743390562264, 1.700800915419909, -1.178994477837021, 0.14513018194727986, 1.286942779256458, 0.6955018892298953, -0.9780020693548642, 1.46808894919136, 0.5822854672166777, 0.19151145671021533, 1.2105212178471323, 1.4569023841482407, 1.1756193827787285, 0.7542403015929829, 0.8434614724697863, -0.8560461320728188, 0.9936037814303642, -0.31434565857476593, 0.04525888276113422, 0.5083100632905638, 0.5286150797252278, -1.0246358503243014, -5.635076311253026e-05, -0.007341225579132861, 0.5545965801178203, 0.0810432372767892, 1.1999323217913713, 0.7471526407393261, 0.0852219670418781, 0.7993831939237878, -0.7922259472297779, -0.17945078997743538, 0.7445919702954994, -0.07543975670014871, 0.2958411375086231, 0.11288799429313509, 0.5866679922058633, 0.7693347762832684, 1.202395837276869, -0.515623404678566, -1.1129721035407865, -0.2899754175382606, 0.20716303560209146, -0.8111795583989764, -0.7029578790728146, 0.2923644478814588, -0.021076270898370716, -0.498923747661836, 2.786513630916273, 0.024913166024660306, -1.7807545602182158, -1.357397531105, 0.1270269844378426, -0.5197410481686981, 0.6008872605864622, -0.4423647332569923, 0.15909986938826357, -0.47620993889168306, 0.2870340326809318, 1.0484693388735191, -1.7089889393481843, 0.03309500492681004, 0.9709780861585363, -0.2674736636277588, -0.1719559943280335, -0.25103460113072934, 1.9652966578048763, -1.0299412274250208, -0.9521461846731799, -0.538170621043196, -0.3111127524093368, -0.5969506068307517, -1.6525314381120113, 0.07541342778795664, 0.8188151546411473, 1.5122827976558877, 0.09889150579605903, -0.7085815791607246, -2.2022019766422916, 0.45863390939431736, 0.6389744930862618, 0.44307298846494525, 0.6322602528309235, 0.4190339353806155, 0.2019674361957441, 1.2653444505074438, 1.6010436074640049, -0.04273937600904199, 2.4247514443140528, -0.07098998568331391, -0.2494477920339057, -1.5733955487514455, -0.2705985504473421, -0.16015968417545634, 1.5576972107642162, -0.7918241252487018, -0.6664298961171453, 0.6136067512289997, -1.7283263219878962, -0.1934294523399556]}, {\"line\": {\"color\": \"rgba(128, 0, 128, 1.0)\", \"dash\": \"solid\", \"shape\": \"linear\", \"width\": 1.3}, \"mode\": \"lines\", \"name\": \"D\", \"text\": \"\", \"type\": \"scatter\", \"x\": [0, 1, 2, 3, 4, 5, 6, 7, 8, 9, 10, 11, 12, 13, 14, 15, 16, 17, 18, 19, 20, 21, 22, 23, 24, 25, 26, 27, 28, 29, 30, 31, 32, 33, 34, 35, 36, 37, 38, 39, 40, 41, 42, 43, 44, 45, 46, 47, 48, 49, 50, 51, 52, 53, 54, 55, 56, 57, 58, 59, 60, 61, 62, 63, 64, 65, 66, 67, 68, 69, 70, 71, 72, 73, 74, 75, 76, 77, 78, 79, 80, 81, 82, 83, 84, 85, 86, 87, 88, 89, 90, 91, 92, 93, 94, 95, 96, 97, 98, 99], \"y\": [-0.42207092062544505, 0.571334851427382, 0.209309099577975, 0.2357360351882224, -0.19033052317107174, 1.7954668044031779, 0.03753594495671657, -0.34444488948102764, 0.5145014018508386, 0.7792744997652691, 1.802800703652718, 0.12961945987754453, -2.2451385004143423, -0.5476262287075142, 1.8147112758073896, 1.7774030039222173, -0.2890566123981602, -1.4229622366313441, 0.5617914011982906, -1.2551830304274805, -1.6294584594711694, -0.06845787408972442, 0.5677003676723057, -0.25533216789681634, 2.17800882925841, 1.5569574961587103, 0.13536002901035704, -1.9501362472694592, -0.4084740162108226, 0.09864966201708075, 0.7005521862610382, -1.0237131750107904, -3.7198755066257703, 1.2401281855439659, -0.24963018210588891, -0.4495616394996091, -1.334142897239012, -0.05199385707357265, -0.3636576150250563, 0.6155077403985042, -0.8367399055275807, -1.0065113759366735, -2.53522971674168, -0.22123698017928725, 1.7810788278251577, 1.0037516165704732, -1.1182941395835115, -0.648522184773254, 0.6592307181632687, -3.3148689366391255, 0.5106039962665352, 0.7016254374433916, 0.6878489361253675, 1.1427259382637898, -0.15063296235128362, 1.7457182916932434, 0.5152133093405894, -0.036109000356071556, 0.7830740550725146, -0.44928100405539784, -0.07516099765662752, -1.1966712721257133, -1.812651207171741, 0.7011874349784221, -0.6852555009642081, 0.9776338731551988, 0.4018853632616528, -0.19676303051306304, 1.1682857171730392, -0.42026047686310775, 1.0596319099267317, 2.1167466718626504, -1.940722935149875, -0.9433259313316542, 1.0845925686579752, -0.3825290633316056, 0.6189134578674937, 0.16208020847827534, -0.8392312772360102, -0.33911222257382945, -0.4049050065854754, -0.7610784392404565, -0.031673418319424954, -0.5905931178369421, 0.09284308666716118, -1.4569240927626794, 2.233444474053686, -2.2463777812587433, 0.8247773217007768, 1.2873820847023052, 0.018378373475883426, 1.0728725272475856, 0.2049473995358994, -0.09993459592442042, 0.12833398650529076, 0.9851533536016509, -0.9675715123129737, -0.7323234244894197, -0.8110955871650228, 0.7824093705610112]}],\n",
       "                        {\"legend\": {\"bgcolor\": \"#F5F6F9\", \"font\": {\"color\": \"#4D5663\"}}, \"paper_bgcolor\": \"#F5F6F9\", \"plot_bgcolor\": \"#F5F6F9\", \"template\": {\"data\": {\"bar\": [{\"error_x\": {\"color\": \"#2a3f5f\"}, \"error_y\": {\"color\": \"#2a3f5f\"}, \"marker\": {\"line\": {\"color\": \"#E5ECF6\", \"width\": 0.5}}, \"type\": \"bar\"}], \"barpolar\": [{\"marker\": {\"line\": {\"color\": \"#E5ECF6\", \"width\": 0.5}}, \"type\": \"barpolar\"}], \"carpet\": [{\"aaxis\": {\"endlinecolor\": \"#2a3f5f\", \"gridcolor\": \"white\", \"linecolor\": \"white\", \"minorgridcolor\": \"white\", \"startlinecolor\": \"#2a3f5f\"}, \"baxis\": {\"endlinecolor\": \"#2a3f5f\", \"gridcolor\": \"white\", \"linecolor\": \"white\", \"minorgridcolor\": \"white\", \"startlinecolor\": \"#2a3f5f\"}, \"type\": \"carpet\"}], \"choropleth\": [{\"colorbar\": {\"outlinewidth\": 0, \"ticks\": \"\"}, \"type\": \"choropleth\"}], \"contour\": [{\"colorbar\": {\"outlinewidth\": 0, \"ticks\": \"\"}, \"colorscale\": [[0.0, \"#0d0887\"], [0.1111111111111111, \"#46039f\"], [0.2222222222222222, \"#7201a8\"], [0.3333333333333333, \"#9c179e\"], [0.4444444444444444, \"#bd3786\"], [0.5555555555555556, \"#d8576b\"], [0.6666666666666666, \"#ed7953\"], [0.7777777777777778, \"#fb9f3a\"], [0.8888888888888888, \"#fdca26\"], [1.0, \"#f0f921\"]], \"type\": \"contour\"}], \"contourcarpet\": [{\"colorbar\": {\"outlinewidth\": 0, \"ticks\": \"\"}, \"type\": \"contourcarpet\"}], \"heatmap\": [{\"colorbar\": {\"outlinewidth\": 0, \"ticks\": \"\"}, \"colorscale\": [[0.0, \"#0d0887\"], [0.1111111111111111, \"#46039f\"], [0.2222222222222222, \"#7201a8\"], [0.3333333333333333, \"#9c179e\"], [0.4444444444444444, \"#bd3786\"], [0.5555555555555556, \"#d8576b\"], [0.6666666666666666, \"#ed7953\"], [0.7777777777777778, \"#fb9f3a\"], [0.8888888888888888, \"#fdca26\"], [1.0, \"#f0f921\"]], \"type\": \"heatmap\"}], \"heatmapgl\": [{\"colorbar\": {\"outlinewidth\": 0, \"ticks\": \"\"}, \"colorscale\": [[0.0, \"#0d0887\"], [0.1111111111111111, \"#46039f\"], [0.2222222222222222, \"#7201a8\"], [0.3333333333333333, \"#9c179e\"], [0.4444444444444444, \"#bd3786\"], [0.5555555555555556, \"#d8576b\"], [0.6666666666666666, \"#ed7953\"], [0.7777777777777778, \"#fb9f3a\"], [0.8888888888888888, \"#fdca26\"], [1.0, \"#f0f921\"]], \"type\": \"heatmapgl\"}], \"histogram\": [{\"marker\": {\"colorbar\": {\"outlinewidth\": 0, \"ticks\": \"\"}}, \"type\": \"histogram\"}], \"histogram2d\": [{\"colorbar\": {\"outlinewidth\": 0, \"ticks\": \"\"}, \"colorscale\": [[0.0, \"#0d0887\"], [0.1111111111111111, \"#46039f\"], [0.2222222222222222, \"#7201a8\"], [0.3333333333333333, \"#9c179e\"], [0.4444444444444444, \"#bd3786\"], [0.5555555555555556, \"#d8576b\"], [0.6666666666666666, \"#ed7953\"], [0.7777777777777778, \"#fb9f3a\"], [0.8888888888888888, \"#fdca26\"], [1.0, \"#f0f921\"]], \"type\": \"histogram2d\"}], \"histogram2dcontour\": [{\"colorbar\": {\"outlinewidth\": 0, \"ticks\": \"\"}, \"colorscale\": [[0.0, \"#0d0887\"], [0.1111111111111111, \"#46039f\"], [0.2222222222222222, \"#7201a8\"], [0.3333333333333333, \"#9c179e\"], [0.4444444444444444, \"#bd3786\"], [0.5555555555555556, \"#d8576b\"], [0.6666666666666666, \"#ed7953\"], [0.7777777777777778, \"#fb9f3a\"], [0.8888888888888888, \"#fdca26\"], [1.0, \"#f0f921\"]], \"type\": \"histogram2dcontour\"}], \"mesh3d\": [{\"colorbar\": {\"outlinewidth\": 0, \"ticks\": \"\"}, \"type\": \"mesh3d\"}], \"parcoords\": [{\"line\": {\"colorbar\": {\"outlinewidth\": 0, \"ticks\": \"\"}}, \"type\": \"parcoords\"}], \"pie\": [{\"automargin\": true, \"type\": \"pie\"}], \"scatter\": [{\"marker\": {\"colorbar\": {\"outlinewidth\": 0, \"ticks\": \"\"}}, \"type\": \"scatter\"}], \"scatter3d\": [{\"line\": {\"colorbar\": {\"outlinewidth\": 0, \"ticks\": \"\"}}, \"marker\": {\"colorbar\": {\"outlinewidth\": 0, \"ticks\": \"\"}}, \"type\": \"scatter3d\"}], \"scattercarpet\": [{\"marker\": {\"colorbar\": {\"outlinewidth\": 0, \"ticks\": \"\"}}, \"type\": \"scattercarpet\"}], \"scattergeo\": [{\"marker\": {\"colorbar\": {\"outlinewidth\": 0, \"ticks\": \"\"}}, \"type\": \"scattergeo\"}], \"scattergl\": [{\"marker\": {\"colorbar\": {\"outlinewidth\": 0, \"ticks\": \"\"}}, \"type\": \"scattergl\"}], \"scattermapbox\": [{\"marker\": {\"colorbar\": {\"outlinewidth\": 0, \"ticks\": \"\"}}, \"type\": \"scattermapbox\"}], \"scatterpolar\": [{\"marker\": {\"colorbar\": {\"outlinewidth\": 0, \"ticks\": \"\"}}, \"type\": \"scatterpolar\"}], \"scatterpolargl\": [{\"marker\": {\"colorbar\": {\"outlinewidth\": 0, \"ticks\": \"\"}}, \"type\": \"scatterpolargl\"}], \"scatterternary\": [{\"marker\": {\"colorbar\": {\"outlinewidth\": 0, \"ticks\": \"\"}}, \"type\": \"scatterternary\"}], \"surface\": [{\"colorbar\": {\"outlinewidth\": 0, \"ticks\": \"\"}, \"colorscale\": [[0.0, \"#0d0887\"], [0.1111111111111111, \"#46039f\"], [0.2222222222222222, \"#7201a8\"], [0.3333333333333333, \"#9c179e\"], [0.4444444444444444, \"#bd3786\"], [0.5555555555555556, \"#d8576b\"], [0.6666666666666666, \"#ed7953\"], [0.7777777777777778, \"#fb9f3a\"], [0.8888888888888888, \"#fdca26\"], [1.0, \"#f0f921\"]], \"type\": \"surface\"}], \"table\": [{\"cells\": {\"fill\": {\"color\": \"#EBF0F8\"}, \"line\": {\"color\": \"white\"}}, \"header\": {\"fill\": {\"color\": \"#C8D4E3\"}, \"line\": {\"color\": \"white\"}}, \"type\": \"table\"}]}, \"layout\": {\"annotationdefaults\": {\"arrowcolor\": \"#2a3f5f\", \"arrowhead\": 0, \"arrowwidth\": 1}, \"coloraxis\": {\"colorbar\": {\"outlinewidth\": 0, \"ticks\": \"\"}}, \"colorscale\": {\"diverging\": [[0, \"#8e0152\"], [0.1, \"#c51b7d\"], [0.2, \"#de77ae\"], [0.3, \"#f1b6da\"], [0.4, \"#fde0ef\"], [0.5, \"#f7f7f7\"], [0.6, \"#e6f5d0\"], [0.7, \"#b8e186\"], [0.8, \"#7fbc41\"], [0.9, \"#4d9221\"], [1, \"#276419\"]], \"sequential\": [[0.0, \"#0d0887\"], [0.1111111111111111, \"#46039f\"], [0.2222222222222222, \"#7201a8\"], [0.3333333333333333, \"#9c179e\"], [0.4444444444444444, \"#bd3786\"], [0.5555555555555556, \"#d8576b\"], [0.6666666666666666, \"#ed7953\"], [0.7777777777777778, \"#fb9f3a\"], [0.8888888888888888, \"#fdca26\"], [1.0, \"#f0f921\"]], \"sequentialminus\": [[0.0, \"#0d0887\"], [0.1111111111111111, \"#46039f\"], [0.2222222222222222, \"#7201a8\"], [0.3333333333333333, \"#9c179e\"], [0.4444444444444444, \"#bd3786\"], [0.5555555555555556, \"#d8576b\"], [0.6666666666666666, \"#ed7953\"], [0.7777777777777778, \"#fb9f3a\"], [0.8888888888888888, \"#fdca26\"], [1.0, \"#f0f921\"]]}, \"colorway\": [\"#636efa\", \"#EF553B\", \"#00cc96\", \"#ab63fa\", \"#FFA15A\", \"#19d3f3\", \"#FF6692\", \"#B6E880\", \"#FF97FF\", \"#FECB52\"], \"font\": {\"color\": \"#2a3f5f\"}, \"geo\": {\"bgcolor\": \"white\", \"lakecolor\": \"white\", \"landcolor\": \"#E5ECF6\", \"showlakes\": true, \"showland\": true, \"subunitcolor\": \"white\"}, \"hoverlabel\": {\"align\": \"left\"}, \"hovermode\": \"closest\", \"mapbox\": {\"style\": \"light\"}, \"paper_bgcolor\": \"white\", \"plot_bgcolor\": \"#E5ECF6\", \"polar\": {\"angularaxis\": {\"gridcolor\": \"white\", \"linecolor\": \"white\", \"ticks\": \"\"}, \"bgcolor\": \"#E5ECF6\", \"radialaxis\": {\"gridcolor\": \"white\", \"linecolor\": \"white\", \"ticks\": \"\"}}, \"scene\": {\"xaxis\": {\"backgroundcolor\": \"#E5ECF6\", \"gridcolor\": \"white\", \"gridwidth\": 2, \"linecolor\": \"white\", \"showbackground\": true, \"ticks\": \"\", \"zerolinecolor\": \"white\"}, \"yaxis\": {\"backgroundcolor\": \"#E5ECF6\", \"gridcolor\": \"white\", \"gridwidth\": 2, \"linecolor\": \"white\", \"showbackground\": true, \"ticks\": \"\", \"zerolinecolor\": \"white\"}, \"zaxis\": {\"backgroundcolor\": \"#E5ECF6\", \"gridcolor\": \"white\", \"gridwidth\": 2, \"linecolor\": \"white\", \"showbackground\": true, \"ticks\": \"\", \"zerolinecolor\": \"white\"}}, \"shapedefaults\": {\"line\": {\"color\": \"#2a3f5f\"}}, \"ternary\": {\"aaxis\": {\"gridcolor\": \"white\", \"linecolor\": \"white\", \"ticks\": \"\"}, \"baxis\": {\"gridcolor\": \"white\", \"linecolor\": \"white\", \"ticks\": \"\"}, \"bgcolor\": \"#E5ECF6\", \"caxis\": {\"gridcolor\": \"white\", \"linecolor\": \"white\", \"ticks\": \"\"}}, \"title\": {\"x\": 0.05}, \"xaxis\": {\"automargin\": true, \"gridcolor\": \"white\", \"linecolor\": \"white\", \"ticks\": \"\", \"title\": {\"standoff\": 15}, \"zerolinecolor\": \"white\", \"zerolinewidth\": 2}, \"yaxis\": {\"automargin\": true, \"gridcolor\": \"white\", \"linecolor\": \"white\", \"ticks\": \"\", \"title\": {\"standoff\": 15}, \"zerolinecolor\": \"white\", \"zerolinewidth\": 2}}}, \"title\": {\"font\": {\"color\": \"#4D5663\"}}, \"xaxis\": {\"gridcolor\": \"#E1E5ED\", \"showgrid\": true, \"tickfont\": {\"color\": \"#4D5663\"}, \"title\": {\"font\": {\"color\": \"#4D5663\"}, \"text\": \"\"}, \"zerolinecolor\": \"#E1E5ED\"}, \"yaxis\": {\"gridcolor\": \"#E1E5ED\", \"showgrid\": true, \"tickfont\": {\"color\": \"#4D5663\"}, \"title\": {\"font\": {\"color\": \"#4D5663\"}, \"text\": \"\"}, \"zerolinecolor\": \"#E1E5ED\"}},\n",
       "                        {\"showLink\": true, \"linkText\": \"Export to plot.ly\", \"plotlyServerURL\": \"https://plot.ly\", \"responsive\": true}\n",
       "                    ).then(function(){\n",
       "                            \n",
       "var gd = document.getElementById('cc705cc2-e45c-4ece-8e41-3f3077ac42bf');\n",
       "var x = new MutationObserver(function (mutations, observer) {{\n",
       "        var display = window.getComputedStyle(gd).display;\n",
       "        if (!display || display === 'none') {{\n",
       "            console.log([gd, 'removed!']);\n",
       "            Plotly.purge(gd);\n",
       "            observer.disconnect();\n",
       "        }}\n",
       "}});\n",
       "\n",
       "// Listen for the removal of the full notebook cells\n",
       "var notebookContainer = gd.closest('#notebook-container');\n",
       "if (notebookContainer) {{\n",
       "    x.observe(notebookContainer, {childList: true});\n",
       "}}\n",
       "\n",
       "// Listen for the clearing of the current output cell\n",
       "var outputEl = gd.closest('.output');\n",
       "if (outputEl) {{\n",
       "    x.observe(outputEl, {childList: true});\n",
       "}}\n",
       "\n",
       "                        })\n",
       "                };\n",
       "                });\n",
       "            </script>\n",
       "        </div>"
      ]
     },
     "metadata": {},
     "output_type": "display_data"
    }
   ],
   "source": [
    "df.iplot()"
   ]
  },
  {
   "cell_type": "code",
   "execution_count": 24,
   "metadata": {},
   "outputs": [
    {
     "data": {
      "application/vnd.plotly.v1+json": {
       "config": {
        "linkText": "Export to plot.ly",
        "plotlyServerURL": "https://plot.ly",
        "showLink": true
       },
       "data": [
        {
         "line": {
          "color": "rgba(255, 153, 51, 1.0)",
          "dash": "solid",
          "shape": "linear",
          "width": 1.3
         },
         "marker": {
          "size": 20,
          "symbol": "circle"
         },
         "mode": "markers",
         "name": "B",
         "text": "",
         "type": "scatter",
         "x": [
          1.3522419087117923,
          -1.4367485228096082,
          0.34246615131765074,
          0.22501371995467404,
          -1.3835773588716889,
          -0.3786606793558325,
          1.5700394365681638,
          -0.4389112823843724,
          0.019327259196934583,
          -0.7871373062572039,
          1.1582459987267817,
          0.5419561074166749,
          0.10300724317610074,
          1.056526493789133,
          -0.5935929218146352,
          -0.9400064843743166,
          0.8184536422660786,
          0.6051514716477069,
          1.986033931482904,
          3.654979997899412,
          0.17858108615271165,
          -1.5513735777578752,
          1.9711731349620212,
          0.6244032392053847,
          1.1358931781345123,
          0.40377740852876387,
          -1.1112520429721875,
          -0.4837839184642077,
          -0.4697476049298041,
          0.4624700962665709,
          -0.40519454607155914,
          0.26826033900583474,
          -3.363286877728186,
          1.8642796689830858,
          0.3546706184336565,
          -0.3010076943115201,
          -0.184736525521066,
          -0.17078051736817168,
          1.0582430636820745,
          -0.8379417122297186,
          -0.17913716056313403,
          0.2868655884201024,
          1.4975251686775926,
          0.1673545509032834,
          1.8892720942055872,
          1.2000191097252784,
          -0.11723758426468586,
          -1.3923642324153118,
          1.2067384689802523,
          0.6995092920577454,
          -0.450318572383938,
          -1.0768058506215945,
          1.8240423037842124,
          -1.2848847471231686,
          -1.3092995799985827,
          -2.252081015062117,
          1.6516269181221692,
          1.5514491437019398,
          0.17685847323240705,
          -0.9136086216446226,
          1.2010817770884787,
          -0.19816291549069612,
          1.321136986359857,
          -0.3394538966085169,
          0.34016035243713444,
          -0.7941748905370211,
          0.19043318709089463,
          -0.5436817352645537,
          1.0661669821985864,
          2.2851010625069286,
          -0.8266733303952352,
          0.7884285801220625,
          0.8231972467330367,
          0.324008182428142,
          0.6752070165857296,
          -0.8439726176579643,
          -0.20609333658074047,
          -1.5482680054696205,
          -0.38434511261941934,
          0.07692083586667725,
          -0.6248572409586476,
          -0.16248851481555132,
          -1.8459074757071747,
          1.4126122652500914,
          0.19075917126177336,
          0.1756756844178885,
          -0.6453507523108135,
          1.689030633833263,
          -0.8708237540304141,
          0.25013438914188446,
          -1.4214869901784088,
          0.2984832844136182,
          -0.5636158302217779,
          -0.30474446122783944,
          1.006249773260137,
          0.2782559169320781,
          0.5666162539211673,
          -0.9302725711947286,
          -1.3463008359939528,
          0.32468815436776594
         ],
         "y": [
          0.2853960742036141,
          -0.4406604289569714,
          0.33365589029910364,
          0.2018345194581368,
          0.468673037397461,
          -1.3528010257124101,
          0.800285334395616,
          0.8735403499291123,
          -0.4971589012856189,
          -1.1501645383832924,
          -0.11235634631765345,
          0.4723699885089022,
          0.0712305561391159,
          0.24284710471750473,
          -0.9122241746416804,
          0.8269817335779781,
          -0.00874132852355032,
          -0.6318762826014234,
          0.43011057200838515,
          1.0704132732721918,
          2.134360594704674,
          0.31373630965031646,
          -0.8829218217202525,
          -0.73474365392336,
          0.3200172946062929,
          1.2920107799210232,
          -0.4672134494390364,
          -0.4255892680362301,
          -0.7883031262036172,
          -0.42466003092600074,
          1.312409195297587,
          0.09591687871532022,
          1.3971624576376163,
          0.5876017168531212,
          -0.9320959746324256,
          -1.554159956817357,
          0.34482741176093945,
          1.5468924170915168,
          -1.4034301158921905,
          -0.3421364854793705,
          -0.3700258002299505,
          0.18963240578518814,
          -0.8367522861239166,
          -1.4354639631629302,
          -0.1924128922031911,
          -0.4471995622697898,
          -0.20594738032034565,
          1.1666927760052315,
          0.8542061073093862,
          -0.045340865093400975,
          0.8829678490586947,
          2.6408083514235363,
          -0.5007660975317126,
          0.15144509399049666,
          -0.14989090307841002,
          -1.6619153347196627,
          1.0238621209857814,
          1.2221517095795575,
          -0.9735974374641312,
          -0.5627451263909823,
          -0.05804543402331785,
          0.9850109566618794,
          0.8381067825455304,
          -1.1621346812659719,
          -0.6289189456340682,
          0.9332556602694779,
          0.1801566919373079,
          0.10417651779157987,
          -0.14807796339151225,
          1.5990250523195302,
          -0.053927329507619894,
          -0.7783360488156015,
          -0.3700849764827003,
          2.2810591763490504,
          0.2542492977753961,
          2.762357088437156,
          0.6376042127156709,
          1.2695848172126263,
          0.45641857354305465,
          0.46965554004453053,
          -1.1173114686529768,
          0.3186506440608256,
          -1.2750038871380027,
          0.6618715619915841,
          0.08003220670383365,
          0.8067700142648925,
          -0.1022498040061927,
          -0.11343763353982858,
          -1.2410875845656366,
          0.5410071859457992,
          -0.008862683281114241,
          0.01483585722941619,
          -2.2886479470860417,
          -2.2874057157464414,
          -1.8809150648910813,
          -1.3995936415281152,
          -2.2829143071083657,
          0.8742765899714318,
          -3.559128971832099,
          -0.5292230111010272
         ]
        }
       ],
       "layout": {
        "legend": {
         "bgcolor": "#F5F6F9",
         "font": {
          "color": "#4D5663"
         }
        },
        "paper_bgcolor": "#F5F6F9",
        "plot_bgcolor": "#F5F6F9",
        "template": {
         "data": {
          "bar": [
           {
            "error_x": {
             "color": "#2a3f5f"
            },
            "error_y": {
             "color": "#2a3f5f"
            },
            "marker": {
             "line": {
              "color": "#E5ECF6",
              "width": 0.5
             }
            },
            "type": "bar"
           }
          ],
          "barpolar": [
           {
            "marker": {
             "line": {
              "color": "#E5ECF6",
              "width": 0.5
             }
            },
            "type": "barpolar"
           }
          ],
          "carpet": [
           {
            "aaxis": {
             "endlinecolor": "#2a3f5f",
             "gridcolor": "white",
             "linecolor": "white",
             "minorgridcolor": "white",
             "startlinecolor": "#2a3f5f"
            },
            "baxis": {
             "endlinecolor": "#2a3f5f",
             "gridcolor": "white",
             "linecolor": "white",
             "minorgridcolor": "white",
             "startlinecolor": "#2a3f5f"
            },
            "type": "carpet"
           }
          ],
          "choropleth": [
           {
            "colorbar": {
             "outlinewidth": 0,
             "ticks": ""
            },
            "type": "choropleth"
           }
          ],
          "contour": [
           {
            "colorbar": {
             "outlinewidth": 0,
             "ticks": ""
            },
            "colorscale": [
             [
              0,
              "#0d0887"
             ],
             [
              0.1111111111111111,
              "#46039f"
             ],
             [
              0.2222222222222222,
              "#7201a8"
             ],
             [
              0.3333333333333333,
              "#9c179e"
             ],
             [
              0.4444444444444444,
              "#bd3786"
             ],
             [
              0.5555555555555556,
              "#d8576b"
             ],
             [
              0.6666666666666666,
              "#ed7953"
             ],
             [
              0.7777777777777778,
              "#fb9f3a"
             ],
             [
              0.8888888888888888,
              "#fdca26"
             ],
             [
              1,
              "#f0f921"
             ]
            ],
            "type": "contour"
           }
          ],
          "contourcarpet": [
           {
            "colorbar": {
             "outlinewidth": 0,
             "ticks": ""
            },
            "type": "contourcarpet"
           }
          ],
          "heatmap": [
           {
            "colorbar": {
             "outlinewidth": 0,
             "ticks": ""
            },
            "colorscale": [
             [
              0,
              "#0d0887"
             ],
             [
              0.1111111111111111,
              "#46039f"
             ],
             [
              0.2222222222222222,
              "#7201a8"
             ],
             [
              0.3333333333333333,
              "#9c179e"
             ],
             [
              0.4444444444444444,
              "#bd3786"
             ],
             [
              0.5555555555555556,
              "#d8576b"
             ],
             [
              0.6666666666666666,
              "#ed7953"
             ],
             [
              0.7777777777777778,
              "#fb9f3a"
             ],
             [
              0.8888888888888888,
              "#fdca26"
             ],
             [
              1,
              "#f0f921"
             ]
            ],
            "type": "heatmap"
           }
          ],
          "heatmapgl": [
           {
            "colorbar": {
             "outlinewidth": 0,
             "ticks": ""
            },
            "colorscale": [
             [
              0,
              "#0d0887"
             ],
             [
              0.1111111111111111,
              "#46039f"
             ],
             [
              0.2222222222222222,
              "#7201a8"
             ],
             [
              0.3333333333333333,
              "#9c179e"
             ],
             [
              0.4444444444444444,
              "#bd3786"
             ],
             [
              0.5555555555555556,
              "#d8576b"
             ],
             [
              0.6666666666666666,
              "#ed7953"
             ],
             [
              0.7777777777777778,
              "#fb9f3a"
             ],
             [
              0.8888888888888888,
              "#fdca26"
             ],
             [
              1,
              "#f0f921"
             ]
            ],
            "type": "heatmapgl"
           }
          ],
          "histogram": [
           {
            "marker": {
             "colorbar": {
              "outlinewidth": 0,
              "ticks": ""
             }
            },
            "type": "histogram"
           }
          ],
          "histogram2d": [
           {
            "colorbar": {
             "outlinewidth": 0,
             "ticks": ""
            },
            "colorscale": [
             [
              0,
              "#0d0887"
             ],
             [
              0.1111111111111111,
              "#46039f"
             ],
             [
              0.2222222222222222,
              "#7201a8"
             ],
             [
              0.3333333333333333,
              "#9c179e"
             ],
             [
              0.4444444444444444,
              "#bd3786"
             ],
             [
              0.5555555555555556,
              "#d8576b"
             ],
             [
              0.6666666666666666,
              "#ed7953"
             ],
             [
              0.7777777777777778,
              "#fb9f3a"
             ],
             [
              0.8888888888888888,
              "#fdca26"
             ],
             [
              1,
              "#f0f921"
             ]
            ],
            "type": "histogram2d"
           }
          ],
          "histogram2dcontour": [
           {
            "colorbar": {
             "outlinewidth": 0,
             "ticks": ""
            },
            "colorscale": [
             [
              0,
              "#0d0887"
             ],
             [
              0.1111111111111111,
              "#46039f"
             ],
             [
              0.2222222222222222,
              "#7201a8"
             ],
             [
              0.3333333333333333,
              "#9c179e"
             ],
             [
              0.4444444444444444,
              "#bd3786"
             ],
             [
              0.5555555555555556,
              "#d8576b"
             ],
             [
              0.6666666666666666,
              "#ed7953"
             ],
             [
              0.7777777777777778,
              "#fb9f3a"
             ],
             [
              0.8888888888888888,
              "#fdca26"
             ],
             [
              1,
              "#f0f921"
             ]
            ],
            "type": "histogram2dcontour"
           }
          ],
          "mesh3d": [
           {
            "colorbar": {
             "outlinewidth": 0,
             "ticks": ""
            },
            "type": "mesh3d"
           }
          ],
          "parcoords": [
           {
            "line": {
             "colorbar": {
              "outlinewidth": 0,
              "ticks": ""
             }
            },
            "type": "parcoords"
           }
          ],
          "pie": [
           {
            "automargin": true,
            "type": "pie"
           }
          ],
          "scatter": [
           {
            "marker": {
             "colorbar": {
              "outlinewidth": 0,
              "ticks": ""
             }
            },
            "type": "scatter"
           }
          ],
          "scatter3d": [
           {
            "line": {
             "colorbar": {
              "outlinewidth": 0,
              "ticks": ""
             }
            },
            "marker": {
             "colorbar": {
              "outlinewidth": 0,
              "ticks": ""
             }
            },
            "type": "scatter3d"
           }
          ],
          "scattercarpet": [
           {
            "marker": {
             "colorbar": {
              "outlinewidth": 0,
              "ticks": ""
             }
            },
            "type": "scattercarpet"
           }
          ],
          "scattergeo": [
           {
            "marker": {
             "colorbar": {
              "outlinewidth": 0,
              "ticks": ""
             }
            },
            "type": "scattergeo"
           }
          ],
          "scattergl": [
           {
            "marker": {
             "colorbar": {
              "outlinewidth": 0,
              "ticks": ""
             }
            },
            "type": "scattergl"
           }
          ],
          "scattermapbox": [
           {
            "marker": {
             "colorbar": {
              "outlinewidth": 0,
              "ticks": ""
             }
            },
            "type": "scattermapbox"
           }
          ],
          "scatterpolar": [
           {
            "marker": {
             "colorbar": {
              "outlinewidth": 0,
              "ticks": ""
             }
            },
            "type": "scatterpolar"
           }
          ],
          "scatterpolargl": [
           {
            "marker": {
             "colorbar": {
              "outlinewidth": 0,
              "ticks": ""
             }
            },
            "type": "scatterpolargl"
           }
          ],
          "scatterternary": [
           {
            "marker": {
             "colorbar": {
              "outlinewidth": 0,
              "ticks": ""
             }
            },
            "type": "scatterternary"
           }
          ],
          "surface": [
           {
            "colorbar": {
             "outlinewidth": 0,
             "ticks": ""
            },
            "colorscale": [
             [
              0,
              "#0d0887"
             ],
             [
              0.1111111111111111,
              "#46039f"
             ],
             [
              0.2222222222222222,
              "#7201a8"
             ],
             [
              0.3333333333333333,
              "#9c179e"
             ],
             [
              0.4444444444444444,
              "#bd3786"
             ],
             [
              0.5555555555555556,
              "#d8576b"
             ],
             [
              0.6666666666666666,
              "#ed7953"
             ],
             [
              0.7777777777777778,
              "#fb9f3a"
             ],
             [
              0.8888888888888888,
              "#fdca26"
             ],
             [
              1,
              "#f0f921"
             ]
            ],
            "type": "surface"
           }
          ],
          "table": [
           {
            "cells": {
             "fill": {
              "color": "#EBF0F8"
             },
             "line": {
              "color": "white"
             }
            },
            "header": {
             "fill": {
              "color": "#C8D4E3"
             },
             "line": {
              "color": "white"
             }
            },
            "type": "table"
           }
          ]
         },
         "layout": {
          "annotationdefaults": {
           "arrowcolor": "#2a3f5f",
           "arrowhead": 0,
           "arrowwidth": 1
          },
          "coloraxis": {
           "colorbar": {
            "outlinewidth": 0,
            "ticks": ""
           }
          },
          "colorscale": {
           "diverging": [
            [
             0,
             "#8e0152"
            ],
            [
             0.1,
             "#c51b7d"
            ],
            [
             0.2,
             "#de77ae"
            ],
            [
             0.3,
             "#f1b6da"
            ],
            [
             0.4,
             "#fde0ef"
            ],
            [
             0.5,
             "#f7f7f7"
            ],
            [
             0.6,
             "#e6f5d0"
            ],
            [
             0.7,
             "#b8e186"
            ],
            [
             0.8,
             "#7fbc41"
            ],
            [
             0.9,
             "#4d9221"
            ],
            [
             1,
             "#276419"
            ]
           ],
           "sequential": [
            [
             0,
             "#0d0887"
            ],
            [
             0.1111111111111111,
             "#46039f"
            ],
            [
             0.2222222222222222,
             "#7201a8"
            ],
            [
             0.3333333333333333,
             "#9c179e"
            ],
            [
             0.4444444444444444,
             "#bd3786"
            ],
            [
             0.5555555555555556,
             "#d8576b"
            ],
            [
             0.6666666666666666,
             "#ed7953"
            ],
            [
             0.7777777777777778,
             "#fb9f3a"
            ],
            [
             0.8888888888888888,
             "#fdca26"
            ],
            [
             1,
             "#f0f921"
            ]
           ],
           "sequentialminus": [
            [
             0,
             "#0d0887"
            ],
            [
             0.1111111111111111,
             "#46039f"
            ],
            [
             0.2222222222222222,
             "#7201a8"
            ],
            [
             0.3333333333333333,
             "#9c179e"
            ],
            [
             0.4444444444444444,
             "#bd3786"
            ],
            [
             0.5555555555555556,
             "#d8576b"
            ],
            [
             0.6666666666666666,
             "#ed7953"
            ],
            [
             0.7777777777777778,
             "#fb9f3a"
            ],
            [
             0.8888888888888888,
             "#fdca26"
            ],
            [
             1,
             "#f0f921"
            ]
           ]
          },
          "colorway": [
           "#636efa",
           "#EF553B",
           "#00cc96",
           "#ab63fa",
           "#FFA15A",
           "#19d3f3",
           "#FF6692",
           "#B6E880",
           "#FF97FF",
           "#FECB52"
          ],
          "font": {
           "color": "#2a3f5f"
          },
          "geo": {
           "bgcolor": "white",
           "lakecolor": "white",
           "landcolor": "#E5ECF6",
           "showlakes": true,
           "showland": true,
           "subunitcolor": "white"
          },
          "hoverlabel": {
           "align": "left"
          },
          "hovermode": "closest",
          "mapbox": {
           "style": "light"
          },
          "paper_bgcolor": "white",
          "plot_bgcolor": "#E5ECF6",
          "polar": {
           "angularaxis": {
            "gridcolor": "white",
            "linecolor": "white",
            "ticks": ""
           },
           "bgcolor": "#E5ECF6",
           "radialaxis": {
            "gridcolor": "white",
            "linecolor": "white",
            "ticks": ""
           }
          },
          "scene": {
           "xaxis": {
            "backgroundcolor": "#E5ECF6",
            "gridcolor": "white",
            "gridwidth": 2,
            "linecolor": "white",
            "showbackground": true,
            "ticks": "",
            "zerolinecolor": "white"
           },
           "yaxis": {
            "backgroundcolor": "#E5ECF6",
            "gridcolor": "white",
            "gridwidth": 2,
            "linecolor": "white",
            "showbackground": true,
            "ticks": "",
            "zerolinecolor": "white"
           },
           "zaxis": {
            "backgroundcolor": "#E5ECF6",
            "gridcolor": "white",
            "gridwidth": 2,
            "linecolor": "white",
            "showbackground": true,
            "ticks": "",
            "zerolinecolor": "white"
           }
          },
          "shapedefaults": {
           "line": {
            "color": "#2a3f5f"
           }
          },
          "ternary": {
           "aaxis": {
            "gridcolor": "white",
            "linecolor": "white",
            "ticks": ""
           },
           "baxis": {
            "gridcolor": "white",
            "linecolor": "white",
            "ticks": ""
           },
           "bgcolor": "#E5ECF6",
           "caxis": {
            "gridcolor": "white",
            "linecolor": "white",
            "ticks": ""
           }
          },
          "title": {
           "x": 0.05
          },
          "xaxis": {
           "automargin": true,
           "gridcolor": "white",
           "linecolor": "white",
           "ticks": "",
           "title": {
            "standoff": 15
           },
           "zerolinecolor": "white",
           "zerolinewidth": 2
          },
          "yaxis": {
           "automargin": true,
           "gridcolor": "white",
           "linecolor": "white",
           "ticks": "",
           "title": {
            "standoff": 15
           },
           "zerolinecolor": "white",
           "zerolinewidth": 2
          }
         }
        },
        "title": {
         "font": {
          "color": "#4D5663"
         }
        },
        "xaxis": {
         "gridcolor": "#E1E5ED",
         "showgrid": true,
         "tickfont": {
          "color": "#4D5663"
         },
         "title": {
          "font": {
           "color": "#4D5663"
          },
          "text": ""
         },
         "zerolinecolor": "#E1E5ED"
        },
        "yaxis": {
         "gridcolor": "#E1E5ED",
         "showgrid": true,
         "tickfont": {
          "color": "#4D5663"
         },
         "title": {
          "font": {
           "color": "#4D5663"
          },
          "text": ""
         },
         "zerolinecolor": "#E1E5ED"
        }
       }
      },
      "text/html": [
       "<div>\n",
       "        \n",
       "        \n",
       "            <div id=\"050e360b-faf5-4770-9d8b-d69da2c09620\" class=\"plotly-graph-div\" style=\"height:525px; width:100%;\"></div>\n",
       "            <script type=\"text/javascript\">\n",
       "                require([\"plotly\"], function(Plotly) {\n",
       "                    window.PLOTLYENV=window.PLOTLYENV || {};\n",
       "                    window.PLOTLYENV.BASE_URL='https://plot.ly';\n",
       "                    \n",
       "                if (document.getElementById(\"050e360b-faf5-4770-9d8b-d69da2c09620\")) {\n",
       "                    Plotly.newPlot(\n",
       "                        '050e360b-faf5-4770-9d8b-d69da2c09620',\n",
       "                        [{\"line\": {\"color\": \"rgba(255, 153, 51, 1.0)\", \"dash\": \"solid\", \"shape\": \"linear\", \"width\": 1.3}, \"marker\": {\"size\": 20, \"symbol\": \"circle\"}, \"mode\": \"markers\", \"name\": \"B\", \"text\": \"\", \"type\": \"scatter\", \"x\": [1.3522419087117923, -1.4367485228096082, 0.34246615131765074, 0.22501371995467404, -1.3835773588716889, -0.3786606793558325, 1.5700394365681638, -0.4389112823843724, 0.019327259196934583, -0.7871373062572039, 1.1582459987267817, 0.5419561074166749, 0.10300724317610074, 1.056526493789133, -0.5935929218146352, -0.9400064843743166, 0.8184536422660786, 0.6051514716477069, 1.986033931482904, 3.654979997899412, 0.17858108615271165, -1.5513735777578752, 1.9711731349620212, 0.6244032392053847, 1.1358931781345123, 0.40377740852876387, -1.1112520429721875, -0.4837839184642077, -0.4697476049298041, 0.4624700962665709, -0.40519454607155914, 0.26826033900583474, -3.363286877728186, 1.8642796689830858, 0.3546706184336565, -0.3010076943115201, -0.184736525521066, -0.17078051736817168, 1.0582430636820745, -0.8379417122297186, -0.17913716056313403, 0.2868655884201024, 1.4975251686775926, 0.1673545509032834, 1.8892720942055872, 1.2000191097252784, -0.11723758426468586, -1.3923642324153118, 1.2067384689802523, 0.6995092920577454, -0.450318572383938, -1.0768058506215945, 1.8240423037842124, -1.2848847471231686, -1.3092995799985827, -2.252081015062117, 1.6516269181221692, 1.5514491437019398, 0.17685847323240705, -0.9136086216446226, 1.2010817770884787, -0.19816291549069612, 1.321136986359857, -0.3394538966085169, 0.34016035243713444, -0.7941748905370211, 0.19043318709089463, -0.5436817352645537, 1.0661669821985864, 2.2851010625069286, -0.8266733303952352, 0.7884285801220625, 0.8231972467330367, 0.324008182428142, 0.6752070165857296, -0.8439726176579643, -0.20609333658074047, -1.5482680054696205, -0.38434511261941934, 0.07692083586667725, -0.6248572409586476, -0.16248851481555132, -1.8459074757071747, 1.4126122652500914, 0.19075917126177336, 0.1756756844178885, -0.6453507523108135, 1.689030633833263, -0.8708237540304141, 0.25013438914188446, -1.4214869901784088, 0.2984832844136182, -0.5636158302217779, -0.30474446122783944, 1.006249773260137, 0.2782559169320781, 0.5666162539211673, -0.9302725711947286, -1.3463008359939528, 0.32468815436776594], \"y\": [0.2853960742036141, -0.4406604289569714, 0.33365589029910364, 0.2018345194581368, 0.468673037397461, -1.3528010257124101, 0.800285334395616, 0.8735403499291123, -0.4971589012856189, -1.1501645383832924, -0.11235634631765345, 0.4723699885089022, 0.0712305561391159, 0.24284710471750473, -0.9122241746416804, 0.8269817335779781, -0.00874132852355032, -0.6318762826014234, 0.43011057200838515, 1.0704132732721918, 2.134360594704674, 0.31373630965031646, -0.8829218217202525, -0.73474365392336, 0.3200172946062929, 1.2920107799210232, -0.4672134494390364, -0.4255892680362301, -0.7883031262036172, -0.42466003092600074, 1.312409195297587, 0.09591687871532022, 1.3971624576376163, 0.5876017168531212, -0.9320959746324256, -1.554159956817357, 0.34482741176093945, 1.5468924170915168, -1.4034301158921905, -0.3421364854793705, -0.3700258002299505, 0.18963240578518814, -0.8367522861239166, -1.4354639631629302, -0.1924128922031911, -0.4471995622697898, -0.20594738032034565, 1.1666927760052315, 0.8542061073093862, -0.045340865093400975, 0.8829678490586947, 2.6408083514235363, -0.5007660975317126, 0.15144509399049666, -0.14989090307841002, -1.6619153347196627, 1.0238621209857814, 1.2221517095795575, -0.9735974374641312, -0.5627451263909823, -0.05804543402331785, 0.9850109566618794, 0.8381067825455304, -1.1621346812659719, -0.6289189456340682, 0.9332556602694779, 0.1801566919373079, 0.10417651779157987, -0.14807796339151225, 1.5990250523195302, -0.053927329507619894, -0.7783360488156015, -0.3700849764827003, 2.2810591763490504, 0.2542492977753961, 2.762357088437156, 0.6376042127156709, 1.2695848172126263, 0.45641857354305465, 0.46965554004453053, -1.1173114686529768, 0.3186506440608256, -1.2750038871380027, 0.6618715619915841, 0.08003220670383365, 0.8067700142648925, -0.1022498040061927, -0.11343763353982858, -1.2410875845656366, 0.5410071859457992, -0.008862683281114241, 0.01483585722941619, -2.2886479470860417, -2.2874057157464414, -1.8809150648910813, -1.3995936415281152, -2.2829143071083657, 0.8742765899714318, -3.559128971832099, -0.5292230111010272]}],\n",
       "                        {\"legend\": {\"bgcolor\": \"#F5F6F9\", \"font\": {\"color\": \"#4D5663\"}}, \"paper_bgcolor\": \"#F5F6F9\", \"plot_bgcolor\": \"#F5F6F9\", \"template\": {\"data\": {\"bar\": [{\"error_x\": {\"color\": \"#2a3f5f\"}, \"error_y\": {\"color\": \"#2a3f5f\"}, \"marker\": {\"line\": {\"color\": \"#E5ECF6\", \"width\": 0.5}}, \"type\": \"bar\"}], \"barpolar\": [{\"marker\": {\"line\": {\"color\": \"#E5ECF6\", \"width\": 0.5}}, \"type\": \"barpolar\"}], \"carpet\": [{\"aaxis\": {\"endlinecolor\": \"#2a3f5f\", \"gridcolor\": \"white\", \"linecolor\": \"white\", \"minorgridcolor\": \"white\", \"startlinecolor\": \"#2a3f5f\"}, \"baxis\": {\"endlinecolor\": \"#2a3f5f\", \"gridcolor\": \"white\", \"linecolor\": \"white\", \"minorgridcolor\": \"white\", \"startlinecolor\": \"#2a3f5f\"}, \"type\": \"carpet\"}], \"choropleth\": [{\"colorbar\": {\"outlinewidth\": 0, \"ticks\": \"\"}, \"type\": \"choropleth\"}], \"contour\": [{\"colorbar\": {\"outlinewidth\": 0, \"ticks\": \"\"}, \"colorscale\": [[0.0, \"#0d0887\"], [0.1111111111111111, \"#46039f\"], [0.2222222222222222, \"#7201a8\"], [0.3333333333333333, \"#9c179e\"], [0.4444444444444444, \"#bd3786\"], [0.5555555555555556, \"#d8576b\"], [0.6666666666666666, \"#ed7953\"], [0.7777777777777778, \"#fb9f3a\"], [0.8888888888888888, \"#fdca26\"], [1.0, \"#f0f921\"]], \"type\": \"contour\"}], \"contourcarpet\": [{\"colorbar\": {\"outlinewidth\": 0, \"ticks\": \"\"}, \"type\": \"contourcarpet\"}], \"heatmap\": [{\"colorbar\": {\"outlinewidth\": 0, \"ticks\": \"\"}, \"colorscale\": [[0.0, \"#0d0887\"], [0.1111111111111111, \"#46039f\"], [0.2222222222222222, \"#7201a8\"], [0.3333333333333333, \"#9c179e\"], [0.4444444444444444, \"#bd3786\"], [0.5555555555555556, \"#d8576b\"], [0.6666666666666666, \"#ed7953\"], [0.7777777777777778, \"#fb9f3a\"], [0.8888888888888888, \"#fdca26\"], [1.0, \"#f0f921\"]], \"type\": \"heatmap\"}], \"heatmapgl\": [{\"colorbar\": {\"outlinewidth\": 0, \"ticks\": \"\"}, \"colorscale\": [[0.0, \"#0d0887\"], [0.1111111111111111, \"#46039f\"], [0.2222222222222222, \"#7201a8\"], [0.3333333333333333, \"#9c179e\"], [0.4444444444444444, \"#bd3786\"], [0.5555555555555556, \"#d8576b\"], [0.6666666666666666, \"#ed7953\"], [0.7777777777777778, \"#fb9f3a\"], [0.8888888888888888, \"#fdca26\"], [1.0, \"#f0f921\"]], \"type\": \"heatmapgl\"}], \"histogram\": [{\"marker\": {\"colorbar\": {\"outlinewidth\": 0, \"ticks\": \"\"}}, \"type\": \"histogram\"}], \"histogram2d\": [{\"colorbar\": {\"outlinewidth\": 0, \"ticks\": \"\"}, \"colorscale\": [[0.0, \"#0d0887\"], [0.1111111111111111, \"#46039f\"], [0.2222222222222222, \"#7201a8\"], [0.3333333333333333, \"#9c179e\"], [0.4444444444444444, \"#bd3786\"], [0.5555555555555556, \"#d8576b\"], [0.6666666666666666, \"#ed7953\"], [0.7777777777777778, \"#fb9f3a\"], [0.8888888888888888, \"#fdca26\"], [1.0, \"#f0f921\"]], \"type\": \"histogram2d\"}], \"histogram2dcontour\": [{\"colorbar\": {\"outlinewidth\": 0, \"ticks\": \"\"}, \"colorscale\": [[0.0, \"#0d0887\"], [0.1111111111111111, \"#46039f\"], [0.2222222222222222, \"#7201a8\"], [0.3333333333333333, \"#9c179e\"], [0.4444444444444444, \"#bd3786\"], [0.5555555555555556, \"#d8576b\"], [0.6666666666666666, \"#ed7953\"], [0.7777777777777778, \"#fb9f3a\"], [0.8888888888888888, \"#fdca26\"], [1.0, \"#f0f921\"]], \"type\": \"histogram2dcontour\"}], \"mesh3d\": [{\"colorbar\": {\"outlinewidth\": 0, \"ticks\": \"\"}, \"type\": \"mesh3d\"}], \"parcoords\": [{\"line\": {\"colorbar\": {\"outlinewidth\": 0, \"ticks\": \"\"}}, \"type\": \"parcoords\"}], \"pie\": [{\"automargin\": true, \"type\": \"pie\"}], \"scatter\": [{\"marker\": {\"colorbar\": {\"outlinewidth\": 0, \"ticks\": \"\"}}, \"type\": \"scatter\"}], \"scatter3d\": [{\"line\": {\"colorbar\": {\"outlinewidth\": 0, \"ticks\": \"\"}}, \"marker\": {\"colorbar\": {\"outlinewidth\": 0, \"ticks\": \"\"}}, \"type\": \"scatter3d\"}], \"scattercarpet\": [{\"marker\": {\"colorbar\": {\"outlinewidth\": 0, \"ticks\": \"\"}}, \"type\": \"scattercarpet\"}], \"scattergeo\": [{\"marker\": {\"colorbar\": {\"outlinewidth\": 0, \"ticks\": \"\"}}, \"type\": \"scattergeo\"}], \"scattergl\": [{\"marker\": {\"colorbar\": {\"outlinewidth\": 0, \"ticks\": \"\"}}, \"type\": \"scattergl\"}], \"scattermapbox\": [{\"marker\": {\"colorbar\": {\"outlinewidth\": 0, \"ticks\": \"\"}}, \"type\": \"scattermapbox\"}], \"scatterpolar\": [{\"marker\": {\"colorbar\": {\"outlinewidth\": 0, \"ticks\": \"\"}}, \"type\": \"scatterpolar\"}], \"scatterpolargl\": [{\"marker\": {\"colorbar\": {\"outlinewidth\": 0, \"ticks\": \"\"}}, \"type\": \"scatterpolargl\"}], \"scatterternary\": [{\"marker\": {\"colorbar\": {\"outlinewidth\": 0, \"ticks\": \"\"}}, \"type\": \"scatterternary\"}], \"surface\": [{\"colorbar\": {\"outlinewidth\": 0, \"ticks\": \"\"}, \"colorscale\": [[0.0, \"#0d0887\"], [0.1111111111111111, \"#46039f\"], [0.2222222222222222, \"#7201a8\"], [0.3333333333333333, \"#9c179e\"], [0.4444444444444444, \"#bd3786\"], [0.5555555555555556, \"#d8576b\"], [0.6666666666666666, \"#ed7953\"], [0.7777777777777778, \"#fb9f3a\"], [0.8888888888888888, \"#fdca26\"], [1.0, \"#f0f921\"]], \"type\": \"surface\"}], \"table\": [{\"cells\": {\"fill\": {\"color\": \"#EBF0F8\"}, \"line\": {\"color\": \"white\"}}, \"header\": {\"fill\": {\"color\": \"#C8D4E3\"}, \"line\": {\"color\": \"white\"}}, \"type\": \"table\"}]}, \"layout\": {\"annotationdefaults\": {\"arrowcolor\": \"#2a3f5f\", \"arrowhead\": 0, \"arrowwidth\": 1}, \"coloraxis\": {\"colorbar\": {\"outlinewidth\": 0, \"ticks\": \"\"}}, \"colorscale\": {\"diverging\": [[0, \"#8e0152\"], [0.1, \"#c51b7d\"], [0.2, \"#de77ae\"], [0.3, \"#f1b6da\"], [0.4, \"#fde0ef\"], [0.5, \"#f7f7f7\"], [0.6, \"#e6f5d0\"], [0.7, \"#b8e186\"], [0.8, \"#7fbc41\"], [0.9, \"#4d9221\"], [1, \"#276419\"]], \"sequential\": [[0.0, \"#0d0887\"], [0.1111111111111111, \"#46039f\"], [0.2222222222222222, \"#7201a8\"], [0.3333333333333333, \"#9c179e\"], [0.4444444444444444, \"#bd3786\"], [0.5555555555555556, \"#d8576b\"], [0.6666666666666666, \"#ed7953\"], [0.7777777777777778, \"#fb9f3a\"], [0.8888888888888888, \"#fdca26\"], [1.0, \"#f0f921\"]], \"sequentialminus\": [[0.0, \"#0d0887\"], [0.1111111111111111, \"#46039f\"], [0.2222222222222222, \"#7201a8\"], [0.3333333333333333, \"#9c179e\"], [0.4444444444444444, \"#bd3786\"], [0.5555555555555556, \"#d8576b\"], [0.6666666666666666, \"#ed7953\"], [0.7777777777777778, \"#fb9f3a\"], [0.8888888888888888, \"#fdca26\"], [1.0, \"#f0f921\"]]}, \"colorway\": [\"#636efa\", \"#EF553B\", \"#00cc96\", \"#ab63fa\", \"#FFA15A\", \"#19d3f3\", \"#FF6692\", \"#B6E880\", \"#FF97FF\", \"#FECB52\"], \"font\": {\"color\": \"#2a3f5f\"}, \"geo\": {\"bgcolor\": \"white\", \"lakecolor\": \"white\", \"landcolor\": \"#E5ECF6\", \"showlakes\": true, \"showland\": true, \"subunitcolor\": \"white\"}, \"hoverlabel\": {\"align\": \"left\"}, \"hovermode\": \"closest\", \"mapbox\": {\"style\": \"light\"}, \"paper_bgcolor\": \"white\", \"plot_bgcolor\": \"#E5ECF6\", \"polar\": {\"angularaxis\": {\"gridcolor\": \"white\", \"linecolor\": \"white\", \"ticks\": \"\"}, \"bgcolor\": \"#E5ECF6\", \"radialaxis\": {\"gridcolor\": \"white\", \"linecolor\": \"white\", \"ticks\": \"\"}}, \"scene\": {\"xaxis\": {\"backgroundcolor\": \"#E5ECF6\", \"gridcolor\": \"white\", \"gridwidth\": 2, \"linecolor\": \"white\", \"showbackground\": true, \"ticks\": \"\", \"zerolinecolor\": \"white\"}, \"yaxis\": {\"backgroundcolor\": \"#E5ECF6\", \"gridcolor\": \"white\", \"gridwidth\": 2, \"linecolor\": \"white\", \"showbackground\": true, \"ticks\": \"\", \"zerolinecolor\": \"white\"}, \"zaxis\": {\"backgroundcolor\": \"#E5ECF6\", \"gridcolor\": \"white\", \"gridwidth\": 2, \"linecolor\": \"white\", \"showbackground\": true, \"ticks\": \"\", \"zerolinecolor\": \"white\"}}, \"shapedefaults\": {\"line\": {\"color\": \"#2a3f5f\"}}, \"ternary\": {\"aaxis\": {\"gridcolor\": \"white\", \"linecolor\": \"white\", \"ticks\": \"\"}, \"baxis\": {\"gridcolor\": \"white\", \"linecolor\": \"white\", \"ticks\": \"\"}, \"bgcolor\": \"#E5ECF6\", \"caxis\": {\"gridcolor\": \"white\", \"linecolor\": \"white\", \"ticks\": \"\"}}, \"title\": {\"x\": 0.05}, \"xaxis\": {\"automargin\": true, \"gridcolor\": \"white\", \"linecolor\": \"white\", \"ticks\": \"\", \"title\": {\"standoff\": 15}, \"zerolinecolor\": \"white\", \"zerolinewidth\": 2}, \"yaxis\": {\"automargin\": true, \"gridcolor\": \"white\", \"linecolor\": \"white\", \"ticks\": \"\", \"title\": {\"standoff\": 15}, \"zerolinecolor\": \"white\", \"zerolinewidth\": 2}}}, \"title\": {\"font\": {\"color\": \"#4D5663\"}}, \"xaxis\": {\"gridcolor\": \"#E1E5ED\", \"showgrid\": true, \"tickfont\": {\"color\": \"#4D5663\"}, \"title\": {\"font\": {\"color\": \"#4D5663\"}, \"text\": \"\"}, \"zerolinecolor\": \"#E1E5ED\"}, \"yaxis\": {\"gridcolor\": \"#E1E5ED\", \"showgrid\": true, \"tickfont\": {\"color\": \"#4D5663\"}, \"title\": {\"font\": {\"color\": \"#4D5663\"}, \"text\": \"\"}, \"zerolinecolor\": \"#E1E5ED\"}},\n",
       "                        {\"showLink\": true, \"linkText\": \"Export to plot.ly\", \"plotlyServerURL\": \"https://plot.ly\", \"responsive\": true}\n",
       "                    ).then(function(){\n",
       "                            \n",
       "var gd = document.getElementById('050e360b-faf5-4770-9d8b-d69da2c09620');\n",
       "var x = new MutationObserver(function (mutations, observer) {{\n",
       "        var display = window.getComputedStyle(gd).display;\n",
       "        if (!display || display === 'none') {{\n",
       "            console.log([gd, 'removed!']);\n",
       "            Plotly.purge(gd);\n",
       "            observer.disconnect();\n",
       "        }}\n",
       "}});\n",
       "\n",
       "// Listen for the removal of the full notebook cells\n",
       "var notebookContainer = gd.closest('#notebook-container');\n",
       "if (notebookContainer) {{\n",
       "    x.observe(notebookContainer, {childList: true});\n",
       "}}\n",
       "\n",
       "// Listen for the clearing of the current output cell\n",
       "var outputEl = gd.closest('.output');\n",
       "if (outputEl) {{\n",
       "    x.observe(outputEl, {childList: true});\n",
       "}}\n",
       "\n",
       "                        })\n",
       "                };\n",
       "                });\n",
       "            </script>\n",
       "        </div>"
      ]
     },
     "metadata": {},
     "output_type": "display_data"
    }
   ],
   "source": [
    "df.iplot(kind=\"scatter\", x='A', y='B', mode='markers', size=20)"
   ]
  },
  {
   "cell_type": "code",
   "execution_count": 27,
   "metadata": {},
   "outputs": [
    {
     "data": {
      "application/vnd.plotly.v1+json": {
       "config": {
        "linkText": "Export to plot.ly",
        "plotlyServerURL": "https://plot.ly",
        "showLink": true
       },
       "data": [
        {
         "marker": {
          "color": "rgba(255, 153, 51, 0.6)",
          "line": {
           "color": "rgba(255, 153, 51, 1.0)",
           "width": 1
          }
         },
         "name": "value",
         "orientation": "v",
         "text": "",
         "type": "bar",
         "x": [
          "A",
          "B",
          "C"
         ],
         "y": [
          32,
          43,
          45
         ]
        }
       ],
       "layout": {
        "legend": {
         "bgcolor": "#F5F6F9",
         "font": {
          "color": "#4D5663"
         }
        },
        "paper_bgcolor": "#F5F6F9",
        "plot_bgcolor": "#F5F6F9",
        "template": {
         "data": {
          "bar": [
           {
            "error_x": {
             "color": "#2a3f5f"
            },
            "error_y": {
             "color": "#2a3f5f"
            },
            "marker": {
             "line": {
              "color": "#E5ECF6",
              "width": 0.5
             }
            },
            "type": "bar"
           }
          ],
          "barpolar": [
           {
            "marker": {
             "line": {
              "color": "#E5ECF6",
              "width": 0.5
             }
            },
            "type": "barpolar"
           }
          ],
          "carpet": [
           {
            "aaxis": {
             "endlinecolor": "#2a3f5f",
             "gridcolor": "white",
             "linecolor": "white",
             "minorgridcolor": "white",
             "startlinecolor": "#2a3f5f"
            },
            "baxis": {
             "endlinecolor": "#2a3f5f",
             "gridcolor": "white",
             "linecolor": "white",
             "minorgridcolor": "white",
             "startlinecolor": "#2a3f5f"
            },
            "type": "carpet"
           }
          ],
          "choropleth": [
           {
            "colorbar": {
             "outlinewidth": 0,
             "ticks": ""
            },
            "type": "choropleth"
           }
          ],
          "contour": [
           {
            "colorbar": {
             "outlinewidth": 0,
             "ticks": ""
            },
            "colorscale": [
             [
              0,
              "#0d0887"
             ],
             [
              0.1111111111111111,
              "#46039f"
             ],
             [
              0.2222222222222222,
              "#7201a8"
             ],
             [
              0.3333333333333333,
              "#9c179e"
             ],
             [
              0.4444444444444444,
              "#bd3786"
             ],
             [
              0.5555555555555556,
              "#d8576b"
             ],
             [
              0.6666666666666666,
              "#ed7953"
             ],
             [
              0.7777777777777778,
              "#fb9f3a"
             ],
             [
              0.8888888888888888,
              "#fdca26"
             ],
             [
              1,
              "#f0f921"
             ]
            ],
            "type": "contour"
           }
          ],
          "contourcarpet": [
           {
            "colorbar": {
             "outlinewidth": 0,
             "ticks": ""
            },
            "type": "contourcarpet"
           }
          ],
          "heatmap": [
           {
            "colorbar": {
             "outlinewidth": 0,
             "ticks": ""
            },
            "colorscale": [
             [
              0,
              "#0d0887"
             ],
             [
              0.1111111111111111,
              "#46039f"
             ],
             [
              0.2222222222222222,
              "#7201a8"
             ],
             [
              0.3333333333333333,
              "#9c179e"
             ],
             [
              0.4444444444444444,
              "#bd3786"
             ],
             [
              0.5555555555555556,
              "#d8576b"
             ],
             [
              0.6666666666666666,
              "#ed7953"
             ],
             [
              0.7777777777777778,
              "#fb9f3a"
             ],
             [
              0.8888888888888888,
              "#fdca26"
             ],
             [
              1,
              "#f0f921"
             ]
            ],
            "type": "heatmap"
           }
          ],
          "heatmapgl": [
           {
            "colorbar": {
             "outlinewidth": 0,
             "ticks": ""
            },
            "colorscale": [
             [
              0,
              "#0d0887"
             ],
             [
              0.1111111111111111,
              "#46039f"
             ],
             [
              0.2222222222222222,
              "#7201a8"
             ],
             [
              0.3333333333333333,
              "#9c179e"
             ],
             [
              0.4444444444444444,
              "#bd3786"
             ],
             [
              0.5555555555555556,
              "#d8576b"
             ],
             [
              0.6666666666666666,
              "#ed7953"
             ],
             [
              0.7777777777777778,
              "#fb9f3a"
             ],
             [
              0.8888888888888888,
              "#fdca26"
             ],
             [
              1,
              "#f0f921"
             ]
            ],
            "type": "heatmapgl"
           }
          ],
          "histogram": [
           {
            "marker": {
             "colorbar": {
              "outlinewidth": 0,
              "ticks": ""
             }
            },
            "type": "histogram"
           }
          ],
          "histogram2d": [
           {
            "colorbar": {
             "outlinewidth": 0,
             "ticks": ""
            },
            "colorscale": [
             [
              0,
              "#0d0887"
             ],
             [
              0.1111111111111111,
              "#46039f"
             ],
             [
              0.2222222222222222,
              "#7201a8"
             ],
             [
              0.3333333333333333,
              "#9c179e"
             ],
             [
              0.4444444444444444,
              "#bd3786"
             ],
             [
              0.5555555555555556,
              "#d8576b"
             ],
             [
              0.6666666666666666,
              "#ed7953"
             ],
             [
              0.7777777777777778,
              "#fb9f3a"
             ],
             [
              0.8888888888888888,
              "#fdca26"
             ],
             [
              1,
              "#f0f921"
             ]
            ],
            "type": "histogram2d"
           }
          ],
          "histogram2dcontour": [
           {
            "colorbar": {
             "outlinewidth": 0,
             "ticks": ""
            },
            "colorscale": [
             [
              0,
              "#0d0887"
             ],
             [
              0.1111111111111111,
              "#46039f"
             ],
             [
              0.2222222222222222,
              "#7201a8"
             ],
             [
              0.3333333333333333,
              "#9c179e"
             ],
             [
              0.4444444444444444,
              "#bd3786"
             ],
             [
              0.5555555555555556,
              "#d8576b"
             ],
             [
              0.6666666666666666,
              "#ed7953"
             ],
             [
              0.7777777777777778,
              "#fb9f3a"
             ],
             [
              0.8888888888888888,
              "#fdca26"
             ],
             [
              1,
              "#f0f921"
             ]
            ],
            "type": "histogram2dcontour"
           }
          ],
          "mesh3d": [
           {
            "colorbar": {
             "outlinewidth": 0,
             "ticks": ""
            },
            "type": "mesh3d"
           }
          ],
          "parcoords": [
           {
            "line": {
             "colorbar": {
              "outlinewidth": 0,
              "ticks": ""
             }
            },
            "type": "parcoords"
           }
          ],
          "pie": [
           {
            "automargin": true,
            "type": "pie"
           }
          ],
          "scatter": [
           {
            "marker": {
             "colorbar": {
              "outlinewidth": 0,
              "ticks": ""
             }
            },
            "type": "scatter"
           }
          ],
          "scatter3d": [
           {
            "line": {
             "colorbar": {
              "outlinewidth": 0,
              "ticks": ""
             }
            },
            "marker": {
             "colorbar": {
              "outlinewidth": 0,
              "ticks": ""
             }
            },
            "type": "scatter3d"
           }
          ],
          "scattercarpet": [
           {
            "marker": {
             "colorbar": {
              "outlinewidth": 0,
              "ticks": ""
             }
            },
            "type": "scattercarpet"
           }
          ],
          "scattergeo": [
           {
            "marker": {
             "colorbar": {
              "outlinewidth": 0,
              "ticks": ""
             }
            },
            "type": "scattergeo"
           }
          ],
          "scattergl": [
           {
            "marker": {
             "colorbar": {
              "outlinewidth": 0,
              "ticks": ""
             }
            },
            "type": "scattergl"
           }
          ],
          "scattermapbox": [
           {
            "marker": {
             "colorbar": {
              "outlinewidth": 0,
              "ticks": ""
             }
            },
            "type": "scattermapbox"
           }
          ],
          "scatterpolar": [
           {
            "marker": {
             "colorbar": {
              "outlinewidth": 0,
              "ticks": ""
             }
            },
            "type": "scatterpolar"
           }
          ],
          "scatterpolargl": [
           {
            "marker": {
             "colorbar": {
              "outlinewidth": 0,
              "ticks": ""
             }
            },
            "type": "scatterpolargl"
           }
          ],
          "scatterternary": [
           {
            "marker": {
             "colorbar": {
              "outlinewidth": 0,
              "ticks": ""
             }
            },
            "type": "scatterternary"
           }
          ],
          "surface": [
           {
            "colorbar": {
             "outlinewidth": 0,
             "ticks": ""
            },
            "colorscale": [
             [
              0,
              "#0d0887"
             ],
             [
              0.1111111111111111,
              "#46039f"
             ],
             [
              0.2222222222222222,
              "#7201a8"
             ],
             [
              0.3333333333333333,
              "#9c179e"
             ],
             [
              0.4444444444444444,
              "#bd3786"
             ],
             [
              0.5555555555555556,
              "#d8576b"
             ],
             [
              0.6666666666666666,
              "#ed7953"
             ],
             [
              0.7777777777777778,
              "#fb9f3a"
             ],
             [
              0.8888888888888888,
              "#fdca26"
             ],
             [
              1,
              "#f0f921"
             ]
            ],
            "type": "surface"
           }
          ],
          "table": [
           {
            "cells": {
             "fill": {
              "color": "#EBF0F8"
             },
             "line": {
              "color": "white"
             }
            },
            "header": {
             "fill": {
              "color": "#C8D4E3"
             },
             "line": {
              "color": "white"
             }
            },
            "type": "table"
           }
          ]
         },
         "layout": {
          "annotationdefaults": {
           "arrowcolor": "#2a3f5f",
           "arrowhead": 0,
           "arrowwidth": 1
          },
          "coloraxis": {
           "colorbar": {
            "outlinewidth": 0,
            "ticks": ""
           }
          },
          "colorscale": {
           "diverging": [
            [
             0,
             "#8e0152"
            ],
            [
             0.1,
             "#c51b7d"
            ],
            [
             0.2,
             "#de77ae"
            ],
            [
             0.3,
             "#f1b6da"
            ],
            [
             0.4,
             "#fde0ef"
            ],
            [
             0.5,
             "#f7f7f7"
            ],
            [
             0.6,
             "#e6f5d0"
            ],
            [
             0.7,
             "#b8e186"
            ],
            [
             0.8,
             "#7fbc41"
            ],
            [
             0.9,
             "#4d9221"
            ],
            [
             1,
             "#276419"
            ]
           ],
           "sequential": [
            [
             0,
             "#0d0887"
            ],
            [
             0.1111111111111111,
             "#46039f"
            ],
            [
             0.2222222222222222,
             "#7201a8"
            ],
            [
             0.3333333333333333,
             "#9c179e"
            ],
            [
             0.4444444444444444,
             "#bd3786"
            ],
            [
             0.5555555555555556,
             "#d8576b"
            ],
            [
             0.6666666666666666,
             "#ed7953"
            ],
            [
             0.7777777777777778,
             "#fb9f3a"
            ],
            [
             0.8888888888888888,
             "#fdca26"
            ],
            [
             1,
             "#f0f921"
            ]
           ],
           "sequentialminus": [
            [
             0,
             "#0d0887"
            ],
            [
             0.1111111111111111,
             "#46039f"
            ],
            [
             0.2222222222222222,
             "#7201a8"
            ],
            [
             0.3333333333333333,
             "#9c179e"
            ],
            [
             0.4444444444444444,
             "#bd3786"
            ],
            [
             0.5555555555555556,
             "#d8576b"
            ],
            [
             0.6666666666666666,
             "#ed7953"
            ],
            [
             0.7777777777777778,
             "#fb9f3a"
            ],
            [
             0.8888888888888888,
             "#fdca26"
            ],
            [
             1,
             "#f0f921"
            ]
           ]
          },
          "colorway": [
           "#636efa",
           "#EF553B",
           "#00cc96",
           "#ab63fa",
           "#FFA15A",
           "#19d3f3",
           "#FF6692",
           "#B6E880",
           "#FF97FF",
           "#FECB52"
          ],
          "font": {
           "color": "#2a3f5f"
          },
          "geo": {
           "bgcolor": "white",
           "lakecolor": "white",
           "landcolor": "#E5ECF6",
           "showlakes": true,
           "showland": true,
           "subunitcolor": "white"
          },
          "hoverlabel": {
           "align": "left"
          },
          "hovermode": "closest",
          "mapbox": {
           "style": "light"
          },
          "paper_bgcolor": "white",
          "plot_bgcolor": "#E5ECF6",
          "polar": {
           "angularaxis": {
            "gridcolor": "white",
            "linecolor": "white",
            "ticks": ""
           },
           "bgcolor": "#E5ECF6",
           "radialaxis": {
            "gridcolor": "white",
            "linecolor": "white",
            "ticks": ""
           }
          },
          "scene": {
           "xaxis": {
            "backgroundcolor": "#E5ECF6",
            "gridcolor": "white",
            "gridwidth": 2,
            "linecolor": "white",
            "showbackground": true,
            "ticks": "",
            "zerolinecolor": "white"
           },
           "yaxis": {
            "backgroundcolor": "#E5ECF6",
            "gridcolor": "white",
            "gridwidth": 2,
            "linecolor": "white",
            "showbackground": true,
            "ticks": "",
            "zerolinecolor": "white"
           },
           "zaxis": {
            "backgroundcolor": "#E5ECF6",
            "gridcolor": "white",
            "gridwidth": 2,
            "linecolor": "white",
            "showbackground": true,
            "ticks": "",
            "zerolinecolor": "white"
           }
          },
          "shapedefaults": {
           "line": {
            "color": "#2a3f5f"
           }
          },
          "ternary": {
           "aaxis": {
            "gridcolor": "white",
            "linecolor": "white",
            "ticks": ""
           },
           "baxis": {
            "gridcolor": "white",
            "linecolor": "white",
            "ticks": ""
           },
           "bgcolor": "#E5ECF6",
           "caxis": {
            "gridcolor": "white",
            "linecolor": "white",
            "ticks": ""
           }
          },
          "title": {
           "x": 0.05
          },
          "xaxis": {
           "automargin": true,
           "gridcolor": "white",
           "linecolor": "white",
           "ticks": "",
           "title": {
            "standoff": 15
           },
           "zerolinecolor": "white",
           "zerolinewidth": 2
          },
          "yaxis": {
           "automargin": true,
           "gridcolor": "white",
           "linecolor": "white",
           "ticks": "",
           "title": {
            "standoff": 15
           },
           "zerolinecolor": "white",
           "zerolinewidth": 2
          }
         }
        },
        "title": {
         "font": {
          "color": "#4D5663"
         }
        },
        "xaxis": {
         "gridcolor": "#E1E5ED",
         "showgrid": true,
         "tickfont": {
          "color": "#4D5663"
         },
         "title": {
          "font": {
           "color": "#4D5663"
          },
          "text": ""
         },
         "zerolinecolor": "#E1E5ED"
        },
        "yaxis": {
         "gridcolor": "#E1E5ED",
         "showgrid": true,
         "tickfont": {
          "color": "#4D5663"
         },
         "title": {
          "font": {
           "color": "#4D5663"
          },
          "text": ""
         },
         "zerolinecolor": "#E1E5ED"
        }
       }
      },
      "text/html": [
       "<div>\n",
       "        \n",
       "        \n",
       "            <div id=\"88ee2175-176f-4968-9481-7fb8d71bebba\" class=\"plotly-graph-div\" style=\"height:525px; width:100%;\"></div>\n",
       "            <script type=\"text/javascript\">\n",
       "                require([\"plotly\"], function(Plotly) {\n",
       "                    window.PLOTLYENV=window.PLOTLYENV || {};\n",
       "                    window.PLOTLYENV.BASE_URL='https://plot.ly';\n",
       "                    \n",
       "                if (document.getElementById(\"88ee2175-176f-4968-9481-7fb8d71bebba\")) {\n",
       "                    Plotly.newPlot(\n",
       "                        '88ee2175-176f-4968-9481-7fb8d71bebba',\n",
       "                        [{\"marker\": {\"color\": \"rgba(255, 153, 51, 0.6)\", \"line\": {\"color\": \"rgba(255, 153, 51, 1.0)\", \"width\": 1}}, \"name\": \"value\", \"orientation\": \"v\", \"text\": \"\", \"type\": \"bar\", \"x\": [\"A\", \"B\", \"C\"], \"y\": [32, 43, 45]}],\n",
       "                        {\"legend\": {\"bgcolor\": \"#F5F6F9\", \"font\": {\"color\": \"#4D5663\"}}, \"paper_bgcolor\": \"#F5F6F9\", \"plot_bgcolor\": \"#F5F6F9\", \"template\": {\"data\": {\"bar\": [{\"error_x\": {\"color\": \"#2a3f5f\"}, \"error_y\": {\"color\": \"#2a3f5f\"}, \"marker\": {\"line\": {\"color\": \"#E5ECF6\", \"width\": 0.5}}, \"type\": \"bar\"}], \"barpolar\": [{\"marker\": {\"line\": {\"color\": \"#E5ECF6\", \"width\": 0.5}}, \"type\": \"barpolar\"}], \"carpet\": [{\"aaxis\": {\"endlinecolor\": \"#2a3f5f\", \"gridcolor\": \"white\", \"linecolor\": \"white\", \"minorgridcolor\": \"white\", \"startlinecolor\": \"#2a3f5f\"}, \"baxis\": {\"endlinecolor\": \"#2a3f5f\", \"gridcolor\": \"white\", \"linecolor\": \"white\", \"minorgridcolor\": \"white\", \"startlinecolor\": \"#2a3f5f\"}, \"type\": \"carpet\"}], \"choropleth\": [{\"colorbar\": {\"outlinewidth\": 0, \"ticks\": \"\"}, \"type\": \"choropleth\"}], \"contour\": [{\"colorbar\": {\"outlinewidth\": 0, \"ticks\": \"\"}, \"colorscale\": [[0.0, \"#0d0887\"], [0.1111111111111111, \"#46039f\"], [0.2222222222222222, \"#7201a8\"], [0.3333333333333333, \"#9c179e\"], [0.4444444444444444, \"#bd3786\"], [0.5555555555555556, \"#d8576b\"], [0.6666666666666666, \"#ed7953\"], [0.7777777777777778, \"#fb9f3a\"], [0.8888888888888888, \"#fdca26\"], [1.0, \"#f0f921\"]], \"type\": \"contour\"}], \"contourcarpet\": [{\"colorbar\": {\"outlinewidth\": 0, \"ticks\": \"\"}, \"type\": \"contourcarpet\"}], \"heatmap\": [{\"colorbar\": {\"outlinewidth\": 0, \"ticks\": \"\"}, \"colorscale\": [[0.0, \"#0d0887\"], [0.1111111111111111, \"#46039f\"], [0.2222222222222222, \"#7201a8\"], [0.3333333333333333, \"#9c179e\"], [0.4444444444444444, \"#bd3786\"], [0.5555555555555556, \"#d8576b\"], [0.6666666666666666, \"#ed7953\"], [0.7777777777777778, \"#fb9f3a\"], [0.8888888888888888, \"#fdca26\"], [1.0, \"#f0f921\"]], \"type\": \"heatmap\"}], \"heatmapgl\": [{\"colorbar\": {\"outlinewidth\": 0, \"ticks\": \"\"}, \"colorscale\": [[0.0, \"#0d0887\"], [0.1111111111111111, \"#46039f\"], [0.2222222222222222, \"#7201a8\"], [0.3333333333333333, \"#9c179e\"], [0.4444444444444444, \"#bd3786\"], [0.5555555555555556, \"#d8576b\"], [0.6666666666666666, \"#ed7953\"], [0.7777777777777778, \"#fb9f3a\"], [0.8888888888888888, \"#fdca26\"], [1.0, \"#f0f921\"]], \"type\": \"heatmapgl\"}], \"histogram\": [{\"marker\": {\"colorbar\": {\"outlinewidth\": 0, \"ticks\": \"\"}}, \"type\": \"histogram\"}], \"histogram2d\": [{\"colorbar\": {\"outlinewidth\": 0, \"ticks\": \"\"}, \"colorscale\": [[0.0, \"#0d0887\"], [0.1111111111111111, \"#46039f\"], [0.2222222222222222, \"#7201a8\"], [0.3333333333333333, \"#9c179e\"], [0.4444444444444444, \"#bd3786\"], [0.5555555555555556, \"#d8576b\"], [0.6666666666666666, \"#ed7953\"], [0.7777777777777778, \"#fb9f3a\"], [0.8888888888888888, \"#fdca26\"], [1.0, \"#f0f921\"]], \"type\": \"histogram2d\"}], \"histogram2dcontour\": [{\"colorbar\": {\"outlinewidth\": 0, \"ticks\": \"\"}, \"colorscale\": [[0.0, \"#0d0887\"], [0.1111111111111111, \"#46039f\"], [0.2222222222222222, \"#7201a8\"], [0.3333333333333333, \"#9c179e\"], [0.4444444444444444, \"#bd3786\"], [0.5555555555555556, \"#d8576b\"], [0.6666666666666666, \"#ed7953\"], [0.7777777777777778, \"#fb9f3a\"], [0.8888888888888888, \"#fdca26\"], [1.0, \"#f0f921\"]], \"type\": \"histogram2dcontour\"}], \"mesh3d\": [{\"colorbar\": {\"outlinewidth\": 0, \"ticks\": \"\"}, \"type\": \"mesh3d\"}], \"parcoords\": [{\"line\": {\"colorbar\": {\"outlinewidth\": 0, \"ticks\": \"\"}}, \"type\": \"parcoords\"}], \"pie\": [{\"automargin\": true, \"type\": \"pie\"}], \"scatter\": [{\"marker\": {\"colorbar\": {\"outlinewidth\": 0, \"ticks\": \"\"}}, \"type\": \"scatter\"}], \"scatter3d\": [{\"line\": {\"colorbar\": {\"outlinewidth\": 0, \"ticks\": \"\"}}, \"marker\": {\"colorbar\": {\"outlinewidth\": 0, \"ticks\": \"\"}}, \"type\": \"scatter3d\"}], \"scattercarpet\": [{\"marker\": {\"colorbar\": {\"outlinewidth\": 0, \"ticks\": \"\"}}, \"type\": \"scattercarpet\"}], \"scattergeo\": [{\"marker\": {\"colorbar\": {\"outlinewidth\": 0, \"ticks\": \"\"}}, \"type\": \"scattergeo\"}], \"scattergl\": [{\"marker\": {\"colorbar\": {\"outlinewidth\": 0, \"ticks\": \"\"}}, \"type\": \"scattergl\"}], \"scattermapbox\": [{\"marker\": {\"colorbar\": {\"outlinewidth\": 0, \"ticks\": \"\"}}, \"type\": \"scattermapbox\"}], \"scatterpolar\": [{\"marker\": {\"colorbar\": {\"outlinewidth\": 0, \"ticks\": \"\"}}, \"type\": \"scatterpolar\"}], \"scatterpolargl\": [{\"marker\": {\"colorbar\": {\"outlinewidth\": 0, \"ticks\": \"\"}}, \"type\": \"scatterpolargl\"}], \"scatterternary\": [{\"marker\": {\"colorbar\": {\"outlinewidth\": 0, \"ticks\": \"\"}}, \"type\": \"scatterternary\"}], \"surface\": [{\"colorbar\": {\"outlinewidth\": 0, \"ticks\": \"\"}, \"colorscale\": [[0.0, \"#0d0887\"], [0.1111111111111111, \"#46039f\"], [0.2222222222222222, \"#7201a8\"], [0.3333333333333333, \"#9c179e\"], [0.4444444444444444, \"#bd3786\"], [0.5555555555555556, \"#d8576b\"], [0.6666666666666666, \"#ed7953\"], [0.7777777777777778, \"#fb9f3a\"], [0.8888888888888888, \"#fdca26\"], [1.0, \"#f0f921\"]], \"type\": \"surface\"}], \"table\": [{\"cells\": {\"fill\": {\"color\": \"#EBF0F8\"}, \"line\": {\"color\": \"white\"}}, \"header\": {\"fill\": {\"color\": \"#C8D4E3\"}, \"line\": {\"color\": \"white\"}}, \"type\": \"table\"}]}, \"layout\": {\"annotationdefaults\": {\"arrowcolor\": \"#2a3f5f\", \"arrowhead\": 0, \"arrowwidth\": 1}, \"coloraxis\": {\"colorbar\": {\"outlinewidth\": 0, \"ticks\": \"\"}}, \"colorscale\": {\"diverging\": [[0, \"#8e0152\"], [0.1, \"#c51b7d\"], [0.2, \"#de77ae\"], [0.3, \"#f1b6da\"], [0.4, \"#fde0ef\"], [0.5, \"#f7f7f7\"], [0.6, \"#e6f5d0\"], [0.7, \"#b8e186\"], [0.8, \"#7fbc41\"], [0.9, \"#4d9221\"], [1, \"#276419\"]], \"sequential\": [[0.0, \"#0d0887\"], [0.1111111111111111, \"#46039f\"], [0.2222222222222222, \"#7201a8\"], [0.3333333333333333, \"#9c179e\"], [0.4444444444444444, \"#bd3786\"], [0.5555555555555556, \"#d8576b\"], [0.6666666666666666, \"#ed7953\"], [0.7777777777777778, \"#fb9f3a\"], [0.8888888888888888, \"#fdca26\"], [1.0, \"#f0f921\"]], \"sequentialminus\": [[0.0, \"#0d0887\"], [0.1111111111111111, \"#46039f\"], [0.2222222222222222, \"#7201a8\"], [0.3333333333333333, \"#9c179e\"], [0.4444444444444444, \"#bd3786\"], [0.5555555555555556, \"#d8576b\"], [0.6666666666666666, \"#ed7953\"], [0.7777777777777778, \"#fb9f3a\"], [0.8888888888888888, \"#fdca26\"], [1.0, \"#f0f921\"]]}, \"colorway\": [\"#636efa\", \"#EF553B\", \"#00cc96\", \"#ab63fa\", \"#FFA15A\", \"#19d3f3\", \"#FF6692\", \"#B6E880\", \"#FF97FF\", \"#FECB52\"], \"font\": {\"color\": \"#2a3f5f\"}, \"geo\": {\"bgcolor\": \"white\", \"lakecolor\": \"white\", \"landcolor\": \"#E5ECF6\", \"showlakes\": true, \"showland\": true, \"subunitcolor\": \"white\"}, \"hoverlabel\": {\"align\": \"left\"}, \"hovermode\": \"closest\", \"mapbox\": {\"style\": \"light\"}, \"paper_bgcolor\": \"white\", \"plot_bgcolor\": \"#E5ECF6\", \"polar\": {\"angularaxis\": {\"gridcolor\": \"white\", \"linecolor\": \"white\", \"ticks\": \"\"}, \"bgcolor\": \"#E5ECF6\", \"radialaxis\": {\"gridcolor\": \"white\", \"linecolor\": \"white\", \"ticks\": \"\"}}, \"scene\": {\"xaxis\": {\"backgroundcolor\": \"#E5ECF6\", \"gridcolor\": \"white\", \"gridwidth\": 2, \"linecolor\": \"white\", \"showbackground\": true, \"ticks\": \"\", \"zerolinecolor\": \"white\"}, \"yaxis\": {\"backgroundcolor\": \"#E5ECF6\", \"gridcolor\": \"white\", \"gridwidth\": 2, \"linecolor\": \"white\", \"showbackground\": true, \"ticks\": \"\", \"zerolinecolor\": \"white\"}, \"zaxis\": {\"backgroundcolor\": \"#E5ECF6\", \"gridcolor\": \"white\", \"gridwidth\": 2, \"linecolor\": \"white\", \"showbackground\": true, \"ticks\": \"\", \"zerolinecolor\": \"white\"}}, \"shapedefaults\": {\"line\": {\"color\": \"#2a3f5f\"}}, \"ternary\": {\"aaxis\": {\"gridcolor\": \"white\", \"linecolor\": \"white\", \"ticks\": \"\"}, \"baxis\": {\"gridcolor\": \"white\", \"linecolor\": \"white\", \"ticks\": \"\"}, \"bgcolor\": \"#E5ECF6\", \"caxis\": {\"gridcolor\": \"white\", \"linecolor\": \"white\", \"ticks\": \"\"}}, \"title\": {\"x\": 0.05}, \"xaxis\": {\"automargin\": true, \"gridcolor\": \"white\", \"linecolor\": \"white\", \"ticks\": \"\", \"title\": {\"standoff\": 15}, \"zerolinecolor\": \"white\", \"zerolinewidth\": 2}, \"yaxis\": {\"automargin\": true, \"gridcolor\": \"white\", \"linecolor\": \"white\", \"ticks\": \"\", \"title\": {\"standoff\": 15}, \"zerolinecolor\": \"white\", \"zerolinewidth\": 2}}}, \"title\": {\"font\": {\"color\": \"#4D5663\"}}, \"xaxis\": {\"gridcolor\": \"#E1E5ED\", \"showgrid\": true, \"tickfont\": {\"color\": \"#4D5663\"}, \"title\": {\"font\": {\"color\": \"#4D5663\"}, \"text\": \"\"}, \"zerolinecolor\": \"#E1E5ED\"}, \"yaxis\": {\"gridcolor\": \"#E1E5ED\", \"showgrid\": true, \"tickfont\": {\"color\": \"#4D5663\"}, \"title\": {\"font\": {\"color\": \"#4D5663\"}, \"text\": \"\"}, \"zerolinecolor\": \"#E1E5ED\"}},\n",
       "                        {\"showLink\": true, \"linkText\": \"Export to plot.ly\", \"plotlyServerURL\": \"https://plot.ly\", \"responsive\": true}\n",
       "                    ).then(function(){\n",
       "                            \n",
       "var gd = document.getElementById('88ee2175-176f-4968-9481-7fb8d71bebba');\n",
       "var x = new MutationObserver(function (mutations, observer) {{\n",
       "        var display = window.getComputedStyle(gd).display;\n",
       "        if (!display || display === 'none') {{\n",
       "            console.log([gd, 'removed!']);\n",
       "            Plotly.purge(gd);\n",
       "            observer.disconnect();\n",
       "        }}\n",
       "}});\n",
       "\n",
       "// Listen for the removal of the full notebook cells\n",
       "var notebookContainer = gd.closest('#notebook-container');\n",
       "if (notebookContainer) {{\n",
       "    x.observe(notebookContainer, {childList: true});\n",
       "}}\n",
       "\n",
       "// Listen for the clearing of the current output cell\n",
       "var outputEl = gd.closest('.output');\n",
       "if (outputEl) {{\n",
       "    x.observe(outputEl, {childList: true});\n",
       "}}\n",
       "\n",
       "                        })\n",
       "                };\n",
       "                });\n",
       "            </script>\n",
       "        </div>"
      ]
     },
     "metadata": {},
     "output_type": "display_data"
    }
   ],
   "source": [
    "df1.iplot(kind='bar', x='Category', y='value')"
   ]
  },
  {
   "cell_type": "code",
   "execution_count": 26,
   "metadata": {},
   "outputs": [
    {
     "data": {
      "text/html": [
       "<div>\n",
       "<style scoped>\n",
       "    .dataframe tbody tr th:only-of-type {\n",
       "        vertical-align: middle;\n",
       "    }\n",
       "\n",
       "    .dataframe tbody tr th {\n",
       "        vertical-align: top;\n",
       "    }\n",
       "\n",
       "    .dataframe thead th {\n",
       "        text-align: right;\n",
       "    }\n",
       "</style>\n",
       "<table border=\"1\" class=\"dataframe\">\n",
       "  <thead>\n",
       "    <tr style=\"text-align: right;\">\n",
       "      <th></th>\n",
       "      <th>Category</th>\n",
       "      <th>value</th>\n",
       "    </tr>\n",
       "  </thead>\n",
       "  <tbody>\n",
       "    <tr>\n",
       "      <th>0</th>\n",
       "      <td>A</td>\n",
       "      <td>32</td>\n",
       "    </tr>\n",
       "    <tr>\n",
       "      <th>1</th>\n",
       "      <td>B</td>\n",
       "      <td>43</td>\n",
       "    </tr>\n",
       "    <tr>\n",
       "      <th>2</th>\n",
       "      <td>C</td>\n",
       "      <td>45</td>\n",
       "    </tr>\n",
       "  </tbody>\n",
       "</table>\n",
       "</div>"
      ],
      "text/plain": [
       "  Category  value\n",
       "0        A     32\n",
       "1        B     43\n",
       "2        C     45"
      ]
     },
     "execution_count": 26,
     "metadata": {},
     "output_type": "execute_result"
    }
   ],
   "source": [
    "df1"
   ]
  },
  {
   "cell_type": "code",
   "execution_count": 28,
   "metadata": {},
   "outputs": [
    {
     "data": {
      "application/vnd.plotly.v1+json": {
       "config": {
        "linkText": "Export to plot.ly",
        "plotlyServerURL": "https://plot.ly",
        "showLink": true
       },
       "data": [
        {
         "marker": {
          "color": "rgba(255, 153, 51, 0.6)",
          "line": {
           "color": "rgba(255, 153, 51, 1.0)",
           "width": 1
          }
         },
         "name": "value",
         "orientation": "v",
         "text": "",
         "type": "bar",
         "x": [
          "A",
          "B",
          "C"
         ],
         "y": [
          32,
          43,
          45
         ]
        }
       ],
       "layout": {
        "legend": {
         "bgcolor": "#F5F6F9",
         "font": {
          "color": "#4D5663"
         }
        },
        "paper_bgcolor": "#F5F6F9",
        "plot_bgcolor": "#F5F6F9",
        "template": {
         "data": {
          "bar": [
           {
            "error_x": {
             "color": "#2a3f5f"
            },
            "error_y": {
             "color": "#2a3f5f"
            },
            "marker": {
             "line": {
              "color": "#E5ECF6",
              "width": 0.5
             }
            },
            "type": "bar"
           }
          ],
          "barpolar": [
           {
            "marker": {
             "line": {
              "color": "#E5ECF6",
              "width": 0.5
             }
            },
            "type": "barpolar"
           }
          ],
          "carpet": [
           {
            "aaxis": {
             "endlinecolor": "#2a3f5f",
             "gridcolor": "white",
             "linecolor": "white",
             "minorgridcolor": "white",
             "startlinecolor": "#2a3f5f"
            },
            "baxis": {
             "endlinecolor": "#2a3f5f",
             "gridcolor": "white",
             "linecolor": "white",
             "minorgridcolor": "white",
             "startlinecolor": "#2a3f5f"
            },
            "type": "carpet"
           }
          ],
          "choropleth": [
           {
            "colorbar": {
             "outlinewidth": 0,
             "ticks": ""
            },
            "type": "choropleth"
           }
          ],
          "contour": [
           {
            "colorbar": {
             "outlinewidth": 0,
             "ticks": ""
            },
            "colorscale": [
             [
              0,
              "#0d0887"
             ],
             [
              0.1111111111111111,
              "#46039f"
             ],
             [
              0.2222222222222222,
              "#7201a8"
             ],
             [
              0.3333333333333333,
              "#9c179e"
             ],
             [
              0.4444444444444444,
              "#bd3786"
             ],
             [
              0.5555555555555556,
              "#d8576b"
             ],
             [
              0.6666666666666666,
              "#ed7953"
             ],
             [
              0.7777777777777778,
              "#fb9f3a"
             ],
             [
              0.8888888888888888,
              "#fdca26"
             ],
             [
              1,
              "#f0f921"
             ]
            ],
            "type": "contour"
           }
          ],
          "contourcarpet": [
           {
            "colorbar": {
             "outlinewidth": 0,
             "ticks": ""
            },
            "type": "contourcarpet"
           }
          ],
          "heatmap": [
           {
            "colorbar": {
             "outlinewidth": 0,
             "ticks": ""
            },
            "colorscale": [
             [
              0,
              "#0d0887"
             ],
             [
              0.1111111111111111,
              "#46039f"
             ],
             [
              0.2222222222222222,
              "#7201a8"
             ],
             [
              0.3333333333333333,
              "#9c179e"
             ],
             [
              0.4444444444444444,
              "#bd3786"
             ],
             [
              0.5555555555555556,
              "#d8576b"
             ],
             [
              0.6666666666666666,
              "#ed7953"
             ],
             [
              0.7777777777777778,
              "#fb9f3a"
             ],
             [
              0.8888888888888888,
              "#fdca26"
             ],
             [
              1,
              "#f0f921"
             ]
            ],
            "type": "heatmap"
           }
          ],
          "heatmapgl": [
           {
            "colorbar": {
             "outlinewidth": 0,
             "ticks": ""
            },
            "colorscale": [
             [
              0,
              "#0d0887"
             ],
             [
              0.1111111111111111,
              "#46039f"
             ],
             [
              0.2222222222222222,
              "#7201a8"
             ],
             [
              0.3333333333333333,
              "#9c179e"
             ],
             [
              0.4444444444444444,
              "#bd3786"
             ],
             [
              0.5555555555555556,
              "#d8576b"
             ],
             [
              0.6666666666666666,
              "#ed7953"
             ],
             [
              0.7777777777777778,
              "#fb9f3a"
             ],
             [
              0.8888888888888888,
              "#fdca26"
             ],
             [
              1,
              "#f0f921"
             ]
            ],
            "type": "heatmapgl"
           }
          ],
          "histogram": [
           {
            "marker": {
             "colorbar": {
              "outlinewidth": 0,
              "ticks": ""
             }
            },
            "type": "histogram"
           }
          ],
          "histogram2d": [
           {
            "colorbar": {
             "outlinewidth": 0,
             "ticks": ""
            },
            "colorscale": [
             [
              0,
              "#0d0887"
             ],
             [
              0.1111111111111111,
              "#46039f"
             ],
             [
              0.2222222222222222,
              "#7201a8"
             ],
             [
              0.3333333333333333,
              "#9c179e"
             ],
             [
              0.4444444444444444,
              "#bd3786"
             ],
             [
              0.5555555555555556,
              "#d8576b"
             ],
             [
              0.6666666666666666,
              "#ed7953"
             ],
             [
              0.7777777777777778,
              "#fb9f3a"
             ],
             [
              0.8888888888888888,
              "#fdca26"
             ],
             [
              1,
              "#f0f921"
             ]
            ],
            "type": "histogram2d"
           }
          ],
          "histogram2dcontour": [
           {
            "colorbar": {
             "outlinewidth": 0,
             "ticks": ""
            },
            "colorscale": [
             [
              0,
              "#0d0887"
             ],
             [
              0.1111111111111111,
              "#46039f"
             ],
             [
              0.2222222222222222,
              "#7201a8"
             ],
             [
              0.3333333333333333,
              "#9c179e"
             ],
             [
              0.4444444444444444,
              "#bd3786"
             ],
             [
              0.5555555555555556,
              "#d8576b"
             ],
             [
              0.6666666666666666,
              "#ed7953"
             ],
             [
              0.7777777777777778,
              "#fb9f3a"
             ],
             [
              0.8888888888888888,
              "#fdca26"
             ],
             [
              1,
              "#f0f921"
             ]
            ],
            "type": "histogram2dcontour"
           }
          ],
          "mesh3d": [
           {
            "colorbar": {
             "outlinewidth": 0,
             "ticks": ""
            },
            "type": "mesh3d"
           }
          ],
          "parcoords": [
           {
            "line": {
             "colorbar": {
              "outlinewidth": 0,
              "ticks": ""
             }
            },
            "type": "parcoords"
           }
          ],
          "pie": [
           {
            "automargin": true,
            "type": "pie"
           }
          ],
          "scatter": [
           {
            "marker": {
             "colorbar": {
              "outlinewidth": 0,
              "ticks": ""
             }
            },
            "type": "scatter"
           }
          ],
          "scatter3d": [
           {
            "line": {
             "colorbar": {
              "outlinewidth": 0,
              "ticks": ""
             }
            },
            "marker": {
             "colorbar": {
              "outlinewidth": 0,
              "ticks": ""
             }
            },
            "type": "scatter3d"
           }
          ],
          "scattercarpet": [
           {
            "marker": {
             "colorbar": {
              "outlinewidth": 0,
              "ticks": ""
             }
            },
            "type": "scattercarpet"
           }
          ],
          "scattergeo": [
           {
            "marker": {
             "colorbar": {
              "outlinewidth": 0,
              "ticks": ""
             }
            },
            "type": "scattergeo"
           }
          ],
          "scattergl": [
           {
            "marker": {
             "colorbar": {
              "outlinewidth": 0,
              "ticks": ""
             }
            },
            "type": "scattergl"
           }
          ],
          "scattermapbox": [
           {
            "marker": {
             "colorbar": {
              "outlinewidth": 0,
              "ticks": ""
             }
            },
            "type": "scattermapbox"
           }
          ],
          "scatterpolar": [
           {
            "marker": {
             "colorbar": {
              "outlinewidth": 0,
              "ticks": ""
             }
            },
            "type": "scatterpolar"
           }
          ],
          "scatterpolargl": [
           {
            "marker": {
             "colorbar": {
              "outlinewidth": 0,
              "ticks": ""
             }
            },
            "type": "scatterpolargl"
           }
          ],
          "scatterternary": [
           {
            "marker": {
             "colorbar": {
              "outlinewidth": 0,
              "ticks": ""
             }
            },
            "type": "scatterternary"
           }
          ],
          "surface": [
           {
            "colorbar": {
             "outlinewidth": 0,
             "ticks": ""
            },
            "colorscale": [
             [
              0,
              "#0d0887"
             ],
             [
              0.1111111111111111,
              "#46039f"
             ],
             [
              0.2222222222222222,
              "#7201a8"
             ],
             [
              0.3333333333333333,
              "#9c179e"
             ],
             [
              0.4444444444444444,
              "#bd3786"
             ],
             [
              0.5555555555555556,
              "#d8576b"
             ],
             [
              0.6666666666666666,
              "#ed7953"
             ],
             [
              0.7777777777777778,
              "#fb9f3a"
             ],
             [
              0.8888888888888888,
              "#fdca26"
             ],
             [
              1,
              "#f0f921"
             ]
            ],
            "type": "surface"
           }
          ],
          "table": [
           {
            "cells": {
             "fill": {
              "color": "#EBF0F8"
             },
             "line": {
              "color": "white"
             }
            },
            "header": {
             "fill": {
              "color": "#C8D4E3"
             },
             "line": {
              "color": "white"
             }
            },
            "type": "table"
           }
          ]
         },
         "layout": {
          "annotationdefaults": {
           "arrowcolor": "#2a3f5f",
           "arrowhead": 0,
           "arrowwidth": 1
          },
          "coloraxis": {
           "colorbar": {
            "outlinewidth": 0,
            "ticks": ""
           }
          },
          "colorscale": {
           "diverging": [
            [
             0,
             "#8e0152"
            ],
            [
             0.1,
             "#c51b7d"
            ],
            [
             0.2,
             "#de77ae"
            ],
            [
             0.3,
             "#f1b6da"
            ],
            [
             0.4,
             "#fde0ef"
            ],
            [
             0.5,
             "#f7f7f7"
            ],
            [
             0.6,
             "#e6f5d0"
            ],
            [
             0.7,
             "#b8e186"
            ],
            [
             0.8,
             "#7fbc41"
            ],
            [
             0.9,
             "#4d9221"
            ],
            [
             1,
             "#276419"
            ]
           ],
           "sequential": [
            [
             0,
             "#0d0887"
            ],
            [
             0.1111111111111111,
             "#46039f"
            ],
            [
             0.2222222222222222,
             "#7201a8"
            ],
            [
             0.3333333333333333,
             "#9c179e"
            ],
            [
             0.4444444444444444,
             "#bd3786"
            ],
            [
             0.5555555555555556,
             "#d8576b"
            ],
            [
             0.6666666666666666,
             "#ed7953"
            ],
            [
             0.7777777777777778,
             "#fb9f3a"
            ],
            [
             0.8888888888888888,
             "#fdca26"
            ],
            [
             1,
             "#f0f921"
            ]
           ],
           "sequentialminus": [
            [
             0,
             "#0d0887"
            ],
            [
             0.1111111111111111,
             "#46039f"
            ],
            [
             0.2222222222222222,
             "#7201a8"
            ],
            [
             0.3333333333333333,
             "#9c179e"
            ],
            [
             0.4444444444444444,
             "#bd3786"
            ],
            [
             0.5555555555555556,
             "#d8576b"
            ],
            [
             0.6666666666666666,
             "#ed7953"
            ],
            [
             0.7777777777777778,
             "#fb9f3a"
            ],
            [
             0.8888888888888888,
             "#fdca26"
            ],
            [
             1,
             "#f0f921"
            ]
           ]
          },
          "colorway": [
           "#636efa",
           "#EF553B",
           "#00cc96",
           "#ab63fa",
           "#FFA15A",
           "#19d3f3",
           "#FF6692",
           "#B6E880",
           "#FF97FF",
           "#FECB52"
          ],
          "font": {
           "color": "#2a3f5f"
          },
          "geo": {
           "bgcolor": "white",
           "lakecolor": "white",
           "landcolor": "#E5ECF6",
           "showlakes": true,
           "showland": true,
           "subunitcolor": "white"
          },
          "hoverlabel": {
           "align": "left"
          },
          "hovermode": "closest",
          "mapbox": {
           "style": "light"
          },
          "paper_bgcolor": "white",
          "plot_bgcolor": "#E5ECF6",
          "polar": {
           "angularaxis": {
            "gridcolor": "white",
            "linecolor": "white",
            "ticks": ""
           },
           "bgcolor": "#E5ECF6",
           "radialaxis": {
            "gridcolor": "white",
            "linecolor": "white",
            "ticks": ""
           }
          },
          "scene": {
           "xaxis": {
            "backgroundcolor": "#E5ECF6",
            "gridcolor": "white",
            "gridwidth": 2,
            "linecolor": "white",
            "showbackground": true,
            "ticks": "",
            "zerolinecolor": "white"
           },
           "yaxis": {
            "backgroundcolor": "#E5ECF6",
            "gridcolor": "white",
            "gridwidth": 2,
            "linecolor": "white",
            "showbackground": true,
            "ticks": "",
            "zerolinecolor": "white"
           },
           "zaxis": {
            "backgroundcolor": "#E5ECF6",
            "gridcolor": "white",
            "gridwidth": 2,
            "linecolor": "white",
            "showbackground": true,
            "ticks": "",
            "zerolinecolor": "white"
           }
          },
          "shapedefaults": {
           "line": {
            "color": "#2a3f5f"
           }
          },
          "ternary": {
           "aaxis": {
            "gridcolor": "white",
            "linecolor": "white",
            "ticks": ""
           },
           "baxis": {
            "gridcolor": "white",
            "linecolor": "white",
            "ticks": ""
           },
           "bgcolor": "#E5ECF6",
           "caxis": {
            "gridcolor": "white",
            "linecolor": "white",
            "ticks": ""
           }
          },
          "title": {
           "x": 0.05
          },
          "xaxis": {
           "automargin": true,
           "gridcolor": "white",
           "linecolor": "white",
           "ticks": "",
           "title": {
            "standoff": 15
           },
           "zerolinecolor": "white",
           "zerolinewidth": 2
          },
          "yaxis": {
           "automargin": true,
           "gridcolor": "white",
           "linecolor": "white",
           "ticks": "",
           "title": {
            "standoff": 15
           },
           "zerolinecolor": "white",
           "zerolinewidth": 2
          }
         }
        },
        "title": {
         "font": {
          "color": "#4D5663"
         }
        },
        "xaxis": {
         "gridcolor": "#E1E5ED",
         "showgrid": true,
         "tickfont": {
          "color": "#4D5663"
         },
         "title": {
          "font": {
           "color": "#4D5663"
          },
          "text": ""
         },
         "zerolinecolor": "#E1E5ED"
        },
        "yaxis": {
         "gridcolor": "#E1E5ED",
         "showgrid": true,
         "tickfont": {
          "color": "#4D5663"
         },
         "title": {
          "font": {
           "color": "#4D5663"
          },
          "text": ""
         },
         "zerolinecolor": "#E1E5ED"
        }
       }
      },
      "text/html": [
       "<div>\n",
       "        \n",
       "        \n",
       "            <div id=\"8617aa06-e0e9-4ab4-854d-14c817eeb307\" class=\"plotly-graph-div\" style=\"height:525px; width:100%;\"></div>\n",
       "            <script type=\"text/javascript\">\n",
       "                require([\"plotly\"], function(Plotly) {\n",
       "                    window.PLOTLYENV=window.PLOTLYENV || {};\n",
       "                    window.PLOTLYENV.BASE_URL='https://plot.ly';\n",
       "                    \n",
       "                if (document.getElementById(\"8617aa06-e0e9-4ab4-854d-14c817eeb307\")) {\n",
       "                    Plotly.newPlot(\n",
       "                        '8617aa06-e0e9-4ab4-854d-14c817eeb307',\n",
       "                        [{\"marker\": {\"color\": \"rgba(255, 153, 51, 0.6)\", \"line\": {\"color\": \"rgba(255, 153, 51, 1.0)\", \"width\": 1}}, \"name\": \"value\", \"orientation\": \"v\", \"text\": \"\", \"type\": \"bar\", \"x\": [\"A\", \"B\", \"C\"], \"y\": [32, 43, 45]}],\n",
       "                        {\"legend\": {\"bgcolor\": \"#F5F6F9\", \"font\": {\"color\": \"#4D5663\"}}, \"paper_bgcolor\": \"#F5F6F9\", \"plot_bgcolor\": \"#F5F6F9\", \"template\": {\"data\": {\"bar\": [{\"error_x\": {\"color\": \"#2a3f5f\"}, \"error_y\": {\"color\": \"#2a3f5f\"}, \"marker\": {\"line\": {\"color\": \"#E5ECF6\", \"width\": 0.5}}, \"type\": \"bar\"}], \"barpolar\": [{\"marker\": {\"line\": {\"color\": \"#E5ECF6\", \"width\": 0.5}}, \"type\": \"barpolar\"}], \"carpet\": [{\"aaxis\": {\"endlinecolor\": \"#2a3f5f\", \"gridcolor\": \"white\", \"linecolor\": \"white\", \"minorgridcolor\": \"white\", \"startlinecolor\": \"#2a3f5f\"}, \"baxis\": {\"endlinecolor\": \"#2a3f5f\", \"gridcolor\": \"white\", \"linecolor\": \"white\", \"minorgridcolor\": \"white\", \"startlinecolor\": \"#2a3f5f\"}, \"type\": \"carpet\"}], \"choropleth\": [{\"colorbar\": {\"outlinewidth\": 0, \"ticks\": \"\"}, \"type\": \"choropleth\"}], \"contour\": [{\"colorbar\": {\"outlinewidth\": 0, \"ticks\": \"\"}, \"colorscale\": [[0.0, \"#0d0887\"], [0.1111111111111111, \"#46039f\"], [0.2222222222222222, \"#7201a8\"], [0.3333333333333333, \"#9c179e\"], [0.4444444444444444, \"#bd3786\"], [0.5555555555555556, \"#d8576b\"], [0.6666666666666666, \"#ed7953\"], [0.7777777777777778, \"#fb9f3a\"], [0.8888888888888888, \"#fdca26\"], [1.0, \"#f0f921\"]], \"type\": \"contour\"}], \"contourcarpet\": [{\"colorbar\": {\"outlinewidth\": 0, \"ticks\": \"\"}, \"type\": \"contourcarpet\"}], \"heatmap\": [{\"colorbar\": {\"outlinewidth\": 0, \"ticks\": \"\"}, \"colorscale\": [[0.0, \"#0d0887\"], [0.1111111111111111, \"#46039f\"], [0.2222222222222222, \"#7201a8\"], [0.3333333333333333, \"#9c179e\"], [0.4444444444444444, \"#bd3786\"], [0.5555555555555556, \"#d8576b\"], [0.6666666666666666, \"#ed7953\"], [0.7777777777777778, \"#fb9f3a\"], [0.8888888888888888, \"#fdca26\"], [1.0, \"#f0f921\"]], \"type\": \"heatmap\"}], \"heatmapgl\": [{\"colorbar\": {\"outlinewidth\": 0, \"ticks\": \"\"}, \"colorscale\": [[0.0, \"#0d0887\"], [0.1111111111111111, \"#46039f\"], [0.2222222222222222, \"#7201a8\"], [0.3333333333333333, \"#9c179e\"], [0.4444444444444444, \"#bd3786\"], [0.5555555555555556, \"#d8576b\"], [0.6666666666666666, \"#ed7953\"], [0.7777777777777778, \"#fb9f3a\"], [0.8888888888888888, \"#fdca26\"], [1.0, \"#f0f921\"]], \"type\": \"heatmapgl\"}], \"histogram\": [{\"marker\": {\"colorbar\": {\"outlinewidth\": 0, \"ticks\": \"\"}}, \"type\": \"histogram\"}], \"histogram2d\": [{\"colorbar\": {\"outlinewidth\": 0, \"ticks\": \"\"}, \"colorscale\": [[0.0, \"#0d0887\"], [0.1111111111111111, \"#46039f\"], [0.2222222222222222, \"#7201a8\"], [0.3333333333333333, \"#9c179e\"], [0.4444444444444444, \"#bd3786\"], [0.5555555555555556, \"#d8576b\"], [0.6666666666666666, \"#ed7953\"], [0.7777777777777778, \"#fb9f3a\"], [0.8888888888888888, \"#fdca26\"], [1.0, \"#f0f921\"]], \"type\": \"histogram2d\"}], \"histogram2dcontour\": [{\"colorbar\": {\"outlinewidth\": 0, \"ticks\": \"\"}, \"colorscale\": [[0.0, \"#0d0887\"], [0.1111111111111111, \"#46039f\"], [0.2222222222222222, \"#7201a8\"], [0.3333333333333333, \"#9c179e\"], [0.4444444444444444, \"#bd3786\"], [0.5555555555555556, \"#d8576b\"], [0.6666666666666666, \"#ed7953\"], [0.7777777777777778, \"#fb9f3a\"], [0.8888888888888888, \"#fdca26\"], [1.0, \"#f0f921\"]], \"type\": \"histogram2dcontour\"}], \"mesh3d\": [{\"colorbar\": {\"outlinewidth\": 0, \"ticks\": \"\"}, \"type\": \"mesh3d\"}], \"parcoords\": [{\"line\": {\"colorbar\": {\"outlinewidth\": 0, \"ticks\": \"\"}}, \"type\": \"parcoords\"}], \"pie\": [{\"automargin\": true, \"type\": \"pie\"}], \"scatter\": [{\"marker\": {\"colorbar\": {\"outlinewidth\": 0, \"ticks\": \"\"}}, \"type\": \"scatter\"}], \"scatter3d\": [{\"line\": {\"colorbar\": {\"outlinewidth\": 0, \"ticks\": \"\"}}, \"marker\": {\"colorbar\": {\"outlinewidth\": 0, \"ticks\": \"\"}}, \"type\": \"scatter3d\"}], \"scattercarpet\": [{\"marker\": {\"colorbar\": {\"outlinewidth\": 0, \"ticks\": \"\"}}, \"type\": \"scattercarpet\"}], \"scattergeo\": [{\"marker\": {\"colorbar\": {\"outlinewidth\": 0, \"ticks\": \"\"}}, \"type\": \"scattergeo\"}], \"scattergl\": [{\"marker\": {\"colorbar\": {\"outlinewidth\": 0, \"ticks\": \"\"}}, \"type\": \"scattergl\"}], \"scattermapbox\": [{\"marker\": {\"colorbar\": {\"outlinewidth\": 0, \"ticks\": \"\"}}, \"type\": \"scattermapbox\"}], \"scatterpolar\": [{\"marker\": {\"colorbar\": {\"outlinewidth\": 0, \"ticks\": \"\"}}, \"type\": \"scatterpolar\"}], \"scatterpolargl\": [{\"marker\": {\"colorbar\": {\"outlinewidth\": 0, \"ticks\": \"\"}}, \"type\": \"scatterpolargl\"}], \"scatterternary\": [{\"marker\": {\"colorbar\": {\"outlinewidth\": 0, \"ticks\": \"\"}}, \"type\": \"scatterternary\"}], \"surface\": [{\"colorbar\": {\"outlinewidth\": 0, \"ticks\": \"\"}, \"colorscale\": [[0.0, \"#0d0887\"], [0.1111111111111111, \"#46039f\"], [0.2222222222222222, \"#7201a8\"], [0.3333333333333333, \"#9c179e\"], [0.4444444444444444, \"#bd3786\"], [0.5555555555555556, \"#d8576b\"], [0.6666666666666666, \"#ed7953\"], [0.7777777777777778, \"#fb9f3a\"], [0.8888888888888888, \"#fdca26\"], [1.0, \"#f0f921\"]], \"type\": \"surface\"}], \"table\": [{\"cells\": {\"fill\": {\"color\": \"#EBF0F8\"}, \"line\": {\"color\": \"white\"}}, \"header\": {\"fill\": {\"color\": \"#C8D4E3\"}, \"line\": {\"color\": \"white\"}}, \"type\": \"table\"}]}, \"layout\": {\"annotationdefaults\": {\"arrowcolor\": \"#2a3f5f\", \"arrowhead\": 0, \"arrowwidth\": 1}, \"coloraxis\": {\"colorbar\": {\"outlinewidth\": 0, \"ticks\": \"\"}}, \"colorscale\": {\"diverging\": [[0, \"#8e0152\"], [0.1, \"#c51b7d\"], [0.2, \"#de77ae\"], [0.3, \"#f1b6da\"], [0.4, \"#fde0ef\"], [0.5, \"#f7f7f7\"], [0.6, \"#e6f5d0\"], [0.7, \"#b8e186\"], [0.8, \"#7fbc41\"], [0.9, \"#4d9221\"], [1, \"#276419\"]], \"sequential\": [[0.0, \"#0d0887\"], [0.1111111111111111, \"#46039f\"], [0.2222222222222222, \"#7201a8\"], [0.3333333333333333, \"#9c179e\"], [0.4444444444444444, \"#bd3786\"], [0.5555555555555556, \"#d8576b\"], [0.6666666666666666, \"#ed7953\"], [0.7777777777777778, \"#fb9f3a\"], [0.8888888888888888, \"#fdca26\"], [1.0, \"#f0f921\"]], \"sequentialminus\": [[0.0, \"#0d0887\"], [0.1111111111111111, \"#46039f\"], [0.2222222222222222, \"#7201a8\"], [0.3333333333333333, \"#9c179e\"], [0.4444444444444444, \"#bd3786\"], [0.5555555555555556, \"#d8576b\"], [0.6666666666666666, \"#ed7953\"], [0.7777777777777778, \"#fb9f3a\"], [0.8888888888888888, \"#fdca26\"], [1.0, \"#f0f921\"]]}, \"colorway\": [\"#636efa\", \"#EF553B\", \"#00cc96\", \"#ab63fa\", \"#FFA15A\", \"#19d3f3\", \"#FF6692\", \"#B6E880\", \"#FF97FF\", \"#FECB52\"], \"font\": {\"color\": \"#2a3f5f\"}, \"geo\": {\"bgcolor\": \"white\", \"lakecolor\": \"white\", \"landcolor\": \"#E5ECF6\", \"showlakes\": true, \"showland\": true, \"subunitcolor\": \"white\"}, \"hoverlabel\": {\"align\": \"left\"}, \"hovermode\": \"closest\", \"mapbox\": {\"style\": \"light\"}, \"paper_bgcolor\": \"white\", \"plot_bgcolor\": \"#E5ECF6\", \"polar\": {\"angularaxis\": {\"gridcolor\": \"white\", \"linecolor\": \"white\", \"ticks\": \"\"}, \"bgcolor\": \"#E5ECF6\", \"radialaxis\": {\"gridcolor\": \"white\", \"linecolor\": \"white\", \"ticks\": \"\"}}, \"scene\": {\"xaxis\": {\"backgroundcolor\": \"#E5ECF6\", \"gridcolor\": \"white\", \"gridwidth\": 2, \"linecolor\": \"white\", \"showbackground\": true, \"ticks\": \"\", \"zerolinecolor\": \"white\"}, \"yaxis\": {\"backgroundcolor\": \"#E5ECF6\", \"gridcolor\": \"white\", \"gridwidth\": 2, \"linecolor\": \"white\", \"showbackground\": true, \"ticks\": \"\", \"zerolinecolor\": \"white\"}, \"zaxis\": {\"backgroundcolor\": \"#E5ECF6\", \"gridcolor\": \"white\", \"gridwidth\": 2, \"linecolor\": \"white\", \"showbackground\": true, \"ticks\": \"\", \"zerolinecolor\": \"white\"}}, \"shapedefaults\": {\"line\": {\"color\": \"#2a3f5f\"}}, \"ternary\": {\"aaxis\": {\"gridcolor\": \"white\", \"linecolor\": \"white\", \"ticks\": \"\"}, \"baxis\": {\"gridcolor\": \"white\", \"linecolor\": \"white\", \"ticks\": \"\"}, \"bgcolor\": \"#E5ECF6\", \"caxis\": {\"gridcolor\": \"white\", \"linecolor\": \"white\", \"ticks\": \"\"}}, \"title\": {\"x\": 0.05}, \"xaxis\": {\"automargin\": true, \"gridcolor\": \"white\", \"linecolor\": \"white\", \"ticks\": \"\", \"title\": {\"standoff\": 15}, \"zerolinecolor\": \"white\", \"zerolinewidth\": 2}, \"yaxis\": {\"automargin\": true, \"gridcolor\": \"white\", \"linecolor\": \"white\", \"ticks\": \"\", \"title\": {\"standoff\": 15}, \"zerolinecolor\": \"white\", \"zerolinewidth\": 2}}}, \"title\": {\"font\": {\"color\": \"#4D5663\"}}, \"xaxis\": {\"gridcolor\": \"#E1E5ED\", \"showgrid\": true, \"tickfont\": {\"color\": \"#4D5663\"}, \"title\": {\"font\": {\"color\": \"#4D5663\"}, \"text\": \"\"}, \"zerolinecolor\": \"#E1E5ED\"}, \"yaxis\": {\"gridcolor\": \"#E1E5ED\", \"showgrid\": true, \"tickfont\": {\"color\": \"#4D5663\"}, \"title\": {\"font\": {\"color\": \"#4D5663\"}, \"text\": \"\"}, \"zerolinecolor\": \"#E1E5ED\"}},\n",
       "                        {\"showLink\": true, \"linkText\": \"Export to plot.ly\", \"plotlyServerURL\": \"https://plot.ly\", \"responsive\": true}\n",
       "                    ).then(function(){\n",
       "                            \n",
       "var gd = document.getElementById('8617aa06-e0e9-4ab4-854d-14c817eeb307');\n",
       "var x = new MutationObserver(function (mutations, observer) {{\n",
       "        var display = window.getComputedStyle(gd).display;\n",
       "        if (!display || display === 'none') {{\n",
       "            console.log([gd, 'removed!']);\n",
       "            Plotly.purge(gd);\n",
       "            observer.disconnect();\n",
       "        }}\n",
       "}});\n",
       "\n",
       "// Listen for the removal of the full notebook cells\n",
       "var notebookContainer = gd.closest('#notebook-container');\n",
       "if (notebookContainer) {{\n",
       "    x.observe(notebookContainer, {childList: true});\n",
       "}}\n",
       "\n",
       "// Listen for the clearing of the current output cell\n",
       "var outputEl = gd.closest('.output');\n",
       "if (outputEl) {{\n",
       "    x.observe(outputEl, {childList: true});\n",
       "}}\n",
       "\n",
       "                        })\n",
       "                };\n",
       "                });\n",
       "            </script>\n",
       "        </div>"
      ]
     },
     "metadata": {},
     "output_type": "display_data"
    }
   ],
   "source": [
    "df1.iplot(kind='bar', x='Category', y='value')"
   ]
  },
  {
   "cell_type": "code",
   "execution_count": 29,
   "metadata": {},
   "outputs": [
    {
     "data": {
      "application/vnd.plotly.v1+json": {
       "config": {
        "linkText": "Export to plot.ly",
        "plotlyServerURL": "https://plot.ly",
        "showLink": true
       },
       "data": [
        {
         "marker": {
          "color": "rgba(255, 153, 51, 0.6)",
          "line": {
           "color": "rgba(255, 153, 51, 1.0)",
           "width": 1
          }
         },
         "name": "None",
         "orientation": "v",
         "text": "",
         "type": "bar",
         "x": [
          "A",
          "B",
          "C",
          "D"
         ],
         "y": [
          100,
          100,
          100,
          100
         ]
        }
       ],
       "layout": {
        "legend": {
         "bgcolor": "#F5F6F9",
         "font": {
          "color": "#4D5663"
         }
        },
        "paper_bgcolor": "#F5F6F9",
        "plot_bgcolor": "#F5F6F9",
        "template": {
         "data": {
          "bar": [
           {
            "error_x": {
             "color": "#2a3f5f"
            },
            "error_y": {
             "color": "#2a3f5f"
            },
            "marker": {
             "line": {
              "color": "#E5ECF6",
              "width": 0.5
             }
            },
            "type": "bar"
           }
          ],
          "barpolar": [
           {
            "marker": {
             "line": {
              "color": "#E5ECF6",
              "width": 0.5
             }
            },
            "type": "barpolar"
           }
          ],
          "carpet": [
           {
            "aaxis": {
             "endlinecolor": "#2a3f5f",
             "gridcolor": "white",
             "linecolor": "white",
             "minorgridcolor": "white",
             "startlinecolor": "#2a3f5f"
            },
            "baxis": {
             "endlinecolor": "#2a3f5f",
             "gridcolor": "white",
             "linecolor": "white",
             "minorgridcolor": "white",
             "startlinecolor": "#2a3f5f"
            },
            "type": "carpet"
           }
          ],
          "choropleth": [
           {
            "colorbar": {
             "outlinewidth": 0,
             "ticks": ""
            },
            "type": "choropleth"
           }
          ],
          "contour": [
           {
            "colorbar": {
             "outlinewidth": 0,
             "ticks": ""
            },
            "colorscale": [
             [
              0,
              "#0d0887"
             ],
             [
              0.1111111111111111,
              "#46039f"
             ],
             [
              0.2222222222222222,
              "#7201a8"
             ],
             [
              0.3333333333333333,
              "#9c179e"
             ],
             [
              0.4444444444444444,
              "#bd3786"
             ],
             [
              0.5555555555555556,
              "#d8576b"
             ],
             [
              0.6666666666666666,
              "#ed7953"
             ],
             [
              0.7777777777777778,
              "#fb9f3a"
             ],
             [
              0.8888888888888888,
              "#fdca26"
             ],
             [
              1,
              "#f0f921"
             ]
            ],
            "type": "contour"
           }
          ],
          "contourcarpet": [
           {
            "colorbar": {
             "outlinewidth": 0,
             "ticks": ""
            },
            "type": "contourcarpet"
           }
          ],
          "heatmap": [
           {
            "colorbar": {
             "outlinewidth": 0,
             "ticks": ""
            },
            "colorscale": [
             [
              0,
              "#0d0887"
             ],
             [
              0.1111111111111111,
              "#46039f"
             ],
             [
              0.2222222222222222,
              "#7201a8"
             ],
             [
              0.3333333333333333,
              "#9c179e"
             ],
             [
              0.4444444444444444,
              "#bd3786"
             ],
             [
              0.5555555555555556,
              "#d8576b"
             ],
             [
              0.6666666666666666,
              "#ed7953"
             ],
             [
              0.7777777777777778,
              "#fb9f3a"
             ],
             [
              0.8888888888888888,
              "#fdca26"
             ],
             [
              1,
              "#f0f921"
             ]
            ],
            "type": "heatmap"
           }
          ],
          "heatmapgl": [
           {
            "colorbar": {
             "outlinewidth": 0,
             "ticks": ""
            },
            "colorscale": [
             [
              0,
              "#0d0887"
             ],
             [
              0.1111111111111111,
              "#46039f"
             ],
             [
              0.2222222222222222,
              "#7201a8"
             ],
             [
              0.3333333333333333,
              "#9c179e"
             ],
             [
              0.4444444444444444,
              "#bd3786"
             ],
             [
              0.5555555555555556,
              "#d8576b"
             ],
             [
              0.6666666666666666,
              "#ed7953"
             ],
             [
              0.7777777777777778,
              "#fb9f3a"
             ],
             [
              0.8888888888888888,
              "#fdca26"
             ],
             [
              1,
              "#f0f921"
             ]
            ],
            "type": "heatmapgl"
           }
          ],
          "histogram": [
           {
            "marker": {
             "colorbar": {
              "outlinewidth": 0,
              "ticks": ""
             }
            },
            "type": "histogram"
           }
          ],
          "histogram2d": [
           {
            "colorbar": {
             "outlinewidth": 0,
             "ticks": ""
            },
            "colorscale": [
             [
              0,
              "#0d0887"
             ],
             [
              0.1111111111111111,
              "#46039f"
             ],
             [
              0.2222222222222222,
              "#7201a8"
             ],
             [
              0.3333333333333333,
              "#9c179e"
             ],
             [
              0.4444444444444444,
              "#bd3786"
             ],
             [
              0.5555555555555556,
              "#d8576b"
             ],
             [
              0.6666666666666666,
              "#ed7953"
             ],
             [
              0.7777777777777778,
              "#fb9f3a"
             ],
             [
              0.8888888888888888,
              "#fdca26"
             ],
             [
              1,
              "#f0f921"
             ]
            ],
            "type": "histogram2d"
           }
          ],
          "histogram2dcontour": [
           {
            "colorbar": {
             "outlinewidth": 0,
             "ticks": ""
            },
            "colorscale": [
             [
              0,
              "#0d0887"
             ],
             [
              0.1111111111111111,
              "#46039f"
             ],
             [
              0.2222222222222222,
              "#7201a8"
             ],
             [
              0.3333333333333333,
              "#9c179e"
             ],
             [
              0.4444444444444444,
              "#bd3786"
             ],
             [
              0.5555555555555556,
              "#d8576b"
             ],
             [
              0.6666666666666666,
              "#ed7953"
             ],
             [
              0.7777777777777778,
              "#fb9f3a"
             ],
             [
              0.8888888888888888,
              "#fdca26"
             ],
             [
              1,
              "#f0f921"
             ]
            ],
            "type": "histogram2dcontour"
           }
          ],
          "mesh3d": [
           {
            "colorbar": {
             "outlinewidth": 0,
             "ticks": ""
            },
            "type": "mesh3d"
           }
          ],
          "parcoords": [
           {
            "line": {
             "colorbar": {
              "outlinewidth": 0,
              "ticks": ""
             }
            },
            "type": "parcoords"
           }
          ],
          "pie": [
           {
            "automargin": true,
            "type": "pie"
           }
          ],
          "scatter": [
           {
            "marker": {
             "colorbar": {
              "outlinewidth": 0,
              "ticks": ""
             }
            },
            "type": "scatter"
           }
          ],
          "scatter3d": [
           {
            "line": {
             "colorbar": {
              "outlinewidth": 0,
              "ticks": ""
             }
            },
            "marker": {
             "colorbar": {
              "outlinewidth": 0,
              "ticks": ""
             }
            },
            "type": "scatter3d"
           }
          ],
          "scattercarpet": [
           {
            "marker": {
             "colorbar": {
              "outlinewidth": 0,
              "ticks": ""
             }
            },
            "type": "scattercarpet"
           }
          ],
          "scattergeo": [
           {
            "marker": {
             "colorbar": {
              "outlinewidth": 0,
              "ticks": ""
             }
            },
            "type": "scattergeo"
           }
          ],
          "scattergl": [
           {
            "marker": {
             "colorbar": {
              "outlinewidth": 0,
              "ticks": ""
             }
            },
            "type": "scattergl"
           }
          ],
          "scattermapbox": [
           {
            "marker": {
             "colorbar": {
              "outlinewidth": 0,
              "ticks": ""
             }
            },
            "type": "scattermapbox"
           }
          ],
          "scatterpolar": [
           {
            "marker": {
             "colorbar": {
              "outlinewidth": 0,
              "ticks": ""
             }
            },
            "type": "scatterpolar"
           }
          ],
          "scatterpolargl": [
           {
            "marker": {
             "colorbar": {
              "outlinewidth": 0,
              "ticks": ""
             }
            },
            "type": "scatterpolargl"
           }
          ],
          "scatterternary": [
           {
            "marker": {
             "colorbar": {
              "outlinewidth": 0,
              "ticks": ""
             }
            },
            "type": "scatterternary"
           }
          ],
          "surface": [
           {
            "colorbar": {
             "outlinewidth": 0,
             "ticks": ""
            },
            "colorscale": [
             [
              0,
              "#0d0887"
             ],
             [
              0.1111111111111111,
              "#46039f"
             ],
             [
              0.2222222222222222,
              "#7201a8"
             ],
             [
              0.3333333333333333,
              "#9c179e"
             ],
             [
              0.4444444444444444,
              "#bd3786"
             ],
             [
              0.5555555555555556,
              "#d8576b"
             ],
             [
              0.6666666666666666,
              "#ed7953"
             ],
             [
              0.7777777777777778,
              "#fb9f3a"
             ],
             [
              0.8888888888888888,
              "#fdca26"
             ],
             [
              1,
              "#f0f921"
             ]
            ],
            "type": "surface"
           }
          ],
          "table": [
           {
            "cells": {
             "fill": {
              "color": "#EBF0F8"
             },
             "line": {
              "color": "white"
             }
            },
            "header": {
             "fill": {
              "color": "#C8D4E3"
             },
             "line": {
              "color": "white"
             }
            },
            "type": "table"
           }
          ]
         },
         "layout": {
          "annotationdefaults": {
           "arrowcolor": "#2a3f5f",
           "arrowhead": 0,
           "arrowwidth": 1
          },
          "coloraxis": {
           "colorbar": {
            "outlinewidth": 0,
            "ticks": ""
           }
          },
          "colorscale": {
           "diverging": [
            [
             0,
             "#8e0152"
            ],
            [
             0.1,
             "#c51b7d"
            ],
            [
             0.2,
             "#de77ae"
            ],
            [
             0.3,
             "#f1b6da"
            ],
            [
             0.4,
             "#fde0ef"
            ],
            [
             0.5,
             "#f7f7f7"
            ],
            [
             0.6,
             "#e6f5d0"
            ],
            [
             0.7,
             "#b8e186"
            ],
            [
             0.8,
             "#7fbc41"
            ],
            [
             0.9,
             "#4d9221"
            ],
            [
             1,
             "#276419"
            ]
           ],
           "sequential": [
            [
             0,
             "#0d0887"
            ],
            [
             0.1111111111111111,
             "#46039f"
            ],
            [
             0.2222222222222222,
             "#7201a8"
            ],
            [
             0.3333333333333333,
             "#9c179e"
            ],
            [
             0.4444444444444444,
             "#bd3786"
            ],
            [
             0.5555555555555556,
             "#d8576b"
            ],
            [
             0.6666666666666666,
             "#ed7953"
            ],
            [
             0.7777777777777778,
             "#fb9f3a"
            ],
            [
             0.8888888888888888,
             "#fdca26"
            ],
            [
             1,
             "#f0f921"
            ]
           ],
           "sequentialminus": [
            [
             0,
             "#0d0887"
            ],
            [
             0.1111111111111111,
             "#46039f"
            ],
            [
             0.2222222222222222,
             "#7201a8"
            ],
            [
             0.3333333333333333,
             "#9c179e"
            ],
            [
             0.4444444444444444,
             "#bd3786"
            ],
            [
             0.5555555555555556,
             "#d8576b"
            ],
            [
             0.6666666666666666,
             "#ed7953"
            ],
            [
             0.7777777777777778,
             "#fb9f3a"
            ],
            [
             0.8888888888888888,
             "#fdca26"
            ],
            [
             1,
             "#f0f921"
            ]
           ]
          },
          "colorway": [
           "#636efa",
           "#EF553B",
           "#00cc96",
           "#ab63fa",
           "#FFA15A",
           "#19d3f3",
           "#FF6692",
           "#B6E880",
           "#FF97FF",
           "#FECB52"
          ],
          "font": {
           "color": "#2a3f5f"
          },
          "geo": {
           "bgcolor": "white",
           "lakecolor": "white",
           "landcolor": "#E5ECF6",
           "showlakes": true,
           "showland": true,
           "subunitcolor": "white"
          },
          "hoverlabel": {
           "align": "left"
          },
          "hovermode": "closest",
          "mapbox": {
           "style": "light"
          },
          "paper_bgcolor": "white",
          "plot_bgcolor": "#E5ECF6",
          "polar": {
           "angularaxis": {
            "gridcolor": "white",
            "linecolor": "white",
            "ticks": ""
           },
           "bgcolor": "#E5ECF6",
           "radialaxis": {
            "gridcolor": "white",
            "linecolor": "white",
            "ticks": ""
           }
          },
          "scene": {
           "xaxis": {
            "backgroundcolor": "#E5ECF6",
            "gridcolor": "white",
            "gridwidth": 2,
            "linecolor": "white",
            "showbackground": true,
            "ticks": "",
            "zerolinecolor": "white"
           },
           "yaxis": {
            "backgroundcolor": "#E5ECF6",
            "gridcolor": "white",
            "gridwidth": 2,
            "linecolor": "white",
            "showbackground": true,
            "ticks": "",
            "zerolinecolor": "white"
           },
           "zaxis": {
            "backgroundcolor": "#E5ECF6",
            "gridcolor": "white",
            "gridwidth": 2,
            "linecolor": "white",
            "showbackground": true,
            "ticks": "",
            "zerolinecolor": "white"
           }
          },
          "shapedefaults": {
           "line": {
            "color": "#2a3f5f"
           }
          },
          "ternary": {
           "aaxis": {
            "gridcolor": "white",
            "linecolor": "white",
            "ticks": ""
           },
           "baxis": {
            "gridcolor": "white",
            "linecolor": "white",
            "ticks": ""
           },
           "bgcolor": "#E5ECF6",
           "caxis": {
            "gridcolor": "white",
            "linecolor": "white",
            "ticks": ""
           }
          },
          "title": {
           "x": 0.05
          },
          "xaxis": {
           "automargin": true,
           "gridcolor": "white",
           "linecolor": "white",
           "ticks": "",
           "title": {
            "standoff": 15
           },
           "zerolinecolor": "white",
           "zerolinewidth": 2
          },
          "yaxis": {
           "automargin": true,
           "gridcolor": "white",
           "linecolor": "white",
           "ticks": "",
           "title": {
            "standoff": 15
           },
           "zerolinecolor": "white",
           "zerolinewidth": 2
          }
         }
        },
        "title": {
         "font": {
          "color": "#4D5663"
         }
        },
        "xaxis": {
         "gridcolor": "#E1E5ED",
         "showgrid": true,
         "tickfont": {
          "color": "#4D5663"
         },
         "title": {
          "font": {
           "color": "#4D5663"
          },
          "text": ""
         },
         "zerolinecolor": "#E1E5ED"
        },
        "yaxis": {
         "gridcolor": "#E1E5ED",
         "showgrid": true,
         "tickfont": {
          "color": "#4D5663"
         },
         "title": {
          "font": {
           "color": "#4D5663"
          },
          "text": ""
         },
         "zerolinecolor": "#E1E5ED"
        }
       }
      },
      "text/html": [
       "<div>\n",
       "        \n",
       "        \n",
       "            <div id=\"7b3b6016-d7a1-4e58-ab66-4d9c0eba2d5b\" class=\"plotly-graph-div\" style=\"height:525px; width:100%;\"></div>\n",
       "            <script type=\"text/javascript\">\n",
       "                require([\"plotly\"], function(Plotly) {\n",
       "                    window.PLOTLYENV=window.PLOTLYENV || {};\n",
       "                    window.PLOTLYENV.BASE_URL='https://plot.ly';\n",
       "                    \n",
       "                if (document.getElementById(\"7b3b6016-d7a1-4e58-ab66-4d9c0eba2d5b\")) {\n",
       "                    Plotly.newPlot(\n",
       "                        '7b3b6016-d7a1-4e58-ab66-4d9c0eba2d5b',\n",
       "                        [{\"marker\": {\"color\": \"rgba(255, 153, 51, 0.6)\", \"line\": {\"color\": \"rgba(255, 153, 51, 1.0)\", \"width\": 1}}, \"name\": \"None\", \"orientation\": \"v\", \"text\": \"\", \"type\": \"bar\", \"x\": [\"A\", \"B\", \"C\", \"D\"], \"y\": [100, 100, 100, 100]}],\n",
       "                        {\"legend\": {\"bgcolor\": \"#F5F6F9\", \"font\": {\"color\": \"#4D5663\"}}, \"paper_bgcolor\": \"#F5F6F9\", \"plot_bgcolor\": \"#F5F6F9\", \"template\": {\"data\": {\"bar\": [{\"error_x\": {\"color\": \"#2a3f5f\"}, \"error_y\": {\"color\": \"#2a3f5f\"}, \"marker\": {\"line\": {\"color\": \"#E5ECF6\", \"width\": 0.5}}, \"type\": \"bar\"}], \"barpolar\": [{\"marker\": {\"line\": {\"color\": \"#E5ECF6\", \"width\": 0.5}}, \"type\": \"barpolar\"}], \"carpet\": [{\"aaxis\": {\"endlinecolor\": \"#2a3f5f\", \"gridcolor\": \"white\", \"linecolor\": \"white\", \"minorgridcolor\": \"white\", \"startlinecolor\": \"#2a3f5f\"}, \"baxis\": {\"endlinecolor\": \"#2a3f5f\", \"gridcolor\": \"white\", \"linecolor\": \"white\", \"minorgridcolor\": \"white\", \"startlinecolor\": \"#2a3f5f\"}, \"type\": \"carpet\"}], \"choropleth\": [{\"colorbar\": {\"outlinewidth\": 0, \"ticks\": \"\"}, \"type\": \"choropleth\"}], \"contour\": [{\"colorbar\": {\"outlinewidth\": 0, \"ticks\": \"\"}, \"colorscale\": [[0.0, \"#0d0887\"], [0.1111111111111111, \"#46039f\"], [0.2222222222222222, \"#7201a8\"], [0.3333333333333333, \"#9c179e\"], [0.4444444444444444, \"#bd3786\"], [0.5555555555555556, \"#d8576b\"], [0.6666666666666666, \"#ed7953\"], [0.7777777777777778, \"#fb9f3a\"], [0.8888888888888888, \"#fdca26\"], [1.0, \"#f0f921\"]], \"type\": \"contour\"}], \"contourcarpet\": [{\"colorbar\": {\"outlinewidth\": 0, \"ticks\": \"\"}, \"type\": \"contourcarpet\"}], \"heatmap\": [{\"colorbar\": {\"outlinewidth\": 0, \"ticks\": \"\"}, \"colorscale\": [[0.0, \"#0d0887\"], [0.1111111111111111, \"#46039f\"], [0.2222222222222222, \"#7201a8\"], [0.3333333333333333, \"#9c179e\"], [0.4444444444444444, \"#bd3786\"], [0.5555555555555556, \"#d8576b\"], [0.6666666666666666, \"#ed7953\"], [0.7777777777777778, \"#fb9f3a\"], [0.8888888888888888, \"#fdca26\"], [1.0, \"#f0f921\"]], \"type\": \"heatmap\"}], \"heatmapgl\": [{\"colorbar\": {\"outlinewidth\": 0, \"ticks\": \"\"}, \"colorscale\": [[0.0, \"#0d0887\"], [0.1111111111111111, \"#46039f\"], [0.2222222222222222, \"#7201a8\"], [0.3333333333333333, \"#9c179e\"], [0.4444444444444444, \"#bd3786\"], [0.5555555555555556, \"#d8576b\"], [0.6666666666666666, \"#ed7953\"], [0.7777777777777778, \"#fb9f3a\"], [0.8888888888888888, \"#fdca26\"], [1.0, \"#f0f921\"]], \"type\": \"heatmapgl\"}], \"histogram\": [{\"marker\": {\"colorbar\": {\"outlinewidth\": 0, \"ticks\": \"\"}}, \"type\": \"histogram\"}], \"histogram2d\": [{\"colorbar\": {\"outlinewidth\": 0, \"ticks\": \"\"}, \"colorscale\": [[0.0, \"#0d0887\"], [0.1111111111111111, \"#46039f\"], [0.2222222222222222, \"#7201a8\"], [0.3333333333333333, \"#9c179e\"], [0.4444444444444444, \"#bd3786\"], [0.5555555555555556, \"#d8576b\"], [0.6666666666666666, \"#ed7953\"], [0.7777777777777778, \"#fb9f3a\"], [0.8888888888888888, \"#fdca26\"], [1.0, \"#f0f921\"]], \"type\": \"histogram2d\"}], \"histogram2dcontour\": [{\"colorbar\": {\"outlinewidth\": 0, \"ticks\": \"\"}, \"colorscale\": [[0.0, \"#0d0887\"], [0.1111111111111111, \"#46039f\"], [0.2222222222222222, \"#7201a8\"], [0.3333333333333333, \"#9c179e\"], [0.4444444444444444, \"#bd3786\"], [0.5555555555555556, \"#d8576b\"], [0.6666666666666666, \"#ed7953\"], [0.7777777777777778, \"#fb9f3a\"], [0.8888888888888888, \"#fdca26\"], [1.0, \"#f0f921\"]], \"type\": \"histogram2dcontour\"}], \"mesh3d\": [{\"colorbar\": {\"outlinewidth\": 0, \"ticks\": \"\"}, \"type\": \"mesh3d\"}], \"parcoords\": [{\"line\": {\"colorbar\": {\"outlinewidth\": 0, \"ticks\": \"\"}}, \"type\": \"parcoords\"}], \"pie\": [{\"automargin\": true, \"type\": \"pie\"}], \"scatter\": [{\"marker\": {\"colorbar\": {\"outlinewidth\": 0, \"ticks\": \"\"}}, \"type\": \"scatter\"}], \"scatter3d\": [{\"line\": {\"colorbar\": {\"outlinewidth\": 0, \"ticks\": \"\"}}, \"marker\": {\"colorbar\": {\"outlinewidth\": 0, \"ticks\": \"\"}}, \"type\": \"scatter3d\"}], \"scattercarpet\": [{\"marker\": {\"colorbar\": {\"outlinewidth\": 0, \"ticks\": \"\"}}, \"type\": \"scattercarpet\"}], \"scattergeo\": [{\"marker\": {\"colorbar\": {\"outlinewidth\": 0, \"ticks\": \"\"}}, \"type\": \"scattergeo\"}], \"scattergl\": [{\"marker\": {\"colorbar\": {\"outlinewidth\": 0, \"ticks\": \"\"}}, \"type\": \"scattergl\"}], \"scattermapbox\": [{\"marker\": {\"colorbar\": {\"outlinewidth\": 0, \"ticks\": \"\"}}, \"type\": \"scattermapbox\"}], \"scatterpolar\": [{\"marker\": {\"colorbar\": {\"outlinewidth\": 0, \"ticks\": \"\"}}, \"type\": \"scatterpolar\"}], \"scatterpolargl\": [{\"marker\": {\"colorbar\": {\"outlinewidth\": 0, \"ticks\": \"\"}}, \"type\": \"scatterpolargl\"}], \"scatterternary\": [{\"marker\": {\"colorbar\": {\"outlinewidth\": 0, \"ticks\": \"\"}}, \"type\": \"scatterternary\"}], \"surface\": [{\"colorbar\": {\"outlinewidth\": 0, \"ticks\": \"\"}, \"colorscale\": [[0.0, \"#0d0887\"], [0.1111111111111111, \"#46039f\"], [0.2222222222222222, \"#7201a8\"], [0.3333333333333333, \"#9c179e\"], [0.4444444444444444, \"#bd3786\"], [0.5555555555555556, \"#d8576b\"], [0.6666666666666666, \"#ed7953\"], [0.7777777777777778, \"#fb9f3a\"], [0.8888888888888888, \"#fdca26\"], [1.0, \"#f0f921\"]], \"type\": \"surface\"}], \"table\": [{\"cells\": {\"fill\": {\"color\": \"#EBF0F8\"}, \"line\": {\"color\": \"white\"}}, \"header\": {\"fill\": {\"color\": \"#C8D4E3\"}, \"line\": {\"color\": \"white\"}}, \"type\": \"table\"}]}, \"layout\": {\"annotationdefaults\": {\"arrowcolor\": \"#2a3f5f\", \"arrowhead\": 0, \"arrowwidth\": 1}, \"coloraxis\": {\"colorbar\": {\"outlinewidth\": 0, \"ticks\": \"\"}}, \"colorscale\": {\"diverging\": [[0, \"#8e0152\"], [0.1, \"#c51b7d\"], [0.2, \"#de77ae\"], [0.3, \"#f1b6da\"], [0.4, \"#fde0ef\"], [0.5, \"#f7f7f7\"], [0.6, \"#e6f5d0\"], [0.7, \"#b8e186\"], [0.8, \"#7fbc41\"], [0.9, \"#4d9221\"], [1, \"#276419\"]], \"sequential\": [[0.0, \"#0d0887\"], [0.1111111111111111, \"#46039f\"], [0.2222222222222222, \"#7201a8\"], [0.3333333333333333, \"#9c179e\"], [0.4444444444444444, \"#bd3786\"], [0.5555555555555556, \"#d8576b\"], [0.6666666666666666, \"#ed7953\"], [0.7777777777777778, \"#fb9f3a\"], [0.8888888888888888, \"#fdca26\"], [1.0, \"#f0f921\"]], \"sequentialminus\": [[0.0, \"#0d0887\"], [0.1111111111111111, \"#46039f\"], [0.2222222222222222, \"#7201a8\"], [0.3333333333333333, \"#9c179e\"], [0.4444444444444444, \"#bd3786\"], [0.5555555555555556, \"#d8576b\"], [0.6666666666666666, \"#ed7953\"], [0.7777777777777778, \"#fb9f3a\"], [0.8888888888888888, \"#fdca26\"], [1.0, \"#f0f921\"]]}, \"colorway\": [\"#636efa\", \"#EF553B\", \"#00cc96\", \"#ab63fa\", \"#FFA15A\", \"#19d3f3\", \"#FF6692\", \"#B6E880\", \"#FF97FF\", \"#FECB52\"], \"font\": {\"color\": \"#2a3f5f\"}, \"geo\": {\"bgcolor\": \"white\", \"lakecolor\": \"white\", \"landcolor\": \"#E5ECF6\", \"showlakes\": true, \"showland\": true, \"subunitcolor\": \"white\"}, \"hoverlabel\": {\"align\": \"left\"}, \"hovermode\": \"closest\", \"mapbox\": {\"style\": \"light\"}, \"paper_bgcolor\": \"white\", \"plot_bgcolor\": \"#E5ECF6\", \"polar\": {\"angularaxis\": {\"gridcolor\": \"white\", \"linecolor\": \"white\", \"ticks\": \"\"}, \"bgcolor\": \"#E5ECF6\", \"radialaxis\": {\"gridcolor\": \"white\", \"linecolor\": \"white\", \"ticks\": \"\"}}, \"scene\": {\"xaxis\": {\"backgroundcolor\": \"#E5ECF6\", \"gridcolor\": \"white\", \"gridwidth\": 2, \"linecolor\": \"white\", \"showbackground\": true, \"ticks\": \"\", \"zerolinecolor\": \"white\"}, \"yaxis\": {\"backgroundcolor\": \"#E5ECF6\", \"gridcolor\": \"white\", \"gridwidth\": 2, \"linecolor\": \"white\", \"showbackground\": true, \"ticks\": \"\", \"zerolinecolor\": \"white\"}, \"zaxis\": {\"backgroundcolor\": \"#E5ECF6\", \"gridcolor\": \"white\", \"gridwidth\": 2, \"linecolor\": \"white\", \"showbackground\": true, \"ticks\": \"\", \"zerolinecolor\": \"white\"}}, \"shapedefaults\": {\"line\": {\"color\": \"#2a3f5f\"}}, \"ternary\": {\"aaxis\": {\"gridcolor\": \"white\", \"linecolor\": \"white\", \"ticks\": \"\"}, \"baxis\": {\"gridcolor\": \"white\", \"linecolor\": \"white\", \"ticks\": \"\"}, \"bgcolor\": \"#E5ECF6\", \"caxis\": {\"gridcolor\": \"white\", \"linecolor\": \"white\", \"ticks\": \"\"}}, \"title\": {\"x\": 0.05}, \"xaxis\": {\"automargin\": true, \"gridcolor\": \"white\", \"linecolor\": \"white\", \"ticks\": \"\", \"title\": {\"standoff\": 15}, \"zerolinecolor\": \"white\", \"zerolinewidth\": 2}, \"yaxis\": {\"automargin\": true, \"gridcolor\": \"white\", \"linecolor\": \"white\", \"ticks\": \"\", \"title\": {\"standoff\": 15}, \"zerolinecolor\": \"white\", \"zerolinewidth\": 2}}}, \"title\": {\"font\": {\"color\": \"#4D5663\"}}, \"xaxis\": {\"gridcolor\": \"#E1E5ED\", \"showgrid\": true, \"tickfont\": {\"color\": \"#4D5663\"}, \"title\": {\"font\": {\"color\": \"#4D5663\"}, \"text\": \"\"}, \"zerolinecolor\": \"#E1E5ED\"}, \"yaxis\": {\"gridcolor\": \"#E1E5ED\", \"showgrid\": true, \"tickfont\": {\"color\": \"#4D5663\"}, \"title\": {\"font\": {\"color\": \"#4D5663\"}, \"text\": \"\"}, \"zerolinecolor\": \"#E1E5ED\"}},\n",
       "                        {\"showLink\": true, \"linkText\": \"Export to plot.ly\", \"plotlyServerURL\": \"https://plot.ly\", \"responsive\": true}\n",
       "                    ).then(function(){\n",
       "                            \n",
       "var gd = document.getElementById('7b3b6016-d7a1-4e58-ab66-4d9c0eba2d5b');\n",
       "var x = new MutationObserver(function (mutations, observer) {{\n",
       "        var display = window.getComputedStyle(gd).display;\n",
       "        if (!display || display === 'none') {{\n",
       "            console.log([gd, 'removed!']);\n",
       "            Plotly.purge(gd);\n",
       "            observer.disconnect();\n",
       "        }}\n",
       "}});\n",
       "\n",
       "// Listen for the removal of the full notebook cells\n",
       "var notebookContainer = gd.closest('#notebook-container');\n",
       "if (notebookContainer) {{\n",
       "    x.observe(notebookContainer, {childList: true});\n",
       "}}\n",
       "\n",
       "// Listen for the clearing of the current output cell\n",
       "var outputEl = gd.closest('.output');\n",
       "if (outputEl) {{\n",
       "    x.observe(outputEl, {childList: true});\n",
       "}}\n",
       "\n",
       "                        })\n",
       "                };\n",
       "                });\n",
       "            </script>\n",
       "        </div>"
      ]
     },
     "metadata": {},
     "output_type": "display_data"
    }
   ],
   "source": [
    "df.count().iplot(kind=\"bar\")"
   ]
  },
  {
   "cell_type": "code",
   "execution_count": 30,
   "metadata": {},
   "outputs": [
    {
     "data": {
      "application/vnd.plotly.v1+json": {
       "config": {
        "linkText": "Export to plot.ly",
        "plotlyServerURL": "https://plot.ly",
        "showLink": true
       },
       "data": [
        {
         "marker": {
          "color": "rgba(255, 153, 51, 0.6)",
          "line": {
           "color": "rgba(255, 153, 51, 1.0)",
           "width": 1
          }
         },
         "name": "None",
         "orientation": "v",
         "text": "",
         "type": "bar",
         "x": [
          "A",
          "B",
          "C",
          "D"
         ],
         "y": [
          10.976652838974198,
          -2.106457325624602,
          10.744855626139255,
          -2.698114388205801
         ]
        }
       ],
       "layout": {
        "legend": {
         "bgcolor": "#F5F6F9",
         "font": {
          "color": "#4D5663"
         }
        },
        "paper_bgcolor": "#F5F6F9",
        "plot_bgcolor": "#F5F6F9",
        "template": {
         "data": {
          "bar": [
           {
            "error_x": {
             "color": "#2a3f5f"
            },
            "error_y": {
             "color": "#2a3f5f"
            },
            "marker": {
             "line": {
              "color": "#E5ECF6",
              "width": 0.5
             }
            },
            "type": "bar"
           }
          ],
          "barpolar": [
           {
            "marker": {
             "line": {
              "color": "#E5ECF6",
              "width": 0.5
             }
            },
            "type": "barpolar"
           }
          ],
          "carpet": [
           {
            "aaxis": {
             "endlinecolor": "#2a3f5f",
             "gridcolor": "white",
             "linecolor": "white",
             "minorgridcolor": "white",
             "startlinecolor": "#2a3f5f"
            },
            "baxis": {
             "endlinecolor": "#2a3f5f",
             "gridcolor": "white",
             "linecolor": "white",
             "minorgridcolor": "white",
             "startlinecolor": "#2a3f5f"
            },
            "type": "carpet"
           }
          ],
          "choropleth": [
           {
            "colorbar": {
             "outlinewidth": 0,
             "ticks": ""
            },
            "type": "choropleth"
           }
          ],
          "contour": [
           {
            "colorbar": {
             "outlinewidth": 0,
             "ticks": ""
            },
            "colorscale": [
             [
              0,
              "#0d0887"
             ],
             [
              0.1111111111111111,
              "#46039f"
             ],
             [
              0.2222222222222222,
              "#7201a8"
             ],
             [
              0.3333333333333333,
              "#9c179e"
             ],
             [
              0.4444444444444444,
              "#bd3786"
             ],
             [
              0.5555555555555556,
              "#d8576b"
             ],
             [
              0.6666666666666666,
              "#ed7953"
             ],
             [
              0.7777777777777778,
              "#fb9f3a"
             ],
             [
              0.8888888888888888,
              "#fdca26"
             ],
             [
              1,
              "#f0f921"
             ]
            ],
            "type": "contour"
           }
          ],
          "contourcarpet": [
           {
            "colorbar": {
             "outlinewidth": 0,
             "ticks": ""
            },
            "type": "contourcarpet"
           }
          ],
          "heatmap": [
           {
            "colorbar": {
             "outlinewidth": 0,
             "ticks": ""
            },
            "colorscale": [
             [
              0,
              "#0d0887"
             ],
             [
              0.1111111111111111,
              "#46039f"
             ],
             [
              0.2222222222222222,
              "#7201a8"
             ],
             [
              0.3333333333333333,
              "#9c179e"
             ],
             [
              0.4444444444444444,
              "#bd3786"
             ],
             [
              0.5555555555555556,
              "#d8576b"
             ],
             [
              0.6666666666666666,
              "#ed7953"
             ],
             [
              0.7777777777777778,
              "#fb9f3a"
             ],
             [
              0.8888888888888888,
              "#fdca26"
             ],
             [
              1,
              "#f0f921"
             ]
            ],
            "type": "heatmap"
           }
          ],
          "heatmapgl": [
           {
            "colorbar": {
             "outlinewidth": 0,
             "ticks": ""
            },
            "colorscale": [
             [
              0,
              "#0d0887"
             ],
             [
              0.1111111111111111,
              "#46039f"
             ],
             [
              0.2222222222222222,
              "#7201a8"
             ],
             [
              0.3333333333333333,
              "#9c179e"
             ],
             [
              0.4444444444444444,
              "#bd3786"
             ],
             [
              0.5555555555555556,
              "#d8576b"
             ],
             [
              0.6666666666666666,
              "#ed7953"
             ],
             [
              0.7777777777777778,
              "#fb9f3a"
             ],
             [
              0.8888888888888888,
              "#fdca26"
             ],
             [
              1,
              "#f0f921"
             ]
            ],
            "type": "heatmapgl"
           }
          ],
          "histogram": [
           {
            "marker": {
             "colorbar": {
              "outlinewidth": 0,
              "ticks": ""
             }
            },
            "type": "histogram"
           }
          ],
          "histogram2d": [
           {
            "colorbar": {
             "outlinewidth": 0,
             "ticks": ""
            },
            "colorscale": [
             [
              0,
              "#0d0887"
             ],
             [
              0.1111111111111111,
              "#46039f"
             ],
             [
              0.2222222222222222,
              "#7201a8"
             ],
             [
              0.3333333333333333,
              "#9c179e"
             ],
             [
              0.4444444444444444,
              "#bd3786"
             ],
             [
              0.5555555555555556,
              "#d8576b"
             ],
             [
              0.6666666666666666,
              "#ed7953"
             ],
             [
              0.7777777777777778,
              "#fb9f3a"
             ],
             [
              0.8888888888888888,
              "#fdca26"
             ],
             [
              1,
              "#f0f921"
             ]
            ],
            "type": "histogram2d"
           }
          ],
          "histogram2dcontour": [
           {
            "colorbar": {
             "outlinewidth": 0,
             "ticks": ""
            },
            "colorscale": [
             [
              0,
              "#0d0887"
             ],
             [
              0.1111111111111111,
              "#46039f"
             ],
             [
              0.2222222222222222,
              "#7201a8"
             ],
             [
              0.3333333333333333,
              "#9c179e"
             ],
             [
              0.4444444444444444,
              "#bd3786"
             ],
             [
              0.5555555555555556,
              "#d8576b"
             ],
             [
              0.6666666666666666,
              "#ed7953"
             ],
             [
              0.7777777777777778,
              "#fb9f3a"
             ],
             [
              0.8888888888888888,
              "#fdca26"
             ],
             [
              1,
              "#f0f921"
             ]
            ],
            "type": "histogram2dcontour"
           }
          ],
          "mesh3d": [
           {
            "colorbar": {
             "outlinewidth": 0,
             "ticks": ""
            },
            "type": "mesh3d"
           }
          ],
          "parcoords": [
           {
            "line": {
             "colorbar": {
              "outlinewidth": 0,
              "ticks": ""
             }
            },
            "type": "parcoords"
           }
          ],
          "pie": [
           {
            "automargin": true,
            "type": "pie"
           }
          ],
          "scatter": [
           {
            "marker": {
             "colorbar": {
              "outlinewidth": 0,
              "ticks": ""
             }
            },
            "type": "scatter"
           }
          ],
          "scatter3d": [
           {
            "line": {
             "colorbar": {
              "outlinewidth": 0,
              "ticks": ""
             }
            },
            "marker": {
             "colorbar": {
              "outlinewidth": 0,
              "ticks": ""
             }
            },
            "type": "scatter3d"
           }
          ],
          "scattercarpet": [
           {
            "marker": {
             "colorbar": {
              "outlinewidth": 0,
              "ticks": ""
             }
            },
            "type": "scattercarpet"
           }
          ],
          "scattergeo": [
           {
            "marker": {
             "colorbar": {
              "outlinewidth": 0,
              "ticks": ""
             }
            },
            "type": "scattergeo"
           }
          ],
          "scattergl": [
           {
            "marker": {
             "colorbar": {
              "outlinewidth": 0,
              "ticks": ""
             }
            },
            "type": "scattergl"
           }
          ],
          "scattermapbox": [
           {
            "marker": {
             "colorbar": {
              "outlinewidth": 0,
              "ticks": ""
             }
            },
            "type": "scattermapbox"
           }
          ],
          "scatterpolar": [
           {
            "marker": {
             "colorbar": {
              "outlinewidth": 0,
              "ticks": ""
             }
            },
            "type": "scatterpolar"
           }
          ],
          "scatterpolargl": [
           {
            "marker": {
             "colorbar": {
              "outlinewidth": 0,
              "ticks": ""
             }
            },
            "type": "scatterpolargl"
           }
          ],
          "scatterternary": [
           {
            "marker": {
             "colorbar": {
              "outlinewidth": 0,
              "ticks": ""
             }
            },
            "type": "scatterternary"
           }
          ],
          "surface": [
           {
            "colorbar": {
             "outlinewidth": 0,
             "ticks": ""
            },
            "colorscale": [
             [
              0,
              "#0d0887"
             ],
             [
              0.1111111111111111,
              "#46039f"
             ],
             [
              0.2222222222222222,
              "#7201a8"
             ],
             [
              0.3333333333333333,
              "#9c179e"
             ],
             [
              0.4444444444444444,
              "#bd3786"
             ],
             [
              0.5555555555555556,
              "#d8576b"
             ],
             [
              0.6666666666666666,
              "#ed7953"
             ],
             [
              0.7777777777777778,
              "#fb9f3a"
             ],
             [
              0.8888888888888888,
              "#fdca26"
             ],
             [
              1,
              "#f0f921"
             ]
            ],
            "type": "surface"
           }
          ],
          "table": [
           {
            "cells": {
             "fill": {
              "color": "#EBF0F8"
             },
             "line": {
              "color": "white"
             }
            },
            "header": {
             "fill": {
              "color": "#C8D4E3"
             },
             "line": {
              "color": "white"
             }
            },
            "type": "table"
           }
          ]
         },
         "layout": {
          "annotationdefaults": {
           "arrowcolor": "#2a3f5f",
           "arrowhead": 0,
           "arrowwidth": 1
          },
          "coloraxis": {
           "colorbar": {
            "outlinewidth": 0,
            "ticks": ""
           }
          },
          "colorscale": {
           "diverging": [
            [
             0,
             "#8e0152"
            ],
            [
             0.1,
             "#c51b7d"
            ],
            [
             0.2,
             "#de77ae"
            ],
            [
             0.3,
             "#f1b6da"
            ],
            [
             0.4,
             "#fde0ef"
            ],
            [
             0.5,
             "#f7f7f7"
            ],
            [
             0.6,
             "#e6f5d0"
            ],
            [
             0.7,
             "#b8e186"
            ],
            [
             0.8,
             "#7fbc41"
            ],
            [
             0.9,
             "#4d9221"
            ],
            [
             1,
             "#276419"
            ]
           ],
           "sequential": [
            [
             0,
             "#0d0887"
            ],
            [
             0.1111111111111111,
             "#46039f"
            ],
            [
             0.2222222222222222,
             "#7201a8"
            ],
            [
             0.3333333333333333,
             "#9c179e"
            ],
            [
             0.4444444444444444,
             "#bd3786"
            ],
            [
             0.5555555555555556,
             "#d8576b"
            ],
            [
             0.6666666666666666,
             "#ed7953"
            ],
            [
             0.7777777777777778,
             "#fb9f3a"
            ],
            [
             0.8888888888888888,
             "#fdca26"
            ],
            [
             1,
             "#f0f921"
            ]
           ],
           "sequentialminus": [
            [
             0,
             "#0d0887"
            ],
            [
             0.1111111111111111,
             "#46039f"
            ],
            [
             0.2222222222222222,
             "#7201a8"
            ],
            [
             0.3333333333333333,
             "#9c179e"
            ],
            [
             0.4444444444444444,
             "#bd3786"
            ],
            [
             0.5555555555555556,
             "#d8576b"
            ],
            [
             0.6666666666666666,
             "#ed7953"
            ],
            [
             0.7777777777777778,
             "#fb9f3a"
            ],
            [
             0.8888888888888888,
             "#fdca26"
            ],
            [
             1,
             "#f0f921"
            ]
           ]
          },
          "colorway": [
           "#636efa",
           "#EF553B",
           "#00cc96",
           "#ab63fa",
           "#FFA15A",
           "#19d3f3",
           "#FF6692",
           "#B6E880",
           "#FF97FF",
           "#FECB52"
          ],
          "font": {
           "color": "#2a3f5f"
          },
          "geo": {
           "bgcolor": "white",
           "lakecolor": "white",
           "landcolor": "#E5ECF6",
           "showlakes": true,
           "showland": true,
           "subunitcolor": "white"
          },
          "hoverlabel": {
           "align": "left"
          },
          "hovermode": "closest",
          "mapbox": {
           "style": "light"
          },
          "paper_bgcolor": "white",
          "plot_bgcolor": "#E5ECF6",
          "polar": {
           "angularaxis": {
            "gridcolor": "white",
            "linecolor": "white",
            "ticks": ""
           },
           "bgcolor": "#E5ECF6",
           "radialaxis": {
            "gridcolor": "white",
            "linecolor": "white",
            "ticks": ""
           }
          },
          "scene": {
           "xaxis": {
            "backgroundcolor": "#E5ECF6",
            "gridcolor": "white",
            "gridwidth": 2,
            "linecolor": "white",
            "showbackground": true,
            "ticks": "",
            "zerolinecolor": "white"
           },
           "yaxis": {
            "backgroundcolor": "#E5ECF6",
            "gridcolor": "white",
            "gridwidth": 2,
            "linecolor": "white",
            "showbackground": true,
            "ticks": "",
            "zerolinecolor": "white"
           },
           "zaxis": {
            "backgroundcolor": "#E5ECF6",
            "gridcolor": "white",
            "gridwidth": 2,
            "linecolor": "white",
            "showbackground": true,
            "ticks": "",
            "zerolinecolor": "white"
           }
          },
          "shapedefaults": {
           "line": {
            "color": "#2a3f5f"
           }
          },
          "ternary": {
           "aaxis": {
            "gridcolor": "white",
            "linecolor": "white",
            "ticks": ""
           },
           "baxis": {
            "gridcolor": "white",
            "linecolor": "white",
            "ticks": ""
           },
           "bgcolor": "#E5ECF6",
           "caxis": {
            "gridcolor": "white",
            "linecolor": "white",
            "ticks": ""
           }
          },
          "title": {
           "x": 0.05
          },
          "xaxis": {
           "automargin": true,
           "gridcolor": "white",
           "linecolor": "white",
           "ticks": "",
           "title": {
            "standoff": 15
           },
           "zerolinecolor": "white",
           "zerolinewidth": 2
          },
          "yaxis": {
           "automargin": true,
           "gridcolor": "white",
           "linecolor": "white",
           "ticks": "",
           "title": {
            "standoff": 15
           },
           "zerolinecolor": "white",
           "zerolinewidth": 2
          }
         }
        },
        "title": {
         "font": {
          "color": "#4D5663"
         }
        },
        "xaxis": {
         "gridcolor": "#E1E5ED",
         "showgrid": true,
         "tickfont": {
          "color": "#4D5663"
         },
         "title": {
          "font": {
           "color": "#4D5663"
          },
          "text": ""
         },
         "zerolinecolor": "#E1E5ED"
        },
        "yaxis": {
         "gridcolor": "#E1E5ED",
         "showgrid": true,
         "tickfont": {
          "color": "#4D5663"
         },
         "title": {
          "font": {
           "color": "#4D5663"
          },
          "text": ""
         },
         "zerolinecolor": "#E1E5ED"
        }
       }
      },
      "text/html": [
       "<div>\n",
       "        \n",
       "        \n",
       "            <div id=\"36c4b63f-4ea0-4a74-8491-fc2ce21c6a9e\" class=\"plotly-graph-div\" style=\"height:525px; width:100%;\"></div>\n",
       "            <script type=\"text/javascript\">\n",
       "                require([\"plotly\"], function(Plotly) {\n",
       "                    window.PLOTLYENV=window.PLOTLYENV || {};\n",
       "                    window.PLOTLYENV.BASE_URL='https://plot.ly';\n",
       "                    \n",
       "                if (document.getElementById(\"36c4b63f-4ea0-4a74-8491-fc2ce21c6a9e\")) {\n",
       "                    Plotly.newPlot(\n",
       "                        '36c4b63f-4ea0-4a74-8491-fc2ce21c6a9e',\n",
       "                        [{\"marker\": {\"color\": \"rgba(255, 153, 51, 0.6)\", \"line\": {\"color\": \"rgba(255, 153, 51, 1.0)\", \"width\": 1}}, \"name\": \"None\", \"orientation\": \"v\", \"text\": \"\", \"type\": \"bar\", \"x\": [\"A\", \"B\", \"C\", \"D\"], \"y\": [10.976652838974198, -2.106457325624602, 10.744855626139255, -2.698114388205801]}],\n",
       "                        {\"legend\": {\"bgcolor\": \"#F5F6F9\", \"font\": {\"color\": \"#4D5663\"}}, \"paper_bgcolor\": \"#F5F6F9\", \"plot_bgcolor\": \"#F5F6F9\", \"template\": {\"data\": {\"bar\": [{\"error_x\": {\"color\": \"#2a3f5f\"}, \"error_y\": {\"color\": \"#2a3f5f\"}, \"marker\": {\"line\": {\"color\": \"#E5ECF6\", \"width\": 0.5}}, \"type\": \"bar\"}], \"barpolar\": [{\"marker\": {\"line\": {\"color\": \"#E5ECF6\", \"width\": 0.5}}, \"type\": \"barpolar\"}], \"carpet\": [{\"aaxis\": {\"endlinecolor\": \"#2a3f5f\", \"gridcolor\": \"white\", \"linecolor\": \"white\", \"minorgridcolor\": \"white\", \"startlinecolor\": \"#2a3f5f\"}, \"baxis\": {\"endlinecolor\": \"#2a3f5f\", \"gridcolor\": \"white\", \"linecolor\": \"white\", \"minorgridcolor\": \"white\", \"startlinecolor\": \"#2a3f5f\"}, \"type\": \"carpet\"}], \"choropleth\": [{\"colorbar\": {\"outlinewidth\": 0, \"ticks\": \"\"}, \"type\": \"choropleth\"}], \"contour\": [{\"colorbar\": {\"outlinewidth\": 0, \"ticks\": \"\"}, \"colorscale\": [[0.0, \"#0d0887\"], [0.1111111111111111, \"#46039f\"], [0.2222222222222222, \"#7201a8\"], [0.3333333333333333, \"#9c179e\"], [0.4444444444444444, \"#bd3786\"], [0.5555555555555556, \"#d8576b\"], [0.6666666666666666, \"#ed7953\"], [0.7777777777777778, \"#fb9f3a\"], [0.8888888888888888, \"#fdca26\"], [1.0, \"#f0f921\"]], \"type\": \"contour\"}], \"contourcarpet\": [{\"colorbar\": {\"outlinewidth\": 0, \"ticks\": \"\"}, \"type\": \"contourcarpet\"}], \"heatmap\": [{\"colorbar\": {\"outlinewidth\": 0, \"ticks\": \"\"}, \"colorscale\": [[0.0, \"#0d0887\"], [0.1111111111111111, \"#46039f\"], [0.2222222222222222, \"#7201a8\"], [0.3333333333333333, \"#9c179e\"], [0.4444444444444444, \"#bd3786\"], [0.5555555555555556, \"#d8576b\"], [0.6666666666666666, \"#ed7953\"], [0.7777777777777778, \"#fb9f3a\"], [0.8888888888888888, \"#fdca26\"], [1.0, \"#f0f921\"]], \"type\": \"heatmap\"}], \"heatmapgl\": [{\"colorbar\": {\"outlinewidth\": 0, \"ticks\": \"\"}, \"colorscale\": [[0.0, \"#0d0887\"], [0.1111111111111111, \"#46039f\"], [0.2222222222222222, \"#7201a8\"], [0.3333333333333333, \"#9c179e\"], [0.4444444444444444, \"#bd3786\"], [0.5555555555555556, \"#d8576b\"], [0.6666666666666666, \"#ed7953\"], [0.7777777777777778, \"#fb9f3a\"], [0.8888888888888888, \"#fdca26\"], [1.0, \"#f0f921\"]], \"type\": \"heatmapgl\"}], \"histogram\": [{\"marker\": {\"colorbar\": {\"outlinewidth\": 0, \"ticks\": \"\"}}, \"type\": \"histogram\"}], \"histogram2d\": [{\"colorbar\": {\"outlinewidth\": 0, \"ticks\": \"\"}, \"colorscale\": [[0.0, \"#0d0887\"], [0.1111111111111111, \"#46039f\"], [0.2222222222222222, \"#7201a8\"], [0.3333333333333333, \"#9c179e\"], [0.4444444444444444, \"#bd3786\"], [0.5555555555555556, \"#d8576b\"], [0.6666666666666666, \"#ed7953\"], [0.7777777777777778, \"#fb9f3a\"], [0.8888888888888888, \"#fdca26\"], [1.0, \"#f0f921\"]], \"type\": \"histogram2d\"}], \"histogram2dcontour\": [{\"colorbar\": {\"outlinewidth\": 0, \"ticks\": \"\"}, \"colorscale\": [[0.0, \"#0d0887\"], [0.1111111111111111, \"#46039f\"], [0.2222222222222222, \"#7201a8\"], [0.3333333333333333, \"#9c179e\"], [0.4444444444444444, \"#bd3786\"], [0.5555555555555556, \"#d8576b\"], [0.6666666666666666, \"#ed7953\"], [0.7777777777777778, \"#fb9f3a\"], [0.8888888888888888, \"#fdca26\"], [1.0, \"#f0f921\"]], \"type\": \"histogram2dcontour\"}], \"mesh3d\": [{\"colorbar\": {\"outlinewidth\": 0, \"ticks\": \"\"}, \"type\": \"mesh3d\"}], \"parcoords\": [{\"line\": {\"colorbar\": {\"outlinewidth\": 0, \"ticks\": \"\"}}, \"type\": \"parcoords\"}], \"pie\": [{\"automargin\": true, \"type\": \"pie\"}], \"scatter\": [{\"marker\": {\"colorbar\": {\"outlinewidth\": 0, \"ticks\": \"\"}}, \"type\": \"scatter\"}], \"scatter3d\": [{\"line\": {\"colorbar\": {\"outlinewidth\": 0, \"ticks\": \"\"}}, \"marker\": {\"colorbar\": {\"outlinewidth\": 0, \"ticks\": \"\"}}, \"type\": \"scatter3d\"}], \"scattercarpet\": [{\"marker\": {\"colorbar\": {\"outlinewidth\": 0, \"ticks\": \"\"}}, \"type\": \"scattercarpet\"}], \"scattergeo\": [{\"marker\": {\"colorbar\": {\"outlinewidth\": 0, \"ticks\": \"\"}}, \"type\": \"scattergeo\"}], \"scattergl\": [{\"marker\": {\"colorbar\": {\"outlinewidth\": 0, \"ticks\": \"\"}}, \"type\": \"scattergl\"}], \"scattermapbox\": [{\"marker\": {\"colorbar\": {\"outlinewidth\": 0, \"ticks\": \"\"}}, \"type\": \"scattermapbox\"}], \"scatterpolar\": [{\"marker\": {\"colorbar\": {\"outlinewidth\": 0, \"ticks\": \"\"}}, \"type\": \"scatterpolar\"}], \"scatterpolargl\": [{\"marker\": {\"colorbar\": {\"outlinewidth\": 0, \"ticks\": \"\"}}, \"type\": \"scatterpolargl\"}], \"scatterternary\": [{\"marker\": {\"colorbar\": {\"outlinewidth\": 0, \"ticks\": \"\"}}, \"type\": \"scatterternary\"}], \"surface\": [{\"colorbar\": {\"outlinewidth\": 0, \"ticks\": \"\"}, \"colorscale\": [[0.0, \"#0d0887\"], [0.1111111111111111, \"#46039f\"], [0.2222222222222222, \"#7201a8\"], [0.3333333333333333, \"#9c179e\"], [0.4444444444444444, \"#bd3786\"], [0.5555555555555556, \"#d8576b\"], [0.6666666666666666, \"#ed7953\"], [0.7777777777777778, \"#fb9f3a\"], [0.8888888888888888, \"#fdca26\"], [1.0, \"#f0f921\"]], \"type\": \"surface\"}], \"table\": [{\"cells\": {\"fill\": {\"color\": \"#EBF0F8\"}, \"line\": {\"color\": \"white\"}}, \"header\": {\"fill\": {\"color\": \"#C8D4E3\"}, \"line\": {\"color\": \"white\"}}, \"type\": \"table\"}]}, \"layout\": {\"annotationdefaults\": {\"arrowcolor\": \"#2a3f5f\", \"arrowhead\": 0, \"arrowwidth\": 1}, \"coloraxis\": {\"colorbar\": {\"outlinewidth\": 0, \"ticks\": \"\"}}, \"colorscale\": {\"diverging\": [[0, \"#8e0152\"], [0.1, \"#c51b7d\"], [0.2, \"#de77ae\"], [0.3, \"#f1b6da\"], [0.4, \"#fde0ef\"], [0.5, \"#f7f7f7\"], [0.6, \"#e6f5d0\"], [0.7, \"#b8e186\"], [0.8, \"#7fbc41\"], [0.9, \"#4d9221\"], [1, \"#276419\"]], \"sequential\": [[0.0, \"#0d0887\"], [0.1111111111111111, \"#46039f\"], [0.2222222222222222, \"#7201a8\"], [0.3333333333333333, \"#9c179e\"], [0.4444444444444444, \"#bd3786\"], [0.5555555555555556, \"#d8576b\"], [0.6666666666666666, \"#ed7953\"], [0.7777777777777778, \"#fb9f3a\"], [0.8888888888888888, \"#fdca26\"], [1.0, \"#f0f921\"]], \"sequentialminus\": [[0.0, \"#0d0887\"], [0.1111111111111111, \"#46039f\"], [0.2222222222222222, \"#7201a8\"], [0.3333333333333333, \"#9c179e\"], [0.4444444444444444, \"#bd3786\"], [0.5555555555555556, \"#d8576b\"], [0.6666666666666666, \"#ed7953\"], [0.7777777777777778, \"#fb9f3a\"], [0.8888888888888888, \"#fdca26\"], [1.0, \"#f0f921\"]]}, \"colorway\": [\"#636efa\", \"#EF553B\", \"#00cc96\", \"#ab63fa\", \"#FFA15A\", \"#19d3f3\", \"#FF6692\", \"#B6E880\", \"#FF97FF\", \"#FECB52\"], \"font\": {\"color\": \"#2a3f5f\"}, \"geo\": {\"bgcolor\": \"white\", \"lakecolor\": \"white\", \"landcolor\": \"#E5ECF6\", \"showlakes\": true, \"showland\": true, \"subunitcolor\": \"white\"}, \"hoverlabel\": {\"align\": \"left\"}, \"hovermode\": \"closest\", \"mapbox\": {\"style\": \"light\"}, \"paper_bgcolor\": \"white\", \"plot_bgcolor\": \"#E5ECF6\", \"polar\": {\"angularaxis\": {\"gridcolor\": \"white\", \"linecolor\": \"white\", \"ticks\": \"\"}, \"bgcolor\": \"#E5ECF6\", \"radialaxis\": {\"gridcolor\": \"white\", \"linecolor\": \"white\", \"ticks\": \"\"}}, \"scene\": {\"xaxis\": {\"backgroundcolor\": \"#E5ECF6\", \"gridcolor\": \"white\", \"gridwidth\": 2, \"linecolor\": \"white\", \"showbackground\": true, \"ticks\": \"\", \"zerolinecolor\": \"white\"}, \"yaxis\": {\"backgroundcolor\": \"#E5ECF6\", \"gridcolor\": \"white\", \"gridwidth\": 2, \"linecolor\": \"white\", \"showbackground\": true, \"ticks\": \"\", \"zerolinecolor\": \"white\"}, \"zaxis\": {\"backgroundcolor\": \"#E5ECF6\", \"gridcolor\": \"white\", \"gridwidth\": 2, \"linecolor\": \"white\", \"showbackground\": true, \"ticks\": \"\", \"zerolinecolor\": \"white\"}}, \"shapedefaults\": {\"line\": {\"color\": \"#2a3f5f\"}}, \"ternary\": {\"aaxis\": {\"gridcolor\": \"white\", \"linecolor\": \"white\", \"ticks\": \"\"}, \"baxis\": {\"gridcolor\": \"white\", \"linecolor\": \"white\", \"ticks\": \"\"}, \"bgcolor\": \"#E5ECF6\", \"caxis\": {\"gridcolor\": \"white\", \"linecolor\": \"white\", \"ticks\": \"\"}}, \"title\": {\"x\": 0.05}, \"xaxis\": {\"automargin\": true, \"gridcolor\": \"white\", \"linecolor\": \"white\", \"ticks\": \"\", \"title\": {\"standoff\": 15}, \"zerolinecolor\": \"white\", \"zerolinewidth\": 2}, \"yaxis\": {\"automargin\": true, \"gridcolor\": \"white\", \"linecolor\": \"white\", \"ticks\": \"\", \"title\": {\"standoff\": 15}, \"zerolinecolor\": \"white\", \"zerolinewidth\": 2}}}, \"title\": {\"font\": {\"color\": \"#4D5663\"}}, \"xaxis\": {\"gridcolor\": \"#E1E5ED\", \"showgrid\": true, \"tickfont\": {\"color\": \"#4D5663\"}, \"title\": {\"font\": {\"color\": \"#4D5663\"}, \"text\": \"\"}, \"zerolinecolor\": \"#E1E5ED\"}, \"yaxis\": {\"gridcolor\": \"#E1E5ED\", \"showgrid\": true, \"tickfont\": {\"color\": \"#4D5663\"}, \"title\": {\"font\": {\"color\": \"#4D5663\"}, \"text\": \"\"}, \"zerolinecolor\": \"#E1E5ED\"}},\n",
       "                        {\"showLink\": true, \"linkText\": \"Export to plot.ly\", \"plotlyServerURL\": \"https://plot.ly\", \"responsive\": true}\n",
       "                    ).then(function(){\n",
       "                            \n",
       "var gd = document.getElementById('36c4b63f-4ea0-4a74-8491-fc2ce21c6a9e');\n",
       "var x = new MutationObserver(function (mutations, observer) {{\n",
       "        var display = window.getComputedStyle(gd).display;\n",
       "        if (!display || display === 'none') {{\n",
       "            console.log([gd, 'removed!']);\n",
       "            Plotly.purge(gd);\n",
       "            observer.disconnect();\n",
       "        }}\n",
       "}});\n",
       "\n",
       "// Listen for the removal of the full notebook cells\n",
       "var notebookContainer = gd.closest('#notebook-container');\n",
       "if (notebookContainer) {{\n",
       "    x.observe(notebookContainer, {childList: true});\n",
       "}}\n",
       "\n",
       "// Listen for the clearing of the current output cell\n",
       "var outputEl = gd.closest('.output');\n",
       "if (outputEl) {{\n",
       "    x.observe(outputEl, {childList: true});\n",
       "}}\n",
       "\n",
       "                        })\n",
       "                };\n",
       "                });\n",
       "            </script>\n",
       "        </div>"
      ]
     },
     "metadata": {},
     "output_type": "display_data"
    }
   ],
   "source": [
    "df.sum().iplot(kind=\"bar\")"
   ]
  },
  {
   "cell_type": "code",
   "execution_count": 31,
   "metadata": {},
   "outputs": [],
   "source": [
    "# 3d surface plot"
   ]
  },
  {
   "cell_type": "code",
   "execution_count": 44,
   "metadata": {},
   "outputs": [],
   "source": [
    "df3 = pd.DataFrame({\n",
    "    'x': [1,2,3,4,5],\n",
    "    'y': [10,20,30,30,40],\n",
    "    'z': [3330,2200,2300,3200,42200]\n",
    "})"
   ]
  },
  {
   "cell_type": "code",
   "execution_count": 45,
   "metadata": {},
   "outputs": [
    {
     "data": {
      "text/html": [
       "<div>\n",
       "<style scoped>\n",
       "    .dataframe tbody tr th:only-of-type {\n",
       "        vertical-align: middle;\n",
       "    }\n",
       "\n",
       "    .dataframe tbody tr th {\n",
       "        vertical-align: top;\n",
       "    }\n",
       "\n",
       "    .dataframe thead th {\n",
       "        text-align: right;\n",
       "    }\n",
       "</style>\n",
       "<table border=\"1\" class=\"dataframe\">\n",
       "  <thead>\n",
       "    <tr style=\"text-align: right;\">\n",
       "      <th></th>\n",
       "      <th>x</th>\n",
       "      <th>y</th>\n",
       "      <th>z</th>\n",
       "    </tr>\n",
       "  </thead>\n",
       "  <tbody>\n",
       "    <tr>\n",
       "      <th>0</th>\n",
       "      <td>1</td>\n",
       "      <td>10</td>\n",
       "      <td>3330</td>\n",
       "    </tr>\n",
       "    <tr>\n",
       "      <th>1</th>\n",
       "      <td>2</td>\n",
       "      <td>20</td>\n",
       "      <td>2200</td>\n",
       "    </tr>\n",
       "    <tr>\n",
       "      <th>2</th>\n",
       "      <td>3</td>\n",
       "      <td>30</td>\n",
       "      <td>2300</td>\n",
       "    </tr>\n",
       "    <tr>\n",
       "      <th>3</th>\n",
       "      <td>4</td>\n",
       "      <td>30</td>\n",
       "      <td>3200</td>\n",
       "    </tr>\n",
       "    <tr>\n",
       "      <th>4</th>\n",
       "      <td>5</td>\n",
       "      <td>40</td>\n",
       "      <td>42200</td>\n",
       "    </tr>\n",
       "  </tbody>\n",
       "</table>\n",
       "</div>"
      ],
      "text/plain": [
       "   x   y      z\n",
       "0  1  10   3330\n",
       "1  2  20   2200\n",
       "2  3  30   2300\n",
       "3  4  30   3200\n",
       "4  5  40  42200"
      ]
     },
     "execution_count": 45,
     "metadata": {},
     "output_type": "execute_result"
    }
   ],
   "source": [
    "df3"
   ]
  },
  {
   "cell_type": "code",
   "execution_count": 46,
   "metadata": {},
   "outputs": [
    {
     "data": {
      "application/vnd.plotly.v1+json": {
       "config": {
        "linkText": "Export to plot.ly",
        "plotlyServerURL": "https://plot.ly",
        "showLink": true
       },
       "data": [
        {
         "colorscale": [
          [
           0,
           "rgb(255, 153, 51)"
          ],
          [
           0.1111111111111111,
           "rgb(55, 128, 191)"
          ],
          [
           0.2222222222222222,
           "rgb(50, 171, 96)"
          ],
          [
           0.3333333333333333,
           "rgb(128, 0, 128)"
          ],
          [
           0.4444444444444444,
           "rgb(219, 64, 82)"
          ],
          [
           0.5555555555555556,
           "rgb(0, 128, 128)"
          ],
          [
           0.6666666666666666,
           "rgb(255, 255, 51)"
          ],
          [
           0.7777777777777778,
           "rgb(128, 128, 0)"
          ],
          [
           0.8888888888888888,
           "rgb(251, 128, 114)"
          ],
          [
           1,
           "rgb(128, 177, 211)"
          ]
         ],
         "type": "surface",
         "x": [
          0,
          1,
          2,
          3,
          4
         ],
         "y": [
          "x",
          "y",
          "z"
         ],
         "z": [
          [
           1,
           2,
           3,
           4,
           5
          ],
          [
           10,
           20,
           30,
           30,
           40
          ],
          [
           3330,
           2200,
           2300,
           3200,
           42200
          ]
         ]
        }
       ],
       "layout": {
        "legend": {
         "bgcolor": "#F5F6F9",
         "font": {
          "color": "#4D5663"
         }
        },
        "paper_bgcolor": "#F5F6F9",
        "plot_bgcolor": "#F5F6F9",
        "template": {
         "data": {
          "bar": [
           {
            "error_x": {
             "color": "#2a3f5f"
            },
            "error_y": {
             "color": "#2a3f5f"
            },
            "marker": {
             "line": {
              "color": "#E5ECF6",
              "width": 0.5
             }
            },
            "type": "bar"
           }
          ],
          "barpolar": [
           {
            "marker": {
             "line": {
              "color": "#E5ECF6",
              "width": 0.5
             }
            },
            "type": "barpolar"
           }
          ],
          "carpet": [
           {
            "aaxis": {
             "endlinecolor": "#2a3f5f",
             "gridcolor": "white",
             "linecolor": "white",
             "minorgridcolor": "white",
             "startlinecolor": "#2a3f5f"
            },
            "baxis": {
             "endlinecolor": "#2a3f5f",
             "gridcolor": "white",
             "linecolor": "white",
             "minorgridcolor": "white",
             "startlinecolor": "#2a3f5f"
            },
            "type": "carpet"
           }
          ],
          "choropleth": [
           {
            "colorbar": {
             "outlinewidth": 0,
             "ticks": ""
            },
            "type": "choropleth"
           }
          ],
          "contour": [
           {
            "colorbar": {
             "outlinewidth": 0,
             "ticks": ""
            },
            "colorscale": [
             [
              0,
              "#0d0887"
             ],
             [
              0.1111111111111111,
              "#46039f"
             ],
             [
              0.2222222222222222,
              "#7201a8"
             ],
             [
              0.3333333333333333,
              "#9c179e"
             ],
             [
              0.4444444444444444,
              "#bd3786"
             ],
             [
              0.5555555555555556,
              "#d8576b"
             ],
             [
              0.6666666666666666,
              "#ed7953"
             ],
             [
              0.7777777777777778,
              "#fb9f3a"
             ],
             [
              0.8888888888888888,
              "#fdca26"
             ],
             [
              1,
              "#f0f921"
             ]
            ],
            "type": "contour"
           }
          ],
          "contourcarpet": [
           {
            "colorbar": {
             "outlinewidth": 0,
             "ticks": ""
            },
            "type": "contourcarpet"
           }
          ],
          "heatmap": [
           {
            "colorbar": {
             "outlinewidth": 0,
             "ticks": ""
            },
            "colorscale": [
             [
              0,
              "#0d0887"
             ],
             [
              0.1111111111111111,
              "#46039f"
             ],
             [
              0.2222222222222222,
              "#7201a8"
             ],
             [
              0.3333333333333333,
              "#9c179e"
             ],
             [
              0.4444444444444444,
              "#bd3786"
             ],
             [
              0.5555555555555556,
              "#d8576b"
             ],
             [
              0.6666666666666666,
              "#ed7953"
             ],
             [
              0.7777777777777778,
              "#fb9f3a"
             ],
             [
              0.8888888888888888,
              "#fdca26"
             ],
             [
              1,
              "#f0f921"
             ]
            ],
            "type": "heatmap"
           }
          ],
          "heatmapgl": [
           {
            "colorbar": {
             "outlinewidth": 0,
             "ticks": ""
            },
            "colorscale": [
             [
              0,
              "#0d0887"
             ],
             [
              0.1111111111111111,
              "#46039f"
             ],
             [
              0.2222222222222222,
              "#7201a8"
             ],
             [
              0.3333333333333333,
              "#9c179e"
             ],
             [
              0.4444444444444444,
              "#bd3786"
             ],
             [
              0.5555555555555556,
              "#d8576b"
             ],
             [
              0.6666666666666666,
              "#ed7953"
             ],
             [
              0.7777777777777778,
              "#fb9f3a"
             ],
             [
              0.8888888888888888,
              "#fdca26"
             ],
             [
              1,
              "#f0f921"
             ]
            ],
            "type": "heatmapgl"
           }
          ],
          "histogram": [
           {
            "marker": {
             "colorbar": {
              "outlinewidth": 0,
              "ticks": ""
             }
            },
            "type": "histogram"
           }
          ],
          "histogram2d": [
           {
            "colorbar": {
             "outlinewidth": 0,
             "ticks": ""
            },
            "colorscale": [
             [
              0,
              "#0d0887"
             ],
             [
              0.1111111111111111,
              "#46039f"
             ],
             [
              0.2222222222222222,
              "#7201a8"
             ],
             [
              0.3333333333333333,
              "#9c179e"
             ],
             [
              0.4444444444444444,
              "#bd3786"
             ],
             [
              0.5555555555555556,
              "#d8576b"
             ],
             [
              0.6666666666666666,
              "#ed7953"
             ],
             [
              0.7777777777777778,
              "#fb9f3a"
             ],
             [
              0.8888888888888888,
              "#fdca26"
             ],
             [
              1,
              "#f0f921"
             ]
            ],
            "type": "histogram2d"
           }
          ],
          "histogram2dcontour": [
           {
            "colorbar": {
             "outlinewidth": 0,
             "ticks": ""
            },
            "colorscale": [
             [
              0,
              "#0d0887"
             ],
             [
              0.1111111111111111,
              "#46039f"
             ],
             [
              0.2222222222222222,
              "#7201a8"
             ],
             [
              0.3333333333333333,
              "#9c179e"
             ],
             [
              0.4444444444444444,
              "#bd3786"
             ],
             [
              0.5555555555555556,
              "#d8576b"
             ],
             [
              0.6666666666666666,
              "#ed7953"
             ],
             [
              0.7777777777777778,
              "#fb9f3a"
             ],
             [
              0.8888888888888888,
              "#fdca26"
             ],
             [
              1,
              "#f0f921"
             ]
            ],
            "type": "histogram2dcontour"
           }
          ],
          "mesh3d": [
           {
            "colorbar": {
             "outlinewidth": 0,
             "ticks": ""
            },
            "type": "mesh3d"
           }
          ],
          "parcoords": [
           {
            "line": {
             "colorbar": {
              "outlinewidth": 0,
              "ticks": ""
             }
            },
            "type": "parcoords"
           }
          ],
          "pie": [
           {
            "automargin": true,
            "type": "pie"
           }
          ],
          "scatter": [
           {
            "marker": {
             "colorbar": {
              "outlinewidth": 0,
              "ticks": ""
             }
            },
            "type": "scatter"
           }
          ],
          "scatter3d": [
           {
            "line": {
             "colorbar": {
              "outlinewidth": 0,
              "ticks": ""
             }
            },
            "marker": {
             "colorbar": {
              "outlinewidth": 0,
              "ticks": ""
             }
            },
            "type": "scatter3d"
           }
          ],
          "scattercarpet": [
           {
            "marker": {
             "colorbar": {
              "outlinewidth": 0,
              "ticks": ""
             }
            },
            "type": "scattercarpet"
           }
          ],
          "scattergeo": [
           {
            "marker": {
             "colorbar": {
              "outlinewidth": 0,
              "ticks": ""
             }
            },
            "type": "scattergeo"
           }
          ],
          "scattergl": [
           {
            "marker": {
             "colorbar": {
              "outlinewidth": 0,
              "ticks": ""
             }
            },
            "type": "scattergl"
           }
          ],
          "scattermapbox": [
           {
            "marker": {
             "colorbar": {
              "outlinewidth": 0,
              "ticks": ""
             }
            },
            "type": "scattermapbox"
           }
          ],
          "scatterpolar": [
           {
            "marker": {
             "colorbar": {
              "outlinewidth": 0,
              "ticks": ""
             }
            },
            "type": "scatterpolar"
           }
          ],
          "scatterpolargl": [
           {
            "marker": {
             "colorbar": {
              "outlinewidth": 0,
              "ticks": ""
             }
            },
            "type": "scatterpolargl"
           }
          ],
          "scatterternary": [
           {
            "marker": {
             "colorbar": {
              "outlinewidth": 0,
              "ticks": ""
             }
            },
            "type": "scatterternary"
           }
          ],
          "surface": [
           {
            "colorbar": {
             "outlinewidth": 0,
             "ticks": ""
            },
            "colorscale": [
             [
              0,
              "#0d0887"
             ],
             [
              0.1111111111111111,
              "#46039f"
             ],
             [
              0.2222222222222222,
              "#7201a8"
             ],
             [
              0.3333333333333333,
              "#9c179e"
             ],
             [
              0.4444444444444444,
              "#bd3786"
             ],
             [
              0.5555555555555556,
              "#d8576b"
             ],
             [
              0.6666666666666666,
              "#ed7953"
             ],
             [
              0.7777777777777778,
              "#fb9f3a"
             ],
             [
              0.8888888888888888,
              "#fdca26"
             ],
             [
              1,
              "#f0f921"
             ]
            ],
            "type": "surface"
           }
          ],
          "table": [
           {
            "cells": {
             "fill": {
              "color": "#EBF0F8"
             },
             "line": {
              "color": "white"
             }
            },
            "header": {
             "fill": {
              "color": "#C8D4E3"
             },
             "line": {
              "color": "white"
             }
            },
            "type": "table"
           }
          ]
         },
         "layout": {
          "annotationdefaults": {
           "arrowcolor": "#2a3f5f",
           "arrowhead": 0,
           "arrowwidth": 1
          },
          "coloraxis": {
           "colorbar": {
            "outlinewidth": 0,
            "ticks": ""
           }
          },
          "colorscale": {
           "diverging": [
            [
             0,
             "#8e0152"
            ],
            [
             0.1,
             "#c51b7d"
            ],
            [
             0.2,
             "#de77ae"
            ],
            [
             0.3,
             "#f1b6da"
            ],
            [
             0.4,
             "#fde0ef"
            ],
            [
             0.5,
             "#f7f7f7"
            ],
            [
             0.6,
             "#e6f5d0"
            ],
            [
             0.7,
             "#b8e186"
            ],
            [
             0.8,
             "#7fbc41"
            ],
            [
             0.9,
             "#4d9221"
            ],
            [
             1,
             "#276419"
            ]
           ],
           "sequential": [
            [
             0,
             "#0d0887"
            ],
            [
             0.1111111111111111,
             "#46039f"
            ],
            [
             0.2222222222222222,
             "#7201a8"
            ],
            [
             0.3333333333333333,
             "#9c179e"
            ],
            [
             0.4444444444444444,
             "#bd3786"
            ],
            [
             0.5555555555555556,
             "#d8576b"
            ],
            [
             0.6666666666666666,
             "#ed7953"
            ],
            [
             0.7777777777777778,
             "#fb9f3a"
            ],
            [
             0.8888888888888888,
             "#fdca26"
            ],
            [
             1,
             "#f0f921"
            ]
           ],
           "sequentialminus": [
            [
             0,
             "#0d0887"
            ],
            [
             0.1111111111111111,
             "#46039f"
            ],
            [
             0.2222222222222222,
             "#7201a8"
            ],
            [
             0.3333333333333333,
             "#9c179e"
            ],
            [
             0.4444444444444444,
             "#bd3786"
            ],
            [
             0.5555555555555556,
             "#d8576b"
            ],
            [
             0.6666666666666666,
             "#ed7953"
            ],
            [
             0.7777777777777778,
             "#fb9f3a"
            ],
            [
             0.8888888888888888,
             "#fdca26"
            ],
            [
             1,
             "#f0f921"
            ]
           ]
          },
          "colorway": [
           "#636efa",
           "#EF553B",
           "#00cc96",
           "#ab63fa",
           "#FFA15A",
           "#19d3f3",
           "#FF6692",
           "#B6E880",
           "#FF97FF",
           "#FECB52"
          ],
          "font": {
           "color": "#2a3f5f"
          },
          "geo": {
           "bgcolor": "white",
           "lakecolor": "white",
           "landcolor": "#E5ECF6",
           "showlakes": true,
           "showland": true,
           "subunitcolor": "white"
          },
          "hoverlabel": {
           "align": "left"
          },
          "hovermode": "closest",
          "mapbox": {
           "style": "light"
          },
          "paper_bgcolor": "white",
          "plot_bgcolor": "#E5ECF6",
          "polar": {
           "angularaxis": {
            "gridcolor": "white",
            "linecolor": "white",
            "ticks": ""
           },
           "bgcolor": "#E5ECF6",
           "radialaxis": {
            "gridcolor": "white",
            "linecolor": "white",
            "ticks": ""
           }
          },
          "scene": {
           "xaxis": {
            "backgroundcolor": "#E5ECF6",
            "gridcolor": "white",
            "gridwidth": 2,
            "linecolor": "white",
            "showbackground": true,
            "ticks": "",
            "zerolinecolor": "white"
           },
           "yaxis": {
            "backgroundcolor": "#E5ECF6",
            "gridcolor": "white",
            "gridwidth": 2,
            "linecolor": "white",
            "showbackground": true,
            "ticks": "",
            "zerolinecolor": "white"
           },
           "zaxis": {
            "backgroundcolor": "#E5ECF6",
            "gridcolor": "white",
            "gridwidth": 2,
            "linecolor": "white",
            "showbackground": true,
            "ticks": "",
            "zerolinecolor": "white"
           }
          },
          "shapedefaults": {
           "line": {
            "color": "#2a3f5f"
           }
          },
          "ternary": {
           "aaxis": {
            "gridcolor": "white",
            "linecolor": "white",
            "ticks": ""
           },
           "baxis": {
            "gridcolor": "white",
            "linecolor": "white",
            "ticks": ""
           },
           "bgcolor": "#E5ECF6",
           "caxis": {
            "gridcolor": "white",
            "linecolor": "white",
            "ticks": ""
           }
          },
          "title": {
           "x": 0.05
          },
          "xaxis": {
           "automargin": true,
           "gridcolor": "white",
           "linecolor": "white",
           "ticks": "",
           "title": {
            "standoff": 15
           },
           "zerolinecolor": "white",
           "zerolinewidth": 2
          },
          "yaxis": {
           "automargin": true,
           "gridcolor": "white",
           "linecolor": "white",
           "ticks": "",
           "title": {
            "standoff": 15
           },
           "zerolinecolor": "white",
           "zerolinewidth": 2
          }
         }
        },
        "title": {
         "font": {
          "color": "#4D5663"
         }
        },
        "xaxis": {
         "gridcolor": "#E1E5ED",
         "showgrid": true,
         "tickfont": {
          "color": "#4D5663"
         },
         "title": {
          "font": {
           "color": "#4D5663"
          },
          "text": ""
         },
         "zerolinecolor": "#E1E5ED"
        },
        "yaxis": {
         "gridcolor": "#E1E5ED",
         "showgrid": true,
         "tickfont": {
          "color": "#4D5663"
         },
         "title": {
          "font": {
           "color": "#4D5663"
          },
          "text": ""
         },
         "zerolinecolor": "#E1E5ED"
        }
       }
      },
      "text/html": [
       "<div>\n",
       "        \n",
       "        \n",
       "            <div id=\"268cb7ee-cea0-4f05-bedb-7ce2ef2814a6\" class=\"plotly-graph-div\" style=\"height:525px; width:100%;\"></div>\n",
       "            <script type=\"text/javascript\">\n",
       "                require([\"plotly\"], function(Plotly) {\n",
       "                    window.PLOTLYENV=window.PLOTLYENV || {};\n",
       "                    window.PLOTLYENV.BASE_URL='https://plot.ly';\n",
       "                    \n",
       "                if (document.getElementById(\"268cb7ee-cea0-4f05-bedb-7ce2ef2814a6\")) {\n",
       "                    Plotly.newPlot(\n",
       "                        '268cb7ee-cea0-4f05-bedb-7ce2ef2814a6',\n",
       "                        [{\"colorscale\": [[0.0, \"rgb(255, 153, 51)\"], [0.1111111111111111, \"rgb(55, 128, 191)\"], [0.2222222222222222, \"rgb(50, 171, 96)\"], [0.3333333333333333, \"rgb(128, 0, 128)\"], [0.4444444444444444, \"rgb(219, 64, 82)\"], [0.5555555555555556, \"rgb(0, 128, 128)\"], [0.6666666666666666, \"rgb(255, 255, 51)\"], [0.7777777777777778, \"rgb(128, 128, 0)\"], [0.8888888888888888, \"rgb(251, 128, 114)\"], [1.0, \"rgb(128, 177, 211)\"]], \"type\": \"surface\", \"x\": [0, 1, 2, 3, 4], \"y\": [\"x\", \"y\", \"z\"], \"z\": [[1, 2, 3, 4, 5], [10, 20, 30, 30, 40], [3330, 2200, 2300, 3200, 42200]]}],\n",
       "                        {\"legend\": {\"bgcolor\": \"#F5F6F9\", \"font\": {\"color\": \"#4D5663\"}}, \"paper_bgcolor\": \"#F5F6F9\", \"plot_bgcolor\": \"#F5F6F9\", \"template\": {\"data\": {\"bar\": [{\"error_x\": {\"color\": \"#2a3f5f\"}, \"error_y\": {\"color\": \"#2a3f5f\"}, \"marker\": {\"line\": {\"color\": \"#E5ECF6\", \"width\": 0.5}}, \"type\": \"bar\"}], \"barpolar\": [{\"marker\": {\"line\": {\"color\": \"#E5ECF6\", \"width\": 0.5}}, \"type\": \"barpolar\"}], \"carpet\": [{\"aaxis\": {\"endlinecolor\": \"#2a3f5f\", \"gridcolor\": \"white\", \"linecolor\": \"white\", \"minorgridcolor\": \"white\", \"startlinecolor\": \"#2a3f5f\"}, \"baxis\": {\"endlinecolor\": \"#2a3f5f\", \"gridcolor\": \"white\", \"linecolor\": \"white\", \"minorgridcolor\": \"white\", \"startlinecolor\": \"#2a3f5f\"}, \"type\": \"carpet\"}], \"choropleth\": [{\"colorbar\": {\"outlinewidth\": 0, \"ticks\": \"\"}, \"type\": \"choropleth\"}], \"contour\": [{\"colorbar\": {\"outlinewidth\": 0, \"ticks\": \"\"}, \"colorscale\": [[0.0, \"#0d0887\"], [0.1111111111111111, \"#46039f\"], [0.2222222222222222, \"#7201a8\"], [0.3333333333333333, \"#9c179e\"], [0.4444444444444444, \"#bd3786\"], [0.5555555555555556, \"#d8576b\"], [0.6666666666666666, \"#ed7953\"], [0.7777777777777778, \"#fb9f3a\"], [0.8888888888888888, \"#fdca26\"], [1.0, \"#f0f921\"]], \"type\": \"contour\"}], \"contourcarpet\": [{\"colorbar\": {\"outlinewidth\": 0, \"ticks\": \"\"}, \"type\": \"contourcarpet\"}], \"heatmap\": [{\"colorbar\": {\"outlinewidth\": 0, \"ticks\": \"\"}, \"colorscale\": [[0.0, \"#0d0887\"], [0.1111111111111111, \"#46039f\"], [0.2222222222222222, \"#7201a8\"], [0.3333333333333333, \"#9c179e\"], [0.4444444444444444, \"#bd3786\"], [0.5555555555555556, \"#d8576b\"], [0.6666666666666666, \"#ed7953\"], [0.7777777777777778, \"#fb9f3a\"], [0.8888888888888888, \"#fdca26\"], [1.0, \"#f0f921\"]], \"type\": \"heatmap\"}], \"heatmapgl\": [{\"colorbar\": {\"outlinewidth\": 0, \"ticks\": \"\"}, \"colorscale\": [[0.0, \"#0d0887\"], [0.1111111111111111, \"#46039f\"], [0.2222222222222222, \"#7201a8\"], [0.3333333333333333, \"#9c179e\"], [0.4444444444444444, \"#bd3786\"], [0.5555555555555556, \"#d8576b\"], [0.6666666666666666, \"#ed7953\"], [0.7777777777777778, \"#fb9f3a\"], [0.8888888888888888, \"#fdca26\"], [1.0, \"#f0f921\"]], \"type\": \"heatmapgl\"}], \"histogram\": [{\"marker\": {\"colorbar\": {\"outlinewidth\": 0, \"ticks\": \"\"}}, \"type\": \"histogram\"}], \"histogram2d\": [{\"colorbar\": {\"outlinewidth\": 0, \"ticks\": \"\"}, \"colorscale\": [[0.0, \"#0d0887\"], [0.1111111111111111, \"#46039f\"], [0.2222222222222222, \"#7201a8\"], [0.3333333333333333, \"#9c179e\"], [0.4444444444444444, \"#bd3786\"], [0.5555555555555556, \"#d8576b\"], [0.6666666666666666, \"#ed7953\"], [0.7777777777777778, \"#fb9f3a\"], [0.8888888888888888, \"#fdca26\"], [1.0, \"#f0f921\"]], \"type\": \"histogram2d\"}], \"histogram2dcontour\": [{\"colorbar\": {\"outlinewidth\": 0, \"ticks\": \"\"}, \"colorscale\": [[0.0, \"#0d0887\"], [0.1111111111111111, \"#46039f\"], [0.2222222222222222, \"#7201a8\"], [0.3333333333333333, \"#9c179e\"], [0.4444444444444444, \"#bd3786\"], [0.5555555555555556, \"#d8576b\"], [0.6666666666666666, \"#ed7953\"], [0.7777777777777778, \"#fb9f3a\"], [0.8888888888888888, \"#fdca26\"], [1.0, \"#f0f921\"]], \"type\": \"histogram2dcontour\"}], \"mesh3d\": [{\"colorbar\": {\"outlinewidth\": 0, \"ticks\": \"\"}, \"type\": \"mesh3d\"}], \"parcoords\": [{\"line\": {\"colorbar\": {\"outlinewidth\": 0, \"ticks\": \"\"}}, \"type\": \"parcoords\"}], \"pie\": [{\"automargin\": true, \"type\": \"pie\"}], \"scatter\": [{\"marker\": {\"colorbar\": {\"outlinewidth\": 0, \"ticks\": \"\"}}, \"type\": \"scatter\"}], \"scatter3d\": [{\"line\": {\"colorbar\": {\"outlinewidth\": 0, \"ticks\": \"\"}}, \"marker\": {\"colorbar\": {\"outlinewidth\": 0, \"ticks\": \"\"}}, \"type\": \"scatter3d\"}], \"scattercarpet\": [{\"marker\": {\"colorbar\": {\"outlinewidth\": 0, \"ticks\": \"\"}}, \"type\": \"scattercarpet\"}], \"scattergeo\": [{\"marker\": {\"colorbar\": {\"outlinewidth\": 0, \"ticks\": \"\"}}, \"type\": \"scattergeo\"}], \"scattergl\": [{\"marker\": {\"colorbar\": {\"outlinewidth\": 0, \"ticks\": \"\"}}, \"type\": \"scattergl\"}], \"scattermapbox\": [{\"marker\": {\"colorbar\": {\"outlinewidth\": 0, \"ticks\": \"\"}}, \"type\": \"scattermapbox\"}], \"scatterpolar\": [{\"marker\": {\"colorbar\": {\"outlinewidth\": 0, \"ticks\": \"\"}}, \"type\": \"scatterpolar\"}], \"scatterpolargl\": [{\"marker\": {\"colorbar\": {\"outlinewidth\": 0, \"ticks\": \"\"}}, \"type\": \"scatterpolargl\"}], \"scatterternary\": [{\"marker\": {\"colorbar\": {\"outlinewidth\": 0, \"ticks\": \"\"}}, \"type\": \"scatterternary\"}], \"surface\": [{\"colorbar\": {\"outlinewidth\": 0, \"ticks\": \"\"}, \"colorscale\": [[0.0, \"#0d0887\"], [0.1111111111111111, \"#46039f\"], [0.2222222222222222, \"#7201a8\"], [0.3333333333333333, \"#9c179e\"], [0.4444444444444444, \"#bd3786\"], [0.5555555555555556, \"#d8576b\"], [0.6666666666666666, \"#ed7953\"], [0.7777777777777778, \"#fb9f3a\"], [0.8888888888888888, \"#fdca26\"], [1.0, \"#f0f921\"]], \"type\": \"surface\"}], \"table\": [{\"cells\": {\"fill\": {\"color\": \"#EBF0F8\"}, \"line\": {\"color\": \"white\"}}, \"header\": {\"fill\": {\"color\": \"#C8D4E3\"}, \"line\": {\"color\": \"white\"}}, \"type\": \"table\"}]}, \"layout\": {\"annotationdefaults\": {\"arrowcolor\": \"#2a3f5f\", \"arrowhead\": 0, \"arrowwidth\": 1}, \"coloraxis\": {\"colorbar\": {\"outlinewidth\": 0, \"ticks\": \"\"}}, \"colorscale\": {\"diverging\": [[0, \"#8e0152\"], [0.1, \"#c51b7d\"], [0.2, \"#de77ae\"], [0.3, \"#f1b6da\"], [0.4, \"#fde0ef\"], [0.5, \"#f7f7f7\"], [0.6, \"#e6f5d0\"], [0.7, \"#b8e186\"], [0.8, \"#7fbc41\"], [0.9, \"#4d9221\"], [1, \"#276419\"]], \"sequential\": [[0.0, \"#0d0887\"], [0.1111111111111111, \"#46039f\"], [0.2222222222222222, \"#7201a8\"], [0.3333333333333333, \"#9c179e\"], [0.4444444444444444, \"#bd3786\"], [0.5555555555555556, \"#d8576b\"], [0.6666666666666666, \"#ed7953\"], [0.7777777777777778, \"#fb9f3a\"], [0.8888888888888888, \"#fdca26\"], [1.0, \"#f0f921\"]], \"sequentialminus\": [[0.0, \"#0d0887\"], [0.1111111111111111, \"#46039f\"], [0.2222222222222222, \"#7201a8\"], [0.3333333333333333, \"#9c179e\"], [0.4444444444444444, \"#bd3786\"], [0.5555555555555556, \"#d8576b\"], [0.6666666666666666, \"#ed7953\"], [0.7777777777777778, \"#fb9f3a\"], [0.8888888888888888, \"#fdca26\"], [1.0, \"#f0f921\"]]}, \"colorway\": [\"#636efa\", \"#EF553B\", \"#00cc96\", \"#ab63fa\", \"#FFA15A\", \"#19d3f3\", \"#FF6692\", \"#B6E880\", \"#FF97FF\", \"#FECB52\"], \"font\": {\"color\": \"#2a3f5f\"}, \"geo\": {\"bgcolor\": \"white\", \"lakecolor\": \"white\", \"landcolor\": \"#E5ECF6\", \"showlakes\": true, \"showland\": true, \"subunitcolor\": \"white\"}, \"hoverlabel\": {\"align\": \"left\"}, \"hovermode\": \"closest\", \"mapbox\": {\"style\": \"light\"}, \"paper_bgcolor\": \"white\", \"plot_bgcolor\": \"#E5ECF6\", \"polar\": {\"angularaxis\": {\"gridcolor\": \"white\", \"linecolor\": \"white\", \"ticks\": \"\"}, \"bgcolor\": \"#E5ECF6\", \"radialaxis\": {\"gridcolor\": \"white\", \"linecolor\": \"white\", \"ticks\": \"\"}}, \"scene\": {\"xaxis\": {\"backgroundcolor\": \"#E5ECF6\", \"gridcolor\": \"white\", \"gridwidth\": 2, \"linecolor\": \"white\", \"showbackground\": true, \"ticks\": \"\", \"zerolinecolor\": \"white\"}, \"yaxis\": {\"backgroundcolor\": \"#E5ECF6\", \"gridcolor\": \"white\", \"gridwidth\": 2, \"linecolor\": \"white\", \"showbackground\": true, \"ticks\": \"\", \"zerolinecolor\": \"white\"}, \"zaxis\": {\"backgroundcolor\": \"#E5ECF6\", \"gridcolor\": \"white\", \"gridwidth\": 2, \"linecolor\": \"white\", \"showbackground\": true, \"ticks\": \"\", \"zerolinecolor\": \"white\"}}, \"shapedefaults\": {\"line\": {\"color\": \"#2a3f5f\"}}, \"ternary\": {\"aaxis\": {\"gridcolor\": \"white\", \"linecolor\": \"white\", \"ticks\": \"\"}, \"baxis\": {\"gridcolor\": \"white\", \"linecolor\": \"white\", \"ticks\": \"\"}, \"bgcolor\": \"#E5ECF6\", \"caxis\": {\"gridcolor\": \"white\", \"linecolor\": \"white\", \"ticks\": \"\"}}, \"title\": {\"x\": 0.05}, \"xaxis\": {\"automargin\": true, \"gridcolor\": \"white\", \"linecolor\": \"white\", \"ticks\": \"\", \"title\": {\"standoff\": 15}, \"zerolinecolor\": \"white\", \"zerolinewidth\": 2}, \"yaxis\": {\"automargin\": true, \"gridcolor\": \"white\", \"linecolor\": \"white\", \"ticks\": \"\", \"title\": {\"standoff\": 15}, \"zerolinecolor\": \"white\", \"zerolinewidth\": 2}}}, \"title\": {\"font\": {\"color\": \"#4D5663\"}}, \"xaxis\": {\"gridcolor\": \"#E1E5ED\", \"showgrid\": true, \"tickfont\": {\"color\": \"#4D5663\"}, \"title\": {\"font\": {\"color\": \"#4D5663\"}, \"text\": \"\"}, \"zerolinecolor\": \"#E1E5ED\"}, \"yaxis\": {\"gridcolor\": \"#E1E5ED\", \"showgrid\": true, \"tickfont\": {\"color\": \"#4D5663\"}, \"title\": {\"font\": {\"color\": \"#4D5663\"}, \"text\": \"\"}, \"zerolinecolor\": \"#E1E5ED\"}},\n",
       "                        {\"showLink\": true, \"linkText\": \"Export to plot.ly\", \"plotlyServerURL\": \"https://plot.ly\", \"responsive\": true}\n",
       "                    ).then(function(){\n",
       "                            \n",
       "var gd = document.getElementById('268cb7ee-cea0-4f05-bedb-7ce2ef2814a6');\n",
       "var x = new MutationObserver(function (mutations, observer) {{\n",
       "        var display = window.getComputedStyle(gd).display;\n",
       "        if (!display || display === 'none') {{\n",
       "            console.log([gd, 'removed!']);\n",
       "            Plotly.purge(gd);\n",
       "            observer.disconnect();\n",
       "        }}\n",
       "}});\n",
       "\n",
       "// Listen for the removal of the full notebook cells\n",
       "var notebookContainer = gd.closest('#notebook-container');\n",
       "if (notebookContainer) {{\n",
       "    x.observe(notebookContainer, {childList: true});\n",
       "}}\n",
       "\n",
       "// Listen for the clearing of the current output cell\n",
       "var outputEl = gd.closest('.output');\n",
       "if (outputEl) {{\n",
       "    x.observe(outputEl, {childList: true});\n",
       "}}\n",
       "\n",
       "                        })\n",
       "                };\n",
       "                });\n",
       "            </script>\n",
       "        </div>"
      ]
     },
     "metadata": {},
     "output_type": "display_data"
    }
   ],
   "source": [
    "df3.iplot(kind='surface')"
   ]
  },
  {
   "cell_type": "code",
   "execution_count": 49,
   "metadata": {},
   "outputs": [
    {
     "data": {
      "application/vnd.plotly.v1+json": {
       "config": {
        "linkText": "Export to plot.ly",
        "plotlyServerURL": "https://plot.ly",
        "showLink": true
       },
       "data": [
        {
         "histfunc": "count",
         "histnorm": "",
         "marker": {
          "color": "rgba(255, 153, 51, 1.0)",
          "line": {
           "color": "#4D5663",
           "width": 1.3
          }
         },
         "name": "z",
         "opacity": 0.8,
         "orientation": "v",
         "type": "histogram",
         "x": [
          3330,
          2200,
          2300,
          3200,
          42200
         ]
        }
       ],
       "layout": {
        "barmode": "overlay",
        "legend": {
         "bgcolor": "#F5F6F9",
         "font": {
          "color": "#4D5663"
         }
        },
        "paper_bgcolor": "#F5F6F9",
        "plot_bgcolor": "#F5F6F9",
        "template": {
         "data": {
          "bar": [
           {
            "error_x": {
             "color": "#2a3f5f"
            },
            "error_y": {
             "color": "#2a3f5f"
            },
            "marker": {
             "line": {
              "color": "#E5ECF6",
              "width": 0.5
             }
            },
            "type": "bar"
           }
          ],
          "barpolar": [
           {
            "marker": {
             "line": {
              "color": "#E5ECF6",
              "width": 0.5
             }
            },
            "type": "barpolar"
           }
          ],
          "carpet": [
           {
            "aaxis": {
             "endlinecolor": "#2a3f5f",
             "gridcolor": "white",
             "linecolor": "white",
             "minorgridcolor": "white",
             "startlinecolor": "#2a3f5f"
            },
            "baxis": {
             "endlinecolor": "#2a3f5f",
             "gridcolor": "white",
             "linecolor": "white",
             "minorgridcolor": "white",
             "startlinecolor": "#2a3f5f"
            },
            "type": "carpet"
           }
          ],
          "choropleth": [
           {
            "colorbar": {
             "outlinewidth": 0,
             "ticks": ""
            },
            "type": "choropleth"
           }
          ],
          "contour": [
           {
            "colorbar": {
             "outlinewidth": 0,
             "ticks": ""
            },
            "colorscale": [
             [
              0,
              "#0d0887"
             ],
             [
              0.1111111111111111,
              "#46039f"
             ],
             [
              0.2222222222222222,
              "#7201a8"
             ],
             [
              0.3333333333333333,
              "#9c179e"
             ],
             [
              0.4444444444444444,
              "#bd3786"
             ],
             [
              0.5555555555555556,
              "#d8576b"
             ],
             [
              0.6666666666666666,
              "#ed7953"
             ],
             [
              0.7777777777777778,
              "#fb9f3a"
             ],
             [
              0.8888888888888888,
              "#fdca26"
             ],
             [
              1,
              "#f0f921"
             ]
            ],
            "type": "contour"
           }
          ],
          "contourcarpet": [
           {
            "colorbar": {
             "outlinewidth": 0,
             "ticks": ""
            },
            "type": "contourcarpet"
           }
          ],
          "heatmap": [
           {
            "colorbar": {
             "outlinewidth": 0,
             "ticks": ""
            },
            "colorscale": [
             [
              0,
              "#0d0887"
             ],
             [
              0.1111111111111111,
              "#46039f"
             ],
             [
              0.2222222222222222,
              "#7201a8"
             ],
             [
              0.3333333333333333,
              "#9c179e"
             ],
             [
              0.4444444444444444,
              "#bd3786"
             ],
             [
              0.5555555555555556,
              "#d8576b"
             ],
             [
              0.6666666666666666,
              "#ed7953"
             ],
             [
              0.7777777777777778,
              "#fb9f3a"
             ],
             [
              0.8888888888888888,
              "#fdca26"
             ],
             [
              1,
              "#f0f921"
             ]
            ],
            "type": "heatmap"
           }
          ],
          "heatmapgl": [
           {
            "colorbar": {
             "outlinewidth": 0,
             "ticks": ""
            },
            "colorscale": [
             [
              0,
              "#0d0887"
             ],
             [
              0.1111111111111111,
              "#46039f"
             ],
             [
              0.2222222222222222,
              "#7201a8"
             ],
             [
              0.3333333333333333,
              "#9c179e"
             ],
             [
              0.4444444444444444,
              "#bd3786"
             ],
             [
              0.5555555555555556,
              "#d8576b"
             ],
             [
              0.6666666666666666,
              "#ed7953"
             ],
             [
              0.7777777777777778,
              "#fb9f3a"
             ],
             [
              0.8888888888888888,
              "#fdca26"
             ],
             [
              1,
              "#f0f921"
             ]
            ],
            "type": "heatmapgl"
           }
          ],
          "histogram": [
           {
            "marker": {
             "colorbar": {
              "outlinewidth": 0,
              "ticks": ""
             }
            },
            "type": "histogram"
           }
          ],
          "histogram2d": [
           {
            "colorbar": {
             "outlinewidth": 0,
             "ticks": ""
            },
            "colorscale": [
             [
              0,
              "#0d0887"
             ],
             [
              0.1111111111111111,
              "#46039f"
             ],
             [
              0.2222222222222222,
              "#7201a8"
             ],
             [
              0.3333333333333333,
              "#9c179e"
             ],
             [
              0.4444444444444444,
              "#bd3786"
             ],
             [
              0.5555555555555556,
              "#d8576b"
             ],
             [
              0.6666666666666666,
              "#ed7953"
             ],
             [
              0.7777777777777778,
              "#fb9f3a"
             ],
             [
              0.8888888888888888,
              "#fdca26"
             ],
             [
              1,
              "#f0f921"
             ]
            ],
            "type": "histogram2d"
           }
          ],
          "histogram2dcontour": [
           {
            "colorbar": {
             "outlinewidth": 0,
             "ticks": ""
            },
            "colorscale": [
             [
              0,
              "#0d0887"
             ],
             [
              0.1111111111111111,
              "#46039f"
             ],
             [
              0.2222222222222222,
              "#7201a8"
             ],
             [
              0.3333333333333333,
              "#9c179e"
             ],
             [
              0.4444444444444444,
              "#bd3786"
             ],
             [
              0.5555555555555556,
              "#d8576b"
             ],
             [
              0.6666666666666666,
              "#ed7953"
             ],
             [
              0.7777777777777778,
              "#fb9f3a"
             ],
             [
              0.8888888888888888,
              "#fdca26"
             ],
             [
              1,
              "#f0f921"
             ]
            ],
            "type": "histogram2dcontour"
           }
          ],
          "mesh3d": [
           {
            "colorbar": {
             "outlinewidth": 0,
             "ticks": ""
            },
            "type": "mesh3d"
           }
          ],
          "parcoords": [
           {
            "line": {
             "colorbar": {
              "outlinewidth": 0,
              "ticks": ""
             }
            },
            "type": "parcoords"
           }
          ],
          "pie": [
           {
            "automargin": true,
            "type": "pie"
           }
          ],
          "scatter": [
           {
            "marker": {
             "colorbar": {
              "outlinewidth": 0,
              "ticks": ""
             }
            },
            "type": "scatter"
           }
          ],
          "scatter3d": [
           {
            "line": {
             "colorbar": {
              "outlinewidth": 0,
              "ticks": ""
             }
            },
            "marker": {
             "colorbar": {
              "outlinewidth": 0,
              "ticks": ""
             }
            },
            "type": "scatter3d"
           }
          ],
          "scattercarpet": [
           {
            "marker": {
             "colorbar": {
              "outlinewidth": 0,
              "ticks": ""
             }
            },
            "type": "scattercarpet"
           }
          ],
          "scattergeo": [
           {
            "marker": {
             "colorbar": {
              "outlinewidth": 0,
              "ticks": ""
             }
            },
            "type": "scattergeo"
           }
          ],
          "scattergl": [
           {
            "marker": {
             "colorbar": {
              "outlinewidth": 0,
              "ticks": ""
             }
            },
            "type": "scattergl"
           }
          ],
          "scattermapbox": [
           {
            "marker": {
             "colorbar": {
              "outlinewidth": 0,
              "ticks": ""
             }
            },
            "type": "scattermapbox"
           }
          ],
          "scatterpolar": [
           {
            "marker": {
             "colorbar": {
              "outlinewidth": 0,
              "ticks": ""
             }
            },
            "type": "scatterpolar"
           }
          ],
          "scatterpolargl": [
           {
            "marker": {
             "colorbar": {
              "outlinewidth": 0,
              "ticks": ""
             }
            },
            "type": "scatterpolargl"
           }
          ],
          "scatterternary": [
           {
            "marker": {
             "colorbar": {
              "outlinewidth": 0,
              "ticks": ""
             }
            },
            "type": "scatterternary"
           }
          ],
          "surface": [
           {
            "colorbar": {
             "outlinewidth": 0,
             "ticks": ""
            },
            "colorscale": [
             [
              0,
              "#0d0887"
             ],
             [
              0.1111111111111111,
              "#46039f"
             ],
             [
              0.2222222222222222,
              "#7201a8"
             ],
             [
              0.3333333333333333,
              "#9c179e"
             ],
             [
              0.4444444444444444,
              "#bd3786"
             ],
             [
              0.5555555555555556,
              "#d8576b"
             ],
             [
              0.6666666666666666,
              "#ed7953"
             ],
             [
              0.7777777777777778,
              "#fb9f3a"
             ],
             [
              0.8888888888888888,
              "#fdca26"
             ],
             [
              1,
              "#f0f921"
             ]
            ],
            "type": "surface"
           }
          ],
          "table": [
           {
            "cells": {
             "fill": {
              "color": "#EBF0F8"
             },
             "line": {
              "color": "white"
             }
            },
            "header": {
             "fill": {
              "color": "#C8D4E3"
             },
             "line": {
              "color": "white"
             }
            },
            "type": "table"
           }
          ]
         },
         "layout": {
          "annotationdefaults": {
           "arrowcolor": "#2a3f5f",
           "arrowhead": 0,
           "arrowwidth": 1
          },
          "coloraxis": {
           "colorbar": {
            "outlinewidth": 0,
            "ticks": ""
           }
          },
          "colorscale": {
           "diverging": [
            [
             0,
             "#8e0152"
            ],
            [
             0.1,
             "#c51b7d"
            ],
            [
             0.2,
             "#de77ae"
            ],
            [
             0.3,
             "#f1b6da"
            ],
            [
             0.4,
             "#fde0ef"
            ],
            [
             0.5,
             "#f7f7f7"
            ],
            [
             0.6,
             "#e6f5d0"
            ],
            [
             0.7,
             "#b8e186"
            ],
            [
             0.8,
             "#7fbc41"
            ],
            [
             0.9,
             "#4d9221"
            ],
            [
             1,
             "#276419"
            ]
           ],
           "sequential": [
            [
             0,
             "#0d0887"
            ],
            [
             0.1111111111111111,
             "#46039f"
            ],
            [
             0.2222222222222222,
             "#7201a8"
            ],
            [
             0.3333333333333333,
             "#9c179e"
            ],
            [
             0.4444444444444444,
             "#bd3786"
            ],
            [
             0.5555555555555556,
             "#d8576b"
            ],
            [
             0.6666666666666666,
             "#ed7953"
            ],
            [
             0.7777777777777778,
             "#fb9f3a"
            ],
            [
             0.8888888888888888,
             "#fdca26"
            ],
            [
             1,
             "#f0f921"
            ]
           ],
           "sequentialminus": [
            [
             0,
             "#0d0887"
            ],
            [
             0.1111111111111111,
             "#46039f"
            ],
            [
             0.2222222222222222,
             "#7201a8"
            ],
            [
             0.3333333333333333,
             "#9c179e"
            ],
            [
             0.4444444444444444,
             "#bd3786"
            ],
            [
             0.5555555555555556,
             "#d8576b"
            ],
            [
             0.6666666666666666,
             "#ed7953"
            ],
            [
             0.7777777777777778,
             "#fb9f3a"
            ],
            [
             0.8888888888888888,
             "#fdca26"
            ],
            [
             1,
             "#f0f921"
            ]
           ]
          },
          "colorway": [
           "#636efa",
           "#EF553B",
           "#00cc96",
           "#ab63fa",
           "#FFA15A",
           "#19d3f3",
           "#FF6692",
           "#B6E880",
           "#FF97FF",
           "#FECB52"
          ],
          "font": {
           "color": "#2a3f5f"
          },
          "geo": {
           "bgcolor": "white",
           "lakecolor": "white",
           "landcolor": "#E5ECF6",
           "showlakes": true,
           "showland": true,
           "subunitcolor": "white"
          },
          "hoverlabel": {
           "align": "left"
          },
          "hovermode": "closest",
          "mapbox": {
           "style": "light"
          },
          "paper_bgcolor": "white",
          "plot_bgcolor": "#E5ECF6",
          "polar": {
           "angularaxis": {
            "gridcolor": "white",
            "linecolor": "white",
            "ticks": ""
           },
           "bgcolor": "#E5ECF6",
           "radialaxis": {
            "gridcolor": "white",
            "linecolor": "white",
            "ticks": ""
           }
          },
          "scene": {
           "xaxis": {
            "backgroundcolor": "#E5ECF6",
            "gridcolor": "white",
            "gridwidth": 2,
            "linecolor": "white",
            "showbackground": true,
            "ticks": "",
            "zerolinecolor": "white"
           },
           "yaxis": {
            "backgroundcolor": "#E5ECF6",
            "gridcolor": "white",
            "gridwidth": 2,
            "linecolor": "white",
            "showbackground": true,
            "ticks": "",
            "zerolinecolor": "white"
           },
           "zaxis": {
            "backgroundcolor": "#E5ECF6",
            "gridcolor": "white",
            "gridwidth": 2,
            "linecolor": "white",
            "showbackground": true,
            "ticks": "",
            "zerolinecolor": "white"
           }
          },
          "shapedefaults": {
           "line": {
            "color": "#2a3f5f"
           }
          },
          "ternary": {
           "aaxis": {
            "gridcolor": "white",
            "linecolor": "white",
            "ticks": ""
           },
           "baxis": {
            "gridcolor": "white",
            "linecolor": "white",
            "ticks": ""
           },
           "bgcolor": "#E5ECF6",
           "caxis": {
            "gridcolor": "white",
            "linecolor": "white",
            "ticks": ""
           }
          },
          "title": {
           "x": 0.05
          },
          "xaxis": {
           "automargin": true,
           "gridcolor": "white",
           "linecolor": "white",
           "ticks": "",
           "title": {
            "standoff": 15
           },
           "zerolinecolor": "white",
           "zerolinewidth": 2
          },
          "yaxis": {
           "automargin": true,
           "gridcolor": "white",
           "linecolor": "white",
           "ticks": "",
           "title": {
            "standoff": 15
           },
           "zerolinecolor": "white",
           "zerolinewidth": 2
          }
         }
        },
        "title": {
         "font": {
          "color": "#4D5663"
         }
        },
        "xaxis": {
         "gridcolor": "#E1E5ED",
         "showgrid": true,
         "tickfont": {
          "color": "#4D5663"
         },
         "title": {
          "font": {
           "color": "#4D5663"
          },
          "text": ""
         },
         "zerolinecolor": "#E1E5ED"
        },
        "yaxis": {
         "gridcolor": "#E1E5ED",
         "showgrid": true,
         "tickfont": {
          "color": "#4D5663"
         },
         "title": {
          "font": {
           "color": "#4D5663"
          },
          "text": ""
         },
         "zerolinecolor": "#E1E5ED"
        }
       }
      },
      "text/html": [
       "<div>\n",
       "        \n",
       "        \n",
       "            <div id=\"1d97a5e9-b90c-457b-804d-77c3a8aee3b4\" class=\"plotly-graph-div\" style=\"height:525px; width:100%;\"></div>\n",
       "            <script type=\"text/javascript\">\n",
       "                require([\"plotly\"], function(Plotly) {\n",
       "                    window.PLOTLYENV=window.PLOTLYENV || {};\n",
       "                    window.PLOTLYENV.BASE_URL='https://plot.ly';\n",
       "                    \n",
       "                if (document.getElementById(\"1d97a5e9-b90c-457b-804d-77c3a8aee3b4\")) {\n",
       "                    Plotly.newPlot(\n",
       "                        '1d97a5e9-b90c-457b-804d-77c3a8aee3b4',\n",
       "                        [{\"histfunc\": \"count\", \"histnorm\": \"\", \"marker\": {\"color\": \"rgba(255, 153, 51, 1.0)\", \"line\": {\"color\": \"#4D5663\", \"width\": 1.3}}, \"name\": \"z\", \"opacity\": 0.8, \"orientation\": \"v\", \"type\": \"histogram\", \"x\": [3330, 2200, 2300, 3200, 42200]}],\n",
       "                        {\"barmode\": \"overlay\", \"legend\": {\"bgcolor\": \"#F5F6F9\", \"font\": {\"color\": \"#4D5663\"}}, \"paper_bgcolor\": \"#F5F6F9\", \"plot_bgcolor\": \"#F5F6F9\", \"template\": {\"data\": {\"bar\": [{\"error_x\": {\"color\": \"#2a3f5f\"}, \"error_y\": {\"color\": \"#2a3f5f\"}, \"marker\": {\"line\": {\"color\": \"#E5ECF6\", \"width\": 0.5}}, \"type\": \"bar\"}], \"barpolar\": [{\"marker\": {\"line\": {\"color\": \"#E5ECF6\", \"width\": 0.5}}, \"type\": \"barpolar\"}], \"carpet\": [{\"aaxis\": {\"endlinecolor\": \"#2a3f5f\", \"gridcolor\": \"white\", \"linecolor\": \"white\", \"minorgridcolor\": \"white\", \"startlinecolor\": \"#2a3f5f\"}, \"baxis\": {\"endlinecolor\": \"#2a3f5f\", \"gridcolor\": \"white\", \"linecolor\": \"white\", \"minorgridcolor\": \"white\", \"startlinecolor\": \"#2a3f5f\"}, \"type\": \"carpet\"}], \"choropleth\": [{\"colorbar\": {\"outlinewidth\": 0, \"ticks\": \"\"}, \"type\": \"choropleth\"}], \"contour\": [{\"colorbar\": {\"outlinewidth\": 0, \"ticks\": \"\"}, \"colorscale\": [[0.0, \"#0d0887\"], [0.1111111111111111, \"#46039f\"], [0.2222222222222222, \"#7201a8\"], [0.3333333333333333, \"#9c179e\"], [0.4444444444444444, \"#bd3786\"], [0.5555555555555556, \"#d8576b\"], [0.6666666666666666, \"#ed7953\"], [0.7777777777777778, \"#fb9f3a\"], [0.8888888888888888, \"#fdca26\"], [1.0, \"#f0f921\"]], \"type\": \"contour\"}], \"contourcarpet\": [{\"colorbar\": {\"outlinewidth\": 0, \"ticks\": \"\"}, \"type\": \"contourcarpet\"}], \"heatmap\": [{\"colorbar\": {\"outlinewidth\": 0, \"ticks\": \"\"}, \"colorscale\": [[0.0, \"#0d0887\"], [0.1111111111111111, \"#46039f\"], [0.2222222222222222, \"#7201a8\"], [0.3333333333333333, \"#9c179e\"], [0.4444444444444444, \"#bd3786\"], [0.5555555555555556, \"#d8576b\"], [0.6666666666666666, \"#ed7953\"], [0.7777777777777778, \"#fb9f3a\"], [0.8888888888888888, \"#fdca26\"], [1.0, \"#f0f921\"]], \"type\": \"heatmap\"}], \"heatmapgl\": [{\"colorbar\": {\"outlinewidth\": 0, \"ticks\": \"\"}, \"colorscale\": [[0.0, \"#0d0887\"], [0.1111111111111111, \"#46039f\"], [0.2222222222222222, \"#7201a8\"], [0.3333333333333333, \"#9c179e\"], [0.4444444444444444, \"#bd3786\"], [0.5555555555555556, \"#d8576b\"], [0.6666666666666666, \"#ed7953\"], [0.7777777777777778, \"#fb9f3a\"], [0.8888888888888888, \"#fdca26\"], [1.0, \"#f0f921\"]], \"type\": \"heatmapgl\"}], \"histogram\": [{\"marker\": {\"colorbar\": {\"outlinewidth\": 0, \"ticks\": \"\"}}, \"type\": \"histogram\"}], \"histogram2d\": [{\"colorbar\": {\"outlinewidth\": 0, \"ticks\": \"\"}, \"colorscale\": [[0.0, \"#0d0887\"], [0.1111111111111111, \"#46039f\"], [0.2222222222222222, \"#7201a8\"], [0.3333333333333333, \"#9c179e\"], [0.4444444444444444, \"#bd3786\"], [0.5555555555555556, \"#d8576b\"], [0.6666666666666666, \"#ed7953\"], [0.7777777777777778, \"#fb9f3a\"], [0.8888888888888888, \"#fdca26\"], [1.0, \"#f0f921\"]], \"type\": \"histogram2d\"}], \"histogram2dcontour\": [{\"colorbar\": {\"outlinewidth\": 0, \"ticks\": \"\"}, \"colorscale\": [[0.0, \"#0d0887\"], [0.1111111111111111, \"#46039f\"], [0.2222222222222222, \"#7201a8\"], [0.3333333333333333, \"#9c179e\"], [0.4444444444444444, \"#bd3786\"], [0.5555555555555556, \"#d8576b\"], [0.6666666666666666, \"#ed7953\"], [0.7777777777777778, \"#fb9f3a\"], [0.8888888888888888, \"#fdca26\"], [1.0, \"#f0f921\"]], \"type\": \"histogram2dcontour\"}], \"mesh3d\": [{\"colorbar\": {\"outlinewidth\": 0, \"ticks\": \"\"}, \"type\": \"mesh3d\"}], \"parcoords\": [{\"line\": {\"colorbar\": {\"outlinewidth\": 0, \"ticks\": \"\"}}, \"type\": \"parcoords\"}], \"pie\": [{\"automargin\": true, \"type\": \"pie\"}], \"scatter\": [{\"marker\": {\"colorbar\": {\"outlinewidth\": 0, \"ticks\": \"\"}}, \"type\": \"scatter\"}], \"scatter3d\": [{\"line\": {\"colorbar\": {\"outlinewidth\": 0, \"ticks\": \"\"}}, \"marker\": {\"colorbar\": {\"outlinewidth\": 0, \"ticks\": \"\"}}, \"type\": \"scatter3d\"}], \"scattercarpet\": [{\"marker\": {\"colorbar\": {\"outlinewidth\": 0, \"ticks\": \"\"}}, \"type\": \"scattercarpet\"}], \"scattergeo\": [{\"marker\": {\"colorbar\": {\"outlinewidth\": 0, \"ticks\": \"\"}}, \"type\": \"scattergeo\"}], \"scattergl\": [{\"marker\": {\"colorbar\": {\"outlinewidth\": 0, \"ticks\": \"\"}}, \"type\": \"scattergl\"}], \"scattermapbox\": [{\"marker\": {\"colorbar\": {\"outlinewidth\": 0, \"ticks\": \"\"}}, \"type\": \"scattermapbox\"}], \"scatterpolar\": [{\"marker\": {\"colorbar\": {\"outlinewidth\": 0, \"ticks\": \"\"}}, \"type\": \"scatterpolar\"}], \"scatterpolargl\": [{\"marker\": {\"colorbar\": {\"outlinewidth\": 0, \"ticks\": \"\"}}, \"type\": \"scatterpolargl\"}], \"scatterternary\": [{\"marker\": {\"colorbar\": {\"outlinewidth\": 0, \"ticks\": \"\"}}, \"type\": \"scatterternary\"}], \"surface\": [{\"colorbar\": {\"outlinewidth\": 0, \"ticks\": \"\"}, \"colorscale\": [[0.0, \"#0d0887\"], [0.1111111111111111, \"#46039f\"], [0.2222222222222222, \"#7201a8\"], [0.3333333333333333, \"#9c179e\"], [0.4444444444444444, \"#bd3786\"], [0.5555555555555556, \"#d8576b\"], [0.6666666666666666, \"#ed7953\"], [0.7777777777777778, \"#fb9f3a\"], [0.8888888888888888, \"#fdca26\"], [1.0, \"#f0f921\"]], \"type\": \"surface\"}], \"table\": [{\"cells\": {\"fill\": {\"color\": \"#EBF0F8\"}, \"line\": {\"color\": \"white\"}}, \"header\": {\"fill\": {\"color\": \"#C8D4E3\"}, \"line\": {\"color\": \"white\"}}, \"type\": \"table\"}]}, \"layout\": {\"annotationdefaults\": {\"arrowcolor\": \"#2a3f5f\", \"arrowhead\": 0, \"arrowwidth\": 1}, \"coloraxis\": {\"colorbar\": {\"outlinewidth\": 0, \"ticks\": \"\"}}, \"colorscale\": {\"diverging\": [[0, \"#8e0152\"], [0.1, \"#c51b7d\"], [0.2, \"#de77ae\"], [0.3, \"#f1b6da\"], [0.4, \"#fde0ef\"], [0.5, \"#f7f7f7\"], [0.6, \"#e6f5d0\"], [0.7, \"#b8e186\"], [0.8, \"#7fbc41\"], [0.9, \"#4d9221\"], [1, \"#276419\"]], \"sequential\": [[0.0, \"#0d0887\"], [0.1111111111111111, \"#46039f\"], [0.2222222222222222, \"#7201a8\"], [0.3333333333333333, \"#9c179e\"], [0.4444444444444444, \"#bd3786\"], [0.5555555555555556, \"#d8576b\"], [0.6666666666666666, \"#ed7953\"], [0.7777777777777778, \"#fb9f3a\"], [0.8888888888888888, \"#fdca26\"], [1.0, \"#f0f921\"]], \"sequentialminus\": [[0.0, \"#0d0887\"], [0.1111111111111111, \"#46039f\"], [0.2222222222222222, \"#7201a8\"], [0.3333333333333333, \"#9c179e\"], [0.4444444444444444, \"#bd3786\"], [0.5555555555555556, \"#d8576b\"], [0.6666666666666666, \"#ed7953\"], [0.7777777777777778, \"#fb9f3a\"], [0.8888888888888888, \"#fdca26\"], [1.0, \"#f0f921\"]]}, \"colorway\": [\"#636efa\", \"#EF553B\", \"#00cc96\", \"#ab63fa\", \"#FFA15A\", \"#19d3f3\", \"#FF6692\", \"#B6E880\", \"#FF97FF\", \"#FECB52\"], \"font\": {\"color\": \"#2a3f5f\"}, \"geo\": {\"bgcolor\": \"white\", \"lakecolor\": \"white\", \"landcolor\": \"#E5ECF6\", \"showlakes\": true, \"showland\": true, \"subunitcolor\": \"white\"}, \"hoverlabel\": {\"align\": \"left\"}, \"hovermode\": \"closest\", \"mapbox\": {\"style\": \"light\"}, \"paper_bgcolor\": \"white\", \"plot_bgcolor\": \"#E5ECF6\", \"polar\": {\"angularaxis\": {\"gridcolor\": \"white\", \"linecolor\": \"white\", \"ticks\": \"\"}, \"bgcolor\": \"#E5ECF6\", \"radialaxis\": {\"gridcolor\": \"white\", \"linecolor\": \"white\", \"ticks\": \"\"}}, \"scene\": {\"xaxis\": {\"backgroundcolor\": \"#E5ECF6\", \"gridcolor\": \"white\", \"gridwidth\": 2, \"linecolor\": \"white\", \"showbackground\": true, \"ticks\": \"\", \"zerolinecolor\": \"white\"}, \"yaxis\": {\"backgroundcolor\": \"#E5ECF6\", \"gridcolor\": \"white\", \"gridwidth\": 2, \"linecolor\": \"white\", \"showbackground\": true, \"ticks\": \"\", \"zerolinecolor\": \"white\"}, \"zaxis\": {\"backgroundcolor\": \"#E5ECF6\", \"gridcolor\": \"white\", \"gridwidth\": 2, \"linecolor\": \"white\", \"showbackground\": true, \"ticks\": \"\", \"zerolinecolor\": \"white\"}}, \"shapedefaults\": {\"line\": {\"color\": \"#2a3f5f\"}}, \"ternary\": {\"aaxis\": {\"gridcolor\": \"white\", \"linecolor\": \"white\", \"ticks\": \"\"}, \"baxis\": {\"gridcolor\": \"white\", \"linecolor\": \"white\", \"ticks\": \"\"}, \"bgcolor\": \"#E5ECF6\", \"caxis\": {\"gridcolor\": \"white\", \"linecolor\": \"white\", \"ticks\": \"\"}}, \"title\": {\"x\": 0.05}, \"xaxis\": {\"automargin\": true, \"gridcolor\": \"white\", \"linecolor\": \"white\", \"ticks\": \"\", \"title\": {\"standoff\": 15}, \"zerolinecolor\": \"white\", \"zerolinewidth\": 2}, \"yaxis\": {\"automargin\": true, \"gridcolor\": \"white\", \"linecolor\": \"white\", \"ticks\": \"\", \"title\": {\"standoff\": 15}, \"zerolinecolor\": \"white\", \"zerolinewidth\": 2}}}, \"title\": {\"font\": {\"color\": \"#4D5663\"}}, \"xaxis\": {\"gridcolor\": \"#E1E5ED\", \"showgrid\": true, \"tickfont\": {\"color\": \"#4D5663\"}, \"title\": {\"font\": {\"color\": \"#4D5663\"}, \"text\": \"\"}, \"zerolinecolor\": \"#E1E5ED\"}, \"yaxis\": {\"gridcolor\": \"#E1E5ED\", \"showgrid\": true, \"tickfont\": {\"color\": \"#4D5663\"}, \"title\": {\"font\": {\"color\": \"#4D5663\"}, \"text\": \"\"}, \"zerolinecolor\": \"#E1E5ED\"}},\n",
       "                        {\"showLink\": true, \"linkText\": \"Export to plot.ly\", \"plotlyServerURL\": \"https://plot.ly\", \"responsive\": true}\n",
       "                    ).then(function(){\n",
       "                            \n",
       "var gd = document.getElementById('1d97a5e9-b90c-457b-804d-77c3a8aee3b4');\n",
       "var x = new MutationObserver(function (mutations, observer) {{\n",
       "        var display = window.getComputedStyle(gd).display;\n",
       "        if (!display || display === 'none') {{\n",
       "            console.log([gd, 'removed!']);\n",
       "            Plotly.purge(gd);\n",
       "            observer.disconnect();\n",
       "        }}\n",
       "}});\n",
       "\n",
       "// Listen for the removal of the full notebook cells\n",
       "var notebookContainer = gd.closest('#notebook-container');\n",
       "if (notebookContainer) {{\n",
       "    x.observe(notebookContainer, {childList: true});\n",
       "}}\n",
       "\n",
       "// Listen for the clearing of the current output cell\n",
       "var outputEl = gd.closest('.output');\n",
       "if (outputEl) {{\n",
       "    x.observe(outputEl, {childList: true});\n",
       "}}\n",
       "\n",
       "                        })\n",
       "                };\n",
       "                });\n",
       "            </script>\n",
       "        </div>"
      ]
     },
     "metadata": {},
     "output_type": "display_data"
    }
   ],
   "source": [
    "df3['z'].iplot(kind='hist')"
   ]
  },
  {
   "cell_type": "code",
   "execution_count": 50,
   "metadata": {},
   "outputs": [
    {
     "name": "stderr",
     "output_type": "stream",
     "text": [
      "/home/amber/Desktop/Amber_Gautam/datascience/venv/lib/python3.6/site-packages/cufflinks/plotlytools.py:849: FutureWarning:\n",
      "\n",
      "The pandas.np module is deprecated and will be removed from pandas in a future version. Import numpy directly instead\n",
      "\n",
      "/home/amber/Desktop/Amber_Gautam/datascience/venv/lib/python3.6/site-packages/cufflinks/plotlytools.py:850: FutureWarning:\n",
      "\n",
      "The pandas.np module is deprecated and will be removed from pandas in a future version. Import numpy directly instead\n",
      "\n"
     ]
    },
    {
     "data": {
      "application/vnd.plotly.v1+json": {
       "config": {
        "linkText": "Export to plot.ly",
        "plotlyServerURL": "https://plot.ly",
        "showLink": true
       },
       "data": [
        {
         "line": {
          "color": "rgba(255, 153, 51, 1.0)",
          "dash": "solid",
          "shape": "linear",
          "width": 1.3
         },
         "mode": "lines",
         "name": "A",
         "text": "",
         "type": "scatter",
         "x": [
          0,
          1,
          2,
          3,
          4,
          5,
          6,
          7,
          8,
          9,
          10,
          11,
          12,
          13,
          14,
          15,
          16,
          17,
          18,
          19,
          20,
          21,
          22,
          23,
          24,
          25,
          26,
          27,
          28,
          29,
          30,
          31,
          32,
          33,
          34,
          35,
          36,
          37,
          38,
          39,
          40,
          41,
          42,
          43,
          44,
          45,
          46,
          47,
          48,
          49,
          50,
          51,
          52,
          53,
          54,
          55,
          56,
          57,
          58,
          59,
          60,
          61,
          62,
          63,
          64,
          65,
          66,
          67,
          68,
          69,
          70,
          71,
          72,
          73,
          74,
          75,
          76,
          77,
          78,
          79,
          80,
          81,
          82,
          83,
          84,
          85,
          86,
          87,
          88,
          89,
          90,
          91,
          92,
          93,
          94,
          95,
          96,
          97,
          98,
          99
         ],
         "y": [
          1.3522419087117923,
          -1.4367485228096082,
          0.34246615131765074,
          0.22501371995467404,
          -1.3835773588716889,
          -0.3786606793558325,
          1.5700394365681638,
          -0.4389112823843724,
          0.019327259196934583,
          -0.7871373062572039,
          1.1582459987267817,
          0.5419561074166749,
          0.10300724317610074,
          1.056526493789133,
          -0.5935929218146352,
          -0.9400064843743166,
          0.8184536422660786,
          0.6051514716477069,
          1.986033931482904,
          3.654979997899412,
          0.17858108615271165,
          -1.5513735777578752,
          1.9711731349620212,
          0.6244032392053847,
          1.1358931781345123,
          0.40377740852876387,
          -1.1112520429721875,
          -0.4837839184642077,
          -0.4697476049298041,
          0.4624700962665709,
          -0.40519454607155914,
          0.26826033900583474,
          -3.363286877728186,
          1.8642796689830858,
          0.3546706184336565,
          -0.3010076943115201,
          -0.184736525521066,
          -0.17078051736817168,
          1.0582430636820745,
          -0.8379417122297186,
          -0.17913716056313403,
          0.2868655884201024,
          1.4975251686775926,
          0.1673545509032834,
          1.8892720942055872,
          1.2000191097252784,
          -0.11723758426468586,
          -1.3923642324153118,
          1.2067384689802523,
          0.6995092920577454,
          -0.450318572383938,
          -1.0768058506215945,
          1.8240423037842124,
          -1.2848847471231686,
          -1.3092995799985827,
          -2.252081015062117,
          1.6516269181221692,
          1.5514491437019398,
          0.17685847323240705,
          -0.9136086216446226,
          1.2010817770884787,
          -0.19816291549069612,
          1.321136986359857,
          -0.3394538966085169,
          0.34016035243713444,
          -0.7941748905370211,
          0.19043318709089463,
          -0.5436817352645537,
          1.0661669821985864,
          2.2851010625069286,
          -0.8266733303952352,
          0.7884285801220625,
          0.8231972467330367,
          0.324008182428142,
          0.6752070165857296,
          -0.8439726176579643,
          -0.20609333658074047,
          -1.5482680054696205,
          -0.38434511261941934,
          0.07692083586667725,
          -0.6248572409586476,
          -0.16248851481555132,
          -1.8459074757071747,
          1.4126122652500914,
          0.19075917126177336,
          0.1756756844178885,
          -0.6453507523108135,
          1.689030633833263,
          -0.8708237540304141,
          0.25013438914188446,
          -1.4214869901784088,
          0.2984832844136182,
          -0.5636158302217779,
          -0.30474446122783944,
          1.006249773260137,
          0.2782559169320781,
          0.5666162539211673,
          -0.9302725711947286,
          -1.3463008359939528,
          0.32468815436776594
         ]
        },
        {
         "line": {
          "color": "rgba(55, 128, 191, 1.0)",
          "dash": "solid",
          "shape": "linear",
          "width": 1.3
         },
         "mode": "lines",
         "name": "B",
         "text": "",
         "type": "scatter",
         "x": [
          0,
          1,
          2,
          3,
          4,
          5,
          6,
          7,
          8,
          9,
          10,
          11,
          12,
          13,
          14,
          15,
          16,
          17,
          18,
          19,
          20,
          21,
          22,
          23,
          24,
          25,
          26,
          27,
          28,
          29,
          30,
          31,
          32,
          33,
          34,
          35,
          36,
          37,
          38,
          39,
          40,
          41,
          42,
          43,
          44,
          45,
          46,
          47,
          48,
          49,
          50,
          51,
          52,
          53,
          54,
          55,
          56,
          57,
          58,
          59,
          60,
          61,
          62,
          63,
          64,
          65,
          66,
          67,
          68,
          69,
          70,
          71,
          72,
          73,
          74,
          75,
          76,
          77,
          78,
          79,
          80,
          81,
          82,
          83,
          84,
          85,
          86,
          87,
          88,
          89,
          90,
          91,
          92,
          93,
          94,
          95,
          96,
          97,
          98,
          99
         ],
         "y": [
          0.2853960742036141,
          -0.4406604289569714,
          0.33365589029910364,
          0.2018345194581368,
          0.468673037397461,
          -1.3528010257124101,
          0.800285334395616,
          0.8735403499291123,
          -0.4971589012856189,
          -1.1501645383832924,
          -0.11235634631765345,
          0.4723699885089022,
          0.0712305561391159,
          0.24284710471750473,
          -0.9122241746416804,
          0.8269817335779781,
          -0.00874132852355032,
          -0.6318762826014234,
          0.43011057200838515,
          1.0704132732721918,
          2.134360594704674,
          0.31373630965031646,
          -0.8829218217202525,
          -0.73474365392336,
          0.3200172946062929,
          1.2920107799210232,
          -0.4672134494390364,
          -0.4255892680362301,
          -0.7883031262036172,
          -0.42466003092600074,
          1.312409195297587,
          0.09591687871532022,
          1.3971624576376163,
          0.5876017168531212,
          -0.9320959746324256,
          -1.554159956817357,
          0.34482741176093945,
          1.5468924170915168,
          -1.4034301158921905,
          -0.3421364854793705,
          -0.3700258002299505,
          0.18963240578518814,
          -0.8367522861239166,
          -1.4354639631629302,
          -0.1924128922031911,
          -0.4471995622697898,
          -0.20594738032034565,
          1.1666927760052315,
          0.8542061073093862,
          -0.045340865093400975,
          0.8829678490586947,
          2.6408083514235363,
          -0.5007660975317126,
          0.15144509399049666,
          -0.14989090307841002,
          -1.6619153347196627,
          1.0238621209857814,
          1.2221517095795575,
          -0.9735974374641312,
          -0.5627451263909823,
          -0.05804543402331785,
          0.9850109566618794,
          0.8381067825455304,
          -1.1621346812659719,
          -0.6289189456340682,
          0.9332556602694779,
          0.1801566919373079,
          0.10417651779157987,
          -0.14807796339151225,
          1.5990250523195302,
          -0.053927329507619894,
          -0.7783360488156015,
          -0.3700849764827003,
          2.2810591763490504,
          0.2542492977753961,
          2.762357088437156,
          0.6376042127156709,
          1.2695848172126263,
          0.45641857354305465,
          0.46965554004453053,
          -1.1173114686529768,
          0.3186506440608256,
          -1.2750038871380027,
          0.6618715619915841,
          0.08003220670383365,
          0.8067700142648925,
          -0.1022498040061927,
          -0.11343763353982858,
          -1.2410875845656366,
          0.5410071859457992,
          -0.008862683281114241,
          0.01483585722941619,
          -2.2886479470860417,
          -2.2874057157464414,
          -1.8809150648910813,
          -1.3995936415281152,
          -2.2829143071083657,
          0.8742765899714318,
          -3.559128971832099,
          -0.5292230111010272
         ]
        },
        {
         "connectgaps": false,
         "fill": "tozeroy",
         "line": {
          "color": "green",
          "dash": "solid",
          "shape": "linear",
          "width": 0.5
         },
         "mode": "lines",
         "name": "Spread",
         "showlegend": false,
         "type": "scatter",
         "x": [
          0,
          1,
          2,
          3,
          4,
          5,
          6,
          7,
          8,
          9,
          10,
          11,
          12,
          13,
          14,
          15,
          16,
          17,
          18,
          19,
          20,
          21,
          22,
          23,
          24,
          25,
          26,
          27,
          28,
          29,
          30,
          31,
          32,
          33,
          34,
          35,
          36,
          37,
          38,
          39,
          40,
          41,
          42,
          43,
          44,
          45,
          46,
          47,
          48,
          49,
          50,
          51,
          52,
          53,
          54,
          55,
          56,
          57,
          58,
          59,
          60,
          61,
          62,
          63,
          64,
          65,
          66,
          67,
          68,
          69,
          70,
          71,
          72,
          73,
          74,
          75,
          76,
          77,
          78,
          79,
          80,
          81,
          82,
          83,
          84,
          85,
          86,
          87,
          88,
          89,
          90,
          91,
          92,
          93,
          94,
          95,
          96,
          97,
          98,
          99
         ],
         "xaxis": "x2",
         "y": [
          1.0668458345081782,
          "",
          0.008810261018547094,
          0.02317920049653724,
          "",
          0.9741403463565776,
          0.7697541021725478,
          "",
          0.5164861604825535,
          0.36302723212608845,
          1.270602345044435,
          0.06958611890777266,
          0.031776687036984844,
          0.8136793890716283,
          0.3186312528270452,
          "",
          0.827194970789629,
          1.2370277542491301,
          1.555923359474519,
          2.58456672462722,
          "",
          "",
          2.8540949566822738,
          1.3591468931287447,
          0.8158758835282194,
          "",
          "",
          "",
          0.3185555212738131,
          0.8871301271925716,
          "",
          0.1723434602905145,
          "",
          1.2766779521299645,
          1.286766593066082,
          1.253152262505837,
          "",
          "",
          2.461673179574265,
          "",
          0.1908886396668165,
          0.09723318263491426,
          2.334277454801509,
          1.6028185140662137,
          2.0816849864087783,
          1.647218671995068,
          0.08870979605565979,
          "",
          0.3525323616708661,
          0.7448501571511463,
          "",
          "",
          2.324808401315925,
          "",
          "",
          "",
          0.6277647971363878,
          0.3292974341223822,
          1.1504559106965382,
          "",
          1.2591272111117966,
          "",
          0.4830302038143266,
          0.822680784657455,
          0.9690792980712026,
          "",
          0.010276495153586723,
          "",
          1.2142449455900985,
          0.6860760101873984,
          "",
          1.566764628937664,
          1.193282223215737,
          "",
          0.42095771881033345,
          "",
          "",
          "",
          "",
          "",
          0.4924542276943292,
          "",
          "",
          0.7507407032585073,
          0.1107269645579397,
          "",
          "",
          1.8024682673730916,
          0.3702638305352225,
          "",
          "",
          0.283647427184202,
          1.7250321168642637,
          1.982661254518602,
          2.887164838151218,
          1.6778495584601933,
          2.849530561029533,
          "",
          2.212828135838146,
          0.8539111654687932
         ],
         "yaxis": "y2"
        },
        {
         "connectgaps": false,
         "fill": "tozeroy",
         "line": {
          "color": "red",
          "dash": "solid",
          "shape": "linear",
          "width": 0.5
         },
         "mode": "lines",
         "name": "Spread",
         "showlegend": false,
         "type": "scatter",
         "x": [
          0,
          1,
          2,
          3,
          4,
          5,
          6,
          7,
          8,
          9,
          10,
          11,
          12,
          13,
          14,
          15,
          16,
          17,
          18,
          19,
          20,
          21,
          22,
          23,
          24,
          25,
          26,
          27,
          28,
          29,
          30,
          31,
          32,
          33,
          34,
          35,
          36,
          37,
          38,
          39,
          40,
          41,
          42,
          43,
          44,
          45,
          46,
          47,
          48,
          49,
          50,
          51,
          52,
          53,
          54,
          55,
          56,
          57,
          58,
          59,
          60,
          61,
          62,
          63,
          64,
          65,
          66,
          67,
          68,
          69,
          70,
          71,
          72,
          73,
          74,
          75,
          76,
          77,
          78,
          79,
          80,
          81,
          82,
          83,
          84,
          85,
          86,
          87,
          88,
          89,
          90,
          91,
          92,
          93,
          94,
          95,
          96,
          97,
          98,
          99
         ],
         "xaxis": "x2",
         "y": [
          "",
          -0.9960880938526369,
          "",
          "",
          -1.85225039626915,
          "",
          "",
          -1.3124516323134847,
          "",
          "",
          "",
          "",
          "",
          "",
          "",
          -1.7669882179522947,
          "",
          "",
          "",
          "",
          -1.9557795085519623,
          -1.8651098874081917,
          "",
          "",
          "",
          -0.8882333713922593,
          -0.6440385935331511,
          -0.05819465042797761,
          "",
          "",
          -1.717603741369146,
          "",
          -4.760449335365802,
          "",
          "",
          "",
          -0.5295639372820055,
          -1.7176729344596886,
          "",
          -0.4958052267503481,
          "",
          "",
          "",
          "",
          "",
          "",
          "",
          -2.5590570084205435,
          "",
          "",
          -1.3332864214426328,
          -3.717614202045131,
          "",
          -1.4363298411136651,
          -1.1594086769201728,
          -0.5901656803424542,
          "",
          "",
          "",
          -0.35086349525364036,
          "",
          -1.1831738721525755,
          "",
          "",
          "",
          -1.727430550806499,
          "",
          -0.6478582530561335,
          "",
          "",
          -0.7727460008876152,
          "",
          "",
          -1.9570509939209084,
          "",
          -3.6063297060951203,
          -0.8436975492964114,
          -2.817852822682247,
          -0.840763686162474,
          -0.3927347041778533,
          "",
          -0.4811391588763769,
          -0.570903588569172,
          "",
          "",
          -0.631094329847004,
          -0.5431009483046209,
          "",
          "",
          -0.29087279680391476,
          -1.4126243068972946,
          "",
          "",
          "",
          "",
          "",
          "",
          -1.8045491611661604,
          "",
          ""
         ],
         "yaxis": "y2"
        }
       ],
       "layout": {
        "hovermode": "x",
        "legend": {
         "bgcolor": "#F5F6F9",
         "font": {
          "color": "#4D5663"
         }
        },
        "paper_bgcolor": "#F5F6F9",
        "plot_bgcolor": "#F5F6F9",
        "template": {
         "data": {
          "bar": [
           {
            "error_x": {
             "color": "#2a3f5f"
            },
            "error_y": {
             "color": "#2a3f5f"
            },
            "marker": {
             "line": {
              "color": "#E5ECF6",
              "width": 0.5
             }
            },
            "type": "bar"
           }
          ],
          "barpolar": [
           {
            "marker": {
             "line": {
              "color": "#E5ECF6",
              "width": 0.5
             }
            },
            "type": "barpolar"
           }
          ],
          "carpet": [
           {
            "aaxis": {
             "endlinecolor": "#2a3f5f",
             "gridcolor": "white",
             "linecolor": "white",
             "minorgridcolor": "white",
             "startlinecolor": "#2a3f5f"
            },
            "baxis": {
             "endlinecolor": "#2a3f5f",
             "gridcolor": "white",
             "linecolor": "white",
             "minorgridcolor": "white",
             "startlinecolor": "#2a3f5f"
            },
            "type": "carpet"
           }
          ],
          "choropleth": [
           {
            "colorbar": {
             "outlinewidth": 0,
             "ticks": ""
            },
            "type": "choropleth"
           }
          ],
          "contour": [
           {
            "colorbar": {
             "outlinewidth": 0,
             "ticks": ""
            },
            "colorscale": [
             [
              0,
              "#0d0887"
             ],
             [
              0.1111111111111111,
              "#46039f"
             ],
             [
              0.2222222222222222,
              "#7201a8"
             ],
             [
              0.3333333333333333,
              "#9c179e"
             ],
             [
              0.4444444444444444,
              "#bd3786"
             ],
             [
              0.5555555555555556,
              "#d8576b"
             ],
             [
              0.6666666666666666,
              "#ed7953"
             ],
             [
              0.7777777777777778,
              "#fb9f3a"
             ],
             [
              0.8888888888888888,
              "#fdca26"
             ],
             [
              1,
              "#f0f921"
             ]
            ],
            "type": "contour"
           }
          ],
          "contourcarpet": [
           {
            "colorbar": {
             "outlinewidth": 0,
             "ticks": ""
            },
            "type": "contourcarpet"
           }
          ],
          "heatmap": [
           {
            "colorbar": {
             "outlinewidth": 0,
             "ticks": ""
            },
            "colorscale": [
             [
              0,
              "#0d0887"
             ],
             [
              0.1111111111111111,
              "#46039f"
             ],
             [
              0.2222222222222222,
              "#7201a8"
             ],
             [
              0.3333333333333333,
              "#9c179e"
             ],
             [
              0.4444444444444444,
              "#bd3786"
             ],
             [
              0.5555555555555556,
              "#d8576b"
             ],
             [
              0.6666666666666666,
              "#ed7953"
             ],
             [
              0.7777777777777778,
              "#fb9f3a"
             ],
             [
              0.8888888888888888,
              "#fdca26"
             ],
             [
              1,
              "#f0f921"
             ]
            ],
            "type": "heatmap"
           }
          ],
          "heatmapgl": [
           {
            "colorbar": {
             "outlinewidth": 0,
             "ticks": ""
            },
            "colorscale": [
             [
              0,
              "#0d0887"
             ],
             [
              0.1111111111111111,
              "#46039f"
             ],
             [
              0.2222222222222222,
              "#7201a8"
             ],
             [
              0.3333333333333333,
              "#9c179e"
             ],
             [
              0.4444444444444444,
              "#bd3786"
             ],
             [
              0.5555555555555556,
              "#d8576b"
             ],
             [
              0.6666666666666666,
              "#ed7953"
             ],
             [
              0.7777777777777778,
              "#fb9f3a"
             ],
             [
              0.8888888888888888,
              "#fdca26"
             ],
             [
              1,
              "#f0f921"
             ]
            ],
            "type": "heatmapgl"
           }
          ],
          "histogram": [
           {
            "marker": {
             "colorbar": {
              "outlinewidth": 0,
              "ticks": ""
             }
            },
            "type": "histogram"
           }
          ],
          "histogram2d": [
           {
            "colorbar": {
             "outlinewidth": 0,
             "ticks": ""
            },
            "colorscale": [
             [
              0,
              "#0d0887"
             ],
             [
              0.1111111111111111,
              "#46039f"
             ],
             [
              0.2222222222222222,
              "#7201a8"
             ],
             [
              0.3333333333333333,
              "#9c179e"
             ],
             [
              0.4444444444444444,
              "#bd3786"
             ],
             [
              0.5555555555555556,
              "#d8576b"
             ],
             [
              0.6666666666666666,
              "#ed7953"
             ],
             [
              0.7777777777777778,
              "#fb9f3a"
             ],
             [
              0.8888888888888888,
              "#fdca26"
             ],
             [
              1,
              "#f0f921"
             ]
            ],
            "type": "histogram2d"
           }
          ],
          "histogram2dcontour": [
           {
            "colorbar": {
             "outlinewidth": 0,
             "ticks": ""
            },
            "colorscale": [
             [
              0,
              "#0d0887"
             ],
             [
              0.1111111111111111,
              "#46039f"
             ],
             [
              0.2222222222222222,
              "#7201a8"
             ],
             [
              0.3333333333333333,
              "#9c179e"
             ],
             [
              0.4444444444444444,
              "#bd3786"
             ],
             [
              0.5555555555555556,
              "#d8576b"
             ],
             [
              0.6666666666666666,
              "#ed7953"
             ],
             [
              0.7777777777777778,
              "#fb9f3a"
             ],
             [
              0.8888888888888888,
              "#fdca26"
             ],
             [
              1,
              "#f0f921"
             ]
            ],
            "type": "histogram2dcontour"
           }
          ],
          "mesh3d": [
           {
            "colorbar": {
             "outlinewidth": 0,
             "ticks": ""
            },
            "type": "mesh3d"
           }
          ],
          "parcoords": [
           {
            "line": {
             "colorbar": {
              "outlinewidth": 0,
              "ticks": ""
             }
            },
            "type": "parcoords"
           }
          ],
          "pie": [
           {
            "automargin": true,
            "type": "pie"
           }
          ],
          "scatter": [
           {
            "marker": {
             "colorbar": {
              "outlinewidth": 0,
              "ticks": ""
             }
            },
            "type": "scatter"
           }
          ],
          "scatter3d": [
           {
            "line": {
             "colorbar": {
              "outlinewidth": 0,
              "ticks": ""
             }
            },
            "marker": {
             "colorbar": {
              "outlinewidth": 0,
              "ticks": ""
             }
            },
            "type": "scatter3d"
           }
          ],
          "scattercarpet": [
           {
            "marker": {
             "colorbar": {
              "outlinewidth": 0,
              "ticks": ""
             }
            },
            "type": "scattercarpet"
           }
          ],
          "scattergeo": [
           {
            "marker": {
             "colorbar": {
              "outlinewidth": 0,
              "ticks": ""
             }
            },
            "type": "scattergeo"
           }
          ],
          "scattergl": [
           {
            "marker": {
             "colorbar": {
              "outlinewidth": 0,
              "ticks": ""
             }
            },
            "type": "scattergl"
           }
          ],
          "scattermapbox": [
           {
            "marker": {
             "colorbar": {
              "outlinewidth": 0,
              "ticks": ""
             }
            },
            "type": "scattermapbox"
           }
          ],
          "scatterpolar": [
           {
            "marker": {
             "colorbar": {
              "outlinewidth": 0,
              "ticks": ""
             }
            },
            "type": "scatterpolar"
           }
          ],
          "scatterpolargl": [
           {
            "marker": {
             "colorbar": {
              "outlinewidth": 0,
              "ticks": ""
             }
            },
            "type": "scatterpolargl"
           }
          ],
          "scatterternary": [
           {
            "marker": {
             "colorbar": {
              "outlinewidth": 0,
              "ticks": ""
             }
            },
            "type": "scatterternary"
           }
          ],
          "surface": [
           {
            "colorbar": {
             "outlinewidth": 0,
             "ticks": ""
            },
            "colorscale": [
             [
              0,
              "#0d0887"
             ],
             [
              0.1111111111111111,
              "#46039f"
             ],
             [
              0.2222222222222222,
              "#7201a8"
             ],
             [
              0.3333333333333333,
              "#9c179e"
             ],
             [
              0.4444444444444444,
              "#bd3786"
             ],
             [
              0.5555555555555556,
              "#d8576b"
             ],
             [
              0.6666666666666666,
              "#ed7953"
             ],
             [
              0.7777777777777778,
              "#fb9f3a"
             ],
             [
              0.8888888888888888,
              "#fdca26"
             ],
             [
              1,
              "#f0f921"
             ]
            ],
            "type": "surface"
           }
          ],
          "table": [
           {
            "cells": {
             "fill": {
              "color": "#EBF0F8"
             },
             "line": {
              "color": "white"
             }
            },
            "header": {
             "fill": {
              "color": "#C8D4E3"
             },
             "line": {
              "color": "white"
             }
            },
            "type": "table"
           }
          ]
         },
         "layout": {
          "annotationdefaults": {
           "arrowcolor": "#2a3f5f",
           "arrowhead": 0,
           "arrowwidth": 1
          },
          "coloraxis": {
           "colorbar": {
            "outlinewidth": 0,
            "ticks": ""
           }
          },
          "colorscale": {
           "diverging": [
            [
             0,
             "#8e0152"
            ],
            [
             0.1,
             "#c51b7d"
            ],
            [
             0.2,
             "#de77ae"
            ],
            [
             0.3,
             "#f1b6da"
            ],
            [
             0.4,
             "#fde0ef"
            ],
            [
             0.5,
             "#f7f7f7"
            ],
            [
             0.6,
             "#e6f5d0"
            ],
            [
             0.7,
             "#b8e186"
            ],
            [
             0.8,
             "#7fbc41"
            ],
            [
             0.9,
             "#4d9221"
            ],
            [
             1,
             "#276419"
            ]
           ],
           "sequential": [
            [
             0,
             "#0d0887"
            ],
            [
             0.1111111111111111,
             "#46039f"
            ],
            [
             0.2222222222222222,
             "#7201a8"
            ],
            [
             0.3333333333333333,
             "#9c179e"
            ],
            [
             0.4444444444444444,
             "#bd3786"
            ],
            [
             0.5555555555555556,
             "#d8576b"
            ],
            [
             0.6666666666666666,
             "#ed7953"
            ],
            [
             0.7777777777777778,
             "#fb9f3a"
            ],
            [
             0.8888888888888888,
             "#fdca26"
            ],
            [
             1,
             "#f0f921"
            ]
           ],
           "sequentialminus": [
            [
             0,
             "#0d0887"
            ],
            [
             0.1111111111111111,
             "#46039f"
            ],
            [
             0.2222222222222222,
             "#7201a8"
            ],
            [
             0.3333333333333333,
             "#9c179e"
            ],
            [
             0.4444444444444444,
             "#bd3786"
            ],
            [
             0.5555555555555556,
             "#d8576b"
            ],
            [
             0.6666666666666666,
             "#ed7953"
            ],
            [
             0.7777777777777778,
             "#fb9f3a"
            ],
            [
             0.8888888888888888,
             "#fdca26"
            ],
            [
             1,
             "#f0f921"
            ]
           ]
          },
          "colorway": [
           "#636efa",
           "#EF553B",
           "#00cc96",
           "#ab63fa",
           "#FFA15A",
           "#19d3f3",
           "#FF6692",
           "#B6E880",
           "#FF97FF",
           "#FECB52"
          ],
          "font": {
           "color": "#2a3f5f"
          },
          "geo": {
           "bgcolor": "white",
           "lakecolor": "white",
           "landcolor": "#E5ECF6",
           "showlakes": true,
           "showland": true,
           "subunitcolor": "white"
          },
          "hoverlabel": {
           "align": "left"
          },
          "hovermode": "closest",
          "mapbox": {
           "style": "light"
          },
          "paper_bgcolor": "white",
          "plot_bgcolor": "#E5ECF6",
          "polar": {
           "angularaxis": {
            "gridcolor": "white",
            "linecolor": "white",
            "ticks": ""
           },
           "bgcolor": "#E5ECF6",
           "radialaxis": {
            "gridcolor": "white",
            "linecolor": "white",
            "ticks": ""
           }
          },
          "scene": {
           "xaxis": {
            "backgroundcolor": "#E5ECF6",
            "gridcolor": "white",
            "gridwidth": 2,
            "linecolor": "white",
            "showbackground": true,
            "ticks": "",
            "zerolinecolor": "white"
           },
           "yaxis": {
            "backgroundcolor": "#E5ECF6",
            "gridcolor": "white",
            "gridwidth": 2,
            "linecolor": "white",
            "showbackground": true,
            "ticks": "",
            "zerolinecolor": "white"
           },
           "zaxis": {
            "backgroundcolor": "#E5ECF6",
            "gridcolor": "white",
            "gridwidth": 2,
            "linecolor": "white",
            "showbackground": true,
            "ticks": "",
            "zerolinecolor": "white"
           }
          },
          "shapedefaults": {
           "line": {
            "color": "#2a3f5f"
           }
          },
          "ternary": {
           "aaxis": {
            "gridcolor": "white",
            "linecolor": "white",
            "ticks": ""
           },
           "baxis": {
            "gridcolor": "white",
            "linecolor": "white",
            "ticks": ""
           },
           "bgcolor": "#E5ECF6",
           "caxis": {
            "gridcolor": "white",
            "linecolor": "white",
            "ticks": ""
           }
          },
          "title": {
           "x": 0.05
          },
          "xaxis": {
           "automargin": true,
           "gridcolor": "white",
           "linecolor": "white",
           "ticks": "",
           "title": {
            "standoff": 15
           },
           "zerolinecolor": "white",
           "zerolinewidth": 2
          },
          "yaxis": {
           "automargin": true,
           "gridcolor": "white",
           "linecolor": "white",
           "ticks": "",
           "title": {
            "standoff": 15
           },
           "zerolinecolor": "white",
           "zerolinewidth": 2
          }
         }
        },
        "title": {
         "font": {
          "color": "#4D5663"
         }
        },
        "xaxis": {
         "gridcolor": "#E1E5ED",
         "showgrid": true,
         "tickfont": {
          "color": "#4D5663"
         },
         "title": {
          "font": {
           "color": "#4D5663"
          },
          "text": ""
         },
         "zerolinecolor": "#E1E5ED"
        },
        "xaxis2": {
         "anchor": "y2",
         "gridcolor": "#E1E5ED",
         "showgrid": true,
         "showticklabels": false,
         "tickfont": {
          "color": "#4D5663"
         },
         "title": {
          "font": {
           "color": "#4D5663"
          },
          "text": ""
         },
         "zerolinecolor": "#E1E5ED"
        },
        "yaxis": {
         "domain": [
          0.3,
          1
         ],
         "gridcolor": "#E1E5ED",
         "showgrid": true,
         "tickfont": {
          "color": "#4D5663"
         },
         "title": {
          "font": {
           "color": "#4D5663"
          },
          "text": ""
         },
         "zerolinecolor": "#E1E5ED"
        },
        "yaxis2": {
         "domain": [
          0,
          0.25
         ],
         "gridcolor": "#E1E5ED",
         "showgrid": true,
         "tickfont": {
          "color": "#4D5663"
         },
         "title": {
          "font": {
           "color": "#4D5663"
          },
          "text": "Spread"
         },
         "zerolinecolor": "#E1E5ED"
        }
       }
      },
      "text/html": [
       "<div>\n",
       "        \n",
       "        \n",
       "            <div id=\"7d322d6e-cc31-4b62-890e-840c85cb000e\" class=\"plotly-graph-div\" style=\"height:525px; width:100%;\"></div>\n",
       "            <script type=\"text/javascript\">\n",
       "                require([\"plotly\"], function(Plotly) {\n",
       "                    window.PLOTLYENV=window.PLOTLYENV || {};\n",
       "                    window.PLOTLYENV.BASE_URL='https://plot.ly';\n",
       "                    \n",
       "                if (document.getElementById(\"7d322d6e-cc31-4b62-890e-840c85cb000e\")) {\n",
       "                    Plotly.newPlot(\n",
       "                        '7d322d6e-cc31-4b62-890e-840c85cb000e',\n",
       "                        [{\"line\": {\"color\": \"rgba(255, 153, 51, 1.0)\", \"dash\": \"solid\", \"shape\": \"linear\", \"width\": 1.3}, \"mode\": \"lines\", \"name\": \"A\", \"text\": \"\", \"type\": \"scatter\", \"x\": [0, 1, 2, 3, 4, 5, 6, 7, 8, 9, 10, 11, 12, 13, 14, 15, 16, 17, 18, 19, 20, 21, 22, 23, 24, 25, 26, 27, 28, 29, 30, 31, 32, 33, 34, 35, 36, 37, 38, 39, 40, 41, 42, 43, 44, 45, 46, 47, 48, 49, 50, 51, 52, 53, 54, 55, 56, 57, 58, 59, 60, 61, 62, 63, 64, 65, 66, 67, 68, 69, 70, 71, 72, 73, 74, 75, 76, 77, 78, 79, 80, 81, 82, 83, 84, 85, 86, 87, 88, 89, 90, 91, 92, 93, 94, 95, 96, 97, 98, 99], \"y\": [1.3522419087117923, -1.4367485228096082, 0.34246615131765074, 0.22501371995467404, -1.3835773588716889, -0.3786606793558325, 1.5700394365681638, -0.4389112823843724, 0.019327259196934583, -0.7871373062572039, 1.1582459987267817, 0.5419561074166749, 0.10300724317610074, 1.056526493789133, -0.5935929218146352, -0.9400064843743166, 0.8184536422660786, 0.6051514716477069, 1.986033931482904, 3.654979997899412, 0.17858108615271165, -1.5513735777578752, 1.9711731349620212, 0.6244032392053847, 1.1358931781345123, 0.40377740852876387, -1.1112520429721875, -0.4837839184642077, -0.4697476049298041, 0.4624700962665709, -0.40519454607155914, 0.26826033900583474, -3.363286877728186, 1.8642796689830858, 0.3546706184336565, -0.3010076943115201, -0.184736525521066, -0.17078051736817168, 1.0582430636820745, -0.8379417122297186, -0.17913716056313403, 0.2868655884201024, 1.4975251686775926, 0.1673545509032834, 1.8892720942055872, 1.2000191097252784, -0.11723758426468586, -1.3923642324153118, 1.2067384689802523, 0.6995092920577454, -0.450318572383938, -1.0768058506215945, 1.8240423037842124, -1.2848847471231686, -1.3092995799985827, -2.252081015062117, 1.6516269181221692, 1.5514491437019398, 0.17685847323240705, -0.9136086216446226, 1.2010817770884787, -0.19816291549069612, 1.321136986359857, -0.3394538966085169, 0.34016035243713444, -0.7941748905370211, 0.19043318709089463, -0.5436817352645537, 1.0661669821985864, 2.2851010625069286, -0.8266733303952352, 0.7884285801220625, 0.8231972467330367, 0.324008182428142, 0.6752070165857296, -0.8439726176579643, -0.20609333658074047, -1.5482680054696205, -0.38434511261941934, 0.07692083586667725, -0.6248572409586476, -0.16248851481555132, -1.8459074757071747, 1.4126122652500914, 0.19075917126177336, 0.1756756844178885, -0.6453507523108135, 1.689030633833263, -0.8708237540304141, 0.25013438914188446, -1.4214869901784088, 0.2984832844136182, -0.5636158302217779, -0.30474446122783944, 1.006249773260137, 0.2782559169320781, 0.5666162539211673, -0.9302725711947286, -1.3463008359939528, 0.32468815436776594]}, {\"line\": {\"color\": \"rgba(55, 128, 191, 1.0)\", \"dash\": \"solid\", \"shape\": \"linear\", \"width\": 1.3}, \"mode\": \"lines\", \"name\": \"B\", \"text\": \"\", \"type\": \"scatter\", \"x\": [0, 1, 2, 3, 4, 5, 6, 7, 8, 9, 10, 11, 12, 13, 14, 15, 16, 17, 18, 19, 20, 21, 22, 23, 24, 25, 26, 27, 28, 29, 30, 31, 32, 33, 34, 35, 36, 37, 38, 39, 40, 41, 42, 43, 44, 45, 46, 47, 48, 49, 50, 51, 52, 53, 54, 55, 56, 57, 58, 59, 60, 61, 62, 63, 64, 65, 66, 67, 68, 69, 70, 71, 72, 73, 74, 75, 76, 77, 78, 79, 80, 81, 82, 83, 84, 85, 86, 87, 88, 89, 90, 91, 92, 93, 94, 95, 96, 97, 98, 99], \"y\": [0.2853960742036141, -0.4406604289569714, 0.33365589029910364, 0.2018345194581368, 0.468673037397461, -1.3528010257124101, 0.800285334395616, 0.8735403499291123, -0.4971589012856189, -1.1501645383832924, -0.11235634631765345, 0.4723699885089022, 0.0712305561391159, 0.24284710471750473, -0.9122241746416804, 0.8269817335779781, -0.00874132852355032, -0.6318762826014234, 0.43011057200838515, 1.0704132732721918, 2.134360594704674, 0.31373630965031646, -0.8829218217202525, -0.73474365392336, 0.3200172946062929, 1.2920107799210232, -0.4672134494390364, -0.4255892680362301, -0.7883031262036172, -0.42466003092600074, 1.312409195297587, 0.09591687871532022, 1.3971624576376163, 0.5876017168531212, -0.9320959746324256, -1.554159956817357, 0.34482741176093945, 1.5468924170915168, -1.4034301158921905, -0.3421364854793705, -0.3700258002299505, 0.18963240578518814, -0.8367522861239166, -1.4354639631629302, -0.1924128922031911, -0.4471995622697898, -0.20594738032034565, 1.1666927760052315, 0.8542061073093862, -0.045340865093400975, 0.8829678490586947, 2.6408083514235363, -0.5007660975317126, 0.15144509399049666, -0.14989090307841002, -1.6619153347196627, 1.0238621209857814, 1.2221517095795575, -0.9735974374641312, -0.5627451263909823, -0.05804543402331785, 0.9850109566618794, 0.8381067825455304, -1.1621346812659719, -0.6289189456340682, 0.9332556602694779, 0.1801566919373079, 0.10417651779157987, -0.14807796339151225, 1.5990250523195302, -0.053927329507619894, -0.7783360488156015, -0.3700849764827003, 2.2810591763490504, 0.2542492977753961, 2.762357088437156, 0.6376042127156709, 1.2695848172126263, 0.45641857354305465, 0.46965554004453053, -1.1173114686529768, 0.3186506440608256, -1.2750038871380027, 0.6618715619915841, 0.08003220670383365, 0.8067700142648925, -0.1022498040061927, -0.11343763353982858, -1.2410875845656366, 0.5410071859457992, -0.008862683281114241, 0.01483585722941619, -2.2886479470860417, -2.2874057157464414, -1.8809150648910813, -1.3995936415281152, -2.2829143071083657, 0.8742765899714318, -3.559128971832099, -0.5292230111010272]}, {\"connectgaps\": false, \"fill\": \"tozeroy\", \"line\": {\"color\": \"green\", \"dash\": \"solid\", \"shape\": \"linear\", \"width\": 0.5}, \"mode\": \"lines\", \"name\": \"Spread\", \"showlegend\": false, \"type\": \"scatter\", \"x\": [0, 1, 2, 3, 4, 5, 6, 7, 8, 9, 10, 11, 12, 13, 14, 15, 16, 17, 18, 19, 20, 21, 22, 23, 24, 25, 26, 27, 28, 29, 30, 31, 32, 33, 34, 35, 36, 37, 38, 39, 40, 41, 42, 43, 44, 45, 46, 47, 48, 49, 50, 51, 52, 53, 54, 55, 56, 57, 58, 59, 60, 61, 62, 63, 64, 65, 66, 67, 68, 69, 70, 71, 72, 73, 74, 75, 76, 77, 78, 79, 80, 81, 82, 83, 84, 85, 86, 87, 88, 89, 90, 91, 92, 93, 94, 95, 96, 97, 98, 99], \"xaxis\": \"x2\", \"y\": [1.0668458345081782, \"\", 0.008810261018547094, 0.02317920049653724, \"\", 0.9741403463565776, 0.7697541021725478, \"\", 0.5164861604825535, 0.36302723212608845, 1.270602345044435, 0.06958611890777266, 0.031776687036984844, 0.8136793890716283, 0.3186312528270452, \"\", 0.827194970789629, 1.2370277542491301, 1.555923359474519, 2.58456672462722, \"\", \"\", 2.8540949566822738, 1.3591468931287447, 0.8158758835282194, \"\", \"\", \"\", 0.3185555212738131, 0.8871301271925716, \"\", 0.1723434602905145, \"\", 1.2766779521299645, 1.286766593066082, 1.253152262505837, \"\", \"\", 2.461673179574265, \"\", 0.1908886396668165, 0.09723318263491426, 2.334277454801509, 1.6028185140662137, 2.0816849864087783, 1.647218671995068, 0.08870979605565979, \"\", 0.3525323616708661, 0.7448501571511463, \"\", \"\", 2.324808401315925, \"\", \"\", \"\", 0.6277647971363878, 0.3292974341223822, 1.1504559106965382, \"\", 1.2591272111117966, \"\", 0.4830302038143266, 0.822680784657455, 0.9690792980712026, \"\", 0.010276495153586723, \"\", 1.2142449455900985, 0.6860760101873984, \"\", 1.566764628937664, 1.193282223215737, \"\", 0.42095771881033345, \"\", \"\", \"\", \"\", \"\", 0.4924542276943292, \"\", \"\", 0.7507407032585073, 0.1107269645579397, \"\", \"\", 1.8024682673730916, 0.3702638305352225, \"\", \"\", 0.283647427184202, 1.7250321168642637, 1.982661254518602, 2.887164838151218, 1.6778495584601933, 2.849530561029533, \"\", 2.212828135838146, 0.8539111654687932], \"yaxis\": \"y2\"}, {\"connectgaps\": false, \"fill\": \"tozeroy\", \"line\": {\"color\": \"red\", \"dash\": \"solid\", \"shape\": \"linear\", \"width\": 0.5}, \"mode\": \"lines\", \"name\": \"Spread\", \"showlegend\": false, \"type\": \"scatter\", \"x\": [0, 1, 2, 3, 4, 5, 6, 7, 8, 9, 10, 11, 12, 13, 14, 15, 16, 17, 18, 19, 20, 21, 22, 23, 24, 25, 26, 27, 28, 29, 30, 31, 32, 33, 34, 35, 36, 37, 38, 39, 40, 41, 42, 43, 44, 45, 46, 47, 48, 49, 50, 51, 52, 53, 54, 55, 56, 57, 58, 59, 60, 61, 62, 63, 64, 65, 66, 67, 68, 69, 70, 71, 72, 73, 74, 75, 76, 77, 78, 79, 80, 81, 82, 83, 84, 85, 86, 87, 88, 89, 90, 91, 92, 93, 94, 95, 96, 97, 98, 99], \"xaxis\": \"x2\", \"y\": [\"\", -0.9960880938526369, \"\", \"\", -1.85225039626915, \"\", \"\", -1.3124516323134847, \"\", \"\", \"\", \"\", \"\", \"\", \"\", -1.7669882179522947, \"\", \"\", \"\", \"\", -1.9557795085519623, -1.8651098874081917, \"\", \"\", \"\", -0.8882333713922593, -0.6440385935331511, -0.05819465042797761, \"\", \"\", -1.717603741369146, \"\", -4.760449335365802, \"\", \"\", \"\", -0.5295639372820055, -1.7176729344596886, \"\", -0.4958052267503481, \"\", \"\", \"\", \"\", \"\", \"\", \"\", -2.5590570084205435, \"\", \"\", -1.3332864214426328, -3.717614202045131, \"\", -1.4363298411136651, -1.1594086769201728, -0.5901656803424542, \"\", \"\", \"\", -0.35086349525364036, \"\", -1.1831738721525755, \"\", \"\", \"\", -1.727430550806499, \"\", -0.6478582530561335, \"\", \"\", -0.7727460008876152, \"\", \"\", -1.9570509939209084, \"\", -3.6063297060951203, -0.8436975492964114, -2.817852822682247, -0.840763686162474, -0.3927347041778533, \"\", -0.4811391588763769, -0.570903588569172, \"\", \"\", -0.631094329847004, -0.5431009483046209, \"\", \"\", -0.29087279680391476, -1.4126243068972946, \"\", \"\", \"\", \"\", \"\", \"\", -1.8045491611661604, \"\", \"\"], \"yaxis\": \"y2\"}],\n",
       "                        {\"hovermode\": \"x\", \"legend\": {\"bgcolor\": \"#F5F6F9\", \"font\": {\"color\": \"#4D5663\"}}, \"paper_bgcolor\": \"#F5F6F9\", \"plot_bgcolor\": \"#F5F6F9\", \"template\": {\"data\": {\"bar\": [{\"error_x\": {\"color\": \"#2a3f5f\"}, \"error_y\": {\"color\": \"#2a3f5f\"}, \"marker\": {\"line\": {\"color\": \"#E5ECF6\", \"width\": 0.5}}, \"type\": \"bar\"}], \"barpolar\": [{\"marker\": {\"line\": {\"color\": \"#E5ECF6\", \"width\": 0.5}}, \"type\": \"barpolar\"}], \"carpet\": [{\"aaxis\": {\"endlinecolor\": \"#2a3f5f\", \"gridcolor\": \"white\", \"linecolor\": \"white\", \"minorgridcolor\": \"white\", \"startlinecolor\": \"#2a3f5f\"}, \"baxis\": {\"endlinecolor\": \"#2a3f5f\", \"gridcolor\": \"white\", \"linecolor\": \"white\", \"minorgridcolor\": \"white\", \"startlinecolor\": \"#2a3f5f\"}, \"type\": \"carpet\"}], \"choropleth\": [{\"colorbar\": {\"outlinewidth\": 0, \"ticks\": \"\"}, \"type\": \"choropleth\"}], \"contour\": [{\"colorbar\": {\"outlinewidth\": 0, \"ticks\": \"\"}, \"colorscale\": [[0.0, \"#0d0887\"], [0.1111111111111111, \"#46039f\"], [0.2222222222222222, \"#7201a8\"], [0.3333333333333333, \"#9c179e\"], [0.4444444444444444, \"#bd3786\"], [0.5555555555555556, \"#d8576b\"], [0.6666666666666666, \"#ed7953\"], [0.7777777777777778, \"#fb9f3a\"], [0.8888888888888888, \"#fdca26\"], [1.0, \"#f0f921\"]], \"type\": \"contour\"}], \"contourcarpet\": [{\"colorbar\": {\"outlinewidth\": 0, \"ticks\": \"\"}, \"type\": \"contourcarpet\"}], \"heatmap\": [{\"colorbar\": {\"outlinewidth\": 0, \"ticks\": \"\"}, \"colorscale\": [[0.0, \"#0d0887\"], [0.1111111111111111, \"#46039f\"], [0.2222222222222222, \"#7201a8\"], [0.3333333333333333, \"#9c179e\"], [0.4444444444444444, \"#bd3786\"], [0.5555555555555556, \"#d8576b\"], [0.6666666666666666, \"#ed7953\"], [0.7777777777777778, \"#fb9f3a\"], [0.8888888888888888, \"#fdca26\"], [1.0, \"#f0f921\"]], \"type\": \"heatmap\"}], \"heatmapgl\": [{\"colorbar\": {\"outlinewidth\": 0, \"ticks\": \"\"}, \"colorscale\": [[0.0, \"#0d0887\"], [0.1111111111111111, \"#46039f\"], [0.2222222222222222, \"#7201a8\"], [0.3333333333333333, \"#9c179e\"], [0.4444444444444444, \"#bd3786\"], [0.5555555555555556, \"#d8576b\"], [0.6666666666666666, \"#ed7953\"], [0.7777777777777778, \"#fb9f3a\"], [0.8888888888888888, \"#fdca26\"], [1.0, \"#f0f921\"]], \"type\": \"heatmapgl\"}], \"histogram\": [{\"marker\": {\"colorbar\": {\"outlinewidth\": 0, \"ticks\": \"\"}}, \"type\": \"histogram\"}], \"histogram2d\": [{\"colorbar\": {\"outlinewidth\": 0, \"ticks\": \"\"}, \"colorscale\": [[0.0, \"#0d0887\"], [0.1111111111111111, \"#46039f\"], [0.2222222222222222, \"#7201a8\"], [0.3333333333333333, \"#9c179e\"], [0.4444444444444444, \"#bd3786\"], [0.5555555555555556, \"#d8576b\"], [0.6666666666666666, \"#ed7953\"], [0.7777777777777778, \"#fb9f3a\"], [0.8888888888888888, \"#fdca26\"], [1.0, \"#f0f921\"]], \"type\": \"histogram2d\"}], \"histogram2dcontour\": [{\"colorbar\": {\"outlinewidth\": 0, \"ticks\": \"\"}, \"colorscale\": [[0.0, \"#0d0887\"], [0.1111111111111111, \"#46039f\"], [0.2222222222222222, \"#7201a8\"], [0.3333333333333333, \"#9c179e\"], [0.4444444444444444, \"#bd3786\"], [0.5555555555555556, \"#d8576b\"], [0.6666666666666666, \"#ed7953\"], [0.7777777777777778, \"#fb9f3a\"], [0.8888888888888888, \"#fdca26\"], [1.0, \"#f0f921\"]], \"type\": \"histogram2dcontour\"}], \"mesh3d\": [{\"colorbar\": {\"outlinewidth\": 0, \"ticks\": \"\"}, \"type\": \"mesh3d\"}], \"parcoords\": [{\"line\": {\"colorbar\": {\"outlinewidth\": 0, \"ticks\": \"\"}}, \"type\": \"parcoords\"}], \"pie\": [{\"automargin\": true, \"type\": \"pie\"}], \"scatter\": [{\"marker\": {\"colorbar\": {\"outlinewidth\": 0, \"ticks\": \"\"}}, \"type\": \"scatter\"}], \"scatter3d\": [{\"line\": {\"colorbar\": {\"outlinewidth\": 0, \"ticks\": \"\"}}, \"marker\": {\"colorbar\": {\"outlinewidth\": 0, \"ticks\": \"\"}}, \"type\": \"scatter3d\"}], \"scattercarpet\": [{\"marker\": {\"colorbar\": {\"outlinewidth\": 0, \"ticks\": \"\"}}, \"type\": \"scattercarpet\"}], \"scattergeo\": [{\"marker\": {\"colorbar\": {\"outlinewidth\": 0, \"ticks\": \"\"}}, \"type\": \"scattergeo\"}], \"scattergl\": [{\"marker\": {\"colorbar\": {\"outlinewidth\": 0, \"ticks\": \"\"}}, \"type\": \"scattergl\"}], \"scattermapbox\": [{\"marker\": {\"colorbar\": {\"outlinewidth\": 0, \"ticks\": \"\"}}, \"type\": \"scattermapbox\"}], \"scatterpolar\": [{\"marker\": {\"colorbar\": {\"outlinewidth\": 0, \"ticks\": \"\"}}, \"type\": \"scatterpolar\"}], \"scatterpolargl\": [{\"marker\": {\"colorbar\": {\"outlinewidth\": 0, \"ticks\": \"\"}}, \"type\": \"scatterpolargl\"}], \"scatterternary\": [{\"marker\": {\"colorbar\": {\"outlinewidth\": 0, \"ticks\": \"\"}}, \"type\": \"scatterternary\"}], \"surface\": [{\"colorbar\": {\"outlinewidth\": 0, \"ticks\": \"\"}, \"colorscale\": [[0.0, \"#0d0887\"], [0.1111111111111111, \"#46039f\"], [0.2222222222222222, \"#7201a8\"], [0.3333333333333333, \"#9c179e\"], [0.4444444444444444, \"#bd3786\"], [0.5555555555555556, \"#d8576b\"], [0.6666666666666666, \"#ed7953\"], [0.7777777777777778, \"#fb9f3a\"], [0.8888888888888888, \"#fdca26\"], [1.0, \"#f0f921\"]], \"type\": \"surface\"}], \"table\": [{\"cells\": {\"fill\": {\"color\": \"#EBF0F8\"}, \"line\": {\"color\": \"white\"}}, \"header\": {\"fill\": {\"color\": \"#C8D4E3\"}, \"line\": {\"color\": \"white\"}}, \"type\": \"table\"}]}, \"layout\": {\"annotationdefaults\": {\"arrowcolor\": \"#2a3f5f\", \"arrowhead\": 0, \"arrowwidth\": 1}, \"coloraxis\": {\"colorbar\": {\"outlinewidth\": 0, \"ticks\": \"\"}}, \"colorscale\": {\"diverging\": [[0, \"#8e0152\"], [0.1, \"#c51b7d\"], [0.2, \"#de77ae\"], [0.3, \"#f1b6da\"], [0.4, \"#fde0ef\"], [0.5, \"#f7f7f7\"], [0.6, \"#e6f5d0\"], [0.7, \"#b8e186\"], [0.8, \"#7fbc41\"], [0.9, \"#4d9221\"], [1, \"#276419\"]], \"sequential\": [[0.0, \"#0d0887\"], [0.1111111111111111, \"#46039f\"], [0.2222222222222222, \"#7201a8\"], [0.3333333333333333, \"#9c179e\"], [0.4444444444444444, \"#bd3786\"], [0.5555555555555556, \"#d8576b\"], [0.6666666666666666, \"#ed7953\"], [0.7777777777777778, \"#fb9f3a\"], [0.8888888888888888, \"#fdca26\"], [1.0, \"#f0f921\"]], \"sequentialminus\": [[0.0, \"#0d0887\"], [0.1111111111111111, \"#46039f\"], [0.2222222222222222, \"#7201a8\"], [0.3333333333333333, \"#9c179e\"], [0.4444444444444444, \"#bd3786\"], [0.5555555555555556, \"#d8576b\"], [0.6666666666666666, \"#ed7953\"], [0.7777777777777778, \"#fb9f3a\"], [0.8888888888888888, \"#fdca26\"], [1.0, \"#f0f921\"]]}, \"colorway\": [\"#636efa\", \"#EF553B\", \"#00cc96\", \"#ab63fa\", \"#FFA15A\", \"#19d3f3\", \"#FF6692\", \"#B6E880\", \"#FF97FF\", \"#FECB52\"], \"font\": {\"color\": \"#2a3f5f\"}, \"geo\": {\"bgcolor\": \"white\", \"lakecolor\": \"white\", \"landcolor\": \"#E5ECF6\", \"showlakes\": true, \"showland\": true, \"subunitcolor\": \"white\"}, \"hoverlabel\": {\"align\": \"left\"}, \"hovermode\": \"closest\", \"mapbox\": {\"style\": \"light\"}, \"paper_bgcolor\": \"white\", \"plot_bgcolor\": \"#E5ECF6\", \"polar\": {\"angularaxis\": {\"gridcolor\": \"white\", \"linecolor\": \"white\", \"ticks\": \"\"}, \"bgcolor\": \"#E5ECF6\", \"radialaxis\": {\"gridcolor\": \"white\", \"linecolor\": \"white\", \"ticks\": \"\"}}, \"scene\": {\"xaxis\": {\"backgroundcolor\": \"#E5ECF6\", \"gridcolor\": \"white\", \"gridwidth\": 2, \"linecolor\": \"white\", \"showbackground\": true, \"ticks\": \"\", \"zerolinecolor\": \"white\"}, \"yaxis\": {\"backgroundcolor\": \"#E5ECF6\", \"gridcolor\": \"white\", \"gridwidth\": 2, \"linecolor\": \"white\", \"showbackground\": true, \"ticks\": \"\", \"zerolinecolor\": \"white\"}, \"zaxis\": {\"backgroundcolor\": \"#E5ECF6\", \"gridcolor\": \"white\", \"gridwidth\": 2, \"linecolor\": \"white\", \"showbackground\": true, \"ticks\": \"\", \"zerolinecolor\": \"white\"}}, \"shapedefaults\": {\"line\": {\"color\": \"#2a3f5f\"}}, \"ternary\": {\"aaxis\": {\"gridcolor\": \"white\", \"linecolor\": \"white\", \"ticks\": \"\"}, \"baxis\": {\"gridcolor\": \"white\", \"linecolor\": \"white\", \"ticks\": \"\"}, \"bgcolor\": \"#E5ECF6\", \"caxis\": {\"gridcolor\": \"white\", \"linecolor\": \"white\", \"ticks\": \"\"}}, \"title\": {\"x\": 0.05}, \"xaxis\": {\"automargin\": true, \"gridcolor\": \"white\", \"linecolor\": \"white\", \"ticks\": \"\", \"title\": {\"standoff\": 15}, \"zerolinecolor\": \"white\", \"zerolinewidth\": 2}, \"yaxis\": {\"automargin\": true, \"gridcolor\": \"white\", \"linecolor\": \"white\", \"ticks\": \"\", \"title\": {\"standoff\": 15}, \"zerolinecolor\": \"white\", \"zerolinewidth\": 2}}}, \"title\": {\"font\": {\"color\": \"#4D5663\"}}, \"xaxis\": {\"gridcolor\": \"#E1E5ED\", \"showgrid\": true, \"tickfont\": {\"color\": \"#4D5663\"}, \"title\": {\"font\": {\"color\": \"#4D5663\"}, \"text\": \"\"}, \"zerolinecolor\": \"#E1E5ED\"}, \"xaxis2\": {\"anchor\": \"y2\", \"gridcolor\": \"#E1E5ED\", \"showgrid\": true, \"showticklabels\": false, \"tickfont\": {\"color\": \"#4D5663\"}, \"title\": {\"font\": {\"color\": \"#4D5663\"}, \"text\": \"\"}, \"zerolinecolor\": \"#E1E5ED\"}, \"yaxis\": {\"domain\": [0.3, 1], \"gridcolor\": \"#E1E5ED\", \"showgrid\": true, \"tickfont\": {\"color\": \"#4D5663\"}, \"title\": {\"font\": {\"color\": \"#4D5663\"}, \"text\": \"\"}, \"zerolinecolor\": \"#E1E5ED\"}, \"yaxis2\": {\"domain\": [0, 0.25], \"gridcolor\": \"#E1E5ED\", \"showgrid\": true, \"tickfont\": {\"color\": \"#4D5663\"}, \"title\": {\"font\": {\"color\": \"#4D5663\"}, \"text\": \"Spread\"}, \"zerolinecolor\": \"#E1E5ED\"}},\n",
       "                        {\"showLink\": true, \"linkText\": \"Export to plot.ly\", \"plotlyServerURL\": \"https://plot.ly\", \"responsive\": true}\n",
       "                    ).then(function(){\n",
       "                            \n",
       "var gd = document.getElementById('7d322d6e-cc31-4b62-890e-840c85cb000e');\n",
       "var x = new MutationObserver(function (mutations, observer) {{\n",
       "        var display = window.getComputedStyle(gd).display;\n",
       "        if (!display || display === 'none') {{\n",
       "            console.log([gd, 'removed!']);\n",
       "            Plotly.purge(gd);\n",
       "            observer.disconnect();\n",
       "        }}\n",
       "}});\n",
       "\n",
       "// Listen for the removal of the full notebook cells\n",
       "var notebookContainer = gd.closest('#notebook-container');\n",
       "if (notebookContainer) {{\n",
       "    x.observe(notebookContainer, {childList: true});\n",
       "}}\n",
       "\n",
       "// Listen for the clearing of the current output cell\n",
       "var outputEl = gd.closest('.output');\n",
       "if (outputEl) {{\n",
       "    x.observe(outputEl, {childList: true});\n",
       "}}\n",
       "\n",
       "                        })\n",
       "                };\n",
       "                });\n",
       "            </script>\n",
       "        </div>"
      ]
     },
     "metadata": {},
     "output_type": "display_data"
    }
   ],
   "source": [
    "df[['A','B']].iplot(kind='spread')"
   ]
  },
  {
   "cell_type": "code",
   "execution_count": 53,
   "metadata": {},
   "outputs": [
    {
     "data": {
      "application/vnd.plotly.v1+json": {
       "config": {
        "linkText": "Export to plot.ly",
        "plotlyServerURL": "https://plot.ly",
        "showLink": true
       },
       "data": [
        {
         "marker": {
          "color": [
           "rgb(255, 153, 51)",
           "rgb(55, 128, 191)",
           "rgb(50, 171, 96)",
           "rgb(128, 0, 128)",
           "rgb(219, 64, 82)",
           "rgb(0, 128, 128)",
           "rgb(255, 255, 51)",
           "rgb(128, 128, 0)",
           "rgb(251, 128, 114)",
           "rgb(128, 177, 211)"
          ],
          "line": {
           "width": 1.3
          },
          "size": [
           31,
           90,
           32,
           59,
           81,
           70,
           36,
           85,
           67,
           59,
           80,
           85,
           79,
           71,
           73,
           38,
           76,
           49,
           57,
           66,
           66,
           35,
           56,
           55,
           67,
           57,
           80,
           71,
           57,
           72,
           40,
           52,
           71,
           54,
           62,
           58,
           67,
           71,
           80,
           45,
           33,
           50,
           60,
           39,
           42,
           62,
           55,
           46,
           112,
           56,
           20,
           28,
           58,
           45,
           68,
           47,
           59,
           46,
           61,
           77,
           21,
           56,
           75,
           50,
           52,
           51,
           95,
           35,
           37,
           45,
           49,
           44,
           23,
           57,
           72,
           86,
           58,
           41,
           12,
           65,
           68,
           65,
           68,
           64,
           60,
           81,
           88,
           55,
           104,
           54,
           51,
           24,
           50,
           52,
           87,
           40,
           42,
           68,
           21,
           52
          ],
          "symbol": "circle"
         },
         "mode": "markers",
         "text": "",
         "type": "scatter",
         "x": [
          1.3522419087117923,
          -1.4367485228096082,
          0.34246615131765074,
          0.22501371995467404,
          -1.3835773588716889,
          -0.3786606793558325,
          1.5700394365681638,
          -0.4389112823843724,
          0.019327259196934583,
          -0.7871373062572039,
          1.1582459987267817,
          0.5419561074166749,
          0.10300724317610074,
          1.056526493789133,
          -0.5935929218146352,
          -0.9400064843743166,
          0.8184536422660786,
          0.6051514716477069,
          1.986033931482904,
          3.654979997899412,
          0.17858108615271165,
          -1.5513735777578752,
          1.9711731349620212,
          0.6244032392053847,
          1.1358931781345123,
          0.40377740852876387,
          -1.1112520429721875,
          -0.4837839184642077,
          -0.4697476049298041,
          0.4624700962665709,
          -0.40519454607155914,
          0.26826033900583474,
          -3.363286877728186,
          1.8642796689830858,
          0.3546706184336565,
          -0.3010076943115201,
          -0.184736525521066,
          -0.17078051736817168,
          1.0582430636820745,
          -0.8379417122297186,
          -0.17913716056313403,
          0.2868655884201024,
          1.4975251686775926,
          0.1673545509032834,
          1.8892720942055872,
          1.2000191097252784,
          -0.11723758426468586,
          -1.3923642324153118,
          1.2067384689802523,
          0.6995092920577454,
          -0.450318572383938,
          -1.0768058506215945,
          1.8240423037842124,
          -1.2848847471231686,
          -1.3092995799985827,
          -2.252081015062117,
          1.6516269181221692,
          1.5514491437019398,
          0.17685847323240705,
          -0.9136086216446226,
          1.2010817770884787,
          -0.19816291549069612,
          1.321136986359857,
          -0.3394538966085169,
          0.34016035243713444,
          -0.7941748905370211,
          0.19043318709089463,
          -0.5436817352645537,
          1.0661669821985864,
          2.2851010625069286,
          -0.8266733303952352,
          0.7884285801220625,
          0.8231972467330367,
          0.324008182428142,
          0.6752070165857296,
          -0.8439726176579643,
          -0.20609333658074047,
          -1.5482680054696205,
          -0.38434511261941934,
          0.07692083586667725,
          -0.6248572409586476,
          -0.16248851481555132,
          -1.8459074757071747,
          1.4126122652500914,
          0.19075917126177336,
          0.1756756844178885,
          -0.6453507523108135,
          1.689030633833263,
          -0.8708237540304141,
          0.25013438914188446,
          -1.4214869901784088,
          0.2984832844136182,
          -0.5636158302217779,
          -0.30474446122783944,
          1.006249773260137,
          0.2782559169320781,
          0.5666162539211673,
          -0.9302725711947286,
          -1.3463008359939528,
          0.32468815436776594
         ],
         "y": [
          0.2853960742036141,
          -0.4406604289569714,
          0.33365589029910364,
          0.2018345194581368,
          0.468673037397461,
          -1.3528010257124101,
          0.800285334395616,
          0.8735403499291123,
          -0.4971589012856189,
          -1.1501645383832924,
          -0.11235634631765345,
          0.4723699885089022,
          0.0712305561391159,
          0.24284710471750473,
          -0.9122241746416804,
          0.8269817335779781,
          -0.00874132852355032,
          -0.6318762826014234,
          0.43011057200838515,
          1.0704132732721918,
          2.134360594704674,
          0.31373630965031646,
          -0.8829218217202525,
          -0.73474365392336,
          0.3200172946062929,
          1.2920107799210232,
          -0.4672134494390364,
          -0.4255892680362301,
          -0.7883031262036172,
          -0.42466003092600074,
          1.312409195297587,
          0.09591687871532022,
          1.3971624576376163,
          0.5876017168531212,
          -0.9320959746324256,
          -1.554159956817357,
          0.34482741176093945,
          1.5468924170915168,
          -1.4034301158921905,
          -0.3421364854793705,
          -0.3700258002299505,
          0.18963240578518814,
          -0.8367522861239166,
          -1.4354639631629302,
          -0.1924128922031911,
          -0.4471995622697898,
          -0.20594738032034565,
          1.1666927760052315,
          0.8542061073093862,
          -0.045340865093400975,
          0.8829678490586947,
          2.6408083514235363,
          -0.5007660975317126,
          0.15144509399049666,
          -0.14989090307841002,
          -1.6619153347196627,
          1.0238621209857814,
          1.2221517095795575,
          -0.9735974374641312,
          -0.5627451263909823,
          -0.05804543402331785,
          0.9850109566618794,
          0.8381067825455304,
          -1.1621346812659719,
          -0.6289189456340682,
          0.9332556602694779,
          0.1801566919373079,
          0.10417651779157987,
          -0.14807796339151225,
          1.5990250523195302,
          -0.053927329507619894,
          -0.7783360488156015,
          -0.3700849764827003,
          2.2810591763490504,
          0.2542492977753961,
          2.762357088437156,
          0.6376042127156709,
          1.2695848172126263,
          0.45641857354305465,
          0.46965554004453053,
          -1.1173114686529768,
          0.3186506440608256,
          -1.2750038871380027,
          0.6618715619915841,
          0.08003220670383365,
          0.8067700142648925,
          -0.1022498040061927,
          -0.11343763353982858,
          -1.2410875845656366,
          0.5410071859457992,
          -0.008862683281114241,
          0.01483585722941619,
          -2.2886479470860417,
          -2.2874057157464414,
          -1.8809150648910813,
          -1.3995936415281152,
          -2.2829143071083657,
          0.8742765899714318,
          -3.559128971832099,
          -0.5292230111010272
         ]
        }
       ],
       "layout": {
        "legend": {
         "bgcolor": "#F5F6F9",
         "font": {
          "color": "#4D5663"
         }
        },
        "paper_bgcolor": "#F5F6F9",
        "plot_bgcolor": "#F5F6F9",
        "template": {
         "data": {
          "bar": [
           {
            "error_x": {
             "color": "#2a3f5f"
            },
            "error_y": {
             "color": "#2a3f5f"
            },
            "marker": {
             "line": {
              "color": "#E5ECF6",
              "width": 0.5
             }
            },
            "type": "bar"
           }
          ],
          "barpolar": [
           {
            "marker": {
             "line": {
              "color": "#E5ECF6",
              "width": 0.5
             }
            },
            "type": "barpolar"
           }
          ],
          "carpet": [
           {
            "aaxis": {
             "endlinecolor": "#2a3f5f",
             "gridcolor": "white",
             "linecolor": "white",
             "minorgridcolor": "white",
             "startlinecolor": "#2a3f5f"
            },
            "baxis": {
             "endlinecolor": "#2a3f5f",
             "gridcolor": "white",
             "linecolor": "white",
             "minorgridcolor": "white",
             "startlinecolor": "#2a3f5f"
            },
            "type": "carpet"
           }
          ],
          "choropleth": [
           {
            "colorbar": {
             "outlinewidth": 0,
             "ticks": ""
            },
            "type": "choropleth"
           }
          ],
          "contour": [
           {
            "colorbar": {
             "outlinewidth": 0,
             "ticks": ""
            },
            "colorscale": [
             [
              0,
              "#0d0887"
             ],
             [
              0.1111111111111111,
              "#46039f"
             ],
             [
              0.2222222222222222,
              "#7201a8"
             ],
             [
              0.3333333333333333,
              "#9c179e"
             ],
             [
              0.4444444444444444,
              "#bd3786"
             ],
             [
              0.5555555555555556,
              "#d8576b"
             ],
             [
              0.6666666666666666,
              "#ed7953"
             ],
             [
              0.7777777777777778,
              "#fb9f3a"
             ],
             [
              0.8888888888888888,
              "#fdca26"
             ],
             [
              1,
              "#f0f921"
             ]
            ],
            "type": "contour"
           }
          ],
          "contourcarpet": [
           {
            "colorbar": {
             "outlinewidth": 0,
             "ticks": ""
            },
            "type": "contourcarpet"
           }
          ],
          "heatmap": [
           {
            "colorbar": {
             "outlinewidth": 0,
             "ticks": ""
            },
            "colorscale": [
             [
              0,
              "#0d0887"
             ],
             [
              0.1111111111111111,
              "#46039f"
             ],
             [
              0.2222222222222222,
              "#7201a8"
             ],
             [
              0.3333333333333333,
              "#9c179e"
             ],
             [
              0.4444444444444444,
              "#bd3786"
             ],
             [
              0.5555555555555556,
              "#d8576b"
             ],
             [
              0.6666666666666666,
              "#ed7953"
             ],
             [
              0.7777777777777778,
              "#fb9f3a"
             ],
             [
              0.8888888888888888,
              "#fdca26"
             ],
             [
              1,
              "#f0f921"
             ]
            ],
            "type": "heatmap"
           }
          ],
          "heatmapgl": [
           {
            "colorbar": {
             "outlinewidth": 0,
             "ticks": ""
            },
            "colorscale": [
             [
              0,
              "#0d0887"
             ],
             [
              0.1111111111111111,
              "#46039f"
             ],
             [
              0.2222222222222222,
              "#7201a8"
             ],
             [
              0.3333333333333333,
              "#9c179e"
             ],
             [
              0.4444444444444444,
              "#bd3786"
             ],
             [
              0.5555555555555556,
              "#d8576b"
             ],
             [
              0.6666666666666666,
              "#ed7953"
             ],
             [
              0.7777777777777778,
              "#fb9f3a"
             ],
             [
              0.8888888888888888,
              "#fdca26"
             ],
             [
              1,
              "#f0f921"
             ]
            ],
            "type": "heatmapgl"
           }
          ],
          "histogram": [
           {
            "marker": {
             "colorbar": {
              "outlinewidth": 0,
              "ticks": ""
             }
            },
            "type": "histogram"
           }
          ],
          "histogram2d": [
           {
            "colorbar": {
             "outlinewidth": 0,
             "ticks": ""
            },
            "colorscale": [
             [
              0,
              "#0d0887"
             ],
             [
              0.1111111111111111,
              "#46039f"
             ],
             [
              0.2222222222222222,
              "#7201a8"
             ],
             [
              0.3333333333333333,
              "#9c179e"
             ],
             [
              0.4444444444444444,
              "#bd3786"
             ],
             [
              0.5555555555555556,
              "#d8576b"
             ],
             [
              0.6666666666666666,
              "#ed7953"
             ],
             [
              0.7777777777777778,
              "#fb9f3a"
             ],
             [
              0.8888888888888888,
              "#fdca26"
             ],
             [
              1,
              "#f0f921"
             ]
            ],
            "type": "histogram2d"
           }
          ],
          "histogram2dcontour": [
           {
            "colorbar": {
             "outlinewidth": 0,
             "ticks": ""
            },
            "colorscale": [
             [
              0,
              "#0d0887"
             ],
             [
              0.1111111111111111,
              "#46039f"
             ],
             [
              0.2222222222222222,
              "#7201a8"
             ],
             [
              0.3333333333333333,
              "#9c179e"
             ],
             [
              0.4444444444444444,
              "#bd3786"
             ],
             [
              0.5555555555555556,
              "#d8576b"
             ],
             [
              0.6666666666666666,
              "#ed7953"
             ],
             [
              0.7777777777777778,
              "#fb9f3a"
             ],
             [
              0.8888888888888888,
              "#fdca26"
             ],
             [
              1,
              "#f0f921"
             ]
            ],
            "type": "histogram2dcontour"
           }
          ],
          "mesh3d": [
           {
            "colorbar": {
             "outlinewidth": 0,
             "ticks": ""
            },
            "type": "mesh3d"
           }
          ],
          "parcoords": [
           {
            "line": {
             "colorbar": {
              "outlinewidth": 0,
              "ticks": ""
             }
            },
            "type": "parcoords"
           }
          ],
          "pie": [
           {
            "automargin": true,
            "type": "pie"
           }
          ],
          "scatter": [
           {
            "marker": {
             "colorbar": {
              "outlinewidth": 0,
              "ticks": ""
             }
            },
            "type": "scatter"
           }
          ],
          "scatter3d": [
           {
            "line": {
             "colorbar": {
              "outlinewidth": 0,
              "ticks": ""
             }
            },
            "marker": {
             "colorbar": {
              "outlinewidth": 0,
              "ticks": ""
             }
            },
            "type": "scatter3d"
           }
          ],
          "scattercarpet": [
           {
            "marker": {
             "colorbar": {
              "outlinewidth": 0,
              "ticks": ""
             }
            },
            "type": "scattercarpet"
           }
          ],
          "scattergeo": [
           {
            "marker": {
             "colorbar": {
              "outlinewidth": 0,
              "ticks": ""
             }
            },
            "type": "scattergeo"
           }
          ],
          "scattergl": [
           {
            "marker": {
             "colorbar": {
              "outlinewidth": 0,
              "ticks": ""
             }
            },
            "type": "scattergl"
           }
          ],
          "scattermapbox": [
           {
            "marker": {
             "colorbar": {
              "outlinewidth": 0,
              "ticks": ""
             }
            },
            "type": "scattermapbox"
           }
          ],
          "scatterpolar": [
           {
            "marker": {
             "colorbar": {
              "outlinewidth": 0,
              "ticks": ""
             }
            },
            "type": "scatterpolar"
           }
          ],
          "scatterpolargl": [
           {
            "marker": {
             "colorbar": {
              "outlinewidth": 0,
              "ticks": ""
             }
            },
            "type": "scatterpolargl"
           }
          ],
          "scatterternary": [
           {
            "marker": {
             "colorbar": {
              "outlinewidth": 0,
              "ticks": ""
             }
            },
            "type": "scatterternary"
           }
          ],
          "surface": [
           {
            "colorbar": {
             "outlinewidth": 0,
             "ticks": ""
            },
            "colorscale": [
             [
              0,
              "#0d0887"
             ],
             [
              0.1111111111111111,
              "#46039f"
             ],
             [
              0.2222222222222222,
              "#7201a8"
             ],
             [
              0.3333333333333333,
              "#9c179e"
             ],
             [
              0.4444444444444444,
              "#bd3786"
             ],
             [
              0.5555555555555556,
              "#d8576b"
             ],
             [
              0.6666666666666666,
              "#ed7953"
             ],
             [
              0.7777777777777778,
              "#fb9f3a"
             ],
             [
              0.8888888888888888,
              "#fdca26"
             ],
             [
              1,
              "#f0f921"
             ]
            ],
            "type": "surface"
           }
          ],
          "table": [
           {
            "cells": {
             "fill": {
              "color": "#EBF0F8"
             },
             "line": {
              "color": "white"
             }
            },
            "header": {
             "fill": {
              "color": "#C8D4E3"
             },
             "line": {
              "color": "white"
             }
            },
            "type": "table"
           }
          ]
         },
         "layout": {
          "annotationdefaults": {
           "arrowcolor": "#2a3f5f",
           "arrowhead": 0,
           "arrowwidth": 1
          },
          "coloraxis": {
           "colorbar": {
            "outlinewidth": 0,
            "ticks": ""
           }
          },
          "colorscale": {
           "diverging": [
            [
             0,
             "#8e0152"
            ],
            [
             0.1,
             "#c51b7d"
            ],
            [
             0.2,
             "#de77ae"
            ],
            [
             0.3,
             "#f1b6da"
            ],
            [
             0.4,
             "#fde0ef"
            ],
            [
             0.5,
             "#f7f7f7"
            ],
            [
             0.6,
             "#e6f5d0"
            ],
            [
             0.7,
             "#b8e186"
            ],
            [
             0.8,
             "#7fbc41"
            ],
            [
             0.9,
             "#4d9221"
            ],
            [
             1,
             "#276419"
            ]
           ],
           "sequential": [
            [
             0,
             "#0d0887"
            ],
            [
             0.1111111111111111,
             "#46039f"
            ],
            [
             0.2222222222222222,
             "#7201a8"
            ],
            [
             0.3333333333333333,
             "#9c179e"
            ],
            [
             0.4444444444444444,
             "#bd3786"
            ],
            [
             0.5555555555555556,
             "#d8576b"
            ],
            [
             0.6666666666666666,
             "#ed7953"
            ],
            [
             0.7777777777777778,
             "#fb9f3a"
            ],
            [
             0.8888888888888888,
             "#fdca26"
            ],
            [
             1,
             "#f0f921"
            ]
           ],
           "sequentialminus": [
            [
             0,
             "#0d0887"
            ],
            [
             0.1111111111111111,
             "#46039f"
            ],
            [
             0.2222222222222222,
             "#7201a8"
            ],
            [
             0.3333333333333333,
             "#9c179e"
            ],
            [
             0.4444444444444444,
             "#bd3786"
            ],
            [
             0.5555555555555556,
             "#d8576b"
            ],
            [
             0.6666666666666666,
             "#ed7953"
            ],
            [
             0.7777777777777778,
             "#fb9f3a"
            ],
            [
             0.8888888888888888,
             "#fdca26"
            ],
            [
             1,
             "#f0f921"
            ]
           ]
          },
          "colorway": [
           "#636efa",
           "#EF553B",
           "#00cc96",
           "#ab63fa",
           "#FFA15A",
           "#19d3f3",
           "#FF6692",
           "#B6E880",
           "#FF97FF",
           "#FECB52"
          ],
          "font": {
           "color": "#2a3f5f"
          },
          "geo": {
           "bgcolor": "white",
           "lakecolor": "white",
           "landcolor": "#E5ECF6",
           "showlakes": true,
           "showland": true,
           "subunitcolor": "white"
          },
          "hoverlabel": {
           "align": "left"
          },
          "hovermode": "closest",
          "mapbox": {
           "style": "light"
          },
          "paper_bgcolor": "white",
          "plot_bgcolor": "#E5ECF6",
          "polar": {
           "angularaxis": {
            "gridcolor": "white",
            "linecolor": "white",
            "ticks": ""
           },
           "bgcolor": "#E5ECF6",
           "radialaxis": {
            "gridcolor": "white",
            "linecolor": "white",
            "ticks": ""
           }
          },
          "scene": {
           "xaxis": {
            "backgroundcolor": "#E5ECF6",
            "gridcolor": "white",
            "gridwidth": 2,
            "linecolor": "white",
            "showbackground": true,
            "ticks": "",
            "zerolinecolor": "white"
           },
           "yaxis": {
            "backgroundcolor": "#E5ECF6",
            "gridcolor": "white",
            "gridwidth": 2,
            "linecolor": "white",
            "showbackground": true,
            "ticks": "",
            "zerolinecolor": "white"
           },
           "zaxis": {
            "backgroundcolor": "#E5ECF6",
            "gridcolor": "white",
            "gridwidth": 2,
            "linecolor": "white",
            "showbackground": true,
            "ticks": "",
            "zerolinecolor": "white"
           }
          },
          "shapedefaults": {
           "line": {
            "color": "#2a3f5f"
           }
          },
          "ternary": {
           "aaxis": {
            "gridcolor": "white",
            "linecolor": "white",
            "ticks": ""
           },
           "baxis": {
            "gridcolor": "white",
            "linecolor": "white",
            "ticks": ""
           },
           "bgcolor": "#E5ECF6",
           "caxis": {
            "gridcolor": "white",
            "linecolor": "white",
            "ticks": ""
           }
          },
          "title": {
           "x": 0.05
          },
          "xaxis": {
           "automargin": true,
           "gridcolor": "white",
           "linecolor": "white",
           "ticks": "",
           "title": {
            "standoff": 15
           },
           "zerolinecolor": "white",
           "zerolinewidth": 2
          },
          "yaxis": {
           "automargin": true,
           "gridcolor": "white",
           "linecolor": "white",
           "ticks": "",
           "title": {
            "standoff": 15
           },
           "zerolinecolor": "white",
           "zerolinewidth": 2
          }
         }
        },
        "title": {
         "font": {
          "color": "#4D5663"
         }
        },
        "xaxis": {
         "gridcolor": "#E1E5ED",
         "showgrid": true,
         "tickfont": {
          "color": "#4D5663"
         },
         "title": {
          "font": {
           "color": "#4D5663"
          },
          "text": ""
         },
         "zerolinecolor": "#E1E5ED"
        },
        "yaxis": {
         "gridcolor": "#E1E5ED",
         "showgrid": true,
         "tickfont": {
          "color": "#4D5663"
         },
         "title": {
          "font": {
           "color": "#4D5663"
          },
          "text": ""
         },
         "zerolinecolor": "#E1E5ED"
        }
       }
      },
      "text/html": [
       "<div>\n",
       "        \n",
       "        \n",
       "            <div id=\"812907ad-3c5b-4371-acd3-752fc107509c\" class=\"plotly-graph-div\" style=\"height:525px; width:100%;\"></div>\n",
       "            <script type=\"text/javascript\">\n",
       "                require([\"plotly\"], function(Plotly) {\n",
       "                    window.PLOTLYENV=window.PLOTLYENV || {};\n",
       "                    window.PLOTLYENV.BASE_URL='https://plot.ly';\n",
       "                    \n",
       "                if (document.getElementById(\"812907ad-3c5b-4371-acd3-752fc107509c\")) {\n",
       "                    Plotly.newPlot(\n",
       "                        '812907ad-3c5b-4371-acd3-752fc107509c',\n",
       "                        [{\"marker\": {\"color\": [\"rgb(255, 153, 51)\", \"rgb(55, 128, 191)\", \"rgb(50, 171, 96)\", \"rgb(128, 0, 128)\", \"rgb(219, 64, 82)\", \"rgb(0, 128, 128)\", \"rgb(255, 255, 51)\", \"rgb(128, 128, 0)\", \"rgb(251, 128, 114)\", \"rgb(128, 177, 211)\"], \"line\": {\"width\": 1.3}, \"size\": [31, 90, 32, 59, 81, 70, 36, 85, 67, 59, 80, 85, 79, 71, 73, 38, 76, 49, 57, 66, 66, 35, 56, 55, 67, 57, 80, 71, 57, 72, 40, 52, 71, 54, 62, 58, 67, 71, 80, 45, 33, 50, 60, 39, 42, 62, 55, 46, 112, 56, 20, 28, 58, 45, 68, 47, 59, 46, 61, 77, 21, 56, 75, 50, 52, 51, 95, 35, 37, 45, 49, 44, 23, 57, 72, 86, 58, 41, 12, 65, 68, 65, 68, 64, 60, 81, 88, 55, 104, 54, 51, 24, 50, 52, 87, 40, 42, 68, 21, 52], \"symbol\": \"circle\"}, \"mode\": \"markers\", \"text\": \"\", \"type\": \"scatter\", \"x\": [1.3522419087117923, -1.4367485228096082, 0.34246615131765074, 0.22501371995467404, -1.3835773588716889, -0.3786606793558325, 1.5700394365681638, -0.4389112823843724, 0.019327259196934583, -0.7871373062572039, 1.1582459987267817, 0.5419561074166749, 0.10300724317610074, 1.056526493789133, -0.5935929218146352, -0.9400064843743166, 0.8184536422660786, 0.6051514716477069, 1.986033931482904, 3.654979997899412, 0.17858108615271165, -1.5513735777578752, 1.9711731349620212, 0.6244032392053847, 1.1358931781345123, 0.40377740852876387, -1.1112520429721875, -0.4837839184642077, -0.4697476049298041, 0.4624700962665709, -0.40519454607155914, 0.26826033900583474, -3.363286877728186, 1.8642796689830858, 0.3546706184336565, -0.3010076943115201, -0.184736525521066, -0.17078051736817168, 1.0582430636820745, -0.8379417122297186, -0.17913716056313403, 0.2868655884201024, 1.4975251686775926, 0.1673545509032834, 1.8892720942055872, 1.2000191097252784, -0.11723758426468586, -1.3923642324153118, 1.2067384689802523, 0.6995092920577454, -0.450318572383938, -1.0768058506215945, 1.8240423037842124, -1.2848847471231686, -1.3092995799985827, -2.252081015062117, 1.6516269181221692, 1.5514491437019398, 0.17685847323240705, -0.9136086216446226, 1.2010817770884787, -0.19816291549069612, 1.321136986359857, -0.3394538966085169, 0.34016035243713444, -0.7941748905370211, 0.19043318709089463, -0.5436817352645537, 1.0661669821985864, 2.2851010625069286, -0.8266733303952352, 0.7884285801220625, 0.8231972467330367, 0.324008182428142, 0.6752070165857296, -0.8439726176579643, -0.20609333658074047, -1.5482680054696205, -0.38434511261941934, 0.07692083586667725, -0.6248572409586476, -0.16248851481555132, -1.8459074757071747, 1.4126122652500914, 0.19075917126177336, 0.1756756844178885, -0.6453507523108135, 1.689030633833263, -0.8708237540304141, 0.25013438914188446, -1.4214869901784088, 0.2984832844136182, -0.5636158302217779, -0.30474446122783944, 1.006249773260137, 0.2782559169320781, 0.5666162539211673, -0.9302725711947286, -1.3463008359939528, 0.32468815436776594], \"y\": [0.2853960742036141, -0.4406604289569714, 0.33365589029910364, 0.2018345194581368, 0.468673037397461, -1.3528010257124101, 0.800285334395616, 0.8735403499291123, -0.4971589012856189, -1.1501645383832924, -0.11235634631765345, 0.4723699885089022, 0.0712305561391159, 0.24284710471750473, -0.9122241746416804, 0.8269817335779781, -0.00874132852355032, -0.6318762826014234, 0.43011057200838515, 1.0704132732721918, 2.134360594704674, 0.31373630965031646, -0.8829218217202525, -0.73474365392336, 0.3200172946062929, 1.2920107799210232, -0.4672134494390364, -0.4255892680362301, -0.7883031262036172, -0.42466003092600074, 1.312409195297587, 0.09591687871532022, 1.3971624576376163, 0.5876017168531212, -0.9320959746324256, -1.554159956817357, 0.34482741176093945, 1.5468924170915168, -1.4034301158921905, -0.3421364854793705, -0.3700258002299505, 0.18963240578518814, -0.8367522861239166, -1.4354639631629302, -0.1924128922031911, -0.4471995622697898, -0.20594738032034565, 1.1666927760052315, 0.8542061073093862, -0.045340865093400975, 0.8829678490586947, 2.6408083514235363, -0.5007660975317126, 0.15144509399049666, -0.14989090307841002, -1.6619153347196627, 1.0238621209857814, 1.2221517095795575, -0.9735974374641312, -0.5627451263909823, -0.05804543402331785, 0.9850109566618794, 0.8381067825455304, -1.1621346812659719, -0.6289189456340682, 0.9332556602694779, 0.1801566919373079, 0.10417651779157987, -0.14807796339151225, 1.5990250523195302, -0.053927329507619894, -0.7783360488156015, -0.3700849764827003, 2.2810591763490504, 0.2542492977753961, 2.762357088437156, 0.6376042127156709, 1.2695848172126263, 0.45641857354305465, 0.46965554004453053, -1.1173114686529768, 0.3186506440608256, -1.2750038871380027, 0.6618715619915841, 0.08003220670383365, 0.8067700142648925, -0.1022498040061927, -0.11343763353982858, -1.2410875845656366, 0.5410071859457992, -0.008862683281114241, 0.01483585722941619, -2.2886479470860417, -2.2874057157464414, -1.8809150648910813, -1.3995936415281152, -2.2829143071083657, 0.8742765899714318, -3.559128971832099, -0.5292230111010272]}],\n",
       "                        {\"legend\": {\"bgcolor\": \"#F5F6F9\", \"font\": {\"color\": \"#4D5663\"}}, \"paper_bgcolor\": \"#F5F6F9\", \"plot_bgcolor\": \"#F5F6F9\", \"template\": {\"data\": {\"bar\": [{\"error_x\": {\"color\": \"#2a3f5f\"}, \"error_y\": {\"color\": \"#2a3f5f\"}, \"marker\": {\"line\": {\"color\": \"#E5ECF6\", \"width\": 0.5}}, \"type\": \"bar\"}], \"barpolar\": [{\"marker\": {\"line\": {\"color\": \"#E5ECF6\", \"width\": 0.5}}, \"type\": \"barpolar\"}], \"carpet\": [{\"aaxis\": {\"endlinecolor\": \"#2a3f5f\", \"gridcolor\": \"white\", \"linecolor\": \"white\", \"minorgridcolor\": \"white\", \"startlinecolor\": \"#2a3f5f\"}, \"baxis\": {\"endlinecolor\": \"#2a3f5f\", \"gridcolor\": \"white\", \"linecolor\": \"white\", \"minorgridcolor\": \"white\", \"startlinecolor\": \"#2a3f5f\"}, \"type\": \"carpet\"}], \"choropleth\": [{\"colorbar\": {\"outlinewidth\": 0, \"ticks\": \"\"}, \"type\": \"choropleth\"}], \"contour\": [{\"colorbar\": {\"outlinewidth\": 0, \"ticks\": \"\"}, \"colorscale\": [[0.0, \"#0d0887\"], [0.1111111111111111, \"#46039f\"], [0.2222222222222222, \"#7201a8\"], [0.3333333333333333, \"#9c179e\"], [0.4444444444444444, \"#bd3786\"], [0.5555555555555556, \"#d8576b\"], [0.6666666666666666, \"#ed7953\"], [0.7777777777777778, \"#fb9f3a\"], [0.8888888888888888, \"#fdca26\"], [1.0, \"#f0f921\"]], \"type\": \"contour\"}], \"contourcarpet\": [{\"colorbar\": {\"outlinewidth\": 0, \"ticks\": \"\"}, \"type\": \"contourcarpet\"}], \"heatmap\": [{\"colorbar\": {\"outlinewidth\": 0, \"ticks\": \"\"}, \"colorscale\": [[0.0, \"#0d0887\"], [0.1111111111111111, \"#46039f\"], [0.2222222222222222, \"#7201a8\"], [0.3333333333333333, \"#9c179e\"], [0.4444444444444444, \"#bd3786\"], [0.5555555555555556, \"#d8576b\"], [0.6666666666666666, \"#ed7953\"], [0.7777777777777778, \"#fb9f3a\"], [0.8888888888888888, \"#fdca26\"], [1.0, \"#f0f921\"]], \"type\": \"heatmap\"}], \"heatmapgl\": [{\"colorbar\": {\"outlinewidth\": 0, \"ticks\": \"\"}, \"colorscale\": [[0.0, \"#0d0887\"], [0.1111111111111111, \"#46039f\"], [0.2222222222222222, \"#7201a8\"], [0.3333333333333333, \"#9c179e\"], [0.4444444444444444, \"#bd3786\"], [0.5555555555555556, \"#d8576b\"], [0.6666666666666666, \"#ed7953\"], [0.7777777777777778, \"#fb9f3a\"], [0.8888888888888888, \"#fdca26\"], [1.0, \"#f0f921\"]], \"type\": \"heatmapgl\"}], \"histogram\": [{\"marker\": {\"colorbar\": {\"outlinewidth\": 0, \"ticks\": \"\"}}, \"type\": \"histogram\"}], \"histogram2d\": [{\"colorbar\": {\"outlinewidth\": 0, \"ticks\": \"\"}, \"colorscale\": [[0.0, \"#0d0887\"], [0.1111111111111111, \"#46039f\"], [0.2222222222222222, \"#7201a8\"], [0.3333333333333333, \"#9c179e\"], [0.4444444444444444, \"#bd3786\"], [0.5555555555555556, \"#d8576b\"], [0.6666666666666666, \"#ed7953\"], [0.7777777777777778, \"#fb9f3a\"], [0.8888888888888888, \"#fdca26\"], [1.0, \"#f0f921\"]], \"type\": \"histogram2d\"}], \"histogram2dcontour\": [{\"colorbar\": {\"outlinewidth\": 0, \"ticks\": \"\"}, \"colorscale\": [[0.0, \"#0d0887\"], [0.1111111111111111, \"#46039f\"], [0.2222222222222222, \"#7201a8\"], [0.3333333333333333, \"#9c179e\"], [0.4444444444444444, \"#bd3786\"], [0.5555555555555556, \"#d8576b\"], [0.6666666666666666, \"#ed7953\"], [0.7777777777777778, \"#fb9f3a\"], [0.8888888888888888, \"#fdca26\"], [1.0, \"#f0f921\"]], \"type\": \"histogram2dcontour\"}], \"mesh3d\": [{\"colorbar\": {\"outlinewidth\": 0, \"ticks\": \"\"}, \"type\": \"mesh3d\"}], \"parcoords\": [{\"line\": {\"colorbar\": {\"outlinewidth\": 0, \"ticks\": \"\"}}, \"type\": \"parcoords\"}], \"pie\": [{\"automargin\": true, \"type\": \"pie\"}], \"scatter\": [{\"marker\": {\"colorbar\": {\"outlinewidth\": 0, \"ticks\": \"\"}}, \"type\": \"scatter\"}], \"scatter3d\": [{\"line\": {\"colorbar\": {\"outlinewidth\": 0, \"ticks\": \"\"}}, \"marker\": {\"colorbar\": {\"outlinewidth\": 0, \"ticks\": \"\"}}, \"type\": \"scatter3d\"}], \"scattercarpet\": [{\"marker\": {\"colorbar\": {\"outlinewidth\": 0, \"ticks\": \"\"}}, \"type\": \"scattercarpet\"}], \"scattergeo\": [{\"marker\": {\"colorbar\": {\"outlinewidth\": 0, \"ticks\": \"\"}}, \"type\": \"scattergeo\"}], \"scattergl\": [{\"marker\": {\"colorbar\": {\"outlinewidth\": 0, \"ticks\": \"\"}}, \"type\": \"scattergl\"}], \"scattermapbox\": [{\"marker\": {\"colorbar\": {\"outlinewidth\": 0, \"ticks\": \"\"}}, \"type\": \"scattermapbox\"}], \"scatterpolar\": [{\"marker\": {\"colorbar\": {\"outlinewidth\": 0, \"ticks\": \"\"}}, \"type\": \"scatterpolar\"}], \"scatterpolargl\": [{\"marker\": {\"colorbar\": {\"outlinewidth\": 0, \"ticks\": \"\"}}, \"type\": \"scatterpolargl\"}], \"scatterternary\": [{\"marker\": {\"colorbar\": {\"outlinewidth\": 0, \"ticks\": \"\"}}, \"type\": \"scatterternary\"}], \"surface\": [{\"colorbar\": {\"outlinewidth\": 0, \"ticks\": \"\"}, \"colorscale\": [[0.0, \"#0d0887\"], [0.1111111111111111, \"#46039f\"], [0.2222222222222222, \"#7201a8\"], [0.3333333333333333, \"#9c179e\"], [0.4444444444444444, \"#bd3786\"], [0.5555555555555556, \"#d8576b\"], [0.6666666666666666, \"#ed7953\"], [0.7777777777777778, \"#fb9f3a\"], [0.8888888888888888, \"#fdca26\"], [1.0, \"#f0f921\"]], \"type\": \"surface\"}], \"table\": [{\"cells\": {\"fill\": {\"color\": \"#EBF0F8\"}, \"line\": {\"color\": \"white\"}}, \"header\": {\"fill\": {\"color\": \"#C8D4E3\"}, \"line\": {\"color\": \"white\"}}, \"type\": \"table\"}]}, \"layout\": {\"annotationdefaults\": {\"arrowcolor\": \"#2a3f5f\", \"arrowhead\": 0, \"arrowwidth\": 1}, \"coloraxis\": {\"colorbar\": {\"outlinewidth\": 0, \"ticks\": \"\"}}, \"colorscale\": {\"diverging\": [[0, \"#8e0152\"], [0.1, \"#c51b7d\"], [0.2, \"#de77ae\"], [0.3, \"#f1b6da\"], [0.4, \"#fde0ef\"], [0.5, \"#f7f7f7\"], [0.6, \"#e6f5d0\"], [0.7, \"#b8e186\"], [0.8, \"#7fbc41\"], [0.9, \"#4d9221\"], [1, \"#276419\"]], \"sequential\": [[0.0, \"#0d0887\"], [0.1111111111111111, \"#46039f\"], [0.2222222222222222, \"#7201a8\"], [0.3333333333333333, \"#9c179e\"], [0.4444444444444444, \"#bd3786\"], [0.5555555555555556, \"#d8576b\"], [0.6666666666666666, \"#ed7953\"], [0.7777777777777778, \"#fb9f3a\"], [0.8888888888888888, \"#fdca26\"], [1.0, \"#f0f921\"]], \"sequentialminus\": [[0.0, \"#0d0887\"], [0.1111111111111111, \"#46039f\"], [0.2222222222222222, \"#7201a8\"], [0.3333333333333333, \"#9c179e\"], [0.4444444444444444, \"#bd3786\"], [0.5555555555555556, \"#d8576b\"], [0.6666666666666666, \"#ed7953\"], [0.7777777777777778, \"#fb9f3a\"], [0.8888888888888888, \"#fdca26\"], [1.0, \"#f0f921\"]]}, \"colorway\": [\"#636efa\", \"#EF553B\", \"#00cc96\", \"#ab63fa\", \"#FFA15A\", \"#19d3f3\", \"#FF6692\", \"#B6E880\", \"#FF97FF\", \"#FECB52\"], \"font\": {\"color\": \"#2a3f5f\"}, \"geo\": {\"bgcolor\": \"white\", \"lakecolor\": \"white\", \"landcolor\": \"#E5ECF6\", \"showlakes\": true, \"showland\": true, \"subunitcolor\": \"white\"}, \"hoverlabel\": {\"align\": \"left\"}, \"hovermode\": \"closest\", \"mapbox\": {\"style\": \"light\"}, \"paper_bgcolor\": \"white\", \"plot_bgcolor\": \"#E5ECF6\", \"polar\": {\"angularaxis\": {\"gridcolor\": \"white\", \"linecolor\": \"white\", \"ticks\": \"\"}, \"bgcolor\": \"#E5ECF6\", \"radialaxis\": {\"gridcolor\": \"white\", \"linecolor\": \"white\", \"ticks\": \"\"}}, \"scene\": {\"xaxis\": {\"backgroundcolor\": \"#E5ECF6\", \"gridcolor\": \"white\", \"gridwidth\": 2, \"linecolor\": \"white\", \"showbackground\": true, \"ticks\": \"\", \"zerolinecolor\": \"white\"}, \"yaxis\": {\"backgroundcolor\": \"#E5ECF6\", \"gridcolor\": \"white\", \"gridwidth\": 2, \"linecolor\": \"white\", \"showbackground\": true, \"ticks\": \"\", \"zerolinecolor\": \"white\"}, \"zaxis\": {\"backgroundcolor\": \"#E5ECF6\", \"gridcolor\": \"white\", \"gridwidth\": 2, \"linecolor\": \"white\", \"showbackground\": true, \"ticks\": \"\", \"zerolinecolor\": \"white\"}}, \"shapedefaults\": {\"line\": {\"color\": \"#2a3f5f\"}}, \"ternary\": {\"aaxis\": {\"gridcolor\": \"white\", \"linecolor\": \"white\", \"ticks\": \"\"}, \"baxis\": {\"gridcolor\": \"white\", \"linecolor\": \"white\", \"ticks\": \"\"}, \"bgcolor\": \"#E5ECF6\", \"caxis\": {\"gridcolor\": \"white\", \"linecolor\": \"white\", \"ticks\": \"\"}}, \"title\": {\"x\": 0.05}, \"xaxis\": {\"automargin\": true, \"gridcolor\": \"white\", \"linecolor\": \"white\", \"ticks\": \"\", \"title\": {\"standoff\": 15}, \"zerolinecolor\": \"white\", \"zerolinewidth\": 2}, \"yaxis\": {\"automargin\": true, \"gridcolor\": \"white\", \"linecolor\": \"white\", \"ticks\": \"\", \"title\": {\"standoff\": 15}, \"zerolinecolor\": \"white\", \"zerolinewidth\": 2}}}, \"title\": {\"font\": {\"color\": \"#4D5663\"}}, \"xaxis\": {\"gridcolor\": \"#E1E5ED\", \"showgrid\": true, \"tickfont\": {\"color\": \"#4D5663\"}, \"title\": {\"font\": {\"color\": \"#4D5663\"}, \"text\": \"\"}, \"zerolinecolor\": \"#E1E5ED\"}, \"yaxis\": {\"gridcolor\": \"#E1E5ED\", \"showgrid\": true, \"tickfont\": {\"color\": \"#4D5663\"}, \"title\": {\"font\": {\"color\": \"#4D5663\"}, \"text\": \"\"}, \"zerolinecolor\": \"#E1E5ED\"}},\n",
       "                        {\"showLink\": true, \"linkText\": \"Export to plot.ly\", \"plotlyServerURL\": \"https://plot.ly\", \"responsive\": true}\n",
       "                    ).then(function(){\n",
       "                            \n",
       "var gd = document.getElementById('812907ad-3c5b-4371-acd3-752fc107509c');\n",
       "var x = new MutationObserver(function (mutations, observer) {{\n",
       "        var display = window.getComputedStyle(gd).display;\n",
       "        if (!display || display === 'none') {{\n",
       "            console.log([gd, 'removed!']);\n",
       "            Plotly.purge(gd);\n",
       "            observer.disconnect();\n",
       "        }}\n",
       "}});\n",
       "\n",
       "// Listen for the removal of the full notebook cells\n",
       "var notebookContainer = gd.closest('#notebook-container');\n",
       "if (notebookContainer) {{\n",
       "    x.observe(notebookContainer, {childList: true});\n",
       "}}\n",
       "\n",
       "// Listen for the clearing of the current output cell\n",
       "var outputEl = gd.closest('.output');\n",
       "if (outputEl) {{\n",
       "    x.observe(outputEl, {childList: true});\n",
       "}}\n",
       "\n",
       "                        })\n",
       "                };\n",
       "                });\n",
       "            </script>\n",
       "        </div>"
      ]
     },
     "metadata": {},
     "output_type": "display_data"
    }
   ],
   "source": [
    "# Bubble plot\n",
    "df.iplot(kind='bubble',x='A', y='B', size='C')"
   ]
  },
  {
   "cell_type": "code",
   "execution_count": 54,
   "metadata": {},
   "outputs": [
    {
     "data": {
      "application/vnd.plotly.v1+json": {
       "config": {
        "linkText": "Export to plot.ly",
        "plotlyServerURL": "https://plot.ly",
        "showLink": true
       },
       "data": [
        {
         "histfunc": "count",
         "histnorm": "",
         "marker": {
          "color": "rgba(255, 153, 51, 1.0)",
          "line": {
           "color": "#4D5663",
           "width": 1.3
          }
         },
         "name": "A",
         "nbinsx": 10,
         "opacity": 0.8,
         "orientation": "v",
         "type": "histogram",
         "x": [
          1.3522419087117923,
          -1.4367485228096082,
          0.34246615131765074,
          0.22501371995467404,
          -1.3835773588716889,
          -0.3786606793558325,
          1.5700394365681638,
          -0.4389112823843724,
          0.019327259196934583,
          -0.7871373062572039,
          1.1582459987267817,
          0.5419561074166749,
          0.10300724317610074,
          1.056526493789133,
          -0.5935929218146352,
          -0.9400064843743166,
          0.8184536422660786,
          0.6051514716477069,
          1.986033931482904,
          3.654979997899412,
          0.17858108615271165,
          -1.5513735777578752,
          1.9711731349620212,
          0.6244032392053847,
          1.1358931781345123,
          0.40377740852876387,
          -1.1112520429721875,
          -0.4837839184642077,
          -0.4697476049298041,
          0.4624700962665709,
          -0.40519454607155914,
          0.26826033900583474,
          -3.363286877728186,
          1.8642796689830858,
          0.3546706184336565,
          -0.3010076943115201,
          -0.184736525521066,
          -0.17078051736817168,
          1.0582430636820745,
          -0.8379417122297186,
          -0.17913716056313403,
          0.2868655884201024,
          1.4975251686775926,
          0.1673545509032834,
          1.8892720942055872,
          1.2000191097252784,
          -0.11723758426468586,
          -1.3923642324153118,
          1.2067384689802523,
          0.6995092920577454,
          -0.450318572383938,
          -1.0768058506215945,
          1.8240423037842124,
          -1.2848847471231686,
          -1.3092995799985827,
          -2.252081015062117,
          1.6516269181221692,
          1.5514491437019398,
          0.17685847323240705,
          -0.9136086216446226,
          1.2010817770884787,
          -0.19816291549069612,
          1.321136986359857,
          -0.3394538966085169,
          0.34016035243713444,
          -0.7941748905370211,
          0.19043318709089463,
          -0.5436817352645537,
          1.0661669821985864,
          2.2851010625069286,
          -0.8266733303952352,
          0.7884285801220625,
          0.8231972467330367,
          0.324008182428142,
          0.6752070165857296,
          -0.8439726176579643,
          -0.20609333658074047,
          -1.5482680054696205,
          -0.38434511261941934,
          0.07692083586667725,
          -0.6248572409586476,
          -0.16248851481555132,
          -1.8459074757071747,
          1.4126122652500914,
          0.19075917126177336,
          0.1756756844178885,
          -0.6453507523108135,
          1.689030633833263,
          -0.8708237540304141,
          0.25013438914188446,
          -1.4214869901784088,
          0.2984832844136182,
          -0.5636158302217779,
          -0.30474446122783944,
          1.006249773260137,
          0.2782559169320781,
          0.5666162539211673,
          -0.9302725711947286,
          -1.3463008359939528,
          0.32468815436776594
         ],
         "xaxis": "x",
         "yaxis": "y"
        },
        {
         "line": {
          "color": "rgba(128, 128, 128, 1.0)",
          "dash": "solid",
          "shape": "linear",
          "width": 1.3
         },
         "marker": {
          "size": 2,
          "symbol": "circle"
         },
         "mode": "markers",
         "name": "A",
         "text": "",
         "type": "scatter",
         "x": [
          0.2853960742036141,
          -0.4406604289569714,
          0.33365589029910364,
          0.2018345194581368,
          0.468673037397461,
          -1.3528010257124101,
          0.800285334395616,
          0.8735403499291123,
          -0.4971589012856189,
          -1.1501645383832924,
          -0.11235634631765345,
          0.4723699885089022,
          0.0712305561391159,
          0.24284710471750473,
          -0.9122241746416804,
          0.8269817335779781,
          -0.00874132852355032,
          -0.6318762826014234,
          0.43011057200838515,
          1.0704132732721918,
          2.134360594704674,
          0.31373630965031646,
          -0.8829218217202525,
          -0.73474365392336,
          0.3200172946062929,
          1.2920107799210232,
          -0.4672134494390364,
          -0.4255892680362301,
          -0.7883031262036172,
          -0.42466003092600074,
          1.312409195297587,
          0.09591687871532022,
          1.3971624576376163,
          0.5876017168531212,
          -0.9320959746324256,
          -1.554159956817357,
          0.34482741176093945,
          1.5468924170915168,
          -1.4034301158921905,
          -0.3421364854793705,
          -0.3700258002299505,
          0.18963240578518814,
          -0.8367522861239166,
          -1.4354639631629302,
          -0.1924128922031911,
          -0.4471995622697898,
          -0.20594738032034565,
          1.1666927760052315,
          0.8542061073093862,
          -0.045340865093400975,
          0.8829678490586947,
          2.6408083514235363,
          -0.5007660975317126,
          0.15144509399049666,
          -0.14989090307841002,
          -1.6619153347196627,
          1.0238621209857814,
          1.2221517095795575,
          -0.9735974374641312,
          -0.5627451263909823,
          -0.05804543402331785,
          0.9850109566618794,
          0.8381067825455304,
          -1.1621346812659719,
          -0.6289189456340682,
          0.9332556602694779,
          0.1801566919373079,
          0.10417651779157987,
          -0.14807796339151225,
          1.5990250523195302,
          -0.053927329507619894,
          -0.7783360488156015,
          -0.3700849764827003,
          2.2810591763490504,
          0.2542492977753961,
          2.762357088437156,
          0.6376042127156709,
          1.2695848172126263,
          0.45641857354305465,
          0.46965554004453053,
          -1.1173114686529768,
          0.3186506440608256,
          -1.2750038871380027,
          0.6618715619915841,
          0.08003220670383365,
          0.8067700142648925,
          -0.1022498040061927,
          -0.11343763353982858,
          -1.2410875845656366,
          0.5410071859457992,
          -0.008862683281114241,
          0.01483585722941619,
          -2.2886479470860417,
          -2.2874057157464414,
          -1.8809150648910813,
          -1.3995936415281152,
          -2.2829143071083657,
          0.8742765899714318,
          -3.559128971832099,
          -0.5292230111010272
         ],
         "xaxis": "x2",
         "y": [
          1.3522419087117923,
          -1.4367485228096082,
          0.34246615131765074,
          0.22501371995467404,
          -1.3835773588716889,
          -0.3786606793558325,
          1.5700394365681638,
          -0.4389112823843724,
          0.019327259196934583,
          -0.7871373062572039,
          1.1582459987267817,
          0.5419561074166749,
          0.10300724317610074,
          1.056526493789133,
          -0.5935929218146352,
          -0.9400064843743166,
          0.8184536422660786,
          0.6051514716477069,
          1.986033931482904,
          3.654979997899412,
          0.17858108615271165,
          -1.5513735777578752,
          1.9711731349620212,
          0.6244032392053847,
          1.1358931781345123,
          0.40377740852876387,
          -1.1112520429721875,
          -0.4837839184642077,
          -0.4697476049298041,
          0.4624700962665709,
          -0.40519454607155914,
          0.26826033900583474,
          -3.363286877728186,
          1.8642796689830858,
          0.3546706184336565,
          -0.3010076943115201,
          -0.184736525521066,
          -0.17078051736817168,
          1.0582430636820745,
          -0.8379417122297186,
          -0.17913716056313403,
          0.2868655884201024,
          1.4975251686775926,
          0.1673545509032834,
          1.8892720942055872,
          1.2000191097252784,
          -0.11723758426468586,
          -1.3923642324153118,
          1.2067384689802523,
          0.6995092920577454,
          -0.450318572383938,
          -1.0768058506215945,
          1.8240423037842124,
          -1.2848847471231686,
          -1.3092995799985827,
          -2.252081015062117,
          1.6516269181221692,
          1.5514491437019398,
          0.17685847323240705,
          -0.9136086216446226,
          1.2010817770884787,
          -0.19816291549069612,
          1.321136986359857,
          -0.3394538966085169,
          0.34016035243713444,
          -0.7941748905370211,
          0.19043318709089463,
          -0.5436817352645537,
          1.0661669821985864,
          2.2851010625069286,
          -0.8266733303952352,
          0.7884285801220625,
          0.8231972467330367,
          0.324008182428142,
          0.6752070165857296,
          -0.8439726176579643,
          -0.20609333658074047,
          -1.5482680054696205,
          -0.38434511261941934,
          0.07692083586667725,
          -0.6248572409586476,
          -0.16248851481555132,
          -1.8459074757071747,
          1.4126122652500914,
          0.19075917126177336,
          0.1756756844178885,
          -0.6453507523108135,
          1.689030633833263,
          -0.8708237540304141,
          0.25013438914188446,
          -1.4214869901784088,
          0.2984832844136182,
          -0.5636158302217779,
          -0.30474446122783944,
          1.006249773260137,
          0.2782559169320781,
          0.5666162539211673,
          -0.9302725711947286,
          -1.3463008359939528,
          0.32468815436776594
         ],
         "yaxis": "y2"
        },
        {
         "line": {
          "color": "rgba(128, 128, 128, 1.0)",
          "dash": "solid",
          "shape": "linear",
          "width": 1.3
         },
         "marker": {
          "size": 2,
          "symbol": "circle"
         },
         "mode": "markers",
         "name": "A",
         "text": "",
         "type": "scatter",
         "x": [
          -1.2114743390562264,
          1.700800915419909,
          -1.178994477837021,
          0.14513018194727986,
          1.286942779256458,
          0.6955018892298953,
          -0.9780020693548642,
          1.46808894919136,
          0.5822854672166777,
          0.19151145671021533,
          1.2105212178471323,
          1.4569023841482407,
          1.1756193827787285,
          0.7542403015929829,
          0.8434614724697863,
          -0.8560461320728188,
          0.9936037814303642,
          -0.31434565857476593,
          0.04525888276113422,
          0.5083100632905638,
          0.5286150797252278,
          -1.0246358503243014,
          -5.635076311253026e-05,
          -0.007341225579132861,
          0.5545965801178203,
          0.0810432372767892,
          1.1999323217913713,
          0.7471526407393261,
          0.0852219670418781,
          0.7993831939237878,
          -0.7922259472297779,
          -0.17945078997743538,
          0.7445919702954994,
          -0.07543975670014871,
          0.2958411375086231,
          0.11288799429313509,
          0.5866679922058633,
          0.7693347762832684,
          1.202395837276869,
          -0.515623404678566,
          -1.1129721035407865,
          -0.2899754175382606,
          0.20716303560209146,
          -0.8111795583989764,
          -0.7029578790728146,
          0.2923644478814588,
          -0.021076270898370716,
          -0.498923747661836,
          2.786513630916273,
          0.024913166024660306,
          -1.7807545602182158,
          -1.357397531105,
          0.1270269844378426,
          -0.5197410481686981,
          0.6008872605864622,
          -0.4423647332569923,
          0.15909986938826357,
          -0.47620993889168306,
          0.2870340326809318,
          1.0484693388735191,
          -1.7089889393481843,
          0.03309500492681004,
          0.9709780861585363,
          -0.2674736636277588,
          -0.1719559943280335,
          -0.25103460113072934,
          1.9652966578048763,
          -1.0299412274250208,
          -0.9521461846731799,
          -0.538170621043196,
          -0.3111127524093368,
          -0.5969506068307517,
          -1.6525314381120113,
          0.07541342778795664,
          0.8188151546411473,
          1.5122827976558877,
          0.09889150579605903,
          -0.7085815791607246,
          -2.2022019766422916,
          0.45863390939431736,
          0.6389744930862618,
          0.44307298846494525,
          0.6322602528309235,
          0.4190339353806155,
          0.2019674361957441,
          1.2653444505074438,
          1.6010436074640049,
          -0.04273937600904199,
          2.4247514443140528,
          -0.07098998568331391,
          -0.2494477920339057,
          -1.5733955487514455,
          -0.2705985504473421,
          -0.16015968417545634,
          1.5576972107642162,
          -0.7918241252487018,
          -0.6664298961171453,
          0.6136067512289997,
          -1.7283263219878962,
          -0.1934294523399556
         ],
         "xaxis": "x3",
         "y": [
          1.3522419087117923,
          -1.4367485228096082,
          0.34246615131765074,
          0.22501371995467404,
          -1.3835773588716889,
          -0.3786606793558325,
          1.5700394365681638,
          -0.4389112823843724,
          0.019327259196934583,
          -0.7871373062572039,
          1.1582459987267817,
          0.5419561074166749,
          0.10300724317610074,
          1.056526493789133,
          -0.5935929218146352,
          -0.9400064843743166,
          0.8184536422660786,
          0.6051514716477069,
          1.986033931482904,
          3.654979997899412,
          0.17858108615271165,
          -1.5513735777578752,
          1.9711731349620212,
          0.6244032392053847,
          1.1358931781345123,
          0.40377740852876387,
          -1.1112520429721875,
          -0.4837839184642077,
          -0.4697476049298041,
          0.4624700962665709,
          -0.40519454607155914,
          0.26826033900583474,
          -3.363286877728186,
          1.8642796689830858,
          0.3546706184336565,
          -0.3010076943115201,
          -0.184736525521066,
          -0.17078051736817168,
          1.0582430636820745,
          -0.8379417122297186,
          -0.17913716056313403,
          0.2868655884201024,
          1.4975251686775926,
          0.1673545509032834,
          1.8892720942055872,
          1.2000191097252784,
          -0.11723758426468586,
          -1.3923642324153118,
          1.2067384689802523,
          0.6995092920577454,
          -0.450318572383938,
          -1.0768058506215945,
          1.8240423037842124,
          -1.2848847471231686,
          -1.3092995799985827,
          -2.252081015062117,
          1.6516269181221692,
          1.5514491437019398,
          0.17685847323240705,
          -0.9136086216446226,
          1.2010817770884787,
          -0.19816291549069612,
          1.321136986359857,
          -0.3394538966085169,
          0.34016035243713444,
          -0.7941748905370211,
          0.19043318709089463,
          -0.5436817352645537,
          1.0661669821985864,
          2.2851010625069286,
          -0.8266733303952352,
          0.7884285801220625,
          0.8231972467330367,
          0.324008182428142,
          0.6752070165857296,
          -0.8439726176579643,
          -0.20609333658074047,
          -1.5482680054696205,
          -0.38434511261941934,
          0.07692083586667725,
          -0.6248572409586476,
          -0.16248851481555132,
          -1.8459074757071747,
          1.4126122652500914,
          0.19075917126177336,
          0.1756756844178885,
          -0.6453507523108135,
          1.689030633833263,
          -0.8708237540304141,
          0.25013438914188446,
          -1.4214869901784088,
          0.2984832844136182,
          -0.5636158302217779,
          -0.30474446122783944,
          1.006249773260137,
          0.2782559169320781,
          0.5666162539211673,
          -0.9302725711947286,
          -1.3463008359939528,
          0.32468815436776594
         ],
         "yaxis": "y3"
        },
        {
         "line": {
          "color": "rgba(128, 128, 128, 1.0)",
          "dash": "solid",
          "shape": "linear",
          "width": 1.3
         },
         "marker": {
          "size": 2,
          "symbol": "circle"
         },
         "mode": "markers",
         "name": "A",
         "text": "",
         "type": "scatter",
         "x": [
          -0.42207092062544505,
          0.571334851427382,
          0.209309099577975,
          0.2357360351882224,
          -0.19033052317107174,
          1.7954668044031779,
          0.03753594495671657,
          -0.34444488948102764,
          0.5145014018508386,
          0.7792744997652691,
          1.802800703652718,
          0.12961945987754453,
          -2.2451385004143423,
          -0.5476262287075142,
          1.8147112758073896,
          1.7774030039222173,
          -0.2890566123981602,
          -1.4229622366313441,
          0.5617914011982906,
          -1.2551830304274805,
          -1.6294584594711694,
          -0.06845787408972442,
          0.5677003676723057,
          -0.25533216789681634,
          2.17800882925841,
          1.5569574961587103,
          0.13536002901035704,
          -1.9501362472694592,
          -0.4084740162108226,
          0.09864966201708075,
          0.7005521862610382,
          -1.0237131750107904,
          -3.7198755066257703,
          1.2401281855439659,
          -0.24963018210588891,
          -0.4495616394996091,
          -1.334142897239012,
          -0.05199385707357265,
          -0.3636576150250563,
          0.6155077403985042,
          -0.8367399055275807,
          -1.0065113759366735,
          -2.53522971674168,
          -0.22123698017928725,
          1.7810788278251577,
          1.0037516165704732,
          -1.1182941395835115,
          -0.648522184773254,
          0.6592307181632687,
          -3.3148689366391255,
          0.5106039962665352,
          0.7016254374433916,
          0.6878489361253675,
          1.1427259382637898,
          -0.15063296235128362,
          1.7457182916932434,
          0.5152133093405894,
          -0.036109000356071556,
          0.7830740550725146,
          -0.44928100405539784,
          -0.07516099765662752,
          -1.1966712721257133,
          -1.812651207171741,
          0.7011874349784221,
          -0.6852555009642081,
          0.9776338731551988,
          0.4018853632616528,
          -0.19676303051306304,
          1.1682857171730392,
          -0.42026047686310775,
          1.0596319099267317,
          2.1167466718626504,
          -1.940722935149875,
          -0.9433259313316542,
          1.0845925686579752,
          -0.3825290633316056,
          0.6189134578674937,
          0.16208020847827534,
          -0.8392312772360102,
          -0.33911222257382945,
          -0.4049050065854754,
          -0.7610784392404565,
          -0.031673418319424954,
          -0.5905931178369421,
          0.09284308666716118,
          -1.4569240927626794,
          2.233444474053686,
          -2.2463777812587433,
          0.8247773217007768,
          1.2873820847023052,
          0.018378373475883426,
          1.0728725272475856,
          0.2049473995358994,
          -0.09993459592442042,
          0.12833398650529076,
          0.9851533536016509,
          -0.9675715123129737,
          -0.7323234244894197,
          -0.8110955871650228,
          0.7824093705610112
         ],
         "xaxis": "x4",
         "y": [
          1.3522419087117923,
          -1.4367485228096082,
          0.34246615131765074,
          0.22501371995467404,
          -1.3835773588716889,
          -0.3786606793558325,
          1.5700394365681638,
          -0.4389112823843724,
          0.019327259196934583,
          -0.7871373062572039,
          1.1582459987267817,
          0.5419561074166749,
          0.10300724317610074,
          1.056526493789133,
          -0.5935929218146352,
          -0.9400064843743166,
          0.8184536422660786,
          0.6051514716477069,
          1.986033931482904,
          3.654979997899412,
          0.17858108615271165,
          -1.5513735777578752,
          1.9711731349620212,
          0.6244032392053847,
          1.1358931781345123,
          0.40377740852876387,
          -1.1112520429721875,
          -0.4837839184642077,
          -0.4697476049298041,
          0.4624700962665709,
          -0.40519454607155914,
          0.26826033900583474,
          -3.363286877728186,
          1.8642796689830858,
          0.3546706184336565,
          -0.3010076943115201,
          -0.184736525521066,
          -0.17078051736817168,
          1.0582430636820745,
          -0.8379417122297186,
          -0.17913716056313403,
          0.2868655884201024,
          1.4975251686775926,
          0.1673545509032834,
          1.8892720942055872,
          1.2000191097252784,
          -0.11723758426468586,
          -1.3923642324153118,
          1.2067384689802523,
          0.6995092920577454,
          -0.450318572383938,
          -1.0768058506215945,
          1.8240423037842124,
          -1.2848847471231686,
          -1.3092995799985827,
          -2.252081015062117,
          1.6516269181221692,
          1.5514491437019398,
          0.17685847323240705,
          -0.9136086216446226,
          1.2010817770884787,
          -0.19816291549069612,
          1.321136986359857,
          -0.3394538966085169,
          0.34016035243713444,
          -0.7941748905370211,
          0.19043318709089463,
          -0.5436817352645537,
          1.0661669821985864,
          2.2851010625069286,
          -0.8266733303952352,
          0.7884285801220625,
          0.8231972467330367,
          0.324008182428142,
          0.6752070165857296,
          -0.8439726176579643,
          -0.20609333658074047,
          -1.5482680054696205,
          -0.38434511261941934,
          0.07692083586667725,
          -0.6248572409586476,
          -0.16248851481555132,
          -1.8459074757071747,
          1.4126122652500914,
          0.19075917126177336,
          0.1756756844178885,
          -0.6453507523108135,
          1.689030633833263,
          -0.8708237540304141,
          0.25013438914188446,
          -1.4214869901784088,
          0.2984832844136182,
          -0.5636158302217779,
          -0.30474446122783944,
          1.006249773260137,
          0.2782559169320781,
          0.5666162539211673,
          -0.9302725711947286,
          -1.3463008359939528,
          0.32468815436776594
         ],
         "yaxis": "y4"
        },
        {
         "line": {
          "color": "rgba(128, 128, 128, 1.0)",
          "dash": "solid",
          "shape": "linear",
          "width": 1.3
         },
         "marker": {
          "size": 2,
          "symbol": "circle"
         },
         "mode": "markers",
         "name": "B",
         "text": "",
         "type": "scatter",
         "x": [
          1.3522419087117923,
          -1.4367485228096082,
          0.34246615131765074,
          0.22501371995467404,
          -1.3835773588716889,
          -0.3786606793558325,
          1.5700394365681638,
          -0.4389112823843724,
          0.019327259196934583,
          -0.7871373062572039,
          1.1582459987267817,
          0.5419561074166749,
          0.10300724317610074,
          1.056526493789133,
          -0.5935929218146352,
          -0.9400064843743166,
          0.8184536422660786,
          0.6051514716477069,
          1.986033931482904,
          3.654979997899412,
          0.17858108615271165,
          -1.5513735777578752,
          1.9711731349620212,
          0.6244032392053847,
          1.1358931781345123,
          0.40377740852876387,
          -1.1112520429721875,
          -0.4837839184642077,
          -0.4697476049298041,
          0.4624700962665709,
          -0.40519454607155914,
          0.26826033900583474,
          -3.363286877728186,
          1.8642796689830858,
          0.3546706184336565,
          -0.3010076943115201,
          -0.184736525521066,
          -0.17078051736817168,
          1.0582430636820745,
          -0.8379417122297186,
          -0.17913716056313403,
          0.2868655884201024,
          1.4975251686775926,
          0.1673545509032834,
          1.8892720942055872,
          1.2000191097252784,
          -0.11723758426468586,
          -1.3923642324153118,
          1.2067384689802523,
          0.6995092920577454,
          -0.450318572383938,
          -1.0768058506215945,
          1.8240423037842124,
          -1.2848847471231686,
          -1.3092995799985827,
          -2.252081015062117,
          1.6516269181221692,
          1.5514491437019398,
          0.17685847323240705,
          -0.9136086216446226,
          1.2010817770884787,
          -0.19816291549069612,
          1.321136986359857,
          -0.3394538966085169,
          0.34016035243713444,
          -0.7941748905370211,
          0.19043318709089463,
          -0.5436817352645537,
          1.0661669821985864,
          2.2851010625069286,
          -0.8266733303952352,
          0.7884285801220625,
          0.8231972467330367,
          0.324008182428142,
          0.6752070165857296,
          -0.8439726176579643,
          -0.20609333658074047,
          -1.5482680054696205,
          -0.38434511261941934,
          0.07692083586667725,
          -0.6248572409586476,
          -0.16248851481555132,
          -1.8459074757071747,
          1.4126122652500914,
          0.19075917126177336,
          0.1756756844178885,
          -0.6453507523108135,
          1.689030633833263,
          -0.8708237540304141,
          0.25013438914188446,
          -1.4214869901784088,
          0.2984832844136182,
          -0.5636158302217779,
          -0.30474446122783944,
          1.006249773260137,
          0.2782559169320781,
          0.5666162539211673,
          -0.9302725711947286,
          -1.3463008359939528,
          0.32468815436776594
         ],
         "xaxis": "x5",
         "y": [
          0.2853960742036141,
          -0.4406604289569714,
          0.33365589029910364,
          0.2018345194581368,
          0.468673037397461,
          -1.3528010257124101,
          0.800285334395616,
          0.8735403499291123,
          -0.4971589012856189,
          -1.1501645383832924,
          -0.11235634631765345,
          0.4723699885089022,
          0.0712305561391159,
          0.24284710471750473,
          -0.9122241746416804,
          0.8269817335779781,
          -0.00874132852355032,
          -0.6318762826014234,
          0.43011057200838515,
          1.0704132732721918,
          2.134360594704674,
          0.31373630965031646,
          -0.8829218217202525,
          -0.73474365392336,
          0.3200172946062929,
          1.2920107799210232,
          -0.4672134494390364,
          -0.4255892680362301,
          -0.7883031262036172,
          -0.42466003092600074,
          1.312409195297587,
          0.09591687871532022,
          1.3971624576376163,
          0.5876017168531212,
          -0.9320959746324256,
          -1.554159956817357,
          0.34482741176093945,
          1.5468924170915168,
          -1.4034301158921905,
          -0.3421364854793705,
          -0.3700258002299505,
          0.18963240578518814,
          -0.8367522861239166,
          -1.4354639631629302,
          -0.1924128922031911,
          -0.4471995622697898,
          -0.20594738032034565,
          1.1666927760052315,
          0.8542061073093862,
          -0.045340865093400975,
          0.8829678490586947,
          2.6408083514235363,
          -0.5007660975317126,
          0.15144509399049666,
          -0.14989090307841002,
          -1.6619153347196627,
          1.0238621209857814,
          1.2221517095795575,
          -0.9735974374641312,
          -0.5627451263909823,
          -0.05804543402331785,
          0.9850109566618794,
          0.8381067825455304,
          -1.1621346812659719,
          -0.6289189456340682,
          0.9332556602694779,
          0.1801566919373079,
          0.10417651779157987,
          -0.14807796339151225,
          1.5990250523195302,
          -0.053927329507619894,
          -0.7783360488156015,
          -0.3700849764827003,
          2.2810591763490504,
          0.2542492977753961,
          2.762357088437156,
          0.6376042127156709,
          1.2695848172126263,
          0.45641857354305465,
          0.46965554004453053,
          -1.1173114686529768,
          0.3186506440608256,
          -1.2750038871380027,
          0.6618715619915841,
          0.08003220670383365,
          0.8067700142648925,
          -0.1022498040061927,
          -0.11343763353982858,
          -1.2410875845656366,
          0.5410071859457992,
          -0.008862683281114241,
          0.01483585722941619,
          -2.2886479470860417,
          -2.2874057157464414,
          -1.8809150648910813,
          -1.3995936415281152,
          -2.2829143071083657,
          0.8742765899714318,
          -3.559128971832099,
          -0.5292230111010272
         ],
         "yaxis": "y5"
        },
        {
         "histfunc": "count",
         "histnorm": "",
         "marker": {
          "color": "rgba(55, 128, 191, 1.0)",
          "line": {
           "color": "#4D5663",
           "width": 1.3
          }
         },
         "name": "B",
         "nbinsx": 10,
         "opacity": 0.8,
         "orientation": "v",
         "type": "histogram",
         "x": [
          0.2853960742036141,
          -0.4406604289569714,
          0.33365589029910364,
          0.2018345194581368,
          0.468673037397461,
          -1.3528010257124101,
          0.800285334395616,
          0.8735403499291123,
          -0.4971589012856189,
          -1.1501645383832924,
          -0.11235634631765345,
          0.4723699885089022,
          0.0712305561391159,
          0.24284710471750473,
          -0.9122241746416804,
          0.8269817335779781,
          -0.00874132852355032,
          -0.6318762826014234,
          0.43011057200838515,
          1.0704132732721918,
          2.134360594704674,
          0.31373630965031646,
          -0.8829218217202525,
          -0.73474365392336,
          0.3200172946062929,
          1.2920107799210232,
          -0.4672134494390364,
          -0.4255892680362301,
          -0.7883031262036172,
          -0.42466003092600074,
          1.312409195297587,
          0.09591687871532022,
          1.3971624576376163,
          0.5876017168531212,
          -0.9320959746324256,
          -1.554159956817357,
          0.34482741176093945,
          1.5468924170915168,
          -1.4034301158921905,
          -0.3421364854793705,
          -0.3700258002299505,
          0.18963240578518814,
          -0.8367522861239166,
          -1.4354639631629302,
          -0.1924128922031911,
          -0.4471995622697898,
          -0.20594738032034565,
          1.1666927760052315,
          0.8542061073093862,
          -0.045340865093400975,
          0.8829678490586947,
          2.6408083514235363,
          -0.5007660975317126,
          0.15144509399049666,
          -0.14989090307841002,
          -1.6619153347196627,
          1.0238621209857814,
          1.2221517095795575,
          -0.9735974374641312,
          -0.5627451263909823,
          -0.05804543402331785,
          0.9850109566618794,
          0.8381067825455304,
          -1.1621346812659719,
          -0.6289189456340682,
          0.9332556602694779,
          0.1801566919373079,
          0.10417651779157987,
          -0.14807796339151225,
          1.5990250523195302,
          -0.053927329507619894,
          -0.7783360488156015,
          -0.3700849764827003,
          2.2810591763490504,
          0.2542492977753961,
          2.762357088437156,
          0.6376042127156709,
          1.2695848172126263,
          0.45641857354305465,
          0.46965554004453053,
          -1.1173114686529768,
          0.3186506440608256,
          -1.2750038871380027,
          0.6618715619915841,
          0.08003220670383365,
          0.8067700142648925,
          -0.1022498040061927,
          -0.11343763353982858,
          -1.2410875845656366,
          0.5410071859457992,
          -0.008862683281114241,
          0.01483585722941619,
          -2.2886479470860417,
          -2.2874057157464414,
          -1.8809150648910813,
          -1.3995936415281152,
          -2.2829143071083657,
          0.8742765899714318,
          -3.559128971832099,
          -0.5292230111010272
         ],
         "xaxis": "x6",
         "yaxis": "y6"
        },
        {
         "line": {
          "color": "rgba(128, 128, 128, 1.0)",
          "dash": "solid",
          "shape": "linear",
          "width": 1.3
         },
         "marker": {
          "size": 2,
          "symbol": "circle"
         },
         "mode": "markers",
         "name": "B",
         "text": "",
         "type": "scatter",
         "x": [
          -1.2114743390562264,
          1.700800915419909,
          -1.178994477837021,
          0.14513018194727986,
          1.286942779256458,
          0.6955018892298953,
          -0.9780020693548642,
          1.46808894919136,
          0.5822854672166777,
          0.19151145671021533,
          1.2105212178471323,
          1.4569023841482407,
          1.1756193827787285,
          0.7542403015929829,
          0.8434614724697863,
          -0.8560461320728188,
          0.9936037814303642,
          -0.31434565857476593,
          0.04525888276113422,
          0.5083100632905638,
          0.5286150797252278,
          -1.0246358503243014,
          -5.635076311253026e-05,
          -0.007341225579132861,
          0.5545965801178203,
          0.0810432372767892,
          1.1999323217913713,
          0.7471526407393261,
          0.0852219670418781,
          0.7993831939237878,
          -0.7922259472297779,
          -0.17945078997743538,
          0.7445919702954994,
          -0.07543975670014871,
          0.2958411375086231,
          0.11288799429313509,
          0.5866679922058633,
          0.7693347762832684,
          1.202395837276869,
          -0.515623404678566,
          -1.1129721035407865,
          -0.2899754175382606,
          0.20716303560209146,
          -0.8111795583989764,
          -0.7029578790728146,
          0.2923644478814588,
          -0.021076270898370716,
          -0.498923747661836,
          2.786513630916273,
          0.024913166024660306,
          -1.7807545602182158,
          -1.357397531105,
          0.1270269844378426,
          -0.5197410481686981,
          0.6008872605864622,
          -0.4423647332569923,
          0.15909986938826357,
          -0.47620993889168306,
          0.2870340326809318,
          1.0484693388735191,
          -1.7089889393481843,
          0.03309500492681004,
          0.9709780861585363,
          -0.2674736636277588,
          -0.1719559943280335,
          -0.25103460113072934,
          1.9652966578048763,
          -1.0299412274250208,
          -0.9521461846731799,
          -0.538170621043196,
          -0.3111127524093368,
          -0.5969506068307517,
          -1.6525314381120113,
          0.07541342778795664,
          0.8188151546411473,
          1.5122827976558877,
          0.09889150579605903,
          -0.7085815791607246,
          -2.2022019766422916,
          0.45863390939431736,
          0.6389744930862618,
          0.44307298846494525,
          0.6322602528309235,
          0.4190339353806155,
          0.2019674361957441,
          1.2653444505074438,
          1.6010436074640049,
          -0.04273937600904199,
          2.4247514443140528,
          -0.07098998568331391,
          -0.2494477920339057,
          -1.5733955487514455,
          -0.2705985504473421,
          -0.16015968417545634,
          1.5576972107642162,
          -0.7918241252487018,
          -0.6664298961171453,
          0.6136067512289997,
          -1.7283263219878962,
          -0.1934294523399556
         ],
         "xaxis": "x7",
         "y": [
          0.2853960742036141,
          -0.4406604289569714,
          0.33365589029910364,
          0.2018345194581368,
          0.468673037397461,
          -1.3528010257124101,
          0.800285334395616,
          0.8735403499291123,
          -0.4971589012856189,
          -1.1501645383832924,
          -0.11235634631765345,
          0.4723699885089022,
          0.0712305561391159,
          0.24284710471750473,
          -0.9122241746416804,
          0.8269817335779781,
          -0.00874132852355032,
          -0.6318762826014234,
          0.43011057200838515,
          1.0704132732721918,
          2.134360594704674,
          0.31373630965031646,
          -0.8829218217202525,
          -0.73474365392336,
          0.3200172946062929,
          1.2920107799210232,
          -0.4672134494390364,
          -0.4255892680362301,
          -0.7883031262036172,
          -0.42466003092600074,
          1.312409195297587,
          0.09591687871532022,
          1.3971624576376163,
          0.5876017168531212,
          -0.9320959746324256,
          -1.554159956817357,
          0.34482741176093945,
          1.5468924170915168,
          -1.4034301158921905,
          -0.3421364854793705,
          -0.3700258002299505,
          0.18963240578518814,
          -0.8367522861239166,
          -1.4354639631629302,
          -0.1924128922031911,
          -0.4471995622697898,
          -0.20594738032034565,
          1.1666927760052315,
          0.8542061073093862,
          -0.045340865093400975,
          0.8829678490586947,
          2.6408083514235363,
          -0.5007660975317126,
          0.15144509399049666,
          -0.14989090307841002,
          -1.6619153347196627,
          1.0238621209857814,
          1.2221517095795575,
          -0.9735974374641312,
          -0.5627451263909823,
          -0.05804543402331785,
          0.9850109566618794,
          0.8381067825455304,
          -1.1621346812659719,
          -0.6289189456340682,
          0.9332556602694779,
          0.1801566919373079,
          0.10417651779157987,
          -0.14807796339151225,
          1.5990250523195302,
          -0.053927329507619894,
          -0.7783360488156015,
          -0.3700849764827003,
          2.2810591763490504,
          0.2542492977753961,
          2.762357088437156,
          0.6376042127156709,
          1.2695848172126263,
          0.45641857354305465,
          0.46965554004453053,
          -1.1173114686529768,
          0.3186506440608256,
          -1.2750038871380027,
          0.6618715619915841,
          0.08003220670383365,
          0.8067700142648925,
          -0.1022498040061927,
          -0.11343763353982858,
          -1.2410875845656366,
          0.5410071859457992,
          -0.008862683281114241,
          0.01483585722941619,
          -2.2886479470860417,
          -2.2874057157464414,
          -1.8809150648910813,
          -1.3995936415281152,
          -2.2829143071083657,
          0.8742765899714318,
          -3.559128971832099,
          -0.5292230111010272
         ],
         "yaxis": "y7"
        },
        {
         "line": {
          "color": "rgba(128, 128, 128, 1.0)",
          "dash": "solid",
          "shape": "linear",
          "width": 1.3
         },
         "marker": {
          "size": 2,
          "symbol": "circle"
         },
         "mode": "markers",
         "name": "B",
         "text": "",
         "type": "scatter",
         "x": [
          -0.42207092062544505,
          0.571334851427382,
          0.209309099577975,
          0.2357360351882224,
          -0.19033052317107174,
          1.7954668044031779,
          0.03753594495671657,
          -0.34444488948102764,
          0.5145014018508386,
          0.7792744997652691,
          1.802800703652718,
          0.12961945987754453,
          -2.2451385004143423,
          -0.5476262287075142,
          1.8147112758073896,
          1.7774030039222173,
          -0.2890566123981602,
          -1.4229622366313441,
          0.5617914011982906,
          -1.2551830304274805,
          -1.6294584594711694,
          -0.06845787408972442,
          0.5677003676723057,
          -0.25533216789681634,
          2.17800882925841,
          1.5569574961587103,
          0.13536002901035704,
          -1.9501362472694592,
          -0.4084740162108226,
          0.09864966201708075,
          0.7005521862610382,
          -1.0237131750107904,
          -3.7198755066257703,
          1.2401281855439659,
          -0.24963018210588891,
          -0.4495616394996091,
          -1.334142897239012,
          -0.05199385707357265,
          -0.3636576150250563,
          0.6155077403985042,
          -0.8367399055275807,
          -1.0065113759366735,
          -2.53522971674168,
          -0.22123698017928725,
          1.7810788278251577,
          1.0037516165704732,
          -1.1182941395835115,
          -0.648522184773254,
          0.6592307181632687,
          -3.3148689366391255,
          0.5106039962665352,
          0.7016254374433916,
          0.6878489361253675,
          1.1427259382637898,
          -0.15063296235128362,
          1.7457182916932434,
          0.5152133093405894,
          -0.036109000356071556,
          0.7830740550725146,
          -0.44928100405539784,
          -0.07516099765662752,
          -1.1966712721257133,
          -1.812651207171741,
          0.7011874349784221,
          -0.6852555009642081,
          0.9776338731551988,
          0.4018853632616528,
          -0.19676303051306304,
          1.1682857171730392,
          -0.42026047686310775,
          1.0596319099267317,
          2.1167466718626504,
          -1.940722935149875,
          -0.9433259313316542,
          1.0845925686579752,
          -0.3825290633316056,
          0.6189134578674937,
          0.16208020847827534,
          -0.8392312772360102,
          -0.33911222257382945,
          -0.4049050065854754,
          -0.7610784392404565,
          -0.031673418319424954,
          -0.5905931178369421,
          0.09284308666716118,
          -1.4569240927626794,
          2.233444474053686,
          -2.2463777812587433,
          0.8247773217007768,
          1.2873820847023052,
          0.018378373475883426,
          1.0728725272475856,
          0.2049473995358994,
          -0.09993459592442042,
          0.12833398650529076,
          0.9851533536016509,
          -0.9675715123129737,
          -0.7323234244894197,
          -0.8110955871650228,
          0.7824093705610112
         ],
         "xaxis": "x8",
         "y": [
          0.2853960742036141,
          -0.4406604289569714,
          0.33365589029910364,
          0.2018345194581368,
          0.468673037397461,
          -1.3528010257124101,
          0.800285334395616,
          0.8735403499291123,
          -0.4971589012856189,
          -1.1501645383832924,
          -0.11235634631765345,
          0.4723699885089022,
          0.0712305561391159,
          0.24284710471750473,
          -0.9122241746416804,
          0.8269817335779781,
          -0.00874132852355032,
          -0.6318762826014234,
          0.43011057200838515,
          1.0704132732721918,
          2.134360594704674,
          0.31373630965031646,
          -0.8829218217202525,
          -0.73474365392336,
          0.3200172946062929,
          1.2920107799210232,
          -0.4672134494390364,
          -0.4255892680362301,
          -0.7883031262036172,
          -0.42466003092600074,
          1.312409195297587,
          0.09591687871532022,
          1.3971624576376163,
          0.5876017168531212,
          -0.9320959746324256,
          -1.554159956817357,
          0.34482741176093945,
          1.5468924170915168,
          -1.4034301158921905,
          -0.3421364854793705,
          -0.3700258002299505,
          0.18963240578518814,
          -0.8367522861239166,
          -1.4354639631629302,
          -0.1924128922031911,
          -0.4471995622697898,
          -0.20594738032034565,
          1.1666927760052315,
          0.8542061073093862,
          -0.045340865093400975,
          0.8829678490586947,
          2.6408083514235363,
          -0.5007660975317126,
          0.15144509399049666,
          -0.14989090307841002,
          -1.6619153347196627,
          1.0238621209857814,
          1.2221517095795575,
          -0.9735974374641312,
          -0.5627451263909823,
          -0.05804543402331785,
          0.9850109566618794,
          0.8381067825455304,
          -1.1621346812659719,
          -0.6289189456340682,
          0.9332556602694779,
          0.1801566919373079,
          0.10417651779157987,
          -0.14807796339151225,
          1.5990250523195302,
          -0.053927329507619894,
          -0.7783360488156015,
          -0.3700849764827003,
          2.2810591763490504,
          0.2542492977753961,
          2.762357088437156,
          0.6376042127156709,
          1.2695848172126263,
          0.45641857354305465,
          0.46965554004453053,
          -1.1173114686529768,
          0.3186506440608256,
          -1.2750038871380027,
          0.6618715619915841,
          0.08003220670383365,
          0.8067700142648925,
          -0.1022498040061927,
          -0.11343763353982858,
          -1.2410875845656366,
          0.5410071859457992,
          -0.008862683281114241,
          0.01483585722941619,
          -2.2886479470860417,
          -2.2874057157464414,
          -1.8809150648910813,
          -1.3995936415281152,
          -2.2829143071083657,
          0.8742765899714318,
          -3.559128971832099,
          -0.5292230111010272
         ],
         "yaxis": "y8"
        },
        {
         "line": {
          "color": "rgba(128, 128, 128, 1.0)",
          "dash": "solid",
          "shape": "linear",
          "width": 1.3
         },
         "marker": {
          "size": 2,
          "symbol": "circle"
         },
         "mode": "markers",
         "name": "C",
         "text": "",
         "type": "scatter",
         "x": [
          1.3522419087117923,
          -1.4367485228096082,
          0.34246615131765074,
          0.22501371995467404,
          -1.3835773588716889,
          -0.3786606793558325,
          1.5700394365681638,
          -0.4389112823843724,
          0.019327259196934583,
          -0.7871373062572039,
          1.1582459987267817,
          0.5419561074166749,
          0.10300724317610074,
          1.056526493789133,
          -0.5935929218146352,
          -0.9400064843743166,
          0.8184536422660786,
          0.6051514716477069,
          1.986033931482904,
          3.654979997899412,
          0.17858108615271165,
          -1.5513735777578752,
          1.9711731349620212,
          0.6244032392053847,
          1.1358931781345123,
          0.40377740852876387,
          -1.1112520429721875,
          -0.4837839184642077,
          -0.4697476049298041,
          0.4624700962665709,
          -0.40519454607155914,
          0.26826033900583474,
          -3.363286877728186,
          1.8642796689830858,
          0.3546706184336565,
          -0.3010076943115201,
          -0.184736525521066,
          -0.17078051736817168,
          1.0582430636820745,
          -0.8379417122297186,
          -0.17913716056313403,
          0.2868655884201024,
          1.4975251686775926,
          0.1673545509032834,
          1.8892720942055872,
          1.2000191097252784,
          -0.11723758426468586,
          -1.3923642324153118,
          1.2067384689802523,
          0.6995092920577454,
          -0.450318572383938,
          -1.0768058506215945,
          1.8240423037842124,
          -1.2848847471231686,
          -1.3092995799985827,
          -2.252081015062117,
          1.6516269181221692,
          1.5514491437019398,
          0.17685847323240705,
          -0.9136086216446226,
          1.2010817770884787,
          -0.19816291549069612,
          1.321136986359857,
          -0.3394538966085169,
          0.34016035243713444,
          -0.7941748905370211,
          0.19043318709089463,
          -0.5436817352645537,
          1.0661669821985864,
          2.2851010625069286,
          -0.8266733303952352,
          0.7884285801220625,
          0.8231972467330367,
          0.324008182428142,
          0.6752070165857296,
          -0.8439726176579643,
          -0.20609333658074047,
          -1.5482680054696205,
          -0.38434511261941934,
          0.07692083586667725,
          -0.6248572409586476,
          -0.16248851481555132,
          -1.8459074757071747,
          1.4126122652500914,
          0.19075917126177336,
          0.1756756844178885,
          -0.6453507523108135,
          1.689030633833263,
          -0.8708237540304141,
          0.25013438914188446,
          -1.4214869901784088,
          0.2984832844136182,
          -0.5636158302217779,
          -0.30474446122783944,
          1.006249773260137,
          0.2782559169320781,
          0.5666162539211673,
          -0.9302725711947286,
          -1.3463008359939528,
          0.32468815436776594
         ],
         "xaxis": "x9",
         "y": [
          -1.2114743390562264,
          1.700800915419909,
          -1.178994477837021,
          0.14513018194727986,
          1.286942779256458,
          0.6955018892298953,
          -0.9780020693548642,
          1.46808894919136,
          0.5822854672166777,
          0.19151145671021533,
          1.2105212178471323,
          1.4569023841482407,
          1.1756193827787285,
          0.7542403015929829,
          0.8434614724697863,
          -0.8560461320728188,
          0.9936037814303642,
          -0.31434565857476593,
          0.04525888276113422,
          0.5083100632905638,
          0.5286150797252278,
          -1.0246358503243014,
          -5.635076311253026e-05,
          -0.007341225579132861,
          0.5545965801178203,
          0.0810432372767892,
          1.1999323217913713,
          0.7471526407393261,
          0.0852219670418781,
          0.7993831939237878,
          -0.7922259472297779,
          -0.17945078997743538,
          0.7445919702954994,
          -0.07543975670014871,
          0.2958411375086231,
          0.11288799429313509,
          0.5866679922058633,
          0.7693347762832684,
          1.202395837276869,
          -0.515623404678566,
          -1.1129721035407865,
          -0.2899754175382606,
          0.20716303560209146,
          -0.8111795583989764,
          -0.7029578790728146,
          0.2923644478814588,
          -0.021076270898370716,
          -0.498923747661836,
          2.786513630916273,
          0.024913166024660306,
          -1.7807545602182158,
          -1.357397531105,
          0.1270269844378426,
          -0.5197410481686981,
          0.6008872605864622,
          -0.4423647332569923,
          0.15909986938826357,
          -0.47620993889168306,
          0.2870340326809318,
          1.0484693388735191,
          -1.7089889393481843,
          0.03309500492681004,
          0.9709780861585363,
          -0.2674736636277588,
          -0.1719559943280335,
          -0.25103460113072934,
          1.9652966578048763,
          -1.0299412274250208,
          -0.9521461846731799,
          -0.538170621043196,
          -0.3111127524093368,
          -0.5969506068307517,
          -1.6525314381120113,
          0.07541342778795664,
          0.8188151546411473,
          1.5122827976558877,
          0.09889150579605903,
          -0.7085815791607246,
          -2.2022019766422916,
          0.45863390939431736,
          0.6389744930862618,
          0.44307298846494525,
          0.6322602528309235,
          0.4190339353806155,
          0.2019674361957441,
          1.2653444505074438,
          1.6010436074640049,
          -0.04273937600904199,
          2.4247514443140528,
          -0.07098998568331391,
          -0.2494477920339057,
          -1.5733955487514455,
          -0.2705985504473421,
          -0.16015968417545634,
          1.5576972107642162,
          -0.7918241252487018,
          -0.6664298961171453,
          0.6136067512289997,
          -1.7283263219878962,
          -0.1934294523399556
         ],
         "yaxis": "y9"
        },
        {
         "line": {
          "color": "rgba(128, 128, 128, 1.0)",
          "dash": "solid",
          "shape": "linear",
          "width": 1.3
         },
         "marker": {
          "size": 2,
          "symbol": "circle"
         },
         "mode": "markers",
         "name": "C",
         "text": "",
         "type": "scatter",
         "x": [
          0.2853960742036141,
          -0.4406604289569714,
          0.33365589029910364,
          0.2018345194581368,
          0.468673037397461,
          -1.3528010257124101,
          0.800285334395616,
          0.8735403499291123,
          -0.4971589012856189,
          -1.1501645383832924,
          -0.11235634631765345,
          0.4723699885089022,
          0.0712305561391159,
          0.24284710471750473,
          -0.9122241746416804,
          0.8269817335779781,
          -0.00874132852355032,
          -0.6318762826014234,
          0.43011057200838515,
          1.0704132732721918,
          2.134360594704674,
          0.31373630965031646,
          -0.8829218217202525,
          -0.73474365392336,
          0.3200172946062929,
          1.2920107799210232,
          -0.4672134494390364,
          -0.4255892680362301,
          -0.7883031262036172,
          -0.42466003092600074,
          1.312409195297587,
          0.09591687871532022,
          1.3971624576376163,
          0.5876017168531212,
          -0.9320959746324256,
          -1.554159956817357,
          0.34482741176093945,
          1.5468924170915168,
          -1.4034301158921905,
          -0.3421364854793705,
          -0.3700258002299505,
          0.18963240578518814,
          -0.8367522861239166,
          -1.4354639631629302,
          -0.1924128922031911,
          -0.4471995622697898,
          -0.20594738032034565,
          1.1666927760052315,
          0.8542061073093862,
          -0.045340865093400975,
          0.8829678490586947,
          2.6408083514235363,
          -0.5007660975317126,
          0.15144509399049666,
          -0.14989090307841002,
          -1.6619153347196627,
          1.0238621209857814,
          1.2221517095795575,
          -0.9735974374641312,
          -0.5627451263909823,
          -0.05804543402331785,
          0.9850109566618794,
          0.8381067825455304,
          -1.1621346812659719,
          -0.6289189456340682,
          0.9332556602694779,
          0.1801566919373079,
          0.10417651779157987,
          -0.14807796339151225,
          1.5990250523195302,
          -0.053927329507619894,
          -0.7783360488156015,
          -0.3700849764827003,
          2.2810591763490504,
          0.2542492977753961,
          2.762357088437156,
          0.6376042127156709,
          1.2695848172126263,
          0.45641857354305465,
          0.46965554004453053,
          -1.1173114686529768,
          0.3186506440608256,
          -1.2750038871380027,
          0.6618715619915841,
          0.08003220670383365,
          0.8067700142648925,
          -0.1022498040061927,
          -0.11343763353982858,
          -1.2410875845656366,
          0.5410071859457992,
          -0.008862683281114241,
          0.01483585722941619,
          -2.2886479470860417,
          -2.2874057157464414,
          -1.8809150648910813,
          -1.3995936415281152,
          -2.2829143071083657,
          0.8742765899714318,
          -3.559128971832099,
          -0.5292230111010272
         ],
         "xaxis": "x10",
         "y": [
          -1.2114743390562264,
          1.700800915419909,
          -1.178994477837021,
          0.14513018194727986,
          1.286942779256458,
          0.6955018892298953,
          -0.9780020693548642,
          1.46808894919136,
          0.5822854672166777,
          0.19151145671021533,
          1.2105212178471323,
          1.4569023841482407,
          1.1756193827787285,
          0.7542403015929829,
          0.8434614724697863,
          -0.8560461320728188,
          0.9936037814303642,
          -0.31434565857476593,
          0.04525888276113422,
          0.5083100632905638,
          0.5286150797252278,
          -1.0246358503243014,
          -5.635076311253026e-05,
          -0.007341225579132861,
          0.5545965801178203,
          0.0810432372767892,
          1.1999323217913713,
          0.7471526407393261,
          0.0852219670418781,
          0.7993831939237878,
          -0.7922259472297779,
          -0.17945078997743538,
          0.7445919702954994,
          -0.07543975670014871,
          0.2958411375086231,
          0.11288799429313509,
          0.5866679922058633,
          0.7693347762832684,
          1.202395837276869,
          -0.515623404678566,
          -1.1129721035407865,
          -0.2899754175382606,
          0.20716303560209146,
          -0.8111795583989764,
          -0.7029578790728146,
          0.2923644478814588,
          -0.021076270898370716,
          -0.498923747661836,
          2.786513630916273,
          0.024913166024660306,
          -1.7807545602182158,
          -1.357397531105,
          0.1270269844378426,
          -0.5197410481686981,
          0.6008872605864622,
          -0.4423647332569923,
          0.15909986938826357,
          -0.47620993889168306,
          0.2870340326809318,
          1.0484693388735191,
          -1.7089889393481843,
          0.03309500492681004,
          0.9709780861585363,
          -0.2674736636277588,
          -0.1719559943280335,
          -0.25103460113072934,
          1.9652966578048763,
          -1.0299412274250208,
          -0.9521461846731799,
          -0.538170621043196,
          -0.3111127524093368,
          -0.5969506068307517,
          -1.6525314381120113,
          0.07541342778795664,
          0.8188151546411473,
          1.5122827976558877,
          0.09889150579605903,
          -0.7085815791607246,
          -2.2022019766422916,
          0.45863390939431736,
          0.6389744930862618,
          0.44307298846494525,
          0.6322602528309235,
          0.4190339353806155,
          0.2019674361957441,
          1.2653444505074438,
          1.6010436074640049,
          -0.04273937600904199,
          2.4247514443140528,
          -0.07098998568331391,
          -0.2494477920339057,
          -1.5733955487514455,
          -0.2705985504473421,
          -0.16015968417545634,
          1.5576972107642162,
          -0.7918241252487018,
          -0.6664298961171453,
          0.6136067512289997,
          -1.7283263219878962,
          -0.1934294523399556
         ],
         "yaxis": "y10"
        },
        {
         "histfunc": "count",
         "histnorm": "",
         "marker": {
          "color": "rgba(50, 171, 96, 1.0)",
          "line": {
           "color": "#4D5663",
           "width": 1.3
          }
         },
         "name": "C",
         "nbinsx": 10,
         "opacity": 0.8,
         "orientation": "v",
         "type": "histogram",
         "x": [
          -1.2114743390562264,
          1.700800915419909,
          -1.178994477837021,
          0.14513018194727986,
          1.286942779256458,
          0.6955018892298953,
          -0.9780020693548642,
          1.46808894919136,
          0.5822854672166777,
          0.19151145671021533,
          1.2105212178471323,
          1.4569023841482407,
          1.1756193827787285,
          0.7542403015929829,
          0.8434614724697863,
          -0.8560461320728188,
          0.9936037814303642,
          -0.31434565857476593,
          0.04525888276113422,
          0.5083100632905638,
          0.5286150797252278,
          -1.0246358503243014,
          -5.635076311253026e-05,
          -0.007341225579132861,
          0.5545965801178203,
          0.0810432372767892,
          1.1999323217913713,
          0.7471526407393261,
          0.0852219670418781,
          0.7993831939237878,
          -0.7922259472297779,
          -0.17945078997743538,
          0.7445919702954994,
          -0.07543975670014871,
          0.2958411375086231,
          0.11288799429313509,
          0.5866679922058633,
          0.7693347762832684,
          1.202395837276869,
          -0.515623404678566,
          -1.1129721035407865,
          -0.2899754175382606,
          0.20716303560209146,
          -0.8111795583989764,
          -0.7029578790728146,
          0.2923644478814588,
          -0.021076270898370716,
          -0.498923747661836,
          2.786513630916273,
          0.024913166024660306,
          -1.7807545602182158,
          -1.357397531105,
          0.1270269844378426,
          -0.5197410481686981,
          0.6008872605864622,
          -0.4423647332569923,
          0.15909986938826357,
          -0.47620993889168306,
          0.2870340326809318,
          1.0484693388735191,
          -1.7089889393481843,
          0.03309500492681004,
          0.9709780861585363,
          -0.2674736636277588,
          -0.1719559943280335,
          -0.25103460113072934,
          1.9652966578048763,
          -1.0299412274250208,
          -0.9521461846731799,
          -0.538170621043196,
          -0.3111127524093368,
          -0.5969506068307517,
          -1.6525314381120113,
          0.07541342778795664,
          0.8188151546411473,
          1.5122827976558877,
          0.09889150579605903,
          -0.7085815791607246,
          -2.2022019766422916,
          0.45863390939431736,
          0.6389744930862618,
          0.44307298846494525,
          0.6322602528309235,
          0.4190339353806155,
          0.2019674361957441,
          1.2653444505074438,
          1.6010436074640049,
          -0.04273937600904199,
          2.4247514443140528,
          -0.07098998568331391,
          -0.2494477920339057,
          -1.5733955487514455,
          -0.2705985504473421,
          -0.16015968417545634,
          1.5576972107642162,
          -0.7918241252487018,
          -0.6664298961171453,
          0.6136067512289997,
          -1.7283263219878962,
          -0.1934294523399556
         ],
         "xaxis": "x11",
         "yaxis": "y11"
        },
        {
         "line": {
          "color": "rgba(128, 128, 128, 1.0)",
          "dash": "solid",
          "shape": "linear",
          "width": 1.3
         },
         "marker": {
          "size": 2,
          "symbol": "circle"
         },
         "mode": "markers",
         "name": "C",
         "text": "",
         "type": "scatter",
         "x": [
          -0.42207092062544505,
          0.571334851427382,
          0.209309099577975,
          0.2357360351882224,
          -0.19033052317107174,
          1.7954668044031779,
          0.03753594495671657,
          -0.34444488948102764,
          0.5145014018508386,
          0.7792744997652691,
          1.802800703652718,
          0.12961945987754453,
          -2.2451385004143423,
          -0.5476262287075142,
          1.8147112758073896,
          1.7774030039222173,
          -0.2890566123981602,
          -1.4229622366313441,
          0.5617914011982906,
          -1.2551830304274805,
          -1.6294584594711694,
          -0.06845787408972442,
          0.5677003676723057,
          -0.25533216789681634,
          2.17800882925841,
          1.5569574961587103,
          0.13536002901035704,
          -1.9501362472694592,
          -0.4084740162108226,
          0.09864966201708075,
          0.7005521862610382,
          -1.0237131750107904,
          -3.7198755066257703,
          1.2401281855439659,
          -0.24963018210588891,
          -0.4495616394996091,
          -1.334142897239012,
          -0.05199385707357265,
          -0.3636576150250563,
          0.6155077403985042,
          -0.8367399055275807,
          -1.0065113759366735,
          -2.53522971674168,
          -0.22123698017928725,
          1.7810788278251577,
          1.0037516165704732,
          -1.1182941395835115,
          -0.648522184773254,
          0.6592307181632687,
          -3.3148689366391255,
          0.5106039962665352,
          0.7016254374433916,
          0.6878489361253675,
          1.1427259382637898,
          -0.15063296235128362,
          1.7457182916932434,
          0.5152133093405894,
          -0.036109000356071556,
          0.7830740550725146,
          -0.44928100405539784,
          -0.07516099765662752,
          -1.1966712721257133,
          -1.812651207171741,
          0.7011874349784221,
          -0.6852555009642081,
          0.9776338731551988,
          0.4018853632616528,
          -0.19676303051306304,
          1.1682857171730392,
          -0.42026047686310775,
          1.0596319099267317,
          2.1167466718626504,
          -1.940722935149875,
          -0.9433259313316542,
          1.0845925686579752,
          -0.3825290633316056,
          0.6189134578674937,
          0.16208020847827534,
          -0.8392312772360102,
          -0.33911222257382945,
          -0.4049050065854754,
          -0.7610784392404565,
          -0.031673418319424954,
          -0.5905931178369421,
          0.09284308666716118,
          -1.4569240927626794,
          2.233444474053686,
          -2.2463777812587433,
          0.8247773217007768,
          1.2873820847023052,
          0.018378373475883426,
          1.0728725272475856,
          0.2049473995358994,
          -0.09993459592442042,
          0.12833398650529076,
          0.9851533536016509,
          -0.9675715123129737,
          -0.7323234244894197,
          -0.8110955871650228,
          0.7824093705610112
         ],
         "xaxis": "x12",
         "y": [
          -1.2114743390562264,
          1.700800915419909,
          -1.178994477837021,
          0.14513018194727986,
          1.286942779256458,
          0.6955018892298953,
          -0.9780020693548642,
          1.46808894919136,
          0.5822854672166777,
          0.19151145671021533,
          1.2105212178471323,
          1.4569023841482407,
          1.1756193827787285,
          0.7542403015929829,
          0.8434614724697863,
          -0.8560461320728188,
          0.9936037814303642,
          -0.31434565857476593,
          0.04525888276113422,
          0.5083100632905638,
          0.5286150797252278,
          -1.0246358503243014,
          -5.635076311253026e-05,
          -0.007341225579132861,
          0.5545965801178203,
          0.0810432372767892,
          1.1999323217913713,
          0.7471526407393261,
          0.0852219670418781,
          0.7993831939237878,
          -0.7922259472297779,
          -0.17945078997743538,
          0.7445919702954994,
          -0.07543975670014871,
          0.2958411375086231,
          0.11288799429313509,
          0.5866679922058633,
          0.7693347762832684,
          1.202395837276869,
          -0.515623404678566,
          -1.1129721035407865,
          -0.2899754175382606,
          0.20716303560209146,
          -0.8111795583989764,
          -0.7029578790728146,
          0.2923644478814588,
          -0.021076270898370716,
          -0.498923747661836,
          2.786513630916273,
          0.024913166024660306,
          -1.7807545602182158,
          -1.357397531105,
          0.1270269844378426,
          -0.5197410481686981,
          0.6008872605864622,
          -0.4423647332569923,
          0.15909986938826357,
          -0.47620993889168306,
          0.2870340326809318,
          1.0484693388735191,
          -1.7089889393481843,
          0.03309500492681004,
          0.9709780861585363,
          -0.2674736636277588,
          -0.1719559943280335,
          -0.25103460113072934,
          1.9652966578048763,
          -1.0299412274250208,
          -0.9521461846731799,
          -0.538170621043196,
          -0.3111127524093368,
          -0.5969506068307517,
          -1.6525314381120113,
          0.07541342778795664,
          0.8188151546411473,
          1.5122827976558877,
          0.09889150579605903,
          -0.7085815791607246,
          -2.2022019766422916,
          0.45863390939431736,
          0.6389744930862618,
          0.44307298846494525,
          0.6322602528309235,
          0.4190339353806155,
          0.2019674361957441,
          1.2653444505074438,
          1.6010436074640049,
          -0.04273937600904199,
          2.4247514443140528,
          -0.07098998568331391,
          -0.2494477920339057,
          -1.5733955487514455,
          -0.2705985504473421,
          -0.16015968417545634,
          1.5576972107642162,
          -0.7918241252487018,
          -0.6664298961171453,
          0.6136067512289997,
          -1.7283263219878962,
          -0.1934294523399556
         ],
         "yaxis": "y12"
        },
        {
         "line": {
          "color": "rgba(128, 128, 128, 1.0)",
          "dash": "solid",
          "shape": "linear",
          "width": 1.3
         },
         "marker": {
          "size": 2,
          "symbol": "circle"
         },
         "mode": "markers",
         "name": "D",
         "text": "",
         "type": "scatter",
         "x": [
          1.3522419087117923,
          -1.4367485228096082,
          0.34246615131765074,
          0.22501371995467404,
          -1.3835773588716889,
          -0.3786606793558325,
          1.5700394365681638,
          -0.4389112823843724,
          0.019327259196934583,
          -0.7871373062572039,
          1.1582459987267817,
          0.5419561074166749,
          0.10300724317610074,
          1.056526493789133,
          -0.5935929218146352,
          -0.9400064843743166,
          0.8184536422660786,
          0.6051514716477069,
          1.986033931482904,
          3.654979997899412,
          0.17858108615271165,
          -1.5513735777578752,
          1.9711731349620212,
          0.6244032392053847,
          1.1358931781345123,
          0.40377740852876387,
          -1.1112520429721875,
          -0.4837839184642077,
          -0.4697476049298041,
          0.4624700962665709,
          -0.40519454607155914,
          0.26826033900583474,
          -3.363286877728186,
          1.8642796689830858,
          0.3546706184336565,
          -0.3010076943115201,
          -0.184736525521066,
          -0.17078051736817168,
          1.0582430636820745,
          -0.8379417122297186,
          -0.17913716056313403,
          0.2868655884201024,
          1.4975251686775926,
          0.1673545509032834,
          1.8892720942055872,
          1.2000191097252784,
          -0.11723758426468586,
          -1.3923642324153118,
          1.2067384689802523,
          0.6995092920577454,
          -0.450318572383938,
          -1.0768058506215945,
          1.8240423037842124,
          -1.2848847471231686,
          -1.3092995799985827,
          -2.252081015062117,
          1.6516269181221692,
          1.5514491437019398,
          0.17685847323240705,
          -0.9136086216446226,
          1.2010817770884787,
          -0.19816291549069612,
          1.321136986359857,
          -0.3394538966085169,
          0.34016035243713444,
          -0.7941748905370211,
          0.19043318709089463,
          -0.5436817352645537,
          1.0661669821985864,
          2.2851010625069286,
          -0.8266733303952352,
          0.7884285801220625,
          0.8231972467330367,
          0.324008182428142,
          0.6752070165857296,
          -0.8439726176579643,
          -0.20609333658074047,
          -1.5482680054696205,
          -0.38434511261941934,
          0.07692083586667725,
          -0.6248572409586476,
          -0.16248851481555132,
          -1.8459074757071747,
          1.4126122652500914,
          0.19075917126177336,
          0.1756756844178885,
          -0.6453507523108135,
          1.689030633833263,
          -0.8708237540304141,
          0.25013438914188446,
          -1.4214869901784088,
          0.2984832844136182,
          -0.5636158302217779,
          -0.30474446122783944,
          1.006249773260137,
          0.2782559169320781,
          0.5666162539211673,
          -0.9302725711947286,
          -1.3463008359939528,
          0.32468815436776594
         ],
         "xaxis": "x13",
         "y": [
          -0.42207092062544505,
          0.571334851427382,
          0.209309099577975,
          0.2357360351882224,
          -0.19033052317107174,
          1.7954668044031779,
          0.03753594495671657,
          -0.34444488948102764,
          0.5145014018508386,
          0.7792744997652691,
          1.802800703652718,
          0.12961945987754453,
          -2.2451385004143423,
          -0.5476262287075142,
          1.8147112758073896,
          1.7774030039222173,
          -0.2890566123981602,
          -1.4229622366313441,
          0.5617914011982906,
          -1.2551830304274805,
          -1.6294584594711694,
          -0.06845787408972442,
          0.5677003676723057,
          -0.25533216789681634,
          2.17800882925841,
          1.5569574961587103,
          0.13536002901035704,
          -1.9501362472694592,
          -0.4084740162108226,
          0.09864966201708075,
          0.7005521862610382,
          -1.0237131750107904,
          -3.7198755066257703,
          1.2401281855439659,
          -0.24963018210588891,
          -0.4495616394996091,
          -1.334142897239012,
          -0.05199385707357265,
          -0.3636576150250563,
          0.6155077403985042,
          -0.8367399055275807,
          -1.0065113759366735,
          -2.53522971674168,
          -0.22123698017928725,
          1.7810788278251577,
          1.0037516165704732,
          -1.1182941395835115,
          -0.648522184773254,
          0.6592307181632687,
          -3.3148689366391255,
          0.5106039962665352,
          0.7016254374433916,
          0.6878489361253675,
          1.1427259382637898,
          -0.15063296235128362,
          1.7457182916932434,
          0.5152133093405894,
          -0.036109000356071556,
          0.7830740550725146,
          -0.44928100405539784,
          -0.07516099765662752,
          -1.1966712721257133,
          -1.812651207171741,
          0.7011874349784221,
          -0.6852555009642081,
          0.9776338731551988,
          0.4018853632616528,
          -0.19676303051306304,
          1.1682857171730392,
          -0.42026047686310775,
          1.0596319099267317,
          2.1167466718626504,
          -1.940722935149875,
          -0.9433259313316542,
          1.0845925686579752,
          -0.3825290633316056,
          0.6189134578674937,
          0.16208020847827534,
          -0.8392312772360102,
          -0.33911222257382945,
          -0.4049050065854754,
          -0.7610784392404565,
          -0.031673418319424954,
          -0.5905931178369421,
          0.09284308666716118,
          -1.4569240927626794,
          2.233444474053686,
          -2.2463777812587433,
          0.8247773217007768,
          1.2873820847023052,
          0.018378373475883426,
          1.0728725272475856,
          0.2049473995358994,
          -0.09993459592442042,
          0.12833398650529076,
          0.9851533536016509,
          -0.9675715123129737,
          -0.7323234244894197,
          -0.8110955871650228,
          0.7824093705610112
         ],
         "yaxis": "y13"
        },
        {
         "line": {
          "color": "rgba(128, 128, 128, 1.0)",
          "dash": "solid",
          "shape": "linear",
          "width": 1.3
         },
         "marker": {
          "size": 2,
          "symbol": "circle"
         },
         "mode": "markers",
         "name": "D",
         "text": "",
         "type": "scatter",
         "x": [
          0.2853960742036141,
          -0.4406604289569714,
          0.33365589029910364,
          0.2018345194581368,
          0.468673037397461,
          -1.3528010257124101,
          0.800285334395616,
          0.8735403499291123,
          -0.4971589012856189,
          -1.1501645383832924,
          -0.11235634631765345,
          0.4723699885089022,
          0.0712305561391159,
          0.24284710471750473,
          -0.9122241746416804,
          0.8269817335779781,
          -0.00874132852355032,
          -0.6318762826014234,
          0.43011057200838515,
          1.0704132732721918,
          2.134360594704674,
          0.31373630965031646,
          -0.8829218217202525,
          -0.73474365392336,
          0.3200172946062929,
          1.2920107799210232,
          -0.4672134494390364,
          -0.4255892680362301,
          -0.7883031262036172,
          -0.42466003092600074,
          1.312409195297587,
          0.09591687871532022,
          1.3971624576376163,
          0.5876017168531212,
          -0.9320959746324256,
          -1.554159956817357,
          0.34482741176093945,
          1.5468924170915168,
          -1.4034301158921905,
          -0.3421364854793705,
          -0.3700258002299505,
          0.18963240578518814,
          -0.8367522861239166,
          -1.4354639631629302,
          -0.1924128922031911,
          -0.4471995622697898,
          -0.20594738032034565,
          1.1666927760052315,
          0.8542061073093862,
          -0.045340865093400975,
          0.8829678490586947,
          2.6408083514235363,
          -0.5007660975317126,
          0.15144509399049666,
          -0.14989090307841002,
          -1.6619153347196627,
          1.0238621209857814,
          1.2221517095795575,
          -0.9735974374641312,
          -0.5627451263909823,
          -0.05804543402331785,
          0.9850109566618794,
          0.8381067825455304,
          -1.1621346812659719,
          -0.6289189456340682,
          0.9332556602694779,
          0.1801566919373079,
          0.10417651779157987,
          -0.14807796339151225,
          1.5990250523195302,
          -0.053927329507619894,
          -0.7783360488156015,
          -0.3700849764827003,
          2.2810591763490504,
          0.2542492977753961,
          2.762357088437156,
          0.6376042127156709,
          1.2695848172126263,
          0.45641857354305465,
          0.46965554004453053,
          -1.1173114686529768,
          0.3186506440608256,
          -1.2750038871380027,
          0.6618715619915841,
          0.08003220670383365,
          0.8067700142648925,
          -0.1022498040061927,
          -0.11343763353982858,
          -1.2410875845656366,
          0.5410071859457992,
          -0.008862683281114241,
          0.01483585722941619,
          -2.2886479470860417,
          -2.2874057157464414,
          -1.8809150648910813,
          -1.3995936415281152,
          -2.2829143071083657,
          0.8742765899714318,
          -3.559128971832099,
          -0.5292230111010272
         ],
         "xaxis": "x14",
         "y": [
          -0.42207092062544505,
          0.571334851427382,
          0.209309099577975,
          0.2357360351882224,
          -0.19033052317107174,
          1.7954668044031779,
          0.03753594495671657,
          -0.34444488948102764,
          0.5145014018508386,
          0.7792744997652691,
          1.802800703652718,
          0.12961945987754453,
          -2.2451385004143423,
          -0.5476262287075142,
          1.8147112758073896,
          1.7774030039222173,
          -0.2890566123981602,
          -1.4229622366313441,
          0.5617914011982906,
          -1.2551830304274805,
          -1.6294584594711694,
          -0.06845787408972442,
          0.5677003676723057,
          -0.25533216789681634,
          2.17800882925841,
          1.5569574961587103,
          0.13536002901035704,
          -1.9501362472694592,
          -0.4084740162108226,
          0.09864966201708075,
          0.7005521862610382,
          -1.0237131750107904,
          -3.7198755066257703,
          1.2401281855439659,
          -0.24963018210588891,
          -0.4495616394996091,
          -1.334142897239012,
          -0.05199385707357265,
          -0.3636576150250563,
          0.6155077403985042,
          -0.8367399055275807,
          -1.0065113759366735,
          -2.53522971674168,
          -0.22123698017928725,
          1.7810788278251577,
          1.0037516165704732,
          -1.1182941395835115,
          -0.648522184773254,
          0.6592307181632687,
          -3.3148689366391255,
          0.5106039962665352,
          0.7016254374433916,
          0.6878489361253675,
          1.1427259382637898,
          -0.15063296235128362,
          1.7457182916932434,
          0.5152133093405894,
          -0.036109000356071556,
          0.7830740550725146,
          -0.44928100405539784,
          -0.07516099765662752,
          -1.1966712721257133,
          -1.812651207171741,
          0.7011874349784221,
          -0.6852555009642081,
          0.9776338731551988,
          0.4018853632616528,
          -0.19676303051306304,
          1.1682857171730392,
          -0.42026047686310775,
          1.0596319099267317,
          2.1167466718626504,
          -1.940722935149875,
          -0.9433259313316542,
          1.0845925686579752,
          -0.3825290633316056,
          0.6189134578674937,
          0.16208020847827534,
          -0.8392312772360102,
          -0.33911222257382945,
          -0.4049050065854754,
          -0.7610784392404565,
          -0.031673418319424954,
          -0.5905931178369421,
          0.09284308666716118,
          -1.4569240927626794,
          2.233444474053686,
          -2.2463777812587433,
          0.8247773217007768,
          1.2873820847023052,
          0.018378373475883426,
          1.0728725272475856,
          0.2049473995358994,
          -0.09993459592442042,
          0.12833398650529076,
          0.9851533536016509,
          -0.9675715123129737,
          -0.7323234244894197,
          -0.8110955871650228,
          0.7824093705610112
         ],
         "yaxis": "y14"
        },
        {
         "line": {
          "color": "rgba(128, 128, 128, 1.0)",
          "dash": "solid",
          "shape": "linear",
          "width": 1.3
         },
         "marker": {
          "size": 2,
          "symbol": "circle"
         },
         "mode": "markers",
         "name": "D",
         "text": "",
         "type": "scatter",
         "x": [
          -1.2114743390562264,
          1.700800915419909,
          -1.178994477837021,
          0.14513018194727986,
          1.286942779256458,
          0.6955018892298953,
          -0.9780020693548642,
          1.46808894919136,
          0.5822854672166777,
          0.19151145671021533,
          1.2105212178471323,
          1.4569023841482407,
          1.1756193827787285,
          0.7542403015929829,
          0.8434614724697863,
          -0.8560461320728188,
          0.9936037814303642,
          -0.31434565857476593,
          0.04525888276113422,
          0.5083100632905638,
          0.5286150797252278,
          -1.0246358503243014,
          -5.635076311253026e-05,
          -0.007341225579132861,
          0.5545965801178203,
          0.0810432372767892,
          1.1999323217913713,
          0.7471526407393261,
          0.0852219670418781,
          0.7993831939237878,
          -0.7922259472297779,
          -0.17945078997743538,
          0.7445919702954994,
          -0.07543975670014871,
          0.2958411375086231,
          0.11288799429313509,
          0.5866679922058633,
          0.7693347762832684,
          1.202395837276869,
          -0.515623404678566,
          -1.1129721035407865,
          -0.2899754175382606,
          0.20716303560209146,
          -0.8111795583989764,
          -0.7029578790728146,
          0.2923644478814588,
          -0.021076270898370716,
          -0.498923747661836,
          2.786513630916273,
          0.024913166024660306,
          -1.7807545602182158,
          -1.357397531105,
          0.1270269844378426,
          -0.5197410481686981,
          0.6008872605864622,
          -0.4423647332569923,
          0.15909986938826357,
          -0.47620993889168306,
          0.2870340326809318,
          1.0484693388735191,
          -1.7089889393481843,
          0.03309500492681004,
          0.9709780861585363,
          -0.2674736636277588,
          -0.1719559943280335,
          -0.25103460113072934,
          1.9652966578048763,
          -1.0299412274250208,
          -0.9521461846731799,
          -0.538170621043196,
          -0.3111127524093368,
          -0.5969506068307517,
          -1.6525314381120113,
          0.07541342778795664,
          0.8188151546411473,
          1.5122827976558877,
          0.09889150579605903,
          -0.7085815791607246,
          -2.2022019766422916,
          0.45863390939431736,
          0.6389744930862618,
          0.44307298846494525,
          0.6322602528309235,
          0.4190339353806155,
          0.2019674361957441,
          1.2653444505074438,
          1.6010436074640049,
          -0.04273937600904199,
          2.4247514443140528,
          -0.07098998568331391,
          -0.2494477920339057,
          -1.5733955487514455,
          -0.2705985504473421,
          -0.16015968417545634,
          1.5576972107642162,
          -0.7918241252487018,
          -0.6664298961171453,
          0.6136067512289997,
          -1.7283263219878962,
          -0.1934294523399556
         ],
         "xaxis": "x15",
         "y": [
          -0.42207092062544505,
          0.571334851427382,
          0.209309099577975,
          0.2357360351882224,
          -0.19033052317107174,
          1.7954668044031779,
          0.03753594495671657,
          -0.34444488948102764,
          0.5145014018508386,
          0.7792744997652691,
          1.802800703652718,
          0.12961945987754453,
          -2.2451385004143423,
          -0.5476262287075142,
          1.8147112758073896,
          1.7774030039222173,
          -0.2890566123981602,
          -1.4229622366313441,
          0.5617914011982906,
          -1.2551830304274805,
          -1.6294584594711694,
          -0.06845787408972442,
          0.5677003676723057,
          -0.25533216789681634,
          2.17800882925841,
          1.5569574961587103,
          0.13536002901035704,
          -1.9501362472694592,
          -0.4084740162108226,
          0.09864966201708075,
          0.7005521862610382,
          -1.0237131750107904,
          -3.7198755066257703,
          1.2401281855439659,
          -0.24963018210588891,
          -0.4495616394996091,
          -1.334142897239012,
          -0.05199385707357265,
          -0.3636576150250563,
          0.6155077403985042,
          -0.8367399055275807,
          -1.0065113759366735,
          -2.53522971674168,
          -0.22123698017928725,
          1.7810788278251577,
          1.0037516165704732,
          -1.1182941395835115,
          -0.648522184773254,
          0.6592307181632687,
          -3.3148689366391255,
          0.5106039962665352,
          0.7016254374433916,
          0.6878489361253675,
          1.1427259382637898,
          -0.15063296235128362,
          1.7457182916932434,
          0.5152133093405894,
          -0.036109000356071556,
          0.7830740550725146,
          -0.44928100405539784,
          -0.07516099765662752,
          -1.1966712721257133,
          -1.812651207171741,
          0.7011874349784221,
          -0.6852555009642081,
          0.9776338731551988,
          0.4018853632616528,
          -0.19676303051306304,
          1.1682857171730392,
          -0.42026047686310775,
          1.0596319099267317,
          2.1167466718626504,
          -1.940722935149875,
          -0.9433259313316542,
          1.0845925686579752,
          -0.3825290633316056,
          0.6189134578674937,
          0.16208020847827534,
          -0.8392312772360102,
          -0.33911222257382945,
          -0.4049050065854754,
          -0.7610784392404565,
          -0.031673418319424954,
          -0.5905931178369421,
          0.09284308666716118,
          -1.4569240927626794,
          2.233444474053686,
          -2.2463777812587433,
          0.8247773217007768,
          1.2873820847023052,
          0.018378373475883426,
          1.0728725272475856,
          0.2049473995358994,
          -0.09993459592442042,
          0.12833398650529076,
          0.9851533536016509,
          -0.9675715123129737,
          -0.7323234244894197,
          -0.8110955871650228,
          0.7824093705610112
         ],
         "yaxis": "y15"
        },
        {
         "histfunc": "count",
         "histnorm": "",
         "marker": {
          "color": "rgba(128, 0, 128, 1.0)",
          "line": {
           "color": "#4D5663",
           "width": 1.3
          }
         },
         "name": "D",
         "nbinsx": 10,
         "opacity": 0.8,
         "orientation": "v",
         "type": "histogram",
         "x": [
          -0.42207092062544505,
          0.571334851427382,
          0.209309099577975,
          0.2357360351882224,
          -0.19033052317107174,
          1.7954668044031779,
          0.03753594495671657,
          -0.34444488948102764,
          0.5145014018508386,
          0.7792744997652691,
          1.802800703652718,
          0.12961945987754453,
          -2.2451385004143423,
          -0.5476262287075142,
          1.8147112758073896,
          1.7774030039222173,
          -0.2890566123981602,
          -1.4229622366313441,
          0.5617914011982906,
          -1.2551830304274805,
          -1.6294584594711694,
          -0.06845787408972442,
          0.5677003676723057,
          -0.25533216789681634,
          2.17800882925841,
          1.5569574961587103,
          0.13536002901035704,
          -1.9501362472694592,
          -0.4084740162108226,
          0.09864966201708075,
          0.7005521862610382,
          -1.0237131750107904,
          -3.7198755066257703,
          1.2401281855439659,
          -0.24963018210588891,
          -0.4495616394996091,
          -1.334142897239012,
          -0.05199385707357265,
          -0.3636576150250563,
          0.6155077403985042,
          -0.8367399055275807,
          -1.0065113759366735,
          -2.53522971674168,
          -0.22123698017928725,
          1.7810788278251577,
          1.0037516165704732,
          -1.1182941395835115,
          -0.648522184773254,
          0.6592307181632687,
          -3.3148689366391255,
          0.5106039962665352,
          0.7016254374433916,
          0.6878489361253675,
          1.1427259382637898,
          -0.15063296235128362,
          1.7457182916932434,
          0.5152133093405894,
          -0.036109000356071556,
          0.7830740550725146,
          -0.44928100405539784,
          -0.07516099765662752,
          -1.1966712721257133,
          -1.812651207171741,
          0.7011874349784221,
          -0.6852555009642081,
          0.9776338731551988,
          0.4018853632616528,
          -0.19676303051306304,
          1.1682857171730392,
          -0.42026047686310775,
          1.0596319099267317,
          2.1167466718626504,
          -1.940722935149875,
          -0.9433259313316542,
          1.0845925686579752,
          -0.3825290633316056,
          0.6189134578674937,
          0.16208020847827534,
          -0.8392312772360102,
          -0.33911222257382945,
          -0.4049050065854754,
          -0.7610784392404565,
          -0.031673418319424954,
          -0.5905931178369421,
          0.09284308666716118,
          -1.4569240927626794,
          2.233444474053686,
          -2.2463777812587433,
          0.8247773217007768,
          1.2873820847023052,
          0.018378373475883426,
          1.0728725272475856,
          0.2049473995358994,
          -0.09993459592442042,
          0.12833398650529076,
          0.9851533536016509,
          -0.9675715123129737,
          -0.7323234244894197,
          -0.8110955871650228,
          0.7824093705610112
         ],
         "xaxis": "x16",
         "yaxis": "y16"
        }
       ],
       "layout": {
        "bargap": 0.02,
        "legend": {
         "bgcolor": "#F5F6F9",
         "font": {
          "color": "#4D5663"
         }
        },
        "paper_bgcolor": "#F5F6F9",
        "plot_bgcolor": "#F5F6F9",
        "showlegend": false,
        "template": {
         "data": {
          "bar": [
           {
            "error_x": {
             "color": "#2a3f5f"
            },
            "error_y": {
             "color": "#2a3f5f"
            },
            "marker": {
             "line": {
              "color": "#E5ECF6",
              "width": 0.5
             }
            },
            "type": "bar"
           }
          ],
          "barpolar": [
           {
            "marker": {
             "line": {
              "color": "#E5ECF6",
              "width": 0.5
             }
            },
            "type": "barpolar"
           }
          ],
          "carpet": [
           {
            "aaxis": {
             "endlinecolor": "#2a3f5f",
             "gridcolor": "white",
             "linecolor": "white",
             "minorgridcolor": "white",
             "startlinecolor": "#2a3f5f"
            },
            "baxis": {
             "endlinecolor": "#2a3f5f",
             "gridcolor": "white",
             "linecolor": "white",
             "minorgridcolor": "white",
             "startlinecolor": "#2a3f5f"
            },
            "type": "carpet"
           }
          ],
          "choropleth": [
           {
            "colorbar": {
             "outlinewidth": 0,
             "ticks": ""
            },
            "type": "choropleth"
           }
          ],
          "contour": [
           {
            "colorbar": {
             "outlinewidth": 0,
             "ticks": ""
            },
            "colorscale": [
             [
              0,
              "#0d0887"
             ],
             [
              0.1111111111111111,
              "#46039f"
             ],
             [
              0.2222222222222222,
              "#7201a8"
             ],
             [
              0.3333333333333333,
              "#9c179e"
             ],
             [
              0.4444444444444444,
              "#bd3786"
             ],
             [
              0.5555555555555556,
              "#d8576b"
             ],
             [
              0.6666666666666666,
              "#ed7953"
             ],
             [
              0.7777777777777778,
              "#fb9f3a"
             ],
             [
              0.8888888888888888,
              "#fdca26"
             ],
             [
              1,
              "#f0f921"
             ]
            ],
            "type": "contour"
           }
          ],
          "contourcarpet": [
           {
            "colorbar": {
             "outlinewidth": 0,
             "ticks": ""
            },
            "type": "contourcarpet"
           }
          ],
          "heatmap": [
           {
            "colorbar": {
             "outlinewidth": 0,
             "ticks": ""
            },
            "colorscale": [
             [
              0,
              "#0d0887"
             ],
             [
              0.1111111111111111,
              "#46039f"
             ],
             [
              0.2222222222222222,
              "#7201a8"
             ],
             [
              0.3333333333333333,
              "#9c179e"
             ],
             [
              0.4444444444444444,
              "#bd3786"
             ],
             [
              0.5555555555555556,
              "#d8576b"
             ],
             [
              0.6666666666666666,
              "#ed7953"
             ],
             [
              0.7777777777777778,
              "#fb9f3a"
             ],
             [
              0.8888888888888888,
              "#fdca26"
             ],
             [
              1,
              "#f0f921"
             ]
            ],
            "type": "heatmap"
           }
          ],
          "heatmapgl": [
           {
            "colorbar": {
             "outlinewidth": 0,
             "ticks": ""
            },
            "colorscale": [
             [
              0,
              "#0d0887"
             ],
             [
              0.1111111111111111,
              "#46039f"
             ],
             [
              0.2222222222222222,
              "#7201a8"
             ],
             [
              0.3333333333333333,
              "#9c179e"
             ],
             [
              0.4444444444444444,
              "#bd3786"
             ],
             [
              0.5555555555555556,
              "#d8576b"
             ],
             [
              0.6666666666666666,
              "#ed7953"
             ],
             [
              0.7777777777777778,
              "#fb9f3a"
             ],
             [
              0.8888888888888888,
              "#fdca26"
             ],
             [
              1,
              "#f0f921"
             ]
            ],
            "type": "heatmapgl"
           }
          ],
          "histogram": [
           {
            "marker": {
             "colorbar": {
              "outlinewidth": 0,
              "ticks": ""
             }
            },
            "type": "histogram"
           }
          ],
          "histogram2d": [
           {
            "colorbar": {
             "outlinewidth": 0,
             "ticks": ""
            },
            "colorscale": [
             [
              0,
              "#0d0887"
             ],
             [
              0.1111111111111111,
              "#46039f"
             ],
             [
              0.2222222222222222,
              "#7201a8"
             ],
             [
              0.3333333333333333,
              "#9c179e"
             ],
             [
              0.4444444444444444,
              "#bd3786"
             ],
             [
              0.5555555555555556,
              "#d8576b"
             ],
             [
              0.6666666666666666,
              "#ed7953"
             ],
             [
              0.7777777777777778,
              "#fb9f3a"
             ],
             [
              0.8888888888888888,
              "#fdca26"
             ],
             [
              1,
              "#f0f921"
             ]
            ],
            "type": "histogram2d"
           }
          ],
          "histogram2dcontour": [
           {
            "colorbar": {
             "outlinewidth": 0,
             "ticks": ""
            },
            "colorscale": [
             [
              0,
              "#0d0887"
             ],
             [
              0.1111111111111111,
              "#46039f"
             ],
             [
              0.2222222222222222,
              "#7201a8"
             ],
             [
              0.3333333333333333,
              "#9c179e"
             ],
             [
              0.4444444444444444,
              "#bd3786"
             ],
             [
              0.5555555555555556,
              "#d8576b"
             ],
             [
              0.6666666666666666,
              "#ed7953"
             ],
             [
              0.7777777777777778,
              "#fb9f3a"
             ],
             [
              0.8888888888888888,
              "#fdca26"
             ],
             [
              1,
              "#f0f921"
             ]
            ],
            "type": "histogram2dcontour"
           }
          ],
          "mesh3d": [
           {
            "colorbar": {
             "outlinewidth": 0,
             "ticks": ""
            },
            "type": "mesh3d"
           }
          ],
          "parcoords": [
           {
            "line": {
             "colorbar": {
              "outlinewidth": 0,
              "ticks": ""
             }
            },
            "type": "parcoords"
           }
          ],
          "pie": [
           {
            "automargin": true,
            "type": "pie"
           }
          ],
          "scatter": [
           {
            "marker": {
             "colorbar": {
              "outlinewidth": 0,
              "ticks": ""
             }
            },
            "type": "scatter"
           }
          ],
          "scatter3d": [
           {
            "line": {
             "colorbar": {
              "outlinewidth": 0,
              "ticks": ""
             }
            },
            "marker": {
             "colorbar": {
              "outlinewidth": 0,
              "ticks": ""
             }
            },
            "type": "scatter3d"
           }
          ],
          "scattercarpet": [
           {
            "marker": {
             "colorbar": {
              "outlinewidth": 0,
              "ticks": ""
             }
            },
            "type": "scattercarpet"
           }
          ],
          "scattergeo": [
           {
            "marker": {
             "colorbar": {
              "outlinewidth": 0,
              "ticks": ""
             }
            },
            "type": "scattergeo"
           }
          ],
          "scattergl": [
           {
            "marker": {
             "colorbar": {
              "outlinewidth": 0,
              "ticks": ""
             }
            },
            "type": "scattergl"
           }
          ],
          "scattermapbox": [
           {
            "marker": {
             "colorbar": {
              "outlinewidth": 0,
              "ticks": ""
             }
            },
            "type": "scattermapbox"
           }
          ],
          "scatterpolar": [
           {
            "marker": {
             "colorbar": {
              "outlinewidth": 0,
              "ticks": ""
             }
            },
            "type": "scatterpolar"
           }
          ],
          "scatterpolargl": [
           {
            "marker": {
             "colorbar": {
              "outlinewidth": 0,
              "ticks": ""
             }
            },
            "type": "scatterpolargl"
           }
          ],
          "scatterternary": [
           {
            "marker": {
             "colorbar": {
              "outlinewidth": 0,
              "ticks": ""
             }
            },
            "type": "scatterternary"
           }
          ],
          "surface": [
           {
            "colorbar": {
             "outlinewidth": 0,
             "ticks": ""
            },
            "colorscale": [
             [
              0,
              "#0d0887"
             ],
             [
              0.1111111111111111,
              "#46039f"
             ],
             [
              0.2222222222222222,
              "#7201a8"
             ],
             [
              0.3333333333333333,
              "#9c179e"
             ],
             [
              0.4444444444444444,
              "#bd3786"
             ],
             [
              0.5555555555555556,
              "#d8576b"
             ],
             [
              0.6666666666666666,
              "#ed7953"
             ],
             [
              0.7777777777777778,
              "#fb9f3a"
             ],
             [
              0.8888888888888888,
              "#fdca26"
             ],
             [
              1,
              "#f0f921"
             ]
            ],
            "type": "surface"
           }
          ],
          "table": [
           {
            "cells": {
             "fill": {
              "color": "#EBF0F8"
             },
             "line": {
              "color": "white"
             }
            },
            "header": {
             "fill": {
              "color": "#C8D4E3"
             },
             "line": {
              "color": "white"
             }
            },
            "type": "table"
           }
          ]
         },
         "layout": {
          "annotationdefaults": {
           "arrowcolor": "#2a3f5f",
           "arrowhead": 0,
           "arrowwidth": 1
          },
          "coloraxis": {
           "colorbar": {
            "outlinewidth": 0,
            "ticks": ""
           }
          },
          "colorscale": {
           "diverging": [
            [
             0,
             "#8e0152"
            ],
            [
             0.1,
             "#c51b7d"
            ],
            [
             0.2,
             "#de77ae"
            ],
            [
             0.3,
             "#f1b6da"
            ],
            [
             0.4,
             "#fde0ef"
            ],
            [
             0.5,
             "#f7f7f7"
            ],
            [
             0.6,
             "#e6f5d0"
            ],
            [
             0.7,
             "#b8e186"
            ],
            [
             0.8,
             "#7fbc41"
            ],
            [
             0.9,
             "#4d9221"
            ],
            [
             1,
             "#276419"
            ]
           ],
           "sequential": [
            [
             0,
             "#0d0887"
            ],
            [
             0.1111111111111111,
             "#46039f"
            ],
            [
             0.2222222222222222,
             "#7201a8"
            ],
            [
             0.3333333333333333,
             "#9c179e"
            ],
            [
             0.4444444444444444,
             "#bd3786"
            ],
            [
             0.5555555555555556,
             "#d8576b"
            ],
            [
             0.6666666666666666,
             "#ed7953"
            ],
            [
             0.7777777777777778,
             "#fb9f3a"
            ],
            [
             0.8888888888888888,
             "#fdca26"
            ],
            [
             1,
             "#f0f921"
            ]
           ],
           "sequentialminus": [
            [
             0,
             "#0d0887"
            ],
            [
             0.1111111111111111,
             "#46039f"
            ],
            [
             0.2222222222222222,
             "#7201a8"
            ],
            [
             0.3333333333333333,
             "#9c179e"
            ],
            [
             0.4444444444444444,
             "#bd3786"
            ],
            [
             0.5555555555555556,
             "#d8576b"
            ],
            [
             0.6666666666666666,
             "#ed7953"
            ],
            [
             0.7777777777777778,
             "#fb9f3a"
            ],
            [
             0.8888888888888888,
             "#fdca26"
            ],
            [
             1,
             "#f0f921"
            ]
           ]
          },
          "colorway": [
           "#636efa",
           "#EF553B",
           "#00cc96",
           "#ab63fa",
           "#FFA15A",
           "#19d3f3",
           "#FF6692",
           "#B6E880",
           "#FF97FF",
           "#FECB52"
          ],
          "font": {
           "color": "#2a3f5f"
          },
          "geo": {
           "bgcolor": "white",
           "lakecolor": "white",
           "landcolor": "#E5ECF6",
           "showlakes": true,
           "showland": true,
           "subunitcolor": "white"
          },
          "hoverlabel": {
           "align": "left"
          },
          "hovermode": "closest",
          "mapbox": {
           "style": "light"
          },
          "paper_bgcolor": "white",
          "plot_bgcolor": "#E5ECF6",
          "polar": {
           "angularaxis": {
            "gridcolor": "white",
            "linecolor": "white",
            "ticks": ""
           },
           "bgcolor": "#E5ECF6",
           "radialaxis": {
            "gridcolor": "white",
            "linecolor": "white",
            "ticks": ""
           }
          },
          "scene": {
           "xaxis": {
            "backgroundcolor": "#E5ECF6",
            "gridcolor": "white",
            "gridwidth": 2,
            "linecolor": "white",
            "showbackground": true,
            "ticks": "",
            "zerolinecolor": "white"
           },
           "yaxis": {
            "backgroundcolor": "#E5ECF6",
            "gridcolor": "white",
            "gridwidth": 2,
            "linecolor": "white",
            "showbackground": true,
            "ticks": "",
            "zerolinecolor": "white"
           },
           "zaxis": {
            "backgroundcolor": "#E5ECF6",
            "gridcolor": "white",
            "gridwidth": 2,
            "linecolor": "white",
            "showbackground": true,
            "ticks": "",
            "zerolinecolor": "white"
           }
          },
          "shapedefaults": {
           "line": {
            "color": "#2a3f5f"
           }
          },
          "ternary": {
           "aaxis": {
            "gridcolor": "white",
            "linecolor": "white",
            "ticks": ""
           },
           "baxis": {
            "gridcolor": "white",
            "linecolor": "white",
            "ticks": ""
           },
           "bgcolor": "#E5ECF6",
           "caxis": {
            "gridcolor": "white",
            "linecolor": "white",
            "ticks": ""
           }
          },
          "title": {
           "x": 0.05
          },
          "xaxis": {
           "automargin": true,
           "gridcolor": "white",
           "linecolor": "white",
           "ticks": "",
           "title": {
            "standoff": 15
           },
           "zerolinecolor": "white",
           "zerolinewidth": 2
          },
          "yaxis": {
           "automargin": true,
           "gridcolor": "white",
           "linecolor": "white",
           "ticks": "",
           "title": {
            "standoff": 15
           },
           "zerolinecolor": "white",
           "zerolinewidth": 2
          }
         }
        },
        "title": {
         "font": {
          "color": "#4D5663"
         }
        },
        "xaxis": {
         "anchor": "y",
         "domain": [
          0,
          0.2125
         ],
         "gridcolor": "#E1E5ED",
         "showgrid": false,
         "tickfont": {
          "color": "#4D5663"
         },
         "title": {
          "font": {
           "color": "#4D5663"
          },
          "text": ""
         },
         "zerolinecolor": "#E1E5ED"
        },
        "xaxis10": {
         "anchor": "y10",
         "domain": [
          0.2625,
          0.475
         ],
         "gridcolor": "#E1E5ED",
         "showgrid": false,
         "tickfont": {
          "color": "#4D5663"
         },
         "title": {
          "font": {
           "color": "#4D5663"
          },
          "text": ""
         },
         "zerolinecolor": "#E1E5ED"
        },
        "xaxis11": {
         "anchor": "y11",
         "domain": [
          0.525,
          0.7375
         ],
         "gridcolor": "#E1E5ED",
         "showgrid": false,
         "tickfont": {
          "color": "#4D5663"
         },
         "title": {
          "font": {
           "color": "#4D5663"
          },
          "text": ""
         },
         "zerolinecolor": "#E1E5ED"
        },
        "xaxis12": {
         "anchor": "y12",
         "domain": [
          0.7875,
          1
         ],
         "gridcolor": "#E1E5ED",
         "showgrid": false,
         "tickfont": {
          "color": "#4D5663"
         },
         "title": {
          "font": {
           "color": "#4D5663"
          },
          "text": ""
         },
         "zerolinecolor": "#E1E5ED"
        },
        "xaxis13": {
         "anchor": "y13",
         "domain": [
          0,
          0.2125
         ],
         "gridcolor": "#E1E5ED",
         "showgrid": false,
         "tickfont": {
          "color": "#4D5663"
         },
         "title": {
          "font": {
           "color": "#4D5663"
          },
          "text": ""
         },
         "zerolinecolor": "#E1E5ED"
        },
        "xaxis14": {
         "anchor": "y14",
         "domain": [
          0.2625,
          0.475
         ],
         "gridcolor": "#E1E5ED",
         "showgrid": false,
         "tickfont": {
          "color": "#4D5663"
         },
         "title": {
          "font": {
           "color": "#4D5663"
          },
          "text": ""
         },
         "zerolinecolor": "#E1E5ED"
        },
        "xaxis15": {
         "anchor": "y15",
         "domain": [
          0.525,
          0.7375
         ],
         "gridcolor": "#E1E5ED",
         "showgrid": false,
         "tickfont": {
          "color": "#4D5663"
         },
         "title": {
          "font": {
           "color": "#4D5663"
          },
          "text": ""
         },
         "zerolinecolor": "#E1E5ED"
        },
        "xaxis16": {
         "anchor": "y16",
         "domain": [
          0.7875,
          1
         ],
         "gridcolor": "#E1E5ED",
         "showgrid": false,
         "tickfont": {
          "color": "#4D5663"
         },
         "title": {
          "font": {
           "color": "#4D5663"
          },
          "text": ""
         },
         "zerolinecolor": "#E1E5ED"
        },
        "xaxis2": {
         "anchor": "y2",
         "domain": [
          0.2625,
          0.475
         ],
         "gridcolor": "#E1E5ED",
         "showgrid": false,
         "tickfont": {
          "color": "#4D5663"
         },
         "title": {
          "font": {
           "color": "#4D5663"
          },
          "text": ""
         },
         "zerolinecolor": "#E1E5ED"
        },
        "xaxis3": {
         "anchor": "y3",
         "domain": [
          0.525,
          0.7375
         ],
         "gridcolor": "#E1E5ED",
         "showgrid": false,
         "tickfont": {
          "color": "#4D5663"
         },
         "title": {
          "font": {
           "color": "#4D5663"
          },
          "text": ""
         },
         "zerolinecolor": "#E1E5ED"
        },
        "xaxis4": {
         "anchor": "y4",
         "domain": [
          0.7875,
          1
         ],
         "gridcolor": "#E1E5ED",
         "showgrid": false,
         "tickfont": {
          "color": "#4D5663"
         },
         "title": {
          "font": {
           "color": "#4D5663"
          },
          "text": ""
         },
         "zerolinecolor": "#E1E5ED"
        },
        "xaxis5": {
         "anchor": "y5",
         "domain": [
          0,
          0.2125
         ],
         "gridcolor": "#E1E5ED",
         "showgrid": false,
         "tickfont": {
          "color": "#4D5663"
         },
         "title": {
          "font": {
           "color": "#4D5663"
          },
          "text": ""
         },
         "zerolinecolor": "#E1E5ED"
        },
        "xaxis6": {
         "anchor": "y6",
         "domain": [
          0.2625,
          0.475
         ],
         "gridcolor": "#E1E5ED",
         "showgrid": false,
         "tickfont": {
          "color": "#4D5663"
         },
         "title": {
          "font": {
           "color": "#4D5663"
          },
          "text": ""
         },
         "zerolinecolor": "#E1E5ED"
        },
        "xaxis7": {
         "anchor": "y7",
         "domain": [
          0.525,
          0.7375
         ],
         "gridcolor": "#E1E5ED",
         "showgrid": false,
         "tickfont": {
          "color": "#4D5663"
         },
         "title": {
          "font": {
           "color": "#4D5663"
          },
          "text": ""
         },
         "zerolinecolor": "#E1E5ED"
        },
        "xaxis8": {
         "anchor": "y8",
         "domain": [
          0.7875,
          1
         ],
         "gridcolor": "#E1E5ED",
         "showgrid": false,
         "tickfont": {
          "color": "#4D5663"
         },
         "title": {
          "font": {
           "color": "#4D5663"
          },
          "text": ""
         },
         "zerolinecolor": "#E1E5ED"
        },
        "xaxis9": {
         "anchor": "y9",
         "domain": [
          0,
          0.2125
         ],
         "gridcolor": "#E1E5ED",
         "showgrid": false,
         "tickfont": {
          "color": "#4D5663"
         },
         "title": {
          "font": {
           "color": "#4D5663"
          },
          "text": ""
         },
         "zerolinecolor": "#E1E5ED"
        },
        "yaxis": {
         "anchor": "x",
         "domain": [
          0.8025,
          1
         ],
         "gridcolor": "#E1E5ED",
         "showgrid": false,
         "tickfont": {
          "color": "#4D5663"
         },
         "title": {
          "font": {
           "color": "#4D5663"
          },
          "text": ""
         },
         "zerolinecolor": "#E1E5ED"
        },
        "yaxis10": {
         "anchor": "x10",
         "domain": [
          0.2675,
          0.465
         ],
         "gridcolor": "#E1E5ED",
         "showgrid": false,
         "tickfont": {
          "color": "#4D5663"
         },
         "title": {
          "font": {
           "color": "#4D5663"
          },
          "text": ""
         },
         "zerolinecolor": "#E1E5ED"
        },
        "yaxis11": {
         "anchor": "x11",
         "domain": [
          0.2675,
          0.465
         ],
         "gridcolor": "#E1E5ED",
         "showgrid": false,
         "tickfont": {
          "color": "#4D5663"
         },
         "title": {
          "font": {
           "color": "#4D5663"
          },
          "text": ""
         },
         "zerolinecolor": "#E1E5ED"
        },
        "yaxis12": {
         "anchor": "x12",
         "domain": [
          0.2675,
          0.465
         ],
         "gridcolor": "#E1E5ED",
         "showgrid": false,
         "tickfont": {
          "color": "#4D5663"
         },
         "title": {
          "font": {
           "color": "#4D5663"
          },
          "text": ""
         },
         "zerolinecolor": "#E1E5ED"
        },
        "yaxis13": {
         "anchor": "x13",
         "domain": [
          0,
          0.1975
         ],
         "gridcolor": "#E1E5ED",
         "showgrid": false,
         "tickfont": {
          "color": "#4D5663"
         },
         "title": {
          "font": {
           "color": "#4D5663"
          },
          "text": ""
         },
         "zerolinecolor": "#E1E5ED"
        },
        "yaxis14": {
         "anchor": "x14",
         "domain": [
          0,
          0.1975
         ],
         "gridcolor": "#E1E5ED",
         "showgrid": false,
         "tickfont": {
          "color": "#4D5663"
         },
         "title": {
          "font": {
           "color": "#4D5663"
          },
          "text": ""
         },
         "zerolinecolor": "#E1E5ED"
        },
        "yaxis15": {
         "anchor": "x15",
         "domain": [
          0,
          0.1975
         ],
         "gridcolor": "#E1E5ED",
         "showgrid": false,
         "tickfont": {
          "color": "#4D5663"
         },
         "title": {
          "font": {
           "color": "#4D5663"
          },
          "text": ""
         },
         "zerolinecolor": "#E1E5ED"
        },
        "yaxis16": {
         "anchor": "x16",
         "domain": [
          0,
          0.1975
         ],
         "gridcolor": "#E1E5ED",
         "showgrid": false,
         "tickfont": {
          "color": "#4D5663"
         },
         "title": {
          "font": {
           "color": "#4D5663"
          },
          "text": ""
         },
         "zerolinecolor": "#E1E5ED"
        },
        "yaxis2": {
         "anchor": "x2",
         "domain": [
          0.8025,
          1
         ],
         "gridcolor": "#E1E5ED",
         "showgrid": false,
         "tickfont": {
          "color": "#4D5663"
         },
         "title": {
          "font": {
           "color": "#4D5663"
          },
          "text": ""
         },
         "zerolinecolor": "#E1E5ED"
        },
        "yaxis3": {
         "anchor": "x3",
         "domain": [
          0.8025,
          1
         ],
         "gridcolor": "#E1E5ED",
         "showgrid": false,
         "tickfont": {
          "color": "#4D5663"
         },
         "title": {
          "font": {
           "color": "#4D5663"
          },
          "text": ""
         },
         "zerolinecolor": "#E1E5ED"
        },
        "yaxis4": {
         "anchor": "x4",
         "domain": [
          0.8025,
          1
         ],
         "gridcolor": "#E1E5ED",
         "showgrid": false,
         "tickfont": {
          "color": "#4D5663"
         },
         "title": {
          "font": {
           "color": "#4D5663"
          },
          "text": ""
         },
         "zerolinecolor": "#E1E5ED"
        },
        "yaxis5": {
         "anchor": "x5",
         "domain": [
          0.535,
          0.7325
         ],
         "gridcolor": "#E1E5ED",
         "showgrid": false,
         "tickfont": {
          "color": "#4D5663"
         },
         "title": {
          "font": {
           "color": "#4D5663"
          },
          "text": ""
         },
         "zerolinecolor": "#E1E5ED"
        },
        "yaxis6": {
         "anchor": "x6",
         "domain": [
          0.535,
          0.7325
         ],
         "gridcolor": "#E1E5ED",
         "showgrid": false,
         "tickfont": {
          "color": "#4D5663"
         },
         "title": {
          "font": {
           "color": "#4D5663"
          },
          "text": ""
         },
         "zerolinecolor": "#E1E5ED"
        },
        "yaxis7": {
         "anchor": "x7",
         "domain": [
          0.535,
          0.7325
         ],
         "gridcolor": "#E1E5ED",
         "showgrid": false,
         "tickfont": {
          "color": "#4D5663"
         },
         "title": {
          "font": {
           "color": "#4D5663"
          },
          "text": ""
         },
         "zerolinecolor": "#E1E5ED"
        },
        "yaxis8": {
         "anchor": "x8",
         "domain": [
          0.535,
          0.7325
         ],
         "gridcolor": "#E1E5ED",
         "showgrid": false,
         "tickfont": {
          "color": "#4D5663"
         },
         "title": {
          "font": {
           "color": "#4D5663"
          },
          "text": ""
         },
         "zerolinecolor": "#E1E5ED"
        },
        "yaxis9": {
         "anchor": "x9",
         "domain": [
          0.2675,
          0.465
         ],
         "gridcolor": "#E1E5ED",
         "showgrid": false,
         "tickfont": {
          "color": "#4D5663"
         },
         "title": {
          "font": {
           "color": "#4D5663"
          },
          "text": ""
         },
         "zerolinecolor": "#E1E5ED"
        }
       }
      },
      "text/html": [
       "<div>\n",
       "        \n",
       "        \n",
       "            <div id=\"b60884bf-a156-4a12-845b-e31b148a4626\" class=\"plotly-graph-div\" style=\"height:525px; width:100%;\"></div>\n",
       "            <script type=\"text/javascript\">\n",
       "                require([\"plotly\"], function(Plotly) {\n",
       "                    window.PLOTLYENV=window.PLOTLYENV || {};\n",
       "                    window.PLOTLYENV.BASE_URL='https://plot.ly';\n",
       "                    \n",
       "                if (document.getElementById(\"b60884bf-a156-4a12-845b-e31b148a4626\")) {\n",
       "                    Plotly.newPlot(\n",
       "                        'b60884bf-a156-4a12-845b-e31b148a4626',\n",
       "                        [{\"histfunc\": \"count\", \"histnorm\": \"\", \"marker\": {\"color\": \"rgba(255, 153, 51, 1.0)\", \"line\": {\"color\": \"#4D5663\", \"width\": 1.3}}, \"name\": \"A\", \"nbinsx\": 10, \"opacity\": 0.8, \"orientation\": \"v\", \"type\": \"histogram\", \"x\": [1.3522419087117923, -1.4367485228096082, 0.34246615131765074, 0.22501371995467404, -1.3835773588716889, -0.3786606793558325, 1.5700394365681638, -0.4389112823843724, 0.019327259196934583, -0.7871373062572039, 1.1582459987267817, 0.5419561074166749, 0.10300724317610074, 1.056526493789133, -0.5935929218146352, -0.9400064843743166, 0.8184536422660786, 0.6051514716477069, 1.986033931482904, 3.654979997899412, 0.17858108615271165, -1.5513735777578752, 1.9711731349620212, 0.6244032392053847, 1.1358931781345123, 0.40377740852876387, -1.1112520429721875, -0.4837839184642077, -0.4697476049298041, 0.4624700962665709, -0.40519454607155914, 0.26826033900583474, -3.363286877728186, 1.8642796689830858, 0.3546706184336565, -0.3010076943115201, -0.184736525521066, -0.17078051736817168, 1.0582430636820745, -0.8379417122297186, -0.17913716056313403, 0.2868655884201024, 1.4975251686775926, 0.1673545509032834, 1.8892720942055872, 1.2000191097252784, -0.11723758426468586, -1.3923642324153118, 1.2067384689802523, 0.6995092920577454, -0.450318572383938, -1.0768058506215945, 1.8240423037842124, -1.2848847471231686, -1.3092995799985827, -2.252081015062117, 1.6516269181221692, 1.5514491437019398, 0.17685847323240705, -0.9136086216446226, 1.2010817770884787, -0.19816291549069612, 1.321136986359857, -0.3394538966085169, 0.34016035243713444, -0.7941748905370211, 0.19043318709089463, -0.5436817352645537, 1.0661669821985864, 2.2851010625069286, -0.8266733303952352, 0.7884285801220625, 0.8231972467330367, 0.324008182428142, 0.6752070165857296, -0.8439726176579643, -0.20609333658074047, -1.5482680054696205, -0.38434511261941934, 0.07692083586667725, -0.6248572409586476, -0.16248851481555132, -1.8459074757071747, 1.4126122652500914, 0.19075917126177336, 0.1756756844178885, -0.6453507523108135, 1.689030633833263, -0.8708237540304141, 0.25013438914188446, -1.4214869901784088, 0.2984832844136182, -0.5636158302217779, -0.30474446122783944, 1.006249773260137, 0.2782559169320781, 0.5666162539211673, -0.9302725711947286, -1.3463008359939528, 0.32468815436776594], \"xaxis\": \"x\", \"yaxis\": \"y\"}, {\"line\": {\"color\": \"rgba(128, 128, 128, 1.0)\", \"dash\": \"solid\", \"shape\": \"linear\", \"width\": 1.3}, \"marker\": {\"size\": 2, \"symbol\": \"circle\"}, \"mode\": \"markers\", \"name\": \"A\", \"text\": \"\", \"type\": \"scatter\", \"x\": [0.2853960742036141, -0.4406604289569714, 0.33365589029910364, 0.2018345194581368, 0.468673037397461, -1.3528010257124101, 0.800285334395616, 0.8735403499291123, -0.4971589012856189, -1.1501645383832924, -0.11235634631765345, 0.4723699885089022, 0.0712305561391159, 0.24284710471750473, -0.9122241746416804, 0.8269817335779781, -0.00874132852355032, -0.6318762826014234, 0.43011057200838515, 1.0704132732721918, 2.134360594704674, 0.31373630965031646, -0.8829218217202525, -0.73474365392336, 0.3200172946062929, 1.2920107799210232, -0.4672134494390364, -0.4255892680362301, -0.7883031262036172, -0.42466003092600074, 1.312409195297587, 0.09591687871532022, 1.3971624576376163, 0.5876017168531212, -0.9320959746324256, -1.554159956817357, 0.34482741176093945, 1.5468924170915168, -1.4034301158921905, -0.3421364854793705, -0.3700258002299505, 0.18963240578518814, -0.8367522861239166, -1.4354639631629302, -0.1924128922031911, -0.4471995622697898, -0.20594738032034565, 1.1666927760052315, 0.8542061073093862, -0.045340865093400975, 0.8829678490586947, 2.6408083514235363, -0.5007660975317126, 0.15144509399049666, -0.14989090307841002, -1.6619153347196627, 1.0238621209857814, 1.2221517095795575, -0.9735974374641312, -0.5627451263909823, -0.05804543402331785, 0.9850109566618794, 0.8381067825455304, -1.1621346812659719, -0.6289189456340682, 0.9332556602694779, 0.1801566919373079, 0.10417651779157987, -0.14807796339151225, 1.5990250523195302, -0.053927329507619894, -0.7783360488156015, -0.3700849764827003, 2.2810591763490504, 0.2542492977753961, 2.762357088437156, 0.6376042127156709, 1.2695848172126263, 0.45641857354305465, 0.46965554004453053, -1.1173114686529768, 0.3186506440608256, -1.2750038871380027, 0.6618715619915841, 0.08003220670383365, 0.8067700142648925, -0.1022498040061927, -0.11343763353982858, -1.2410875845656366, 0.5410071859457992, -0.008862683281114241, 0.01483585722941619, -2.2886479470860417, -2.2874057157464414, -1.8809150648910813, -1.3995936415281152, -2.2829143071083657, 0.8742765899714318, -3.559128971832099, -0.5292230111010272], \"xaxis\": \"x2\", \"y\": [1.3522419087117923, -1.4367485228096082, 0.34246615131765074, 0.22501371995467404, -1.3835773588716889, -0.3786606793558325, 1.5700394365681638, -0.4389112823843724, 0.019327259196934583, -0.7871373062572039, 1.1582459987267817, 0.5419561074166749, 0.10300724317610074, 1.056526493789133, -0.5935929218146352, -0.9400064843743166, 0.8184536422660786, 0.6051514716477069, 1.986033931482904, 3.654979997899412, 0.17858108615271165, -1.5513735777578752, 1.9711731349620212, 0.6244032392053847, 1.1358931781345123, 0.40377740852876387, -1.1112520429721875, -0.4837839184642077, -0.4697476049298041, 0.4624700962665709, -0.40519454607155914, 0.26826033900583474, -3.363286877728186, 1.8642796689830858, 0.3546706184336565, -0.3010076943115201, -0.184736525521066, -0.17078051736817168, 1.0582430636820745, -0.8379417122297186, -0.17913716056313403, 0.2868655884201024, 1.4975251686775926, 0.1673545509032834, 1.8892720942055872, 1.2000191097252784, -0.11723758426468586, -1.3923642324153118, 1.2067384689802523, 0.6995092920577454, -0.450318572383938, -1.0768058506215945, 1.8240423037842124, -1.2848847471231686, -1.3092995799985827, -2.252081015062117, 1.6516269181221692, 1.5514491437019398, 0.17685847323240705, -0.9136086216446226, 1.2010817770884787, -0.19816291549069612, 1.321136986359857, -0.3394538966085169, 0.34016035243713444, -0.7941748905370211, 0.19043318709089463, -0.5436817352645537, 1.0661669821985864, 2.2851010625069286, -0.8266733303952352, 0.7884285801220625, 0.8231972467330367, 0.324008182428142, 0.6752070165857296, -0.8439726176579643, -0.20609333658074047, -1.5482680054696205, -0.38434511261941934, 0.07692083586667725, -0.6248572409586476, -0.16248851481555132, -1.8459074757071747, 1.4126122652500914, 0.19075917126177336, 0.1756756844178885, -0.6453507523108135, 1.689030633833263, -0.8708237540304141, 0.25013438914188446, -1.4214869901784088, 0.2984832844136182, -0.5636158302217779, -0.30474446122783944, 1.006249773260137, 0.2782559169320781, 0.5666162539211673, -0.9302725711947286, -1.3463008359939528, 0.32468815436776594], \"yaxis\": \"y2\"}, {\"line\": {\"color\": \"rgba(128, 128, 128, 1.0)\", \"dash\": \"solid\", \"shape\": \"linear\", \"width\": 1.3}, \"marker\": {\"size\": 2, \"symbol\": \"circle\"}, \"mode\": \"markers\", \"name\": \"A\", \"text\": \"\", \"type\": \"scatter\", \"x\": [-1.2114743390562264, 1.700800915419909, -1.178994477837021, 0.14513018194727986, 1.286942779256458, 0.6955018892298953, -0.9780020693548642, 1.46808894919136, 0.5822854672166777, 0.19151145671021533, 1.2105212178471323, 1.4569023841482407, 1.1756193827787285, 0.7542403015929829, 0.8434614724697863, -0.8560461320728188, 0.9936037814303642, -0.31434565857476593, 0.04525888276113422, 0.5083100632905638, 0.5286150797252278, -1.0246358503243014, -5.635076311253026e-05, -0.007341225579132861, 0.5545965801178203, 0.0810432372767892, 1.1999323217913713, 0.7471526407393261, 0.0852219670418781, 0.7993831939237878, -0.7922259472297779, -0.17945078997743538, 0.7445919702954994, -0.07543975670014871, 0.2958411375086231, 0.11288799429313509, 0.5866679922058633, 0.7693347762832684, 1.202395837276869, -0.515623404678566, -1.1129721035407865, -0.2899754175382606, 0.20716303560209146, -0.8111795583989764, -0.7029578790728146, 0.2923644478814588, -0.021076270898370716, -0.498923747661836, 2.786513630916273, 0.024913166024660306, -1.7807545602182158, -1.357397531105, 0.1270269844378426, -0.5197410481686981, 0.6008872605864622, -0.4423647332569923, 0.15909986938826357, -0.47620993889168306, 0.2870340326809318, 1.0484693388735191, -1.7089889393481843, 0.03309500492681004, 0.9709780861585363, -0.2674736636277588, -0.1719559943280335, -0.25103460113072934, 1.9652966578048763, -1.0299412274250208, -0.9521461846731799, -0.538170621043196, -0.3111127524093368, -0.5969506068307517, -1.6525314381120113, 0.07541342778795664, 0.8188151546411473, 1.5122827976558877, 0.09889150579605903, -0.7085815791607246, -2.2022019766422916, 0.45863390939431736, 0.6389744930862618, 0.44307298846494525, 0.6322602528309235, 0.4190339353806155, 0.2019674361957441, 1.2653444505074438, 1.6010436074640049, -0.04273937600904199, 2.4247514443140528, -0.07098998568331391, -0.2494477920339057, -1.5733955487514455, -0.2705985504473421, -0.16015968417545634, 1.5576972107642162, -0.7918241252487018, -0.6664298961171453, 0.6136067512289997, -1.7283263219878962, -0.1934294523399556], \"xaxis\": \"x3\", \"y\": [1.3522419087117923, -1.4367485228096082, 0.34246615131765074, 0.22501371995467404, -1.3835773588716889, -0.3786606793558325, 1.5700394365681638, -0.4389112823843724, 0.019327259196934583, -0.7871373062572039, 1.1582459987267817, 0.5419561074166749, 0.10300724317610074, 1.056526493789133, -0.5935929218146352, -0.9400064843743166, 0.8184536422660786, 0.6051514716477069, 1.986033931482904, 3.654979997899412, 0.17858108615271165, -1.5513735777578752, 1.9711731349620212, 0.6244032392053847, 1.1358931781345123, 0.40377740852876387, -1.1112520429721875, -0.4837839184642077, -0.4697476049298041, 0.4624700962665709, -0.40519454607155914, 0.26826033900583474, -3.363286877728186, 1.8642796689830858, 0.3546706184336565, -0.3010076943115201, -0.184736525521066, -0.17078051736817168, 1.0582430636820745, -0.8379417122297186, -0.17913716056313403, 0.2868655884201024, 1.4975251686775926, 0.1673545509032834, 1.8892720942055872, 1.2000191097252784, -0.11723758426468586, -1.3923642324153118, 1.2067384689802523, 0.6995092920577454, -0.450318572383938, -1.0768058506215945, 1.8240423037842124, -1.2848847471231686, -1.3092995799985827, -2.252081015062117, 1.6516269181221692, 1.5514491437019398, 0.17685847323240705, -0.9136086216446226, 1.2010817770884787, -0.19816291549069612, 1.321136986359857, -0.3394538966085169, 0.34016035243713444, -0.7941748905370211, 0.19043318709089463, -0.5436817352645537, 1.0661669821985864, 2.2851010625069286, -0.8266733303952352, 0.7884285801220625, 0.8231972467330367, 0.324008182428142, 0.6752070165857296, -0.8439726176579643, -0.20609333658074047, -1.5482680054696205, -0.38434511261941934, 0.07692083586667725, -0.6248572409586476, -0.16248851481555132, -1.8459074757071747, 1.4126122652500914, 0.19075917126177336, 0.1756756844178885, -0.6453507523108135, 1.689030633833263, -0.8708237540304141, 0.25013438914188446, -1.4214869901784088, 0.2984832844136182, -0.5636158302217779, -0.30474446122783944, 1.006249773260137, 0.2782559169320781, 0.5666162539211673, -0.9302725711947286, -1.3463008359939528, 0.32468815436776594], \"yaxis\": \"y3\"}, {\"line\": {\"color\": \"rgba(128, 128, 128, 1.0)\", \"dash\": \"solid\", \"shape\": \"linear\", \"width\": 1.3}, \"marker\": {\"size\": 2, \"symbol\": \"circle\"}, \"mode\": \"markers\", \"name\": \"A\", \"text\": \"\", \"type\": \"scatter\", \"x\": [-0.42207092062544505, 0.571334851427382, 0.209309099577975, 0.2357360351882224, -0.19033052317107174, 1.7954668044031779, 0.03753594495671657, -0.34444488948102764, 0.5145014018508386, 0.7792744997652691, 1.802800703652718, 0.12961945987754453, -2.2451385004143423, -0.5476262287075142, 1.8147112758073896, 1.7774030039222173, -0.2890566123981602, -1.4229622366313441, 0.5617914011982906, -1.2551830304274805, -1.6294584594711694, -0.06845787408972442, 0.5677003676723057, -0.25533216789681634, 2.17800882925841, 1.5569574961587103, 0.13536002901035704, -1.9501362472694592, -0.4084740162108226, 0.09864966201708075, 0.7005521862610382, -1.0237131750107904, -3.7198755066257703, 1.2401281855439659, -0.24963018210588891, -0.4495616394996091, -1.334142897239012, -0.05199385707357265, -0.3636576150250563, 0.6155077403985042, -0.8367399055275807, -1.0065113759366735, -2.53522971674168, -0.22123698017928725, 1.7810788278251577, 1.0037516165704732, -1.1182941395835115, -0.648522184773254, 0.6592307181632687, -3.3148689366391255, 0.5106039962665352, 0.7016254374433916, 0.6878489361253675, 1.1427259382637898, -0.15063296235128362, 1.7457182916932434, 0.5152133093405894, -0.036109000356071556, 0.7830740550725146, -0.44928100405539784, -0.07516099765662752, -1.1966712721257133, -1.812651207171741, 0.7011874349784221, -0.6852555009642081, 0.9776338731551988, 0.4018853632616528, -0.19676303051306304, 1.1682857171730392, -0.42026047686310775, 1.0596319099267317, 2.1167466718626504, -1.940722935149875, -0.9433259313316542, 1.0845925686579752, -0.3825290633316056, 0.6189134578674937, 0.16208020847827534, -0.8392312772360102, -0.33911222257382945, -0.4049050065854754, -0.7610784392404565, -0.031673418319424954, -0.5905931178369421, 0.09284308666716118, -1.4569240927626794, 2.233444474053686, -2.2463777812587433, 0.8247773217007768, 1.2873820847023052, 0.018378373475883426, 1.0728725272475856, 0.2049473995358994, -0.09993459592442042, 0.12833398650529076, 0.9851533536016509, -0.9675715123129737, -0.7323234244894197, -0.8110955871650228, 0.7824093705610112], \"xaxis\": \"x4\", \"y\": [1.3522419087117923, -1.4367485228096082, 0.34246615131765074, 0.22501371995467404, -1.3835773588716889, -0.3786606793558325, 1.5700394365681638, -0.4389112823843724, 0.019327259196934583, -0.7871373062572039, 1.1582459987267817, 0.5419561074166749, 0.10300724317610074, 1.056526493789133, -0.5935929218146352, -0.9400064843743166, 0.8184536422660786, 0.6051514716477069, 1.986033931482904, 3.654979997899412, 0.17858108615271165, -1.5513735777578752, 1.9711731349620212, 0.6244032392053847, 1.1358931781345123, 0.40377740852876387, -1.1112520429721875, -0.4837839184642077, -0.4697476049298041, 0.4624700962665709, -0.40519454607155914, 0.26826033900583474, -3.363286877728186, 1.8642796689830858, 0.3546706184336565, -0.3010076943115201, -0.184736525521066, -0.17078051736817168, 1.0582430636820745, -0.8379417122297186, -0.17913716056313403, 0.2868655884201024, 1.4975251686775926, 0.1673545509032834, 1.8892720942055872, 1.2000191097252784, -0.11723758426468586, -1.3923642324153118, 1.2067384689802523, 0.6995092920577454, -0.450318572383938, -1.0768058506215945, 1.8240423037842124, -1.2848847471231686, -1.3092995799985827, -2.252081015062117, 1.6516269181221692, 1.5514491437019398, 0.17685847323240705, -0.9136086216446226, 1.2010817770884787, -0.19816291549069612, 1.321136986359857, -0.3394538966085169, 0.34016035243713444, -0.7941748905370211, 0.19043318709089463, -0.5436817352645537, 1.0661669821985864, 2.2851010625069286, -0.8266733303952352, 0.7884285801220625, 0.8231972467330367, 0.324008182428142, 0.6752070165857296, -0.8439726176579643, -0.20609333658074047, -1.5482680054696205, -0.38434511261941934, 0.07692083586667725, -0.6248572409586476, -0.16248851481555132, -1.8459074757071747, 1.4126122652500914, 0.19075917126177336, 0.1756756844178885, -0.6453507523108135, 1.689030633833263, -0.8708237540304141, 0.25013438914188446, -1.4214869901784088, 0.2984832844136182, -0.5636158302217779, -0.30474446122783944, 1.006249773260137, 0.2782559169320781, 0.5666162539211673, -0.9302725711947286, -1.3463008359939528, 0.32468815436776594], \"yaxis\": \"y4\"}, {\"line\": {\"color\": \"rgba(128, 128, 128, 1.0)\", \"dash\": \"solid\", \"shape\": \"linear\", \"width\": 1.3}, \"marker\": {\"size\": 2, \"symbol\": \"circle\"}, \"mode\": \"markers\", \"name\": \"B\", \"text\": \"\", \"type\": \"scatter\", \"x\": [1.3522419087117923, -1.4367485228096082, 0.34246615131765074, 0.22501371995467404, -1.3835773588716889, -0.3786606793558325, 1.5700394365681638, -0.4389112823843724, 0.019327259196934583, -0.7871373062572039, 1.1582459987267817, 0.5419561074166749, 0.10300724317610074, 1.056526493789133, -0.5935929218146352, -0.9400064843743166, 0.8184536422660786, 0.6051514716477069, 1.986033931482904, 3.654979997899412, 0.17858108615271165, -1.5513735777578752, 1.9711731349620212, 0.6244032392053847, 1.1358931781345123, 0.40377740852876387, -1.1112520429721875, -0.4837839184642077, -0.4697476049298041, 0.4624700962665709, -0.40519454607155914, 0.26826033900583474, -3.363286877728186, 1.8642796689830858, 0.3546706184336565, -0.3010076943115201, -0.184736525521066, -0.17078051736817168, 1.0582430636820745, -0.8379417122297186, -0.17913716056313403, 0.2868655884201024, 1.4975251686775926, 0.1673545509032834, 1.8892720942055872, 1.2000191097252784, -0.11723758426468586, -1.3923642324153118, 1.2067384689802523, 0.6995092920577454, -0.450318572383938, -1.0768058506215945, 1.8240423037842124, -1.2848847471231686, -1.3092995799985827, -2.252081015062117, 1.6516269181221692, 1.5514491437019398, 0.17685847323240705, -0.9136086216446226, 1.2010817770884787, -0.19816291549069612, 1.321136986359857, -0.3394538966085169, 0.34016035243713444, -0.7941748905370211, 0.19043318709089463, -0.5436817352645537, 1.0661669821985864, 2.2851010625069286, -0.8266733303952352, 0.7884285801220625, 0.8231972467330367, 0.324008182428142, 0.6752070165857296, -0.8439726176579643, -0.20609333658074047, -1.5482680054696205, -0.38434511261941934, 0.07692083586667725, -0.6248572409586476, -0.16248851481555132, -1.8459074757071747, 1.4126122652500914, 0.19075917126177336, 0.1756756844178885, -0.6453507523108135, 1.689030633833263, -0.8708237540304141, 0.25013438914188446, -1.4214869901784088, 0.2984832844136182, -0.5636158302217779, -0.30474446122783944, 1.006249773260137, 0.2782559169320781, 0.5666162539211673, -0.9302725711947286, -1.3463008359939528, 0.32468815436776594], \"xaxis\": \"x5\", \"y\": [0.2853960742036141, -0.4406604289569714, 0.33365589029910364, 0.2018345194581368, 0.468673037397461, -1.3528010257124101, 0.800285334395616, 0.8735403499291123, -0.4971589012856189, -1.1501645383832924, -0.11235634631765345, 0.4723699885089022, 0.0712305561391159, 0.24284710471750473, -0.9122241746416804, 0.8269817335779781, -0.00874132852355032, -0.6318762826014234, 0.43011057200838515, 1.0704132732721918, 2.134360594704674, 0.31373630965031646, -0.8829218217202525, -0.73474365392336, 0.3200172946062929, 1.2920107799210232, -0.4672134494390364, -0.4255892680362301, -0.7883031262036172, -0.42466003092600074, 1.312409195297587, 0.09591687871532022, 1.3971624576376163, 0.5876017168531212, -0.9320959746324256, -1.554159956817357, 0.34482741176093945, 1.5468924170915168, -1.4034301158921905, -0.3421364854793705, -0.3700258002299505, 0.18963240578518814, -0.8367522861239166, -1.4354639631629302, -0.1924128922031911, -0.4471995622697898, -0.20594738032034565, 1.1666927760052315, 0.8542061073093862, -0.045340865093400975, 0.8829678490586947, 2.6408083514235363, -0.5007660975317126, 0.15144509399049666, -0.14989090307841002, -1.6619153347196627, 1.0238621209857814, 1.2221517095795575, -0.9735974374641312, -0.5627451263909823, -0.05804543402331785, 0.9850109566618794, 0.8381067825455304, -1.1621346812659719, -0.6289189456340682, 0.9332556602694779, 0.1801566919373079, 0.10417651779157987, -0.14807796339151225, 1.5990250523195302, -0.053927329507619894, -0.7783360488156015, -0.3700849764827003, 2.2810591763490504, 0.2542492977753961, 2.762357088437156, 0.6376042127156709, 1.2695848172126263, 0.45641857354305465, 0.46965554004453053, -1.1173114686529768, 0.3186506440608256, -1.2750038871380027, 0.6618715619915841, 0.08003220670383365, 0.8067700142648925, -0.1022498040061927, -0.11343763353982858, -1.2410875845656366, 0.5410071859457992, -0.008862683281114241, 0.01483585722941619, -2.2886479470860417, -2.2874057157464414, -1.8809150648910813, -1.3995936415281152, -2.2829143071083657, 0.8742765899714318, -3.559128971832099, -0.5292230111010272], \"yaxis\": \"y5\"}, {\"histfunc\": \"count\", \"histnorm\": \"\", \"marker\": {\"color\": \"rgba(55, 128, 191, 1.0)\", \"line\": {\"color\": \"#4D5663\", \"width\": 1.3}}, \"name\": \"B\", \"nbinsx\": 10, \"opacity\": 0.8, \"orientation\": \"v\", \"type\": \"histogram\", \"x\": [0.2853960742036141, -0.4406604289569714, 0.33365589029910364, 0.2018345194581368, 0.468673037397461, -1.3528010257124101, 0.800285334395616, 0.8735403499291123, -0.4971589012856189, -1.1501645383832924, -0.11235634631765345, 0.4723699885089022, 0.0712305561391159, 0.24284710471750473, -0.9122241746416804, 0.8269817335779781, -0.00874132852355032, -0.6318762826014234, 0.43011057200838515, 1.0704132732721918, 2.134360594704674, 0.31373630965031646, -0.8829218217202525, -0.73474365392336, 0.3200172946062929, 1.2920107799210232, -0.4672134494390364, -0.4255892680362301, -0.7883031262036172, -0.42466003092600074, 1.312409195297587, 0.09591687871532022, 1.3971624576376163, 0.5876017168531212, -0.9320959746324256, -1.554159956817357, 0.34482741176093945, 1.5468924170915168, -1.4034301158921905, -0.3421364854793705, -0.3700258002299505, 0.18963240578518814, -0.8367522861239166, -1.4354639631629302, -0.1924128922031911, -0.4471995622697898, -0.20594738032034565, 1.1666927760052315, 0.8542061073093862, -0.045340865093400975, 0.8829678490586947, 2.6408083514235363, -0.5007660975317126, 0.15144509399049666, -0.14989090307841002, -1.6619153347196627, 1.0238621209857814, 1.2221517095795575, -0.9735974374641312, -0.5627451263909823, -0.05804543402331785, 0.9850109566618794, 0.8381067825455304, -1.1621346812659719, -0.6289189456340682, 0.9332556602694779, 0.1801566919373079, 0.10417651779157987, -0.14807796339151225, 1.5990250523195302, -0.053927329507619894, -0.7783360488156015, -0.3700849764827003, 2.2810591763490504, 0.2542492977753961, 2.762357088437156, 0.6376042127156709, 1.2695848172126263, 0.45641857354305465, 0.46965554004453053, -1.1173114686529768, 0.3186506440608256, -1.2750038871380027, 0.6618715619915841, 0.08003220670383365, 0.8067700142648925, -0.1022498040061927, -0.11343763353982858, -1.2410875845656366, 0.5410071859457992, -0.008862683281114241, 0.01483585722941619, -2.2886479470860417, -2.2874057157464414, -1.8809150648910813, -1.3995936415281152, -2.2829143071083657, 0.8742765899714318, -3.559128971832099, -0.5292230111010272], \"xaxis\": \"x6\", \"yaxis\": \"y6\"}, {\"line\": {\"color\": \"rgba(128, 128, 128, 1.0)\", \"dash\": \"solid\", \"shape\": \"linear\", \"width\": 1.3}, \"marker\": {\"size\": 2, \"symbol\": \"circle\"}, \"mode\": \"markers\", \"name\": \"B\", \"text\": \"\", \"type\": \"scatter\", \"x\": [-1.2114743390562264, 1.700800915419909, -1.178994477837021, 0.14513018194727986, 1.286942779256458, 0.6955018892298953, -0.9780020693548642, 1.46808894919136, 0.5822854672166777, 0.19151145671021533, 1.2105212178471323, 1.4569023841482407, 1.1756193827787285, 0.7542403015929829, 0.8434614724697863, -0.8560461320728188, 0.9936037814303642, -0.31434565857476593, 0.04525888276113422, 0.5083100632905638, 0.5286150797252278, -1.0246358503243014, -5.635076311253026e-05, -0.007341225579132861, 0.5545965801178203, 0.0810432372767892, 1.1999323217913713, 0.7471526407393261, 0.0852219670418781, 0.7993831939237878, -0.7922259472297779, -0.17945078997743538, 0.7445919702954994, -0.07543975670014871, 0.2958411375086231, 0.11288799429313509, 0.5866679922058633, 0.7693347762832684, 1.202395837276869, -0.515623404678566, -1.1129721035407865, -0.2899754175382606, 0.20716303560209146, -0.8111795583989764, -0.7029578790728146, 0.2923644478814588, -0.021076270898370716, -0.498923747661836, 2.786513630916273, 0.024913166024660306, -1.7807545602182158, -1.357397531105, 0.1270269844378426, -0.5197410481686981, 0.6008872605864622, -0.4423647332569923, 0.15909986938826357, -0.47620993889168306, 0.2870340326809318, 1.0484693388735191, -1.7089889393481843, 0.03309500492681004, 0.9709780861585363, -0.2674736636277588, -0.1719559943280335, -0.25103460113072934, 1.9652966578048763, -1.0299412274250208, -0.9521461846731799, -0.538170621043196, -0.3111127524093368, -0.5969506068307517, -1.6525314381120113, 0.07541342778795664, 0.8188151546411473, 1.5122827976558877, 0.09889150579605903, -0.7085815791607246, -2.2022019766422916, 0.45863390939431736, 0.6389744930862618, 0.44307298846494525, 0.6322602528309235, 0.4190339353806155, 0.2019674361957441, 1.2653444505074438, 1.6010436074640049, -0.04273937600904199, 2.4247514443140528, -0.07098998568331391, -0.2494477920339057, -1.5733955487514455, -0.2705985504473421, -0.16015968417545634, 1.5576972107642162, -0.7918241252487018, -0.6664298961171453, 0.6136067512289997, -1.7283263219878962, -0.1934294523399556], \"xaxis\": \"x7\", \"y\": [0.2853960742036141, -0.4406604289569714, 0.33365589029910364, 0.2018345194581368, 0.468673037397461, -1.3528010257124101, 0.800285334395616, 0.8735403499291123, -0.4971589012856189, -1.1501645383832924, -0.11235634631765345, 0.4723699885089022, 0.0712305561391159, 0.24284710471750473, -0.9122241746416804, 0.8269817335779781, -0.00874132852355032, -0.6318762826014234, 0.43011057200838515, 1.0704132732721918, 2.134360594704674, 0.31373630965031646, -0.8829218217202525, -0.73474365392336, 0.3200172946062929, 1.2920107799210232, -0.4672134494390364, -0.4255892680362301, -0.7883031262036172, -0.42466003092600074, 1.312409195297587, 0.09591687871532022, 1.3971624576376163, 0.5876017168531212, -0.9320959746324256, -1.554159956817357, 0.34482741176093945, 1.5468924170915168, -1.4034301158921905, -0.3421364854793705, -0.3700258002299505, 0.18963240578518814, -0.8367522861239166, -1.4354639631629302, -0.1924128922031911, -0.4471995622697898, -0.20594738032034565, 1.1666927760052315, 0.8542061073093862, -0.045340865093400975, 0.8829678490586947, 2.6408083514235363, -0.5007660975317126, 0.15144509399049666, -0.14989090307841002, -1.6619153347196627, 1.0238621209857814, 1.2221517095795575, -0.9735974374641312, -0.5627451263909823, -0.05804543402331785, 0.9850109566618794, 0.8381067825455304, -1.1621346812659719, -0.6289189456340682, 0.9332556602694779, 0.1801566919373079, 0.10417651779157987, -0.14807796339151225, 1.5990250523195302, -0.053927329507619894, -0.7783360488156015, -0.3700849764827003, 2.2810591763490504, 0.2542492977753961, 2.762357088437156, 0.6376042127156709, 1.2695848172126263, 0.45641857354305465, 0.46965554004453053, -1.1173114686529768, 0.3186506440608256, -1.2750038871380027, 0.6618715619915841, 0.08003220670383365, 0.8067700142648925, -0.1022498040061927, -0.11343763353982858, -1.2410875845656366, 0.5410071859457992, -0.008862683281114241, 0.01483585722941619, -2.2886479470860417, -2.2874057157464414, -1.8809150648910813, -1.3995936415281152, -2.2829143071083657, 0.8742765899714318, -3.559128971832099, -0.5292230111010272], \"yaxis\": \"y7\"}, {\"line\": {\"color\": \"rgba(128, 128, 128, 1.0)\", \"dash\": \"solid\", \"shape\": \"linear\", \"width\": 1.3}, \"marker\": {\"size\": 2, \"symbol\": \"circle\"}, \"mode\": \"markers\", \"name\": \"B\", \"text\": \"\", \"type\": \"scatter\", \"x\": [-0.42207092062544505, 0.571334851427382, 0.209309099577975, 0.2357360351882224, -0.19033052317107174, 1.7954668044031779, 0.03753594495671657, -0.34444488948102764, 0.5145014018508386, 0.7792744997652691, 1.802800703652718, 0.12961945987754453, -2.2451385004143423, -0.5476262287075142, 1.8147112758073896, 1.7774030039222173, -0.2890566123981602, -1.4229622366313441, 0.5617914011982906, -1.2551830304274805, -1.6294584594711694, -0.06845787408972442, 0.5677003676723057, -0.25533216789681634, 2.17800882925841, 1.5569574961587103, 0.13536002901035704, -1.9501362472694592, -0.4084740162108226, 0.09864966201708075, 0.7005521862610382, -1.0237131750107904, -3.7198755066257703, 1.2401281855439659, -0.24963018210588891, -0.4495616394996091, -1.334142897239012, -0.05199385707357265, -0.3636576150250563, 0.6155077403985042, -0.8367399055275807, -1.0065113759366735, -2.53522971674168, -0.22123698017928725, 1.7810788278251577, 1.0037516165704732, -1.1182941395835115, -0.648522184773254, 0.6592307181632687, -3.3148689366391255, 0.5106039962665352, 0.7016254374433916, 0.6878489361253675, 1.1427259382637898, -0.15063296235128362, 1.7457182916932434, 0.5152133093405894, -0.036109000356071556, 0.7830740550725146, -0.44928100405539784, -0.07516099765662752, -1.1966712721257133, -1.812651207171741, 0.7011874349784221, -0.6852555009642081, 0.9776338731551988, 0.4018853632616528, -0.19676303051306304, 1.1682857171730392, -0.42026047686310775, 1.0596319099267317, 2.1167466718626504, -1.940722935149875, -0.9433259313316542, 1.0845925686579752, -0.3825290633316056, 0.6189134578674937, 0.16208020847827534, -0.8392312772360102, -0.33911222257382945, -0.4049050065854754, -0.7610784392404565, -0.031673418319424954, -0.5905931178369421, 0.09284308666716118, -1.4569240927626794, 2.233444474053686, -2.2463777812587433, 0.8247773217007768, 1.2873820847023052, 0.018378373475883426, 1.0728725272475856, 0.2049473995358994, -0.09993459592442042, 0.12833398650529076, 0.9851533536016509, -0.9675715123129737, -0.7323234244894197, -0.8110955871650228, 0.7824093705610112], \"xaxis\": \"x8\", \"y\": [0.2853960742036141, -0.4406604289569714, 0.33365589029910364, 0.2018345194581368, 0.468673037397461, -1.3528010257124101, 0.800285334395616, 0.8735403499291123, -0.4971589012856189, -1.1501645383832924, -0.11235634631765345, 0.4723699885089022, 0.0712305561391159, 0.24284710471750473, -0.9122241746416804, 0.8269817335779781, -0.00874132852355032, -0.6318762826014234, 0.43011057200838515, 1.0704132732721918, 2.134360594704674, 0.31373630965031646, -0.8829218217202525, -0.73474365392336, 0.3200172946062929, 1.2920107799210232, -0.4672134494390364, -0.4255892680362301, -0.7883031262036172, -0.42466003092600074, 1.312409195297587, 0.09591687871532022, 1.3971624576376163, 0.5876017168531212, -0.9320959746324256, -1.554159956817357, 0.34482741176093945, 1.5468924170915168, -1.4034301158921905, -0.3421364854793705, -0.3700258002299505, 0.18963240578518814, -0.8367522861239166, -1.4354639631629302, -0.1924128922031911, -0.4471995622697898, -0.20594738032034565, 1.1666927760052315, 0.8542061073093862, -0.045340865093400975, 0.8829678490586947, 2.6408083514235363, -0.5007660975317126, 0.15144509399049666, -0.14989090307841002, -1.6619153347196627, 1.0238621209857814, 1.2221517095795575, -0.9735974374641312, -0.5627451263909823, -0.05804543402331785, 0.9850109566618794, 0.8381067825455304, -1.1621346812659719, -0.6289189456340682, 0.9332556602694779, 0.1801566919373079, 0.10417651779157987, -0.14807796339151225, 1.5990250523195302, -0.053927329507619894, -0.7783360488156015, -0.3700849764827003, 2.2810591763490504, 0.2542492977753961, 2.762357088437156, 0.6376042127156709, 1.2695848172126263, 0.45641857354305465, 0.46965554004453053, -1.1173114686529768, 0.3186506440608256, -1.2750038871380027, 0.6618715619915841, 0.08003220670383365, 0.8067700142648925, -0.1022498040061927, -0.11343763353982858, -1.2410875845656366, 0.5410071859457992, -0.008862683281114241, 0.01483585722941619, -2.2886479470860417, -2.2874057157464414, -1.8809150648910813, -1.3995936415281152, -2.2829143071083657, 0.8742765899714318, -3.559128971832099, -0.5292230111010272], \"yaxis\": \"y8\"}, {\"line\": {\"color\": \"rgba(128, 128, 128, 1.0)\", \"dash\": \"solid\", \"shape\": \"linear\", \"width\": 1.3}, \"marker\": {\"size\": 2, \"symbol\": \"circle\"}, \"mode\": \"markers\", \"name\": \"C\", \"text\": \"\", \"type\": \"scatter\", \"x\": [1.3522419087117923, -1.4367485228096082, 0.34246615131765074, 0.22501371995467404, -1.3835773588716889, -0.3786606793558325, 1.5700394365681638, -0.4389112823843724, 0.019327259196934583, -0.7871373062572039, 1.1582459987267817, 0.5419561074166749, 0.10300724317610074, 1.056526493789133, -0.5935929218146352, -0.9400064843743166, 0.8184536422660786, 0.6051514716477069, 1.986033931482904, 3.654979997899412, 0.17858108615271165, -1.5513735777578752, 1.9711731349620212, 0.6244032392053847, 1.1358931781345123, 0.40377740852876387, -1.1112520429721875, -0.4837839184642077, -0.4697476049298041, 0.4624700962665709, -0.40519454607155914, 0.26826033900583474, -3.363286877728186, 1.8642796689830858, 0.3546706184336565, -0.3010076943115201, -0.184736525521066, -0.17078051736817168, 1.0582430636820745, -0.8379417122297186, -0.17913716056313403, 0.2868655884201024, 1.4975251686775926, 0.1673545509032834, 1.8892720942055872, 1.2000191097252784, -0.11723758426468586, -1.3923642324153118, 1.2067384689802523, 0.6995092920577454, -0.450318572383938, -1.0768058506215945, 1.8240423037842124, -1.2848847471231686, -1.3092995799985827, -2.252081015062117, 1.6516269181221692, 1.5514491437019398, 0.17685847323240705, -0.9136086216446226, 1.2010817770884787, -0.19816291549069612, 1.321136986359857, -0.3394538966085169, 0.34016035243713444, -0.7941748905370211, 0.19043318709089463, -0.5436817352645537, 1.0661669821985864, 2.2851010625069286, -0.8266733303952352, 0.7884285801220625, 0.8231972467330367, 0.324008182428142, 0.6752070165857296, -0.8439726176579643, -0.20609333658074047, -1.5482680054696205, -0.38434511261941934, 0.07692083586667725, -0.6248572409586476, -0.16248851481555132, -1.8459074757071747, 1.4126122652500914, 0.19075917126177336, 0.1756756844178885, -0.6453507523108135, 1.689030633833263, -0.8708237540304141, 0.25013438914188446, -1.4214869901784088, 0.2984832844136182, -0.5636158302217779, -0.30474446122783944, 1.006249773260137, 0.2782559169320781, 0.5666162539211673, -0.9302725711947286, -1.3463008359939528, 0.32468815436776594], \"xaxis\": \"x9\", \"y\": [-1.2114743390562264, 1.700800915419909, -1.178994477837021, 0.14513018194727986, 1.286942779256458, 0.6955018892298953, -0.9780020693548642, 1.46808894919136, 0.5822854672166777, 0.19151145671021533, 1.2105212178471323, 1.4569023841482407, 1.1756193827787285, 0.7542403015929829, 0.8434614724697863, -0.8560461320728188, 0.9936037814303642, -0.31434565857476593, 0.04525888276113422, 0.5083100632905638, 0.5286150797252278, -1.0246358503243014, -5.635076311253026e-05, -0.007341225579132861, 0.5545965801178203, 0.0810432372767892, 1.1999323217913713, 0.7471526407393261, 0.0852219670418781, 0.7993831939237878, -0.7922259472297779, -0.17945078997743538, 0.7445919702954994, -0.07543975670014871, 0.2958411375086231, 0.11288799429313509, 0.5866679922058633, 0.7693347762832684, 1.202395837276869, -0.515623404678566, -1.1129721035407865, -0.2899754175382606, 0.20716303560209146, -0.8111795583989764, -0.7029578790728146, 0.2923644478814588, -0.021076270898370716, -0.498923747661836, 2.786513630916273, 0.024913166024660306, -1.7807545602182158, -1.357397531105, 0.1270269844378426, -0.5197410481686981, 0.6008872605864622, -0.4423647332569923, 0.15909986938826357, -0.47620993889168306, 0.2870340326809318, 1.0484693388735191, -1.7089889393481843, 0.03309500492681004, 0.9709780861585363, -0.2674736636277588, -0.1719559943280335, -0.25103460113072934, 1.9652966578048763, -1.0299412274250208, -0.9521461846731799, -0.538170621043196, -0.3111127524093368, -0.5969506068307517, -1.6525314381120113, 0.07541342778795664, 0.8188151546411473, 1.5122827976558877, 0.09889150579605903, -0.7085815791607246, -2.2022019766422916, 0.45863390939431736, 0.6389744930862618, 0.44307298846494525, 0.6322602528309235, 0.4190339353806155, 0.2019674361957441, 1.2653444505074438, 1.6010436074640049, -0.04273937600904199, 2.4247514443140528, -0.07098998568331391, -0.2494477920339057, -1.5733955487514455, -0.2705985504473421, -0.16015968417545634, 1.5576972107642162, -0.7918241252487018, -0.6664298961171453, 0.6136067512289997, -1.7283263219878962, -0.1934294523399556], \"yaxis\": \"y9\"}, {\"line\": {\"color\": \"rgba(128, 128, 128, 1.0)\", \"dash\": \"solid\", \"shape\": \"linear\", \"width\": 1.3}, \"marker\": {\"size\": 2, \"symbol\": \"circle\"}, \"mode\": \"markers\", \"name\": \"C\", \"text\": \"\", \"type\": \"scatter\", \"x\": [0.2853960742036141, -0.4406604289569714, 0.33365589029910364, 0.2018345194581368, 0.468673037397461, -1.3528010257124101, 0.800285334395616, 0.8735403499291123, -0.4971589012856189, -1.1501645383832924, -0.11235634631765345, 0.4723699885089022, 0.0712305561391159, 0.24284710471750473, -0.9122241746416804, 0.8269817335779781, -0.00874132852355032, -0.6318762826014234, 0.43011057200838515, 1.0704132732721918, 2.134360594704674, 0.31373630965031646, -0.8829218217202525, -0.73474365392336, 0.3200172946062929, 1.2920107799210232, -0.4672134494390364, -0.4255892680362301, -0.7883031262036172, -0.42466003092600074, 1.312409195297587, 0.09591687871532022, 1.3971624576376163, 0.5876017168531212, -0.9320959746324256, -1.554159956817357, 0.34482741176093945, 1.5468924170915168, -1.4034301158921905, -0.3421364854793705, -0.3700258002299505, 0.18963240578518814, -0.8367522861239166, -1.4354639631629302, -0.1924128922031911, -0.4471995622697898, -0.20594738032034565, 1.1666927760052315, 0.8542061073093862, -0.045340865093400975, 0.8829678490586947, 2.6408083514235363, -0.5007660975317126, 0.15144509399049666, -0.14989090307841002, -1.6619153347196627, 1.0238621209857814, 1.2221517095795575, -0.9735974374641312, -0.5627451263909823, -0.05804543402331785, 0.9850109566618794, 0.8381067825455304, -1.1621346812659719, -0.6289189456340682, 0.9332556602694779, 0.1801566919373079, 0.10417651779157987, -0.14807796339151225, 1.5990250523195302, -0.053927329507619894, -0.7783360488156015, -0.3700849764827003, 2.2810591763490504, 0.2542492977753961, 2.762357088437156, 0.6376042127156709, 1.2695848172126263, 0.45641857354305465, 0.46965554004453053, -1.1173114686529768, 0.3186506440608256, -1.2750038871380027, 0.6618715619915841, 0.08003220670383365, 0.8067700142648925, -0.1022498040061927, -0.11343763353982858, -1.2410875845656366, 0.5410071859457992, -0.008862683281114241, 0.01483585722941619, -2.2886479470860417, -2.2874057157464414, -1.8809150648910813, -1.3995936415281152, -2.2829143071083657, 0.8742765899714318, -3.559128971832099, -0.5292230111010272], \"xaxis\": \"x10\", \"y\": [-1.2114743390562264, 1.700800915419909, -1.178994477837021, 0.14513018194727986, 1.286942779256458, 0.6955018892298953, -0.9780020693548642, 1.46808894919136, 0.5822854672166777, 0.19151145671021533, 1.2105212178471323, 1.4569023841482407, 1.1756193827787285, 0.7542403015929829, 0.8434614724697863, -0.8560461320728188, 0.9936037814303642, -0.31434565857476593, 0.04525888276113422, 0.5083100632905638, 0.5286150797252278, -1.0246358503243014, -5.635076311253026e-05, -0.007341225579132861, 0.5545965801178203, 0.0810432372767892, 1.1999323217913713, 0.7471526407393261, 0.0852219670418781, 0.7993831939237878, -0.7922259472297779, -0.17945078997743538, 0.7445919702954994, -0.07543975670014871, 0.2958411375086231, 0.11288799429313509, 0.5866679922058633, 0.7693347762832684, 1.202395837276869, -0.515623404678566, -1.1129721035407865, -0.2899754175382606, 0.20716303560209146, -0.8111795583989764, -0.7029578790728146, 0.2923644478814588, -0.021076270898370716, -0.498923747661836, 2.786513630916273, 0.024913166024660306, -1.7807545602182158, -1.357397531105, 0.1270269844378426, -0.5197410481686981, 0.6008872605864622, -0.4423647332569923, 0.15909986938826357, -0.47620993889168306, 0.2870340326809318, 1.0484693388735191, -1.7089889393481843, 0.03309500492681004, 0.9709780861585363, -0.2674736636277588, -0.1719559943280335, -0.25103460113072934, 1.9652966578048763, -1.0299412274250208, -0.9521461846731799, -0.538170621043196, -0.3111127524093368, -0.5969506068307517, -1.6525314381120113, 0.07541342778795664, 0.8188151546411473, 1.5122827976558877, 0.09889150579605903, -0.7085815791607246, -2.2022019766422916, 0.45863390939431736, 0.6389744930862618, 0.44307298846494525, 0.6322602528309235, 0.4190339353806155, 0.2019674361957441, 1.2653444505074438, 1.6010436074640049, -0.04273937600904199, 2.4247514443140528, -0.07098998568331391, -0.2494477920339057, -1.5733955487514455, -0.2705985504473421, -0.16015968417545634, 1.5576972107642162, -0.7918241252487018, -0.6664298961171453, 0.6136067512289997, -1.7283263219878962, -0.1934294523399556], \"yaxis\": \"y10\"}, {\"histfunc\": \"count\", \"histnorm\": \"\", \"marker\": {\"color\": \"rgba(50, 171, 96, 1.0)\", \"line\": {\"color\": \"#4D5663\", \"width\": 1.3}}, \"name\": \"C\", \"nbinsx\": 10, \"opacity\": 0.8, \"orientation\": \"v\", \"type\": \"histogram\", \"x\": [-1.2114743390562264, 1.700800915419909, -1.178994477837021, 0.14513018194727986, 1.286942779256458, 0.6955018892298953, -0.9780020693548642, 1.46808894919136, 0.5822854672166777, 0.19151145671021533, 1.2105212178471323, 1.4569023841482407, 1.1756193827787285, 0.7542403015929829, 0.8434614724697863, -0.8560461320728188, 0.9936037814303642, -0.31434565857476593, 0.04525888276113422, 0.5083100632905638, 0.5286150797252278, -1.0246358503243014, -5.635076311253026e-05, -0.007341225579132861, 0.5545965801178203, 0.0810432372767892, 1.1999323217913713, 0.7471526407393261, 0.0852219670418781, 0.7993831939237878, -0.7922259472297779, -0.17945078997743538, 0.7445919702954994, -0.07543975670014871, 0.2958411375086231, 0.11288799429313509, 0.5866679922058633, 0.7693347762832684, 1.202395837276869, -0.515623404678566, -1.1129721035407865, -0.2899754175382606, 0.20716303560209146, -0.8111795583989764, -0.7029578790728146, 0.2923644478814588, -0.021076270898370716, -0.498923747661836, 2.786513630916273, 0.024913166024660306, -1.7807545602182158, -1.357397531105, 0.1270269844378426, -0.5197410481686981, 0.6008872605864622, -0.4423647332569923, 0.15909986938826357, -0.47620993889168306, 0.2870340326809318, 1.0484693388735191, -1.7089889393481843, 0.03309500492681004, 0.9709780861585363, -0.2674736636277588, -0.1719559943280335, -0.25103460113072934, 1.9652966578048763, -1.0299412274250208, -0.9521461846731799, -0.538170621043196, -0.3111127524093368, -0.5969506068307517, -1.6525314381120113, 0.07541342778795664, 0.8188151546411473, 1.5122827976558877, 0.09889150579605903, -0.7085815791607246, -2.2022019766422916, 0.45863390939431736, 0.6389744930862618, 0.44307298846494525, 0.6322602528309235, 0.4190339353806155, 0.2019674361957441, 1.2653444505074438, 1.6010436074640049, -0.04273937600904199, 2.4247514443140528, -0.07098998568331391, -0.2494477920339057, -1.5733955487514455, -0.2705985504473421, -0.16015968417545634, 1.5576972107642162, -0.7918241252487018, -0.6664298961171453, 0.6136067512289997, -1.7283263219878962, -0.1934294523399556], \"xaxis\": \"x11\", \"yaxis\": \"y11\"}, {\"line\": {\"color\": \"rgba(128, 128, 128, 1.0)\", \"dash\": \"solid\", \"shape\": \"linear\", \"width\": 1.3}, \"marker\": {\"size\": 2, \"symbol\": \"circle\"}, \"mode\": \"markers\", \"name\": \"C\", \"text\": \"\", \"type\": \"scatter\", \"x\": [-0.42207092062544505, 0.571334851427382, 0.209309099577975, 0.2357360351882224, -0.19033052317107174, 1.7954668044031779, 0.03753594495671657, -0.34444488948102764, 0.5145014018508386, 0.7792744997652691, 1.802800703652718, 0.12961945987754453, -2.2451385004143423, -0.5476262287075142, 1.8147112758073896, 1.7774030039222173, -0.2890566123981602, -1.4229622366313441, 0.5617914011982906, -1.2551830304274805, -1.6294584594711694, -0.06845787408972442, 0.5677003676723057, -0.25533216789681634, 2.17800882925841, 1.5569574961587103, 0.13536002901035704, -1.9501362472694592, -0.4084740162108226, 0.09864966201708075, 0.7005521862610382, -1.0237131750107904, -3.7198755066257703, 1.2401281855439659, -0.24963018210588891, -0.4495616394996091, -1.334142897239012, -0.05199385707357265, -0.3636576150250563, 0.6155077403985042, -0.8367399055275807, -1.0065113759366735, -2.53522971674168, -0.22123698017928725, 1.7810788278251577, 1.0037516165704732, -1.1182941395835115, -0.648522184773254, 0.6592307181632687, -3.3148689366391255, 0.5106039962665352, 0.7016254374433916, 0.6878489361253675, 1.1427259382637898, -0.15063296235128362, 1.7457182916932434, 0.5152133093405894, -0.036109000356071556, 0.7830740550725146, -0.44928100405539784, -0.07516099765662752, -1.1966712721257133, -1.812651207171741, 0.7011874349784221, -0.6852555009642081, 0.9776338731551988, 0.4018853632616528, -0.19676303051306304, 1.1682857171730392, -0.42026047686310775, 1.0596319099267317, 2.1167466718626504, -1.940722935149875, -0.9433259313316542, 1.0845925686579752, -0.3825290633316056, 0.6189134578674937, 0.16208020847827534, -0.8392312772360102, -0.33911222257382945, -0.4049050065854754, -0.7610784392404565, -0.031673418319424954, -0.5905931178369421, 0.09284308666716118, -1.4569240927626794, 2.233444474053686, -2.2463777812587433, 0.8247773217007768, 1.2873820847023052, 0.018378373475883426, 1.0728725272475856, 0.2049473995358994, -0.09993459592442042, 0.12833398650529076, 0.9851533536016509, -0.9675715123129737, -0.7323234244894197, -0.8110955871650228, 0.7824093705610112], \"xaxis\": \"x12\", \"y\": [-1.2114743390562264, 1.700800915419909, -1.178994477837021, 0.14513018194727986, 1.286942779256458, 0.6955018892298953, -0.9780020693548642, 1.46808894919136, 0.5822854672166777, 0.19151145671021533, 1.2105212178471323, 1.4569023841482407, 1.1756193827787285, 0.7542403015929829, 0.8434614724697863, -0.8560461320728188, 0.9936037814303642, -0.31434565857476593, 0.04525888276113422, 0.5083100632905638, 0.5286150797252278, -1.0246358503243014, -5.635076311253026e-05, -0.007341225579132861, 0.5545965801178203, 0.0810432372767892, 1.1999323217913713, 0.7471526407393261, 0.0852219670418781, 0.7993831939237878, -0.7922259472297779, -0.17945078997743538, 0.7445919702954994, -0.07543975670014871, 0.2958411375086231, 0.11288799429313509, 0.5866679922058633, 0.7693347762832684, 1.202395837276869, -0.515623404678566, -1.1129721035407865, -0.2899754175382606, 0.20716303560209146, -0.8111795583989764, -0.7029578790728146, 0.2923644478814588, -0.021076270898370716, -0.498923747661836, 2.786513630916273, 0.024913166024660306, -1.7807545602182158, -1.357397531105, 0.1270269844378426, -0.5197410481686981, 0.6008872605864622, -0.4423647332569923, 0.15909986938826357, -0.47620993889168306, 0.2870340326809318, 1.0484693388735191, -1.7089889393481843, 0.03309500492681004, 0.9709780861585363, -0.2674736636277588, -0.1719559943280335, -0.25103460113072934, 1.9652966578048763, -1.0299412274250208, -0.9521461846731799, -0.538170621043196, -0.3111127524093368, -0.5969506068307517, -1.6525314381120113, 0.07541342778795664, 0.8188151546411473, 1.5122827976558877, 0.09889150579605903, -0.7085815791607246, -2.2022019766422916, 0.45863390939431736, 0.6389744930862618, 0.44307298846494525, 0.6322602528309235, 0.4190339353806155, 0.2019674361957441, 1.2653444505074438, 1.6010436074640049, -0.04273937600904199, 2.4247514443140528, -0.07098998568331391, -0.2494477920339057, -1.5733955487514455, -0.2705985504473421, -0.16015968417545634, 1.5576972107642162, -0.7918241252487018, -0.6664298961171453, 0.6136067512289997, -1.7283263219878962, -0.1934294523399556], \"yaxis\": \"y12\"}, {\"line\": {\"color\": \"rgba(128, 128, 128, 1.0)\", \"dash\": \"solid\", \"shape\": \"linear\", \"width\": 1.3}, \"marker\": {\"size\": 2, \"symbol\": \"circle\"}, \"mode\": \"markers\", \"name\": \"D\", \"text\": \"\", \"type\": \"scatter\", \"x\": [1.3522419087117923, -1.4367485228096082, 0.34246615131765074, 0.22501371995467404, -1.3835773588716889, -0.3786606793558325, 1.5700394365681638, -0.4389112823843724, 0.019327259196934583, -0.7871373062572039, 1.1582459987267817, 0.5419561074166749, 0.10300724317610074, 1.056526493789133, -0.5935929218146352, -0.9400064843743166, 0.8184536422660786, 0.6051514716477069, 1.986033931482904, 3.654979997899412, 0.17858108615271165, -1.5513735777578752, 1.9711731349620212, 0.6244032392053847, 1.1358931781345123, 0.40377740852876387, -1.1112520429721875, -0.4837839184642077, -0.4697476049298041, 0.4624700962665709, -0.40519454607155914, 0.26826033900583474, -3.363286877728186, 1.8642796689830858, 0.3546706184336565, -0.3010076943115201, -0.184736525521066, -0.17078051736817168, 1.0582430636820745, -0.8379417122297186, -0.17913716056313403, 0.2868655884201024, 1.4975251686775926, 0.1673545509032834, 1.8892720942055872, 1.2000191097252784, -0.11723758426468586, -1.3923642324153118, 1.2067384689802523, 0.6995092920577454, -0.450318572383938, -1.0768058506215945, 1.8240423037842124, -1.2848847471231686, -1.3092995799985827, -2.252081015062117, 1.6516269181221692, 1.5514491437019398, 0.17685847323240705, -0.9136086216446226, 1.2010817770884787, -0.19816291549069612, 1.321136986359857, -0.3394538966085169, 0.34016035243713444, -0.7941748905370211, 0.19043318709089463, -0.5436817352645537, 1.0661669821985864, 2.2851010625069286, -0.8266733303952352, 0.7884285801220625, 0.8231972467330367, 0.324008182428142, 0.6752070165857296, -0.8439726176579643, -0.20609333658074047, -1.5482680054696205, -0.38434511261941934, 0.07692083586667725, -0.6248572409586476, -0.16248851481555132, -1.8459074757071747, 1.4126122652500914, 0.19075917126177336, 0.1756756844178885, -0.6453507523108135, 1.689030633833263, -0.8708237540304141, 0.25013438914188446, -1.4214869901784088, 0.2984832844136182, -0.5636158302217779, -0.30474446122783944, 1.006249773260137, 0.2782559169320781, 0.5666162539211673, -0.9302725711947286, -1.3463008359939528, 0.32468815436776594], \"xaxis\": \"x13\", \"y\": [-0.42207092062544505, 0.571334851427382, 0.209309099577975, 0.2357360351882224, -0.19033052317107174, 1.7954668044031779, 0.03753594495671657, -0.34444488948102764, 0.5145014018508386, 0.7792744997652691, 1.802800703652718, 0.12961945987754453, -2.2451385004143423, -0.5476262287075142, 1.8147112758073896, 1.7774030039222173, -0.2890566123981602, -1.4229622366313441, 0.5617914011982906, -1.2551830304274805, -1.6294584594711694, -0.06845787408972442, 0.5677003676723057, -0.25533216789681634, 2.17800882925841, 1.5569574961587103, 0.13536002901035704, -1.9501362472694592, -0.4084740162108226, 0.09864966201708075, 0.7005521862610382, -1.0237131750107904, -3.7198755066257703, 1.2401281855439659, -0.24963018210588891, -0.4495616394996091, -1.334142897239012, -0.05199385707357265, -0.3636576150250563, 0.6155077403985042, -0.8367399055275807, -1.0065113759366735, -2.53522971674168, -0.22123698017928725, 1.7810788278251577, 1.0037516165704732, -1.1182941395835115, -0.648522184773254, 0.6592307181632687, -3.3148689366391255, 0.5106039962665352, 0.7016254374433916, 0.6878489361253675, 1.1427259382637898, -0.15063296235128362, 1.7457182916932434, 0.5152133093405894, -0.036109000356071556, 0.7830740550725146, -0.44928100405539784, -0.07516099765662752, -1.1966712721257133, -1.812651207171741, 0.7011874349784221, -0.6852555009642081, 0.9776338731551988, 0.4018853632616528, -0.19676303051306304, 1.1682857171730392, -0.42026047686310775, 1.0596319099267317, 2.1167466718626504, -1.940722935149875, -0.9433259313316542, 1.0845925686579752, -0.3825290633316056, 0.6189134578674937, 0.16208020847827534, -0.8392312772360102, -0.33911222257382945, -0.4049050065854754, -0.7610784392404565, -0.031673418319424954, -0.5905931178369421, 0.09284308666716118, -1.4569240927626794, 2.233444474053686, -2.2463777812587433, 0.8247773217007768, 1.2873820847023052, 0.018378373475883426, 1.0728725272475856, 0.2049473995358994, -0.09993459592442042, 0.12833398650529076, 0.9851533536016509, -0.9675715123129737, -0.7323234244894197, -0.8110955871650228, 0.7824093705610112], \"yaxis\": \"y13\"}, {\"line\": {\"color\": \"rgba(128, 128, 128, 1.0)\", \"dash\": \"solid\", \"shape\": \"linear\", \"width\": 1.3}, \"marker\": {\"size\": 2, \"symbol\": \"circle\"}, \"mode\": \"markers\", \"name\": \"D\", \"text\": \"\", \"type\": \"scatter\", \"x\": [0.2853960742036141, -0.4406604289569714, 0.33365589029910364, 0.2018345194581368, 0.468673037397461, -1.3528010257124101, 0.800285334395616, 0.8735403499291123, -0.4971589012856189, -1.1501645383832924, -0.11235634631765345, 0.4723699885089022, 0.0712305561391159, 0.24284710471750473, -0.9122241746416804, 0.8269817335779781, -0.00874132852355032, -0.6318762826014234, 0.43011057200838515, 1.0704132732721918, 2.134360594704674, 0.31373630965031646, -0.8829218217202525, -0.73474365392336, 0.3200172946062929, 1.2920107799210232, -0.4672134494390364, -0.4255892680362301, -0.7883031262036172, -0.42466003092600074, 1.312409195297587, 0.09591687871532022, 1.3971624576376163, 0.5876017168531212, -0.9320959746324256, -1.554159956817357, 0.34482741176093945, 1.5468924170915168, -1.4034301158921905, -0.3421364854793705, -0.3700258002299505, 0.18963240578518814, -0.8367522861239166, -1.4354639631629302, -0.1924128922031911, -0.4471995622697898, -0.20594738032034565, 1.1666927760052315, 0.8542061073093862, -0.045340865093400975, 0.8829678490586947, 2.6408083514235363, -0.5007660975317126, 0.15144509399049666, -0.14989090307841002, -1.6619153347196627, 1.0238621209857814, 1.2221517095795575, -0.9735974374641312, -0.5627451263909823, -0.05804543402331785, 0.9850109566618794, 0.8381067825455304, -1.1621346812659719, -0.6289189456340682, 0.9332556602694779, 0.1801566919373079, 0.10417651779157987, -0.14807796339151225, 1.5990250523195302, -0.053927329507619894, -0.7783360488156015, -0.3700849764827003, 2.2810591763490504, 0.2542492977753961, 2.762357088437156, 0.6376042127156709, 1.2695848172126263, 0.45641857354305465, 0.46965554004453053, -1.1173114686529768, 0.3186506440608256, -1.2750038871380027, 0.6618715619915841, 0.08003220670383365, 0.8067700142648925, -0.1022498040061927, -0.11343763353982858, -1.2410875845656366, 0.5410071859457992, -0.008862683281114241, 0.01483585722941619, -2.2886479470860417, -2.2874057157464414, -1.8809150648910813, -1.3995936415281152, -2.2829143071083657, 0.8742765899714318, -3.559128971832099, -0.5292230111010272], \"xaxis\": \"x14\", \"y\": [-0.42207092062544505, 0.571334851427382, 0.209309099577975, 0.2357360351882224, -0.19033052317107174, 1.7954668044031779, 0.03753594495671657, -0.34444488948102764, 0.5145014018508386, 0.7792744997652691, 1.802800703652718, 0.12961945987754453, -2.2451385004143423, -0.5476262287075142, 1.8147112758073896, 1.7774030039222173, -0.2890566123981602, -1.4229622366313441, 0.5617914011982906, -1.2551830304274805, -1.6294584594711694, -0.06845787408972442, 0.5677003676723057, -0.25533216789681634, 2.17800882925841, 1.5569574961587103, 0.13536002901035704, -1.9501362472694592, -0.4084740162108226, 0.09864966201708075, 0.7005521862610382, -1.0237131750107904, -3.7198755066257703, 1.2401281855439659, -0.24963018210588891, -0.4495616394996091, -1.334142897239012, -0.05199385707357265, -0.3636576150250563, 0.6155077403985042, -0.8367399055275807, -1.0065113759366735, -2.53522971674168, -0.22123698017928725, 1.7810788278251577, 1.0037516165704732, -1.1182941395835115, -0.648522184773254, 0.6592307181632687, -3.3148689366391255, 0.5106039962665352, 0.7016254374433916, 0.6878489361253675, 1.1427259382637898, -0.15063296235128362, 1.7457182916932434, 0.5152133093405894, -0.036109000356071556, 0.7830740550725146, -0.44928100405539784, -0.07516099765662752, -1.1966712721257133, -1.812651207171741, 0.7011874349784221, -0.6852555009642081, 0.9776338731551988, 0.4018853632616528, -0.19676303051306304, 1.1682857171730392, -0.42026047686310775, 1.0596319099267317, 2.1167466718626504, -1.940722935149875, -0.9433259313316542, 1.0845925686579752, -0.3825290633316056, 0.6189134578674937, 0.16208020847827534, -0.8392312772360102, -0.33911222257382945, -0.4049050065854754, -0.7610784392404565, -0.031673418319424954, -0.5905931178369421, 0.09284308666716118, -1.4569240927626794, 2.233444474053686, -2.2463777812587433, 0.8247773217007768, 1.2873820847023052, 0.018378373475883426, 1.0728725272475856, 0.2049473995358994, -0.09993459592442042, 0.12833398650529076, 0.9851533536016509, -0.9675715123129737, -0.7323234244894197, -0.8110955871650228, 0.7824093705610112], \"yaxis\": \"y14\"}, {\"line\": {\"color\": \"rgba(128, 128, 128, 1.0)\", \"dash\": \"solid\", \"shape\": \"linear\", \"width\": 1.3}, \"marker\": {\"size\": 2, \"symbol\": \"circle\"}, \"mode\": \"markers\", \"name\": \"D\", \"text\": \"\", \"type\": \"scatter\", \"x\": [-1.2114743390562264, 1.700800915419909, -1.178994477837021, 0.14513018194727986, 1.286942779256458, 0.6955018892298953, -0.9780020693548642, 1.46808894919136, 0.5822854672166777, 0.19151145671021533, 1.2105212178471323, 1.4569023841482407, 1.1756193827787285, 0.7542403015929829, 0.8434614724697863, -0.8560461320728188, 0.9936037814303642, -0.31434565857476593, 0.04525888276113422, 0.5083100632905638, 0.5286150797252278, -1.0246358503243014, -5.635076311253026e-05, -0.007341225579132861, 0.5545965801178203, 0.0810432372767892, 1.1999323217913713, 0.7471526407393261, 0.0852219670418781, 0.7993831939237878, -0.7922259472297779, -0.17945078997743538, 0.7445919702954994, -0.07543975670014871, 0.2958411375086231, 0.11288799429313509, 0.5866679922058633, 0.7693347762832684, 1.202395837276869, -0.515623404678566, -1.1129721035407865, -0.2899754175382606, 0.20716303560209146, -0.8111795583989764, -0.7029578790728146, 0.2923644478814588, -0.021076270898370716, -0.498923747661836, 2.786513630916273, 0.024913166024660306, -1.7807545602182158, -1.357397531105, 0.1270269844378426, -0.5197410481686981, 0.6008872605864622, -0.4423647332569923, 0.15909986938826357, -0.47620993889168306, 0.2870340326809318, 1.0484693388735191, -1.7089889393481843, 0.03309500492681004, 0.9709780861585363, -0.2674736636277588, -0.1719559943280335, -0.25103460113072934, 1.9652966578048763, -1.0299412274250208, -0.9521461846731799, -0.538170621043196, -0.3111127524093368, -0.5969506068307517, -1.6525314381120113, 0.07541342778795664, 0.8188151546411473, 1.5122827976558877, 0.09889150579605903, -0.7085815791607246, -2.2022019766422916, 0.45863390939431736, 0.6389744930862618, 0.44307298846494525, 0.6322602528309235, 0.4190339353806155, 0.2019674361957441, 1.2653444505074438, 1.6010436074640049, -0.04273937600904199, 2.4247514443140528, -0.07098998568331391, -0.2494477920339057, -1.5733955487514455, -0.2705985504473421, -0.16015968417545634, 1.5576972107642162, -0.7918241252487018, -0.6664298961171453, 0.6136067512289997, -1.7283263219878962, -0.1934294523399556], \"xaxis\": \"x15\", \"y\": [-0.42207092062544505, 0.571334851427382, 0.209309099577975, 0.2357360351882224, -0.19033052317107174, 1.7954668044031779, 0.03753594495671657, -0.34444488948102764, 0.5145014018508386, 0.7792744997652691, 1.802800703652718, 0.12961945987754453, -2.2451385004143423, -0.5476262287075142, 1.8147112758073896, 1.7774030039222173, -0.2890566123981602, -1.4229622366313441, 0.5617914011982906, -1.2551830304274805, -1.6294584594711694, -0.06845787408972442, 0.5677003676723057, -0.25533216789681634, 2.17800882925841, 1.5569574961587103, 0.13536002901035704, -1.9501362472694592, -0.4084740162108226, 0.09864966201708075, 0.7005521862610382, -1.0237131750107904, -3.7198755066257703, 1.2401281855439659, -0.24963018210588891, -0.4495616394996091, -1.334142897239012, -0.05199385707357265, -0.3636576150250563, 0.6155077403985042, -0.8367399055275807, -1.0065113759366735, -2.53522971674168, -0.22123698017928725, 1.7810788278251577, 1.0037516165704732, -1.1182941395835115, -0.648522184773254, 0.6592307181632687, -3.3148689366391255, 0.5106039962665352, 0.7016254374433916, 0.6878489361253675, 1.1427259382637898, -0.15063296235128362, 1.7457182916932434, 0.5152133093405894, -0.036109000356071556, 0.7830740550725146, -0.44928100405539784, -0.07516099765662752, -1.1966712721257133, -1.812651207171741, 0.7011874349784221, -0.6852555009642081, 0.9776338731551988, 0.4018853632616528, -0.19676303051306304, 1.1682857171730392, -0.42026047686310775, 1.0596319099267317, 2.1167466718626504, -1.940722935149875, -0.9433259313316542, 1.0845925686579752, -0.3825290633316056, 0.6189134578674937, 0.16208020847827534, -0.8392312772360102, -0.33911222257382945, -0.4049050065854754, -0.7610784392404565, -0.031673418319424954, -0.5905931178369421, 0.09284308666716118, -1.4569240927626794, 2.233444474053686, -2.2463777812587433, 0.8247773217007768, 1.2873820847023052, 0.018378373475883426, 1.0728725272475856, 0.2049473995358994, -0.09993459592442042, 0.12833398650529076, 0.9851533536016509, -0.9675715123129737, -0.7323234244894197, -0.8110955871650228, 0.7824093705610112], \"yaxis\": \"y15\"}, {\"histfunc\": \"count\", \"histnorm\": \"\", \"marker\": {\"color\": \"rgba(128, 0, 128, 1.0)\", \"line\": {\"color\": \"#4D5663\", \"width\": 1.3}}, \"name\": \"D\", \"nbinsx\": 10, \"opacity\": 0.8, \"orientation\": \"v\", \"type\": \"histogram\", \"x\": [-0.42207092062544505, 0.571334851427382, 0.209309099577975, 0.2357360351882224, -0.19033052317107174, 1.7954668044031779, 0.03753594495671657, -0.34444488948102764, 0.5145014018508386, 0.7792744997652691, 1.802800703652718, 0.12961945987754453, -2.2451385004143423, -0.5476262287075142, 1.8147112758073896, 1.7774030039222173, -0.2890566123981602, -1.4229622366313441, 0.5617914011982906, -1.2551830304274805, -1.6294584594711694, -0.06845787408972442, 0.5677003676723057, -0.25533216789681634, 2.17800882925841, 1.5569574961587103, 0.13536002901035704, -1.9501362472694592, -0.4084740162108226, 0.09864966201708075, 0.7005521862610382, -1.0237131750107904, -3.7198755066257703, 1.2401281855439659, -0.24963018210588891, -0.4495616394996091, -1.334142897239012, -0.05199385707357265, -0.3636576150250563, 0.6155077403985042, -0.8367399055275807, -1.0065113759366735, -2.53522971674168, -0.22123698017928725, 1.7810788278251577, 1.0037516165704732, -1.1182941395835115, -0.648522184773254, 0.6592307181632687, -3.3148689366391255, 0.5106039962665352, 0.7016254374433916, 0.6878489361253675, 1.1427259382637898, -0.15063296235128362, 1.7457182916932434, 0.5152133093405894, -0.036109000356071556, 0.7830740550725146, -0.44928100405539784, -0.07516099765662752, -1.1966712721257133, -1.812651207171741, 0.7011874349784221, -0.6852555009642081, 0.9776338731551988, 0.4018853632616528, -0.19676303051306304, 1.1682857171730392, -0.42026047686310775, 1.0596319099267317, 2.1167466718626504, -1.940722935149875, -0.9433259313316542, 1.0845925686579752, -0.3825290633316056, 0.6189134578674937, 0.16208020847827534, -0.8392312772360102, -0.33911222257382945, -0.4049050065854754, -0.7610784392404565, -0.031673418319424954, -0.5905931178369421, 0.09284308666716118, -1.4569240927626794, 2.233444474053686, -2.2463777812587433, 0.8247773217007768, 1.2873820847023052, 0.018378373475883426, 1.0728725272475856, 0.2049473995358994, -0.09993459592442042, 0.12833398650529076, 0.9851533536016509, -0.9675715123129737, -0.7323234244894197, -0.8110955871650228, 0.7824093705610112], \"xaxis\": \"x16\", \"yaxis\": \"y16\"}],\n",
       "                        {\"bargap\": 0.02, \"legend\": {\"bgcolor\": \"#F5F6F9\", \"font\": {\"color\": \"#4D5663\"}}, \"paper_bgcolor\": \"#F5F6F9\", \"plot_bgcolor\": \"#F5F6F9\", \"showlegend\": false, \"template\": {\"data\": {\"bar\": [{\"error_x\": {\"color\": \"#2a3f5f\"}, \"error_y\": {\"color\": \"#2a3f5f\"}, \"marker\": {\"line\": {\"color\": \"#E5ECF6\", \"width\": 0.5}}, \"type\": \"bar\"}], \"barpolar\": [{\"marker\": {\"line\": {\"color\": \"#E5ECF6\", \"width\": 0.5}}, \"type\": \"barpolar\"}], \"carpet\": [{\"aaxis\": {\"endlinecolor\": \"#2a3f5f\", \"gridcolor\": \"white\", \"linecolor\": \"white\", \"minorgridcolor\": \"white\", \"startlinecolor\": \"#2a3f5f\"}, \"baxis\": {\"endlinecolor\": \"#2a3f5f\", \"gridcolor\": \"white\", \"linecolor\": \"white\", \"minorgridcolor\": \"white\", \"startlinecolor\": \"#2a3f5f\"}, \"type\": \"carpet\"}], \"choropleth\": [{\"colorbar\": {\"outlinewidth\": 0, \"ticks\": \"\"}, \"type\": \"choropleth\"}], \"contour\": [{\"colorbar\": {\"outlinewidth\": 0, \"ticks\": \"\"}, \"colorscale\": [[0.0, \"#0d0887\"], [0.1111111111111111, \"#46039f\"], [0.2222222222222222, \"#7201a8\"], [0.3333333333333333, \"#9c179e\"], [0.4444444444444444, \"#bd3786\"], [0.5555555555555556, \"#d8576b\"], [0.6666666666666666, \"#ed7953\"], [0.7777777777777778, \"#fb9f3a\"], [0.8888888888888888, \"#fdca26\"], [1.0, \"#f0f921\"]], \"type\": \"contour\"}], \"contourcarpet\": [{\"colorbar\": {\"outlinewidth\": 0, \"ticks\": \"\"}, \"type\": \"contourcarpet\"}], \"heatmap\": [{\"colorbar\": {\"outlinewidth\": 0, \"ticks\": \"\"}, \"colorscale\": [[0.0, \"#0d0887\"], [0.1111111111111111, \"#46039f\"], [0.2222222222222222, \"#7201a8\"], [0.3333333333333333, \"#9c179e\"], [0.4444444444444444, \"#bd3786\"], [0.5555555555555556, \"#d8576b\"], [0.6666666666666666, \"#ed7953\"], [0.7777777777777778, \"#fb9f3a\"], [0.8888888888888888, \"#fdca26\"], [1.0, \"#f0f921\"]], \"type\": \"heatmap\"}], \"heatmapgl\": [{\"colorbar\": {\"outlinewidth\": 0, \"ticks\": \"\"}, \"colorscale\": [[0.0, \"#0d0887\"], [0.1111111111111111, \"#46039f\"], [0.2222222222222222, \"#7201a8\"], [0.3333333333333333, \"#9c179e\"], [0.4444444444444444, \"#bd3786\"], [0.5555555555555556, \"#d8576b\"], [0.6666666666666666, \"#ed7953\"], [0.7777777777777778, \"#fb9f3a\"], [0.8888888888888888, \"#fdca26\"], [1.0, \"#f0f921\"]], \"type\": \"heatmapgl\"}], \"histogram\": [{\"marker\": {\"colorbar\": {\"outlinewidth\": 0, \"ticks\": \"\"}}, \"type\": \"histogram\"}], \"histogram2d\": [{\"colorbar\": {\"outlinewidth\": 0, \"ticks\": \"\"}, \"colorscale\": [[0.0, \"#0d0887\"], [0.1111111111111111, \"#46039f\"], [0.2222222222222222, \"#7201a8\"], [0.3333333333333333, \"#9c179e\"], [0.4444444444444444, \"#bd3786\"], [0.5555555555555556, \"#d8576b\"], [0.6666666666666666, \"#ed7953\"], [0.7777777777777778, \"#fb9f3a\"], [0.8888888888888888, \"#fdca26\"], [1.0, \"#f0f921\"]], \"type\": \"histogram2d\"}], \"histogram2dcontour\": [{\"colorbar\": {\"outlinewidth\": 0, \"ticks\": \"\"}, \"colorscale\": [[0.0, \"#0d0887\"], [0.1111111111111111, \"#46039f\"], [0.2222222222222222, \"#7201a8\"], [0.3333333333333333, \"#9c179e\"], [0.4444444444444444, \"#bd3786\"], [0.5555555555555556, \"#d8576b\"], [0.6666666666666666, \"#ed7953\"], [0.7777777777777778, \"#fb9f3a\"], [0.8888888888888888, \"#fdca26\"], [1.0, \"#f0f921\"]], \"type\": \"histogram2dcontour\"}], \"mesh3d\": [{\"colorbar\": {\"outlinewidth\": 0, \"ticks\": \"\"}, \"type\": \"mesh3d\"}], \"parcoords\": [{\"line\": {\"colorbar\": {\"outlinewidth\": 0, \"ticks\": \"\"}}, \"type\": \"parcoords\"}], \"pie\": [{\"automargin\": true, \"type\": \"pie\"}], \"scatter\": [{\"marker\": {\"colorbar\": {\"outlinewidth\": 0, \"ticks\": \"\"}}, \"type\": \"scatter\"}], \"scatter3d\": [{\"line\": {\"colorbar\": {\"outlinewidth\": 0, \"ticks\": \"\"}}, \"marker\": {\"colorbar\": {\"outlinewidth\": 0, \"ticks\": \"\"}}, \"type\": \"scatter3d\"}], \"scattercarpet\": [{\"marker\": {\"colorbar\": {\"outlinewidth\": 0, \"ticks\": \"\"}}, \"type\": \"scattercarpet\"}], \"scattergeo\": [{\"marker\": {\"colorbar\": {\"outlinewidth\": 0, \"ticks\": \"\"}}, \"type\": \"scattergeo\"}], \"scattergl\": [{\"marker\": {\"colorbar\": {\"outlinewidth\": 0, \"ticks\": \"\"}}, \"type\": \"scattergl\"}], \"scattermapbox\": [{\"marker\": {\"colorbar\": {\"outlinewidth\": 0, \"ticks\": \"\"}}, \"type\": \"scattermapbox\"}], \"scatterpolar\": [{\"marker\": {\"colorbar\": {\"outlinewidth\": 0, \"ticks\": \"\"}}, \"type\": \"scatterpolar\"}], \"scatterpolargl\": [{\"marker\": {\"colorbar\": {\"outlinewidth\": 0, \"ticks\": \"\"}}, \"type\": \"scatterpolargl\"}], \"scatterternary\": [{\"marker\": {\"colorbar\": {\"outlinewidth\": 0, \"ticks\": \"\"}}, \"type\": \"scatterternary\"}], \"surface\": [{\"colorbar\": {\"outlinewidth\": 0, \"ticks\": \"\"}, \"colorscale\": [[0.0, \"#0d0887\"], [0.1111111111111111, \"#46039f\"], [0.2222222222222222, \"#7201a8\"], [0.3333333333333333, \"#9c179e\"], [0.4444444444444444, \"#bd3786\"], [0.5555555555555556, \"#d8576b\"], [0.6666666666666666, \"#ed7953\"], [0.7777777777777778, \"#fb9f3a\"], [0.8888888888888888, \"#fdca26\"], [1.0, \"#f0f921\"]], \"type\": \"surface\"}], \"table\": [{\"cells\": {\"fill\": {\"color\": \"#EBF0F8\"}, \"line\": {\"color\": \"white\"}}, \"header\": {\"fill\": {\"color\": \"#C8D4E3\"}, \"line\": {\"color\": \"white\"}}, \"type\": \"table\"}]}, \"layout\": {\"annotationdefaults\": {\"arrowcolor\": \"#2a3f5f\", \"arrowhead\": 0, \"arrowwidth\": 1}, \"coloraxis\": {\"colorbar\": {\"outlinewidth\": 0, \"ticks\": \"\"}}, \"colorscale\": {\"diverging\": [[0, \"#8e0152\"], [0.1, \"#c51b7d\"], [0.2, \"#de77ae\"], [0.3, \"#f1b6da\"], [0.4, \"#fde0ef\"], [0.5, \"#f7f7f7\"], [0.6, \"#e6f5d0\"], [0.7, \"#b8e186\"], [0.8, \"#7fbc41\"], [0.9, \"#4d9221\"], [1, \"#276419\"]], \"sequential\": [[0.0, \"#0d0887\"], [0.1111111111111111, \"#46039f\"], [0.2222222222222222, \"#7201a8\"], [0.3333333333333333, \"#9c179e\"], [0.4444444444444444, \"#bd3786\"], [0.5555555555555556, \"#d8576b\"], [0.6666666666666666, \"#ed7953\"], [0.7777777777777778, \"#fb9f3a\"], [0.8888888888888888, \"#fdca26\"], [1.0, \"#f0f921\"]], \"sequentialminus\": [[0.0, \"#0d0887\"], [0.1111111111111111, \"#46039f\"], [0.2222222222222222, \"#7201a8\"], [0.3333333333333333, \"#9c179e\"], [0.4444444444444444, \"#bd3786\"], [0.5555555555555556, \"#d8576b\"], [0.6666666666666666, \"#ed7953\"], [0.7777777777777778, \"#fb9f3a\"], [0.8888888888888888, \"#fdca26\"], [1.0, \"#f0f921\"]]}, \"colorway\": [\"#636efa\", \"#EF553B\", \"#00cc96\", \"#ab63fa\", \"#FFA15A\", \"#19d3f3\", \"#FF6692\", \"#B6E880\", \"#FF97FF\", \"#FECB52\"], \"font\": {\"color\": \"#2a3f5f\"}, \"geo\": {\"bgcolor\": \"white\", \"lakecolor\": \"white\", \"landcolor\": \"#E5ECF6\", \"showlakes\": true, \"showland\": true, \"subunitcolor\": \"white\"}, \"hoverlabel\": {\"align\": \"left\"}, \"hovermode\": \"closest\", \"mapbox\": {\"style\": \"light\"}, \"paper_bgcolor\": \"white\", \"plot_bgcolor\": \"#E5ECF6\", \"polar\": {\"angularaxis\": {\"gridcolor\": \"white\", \"linecolor\": \"white\", \"ticks\": \"\"}, \"bgcolor\": \"#E5ECF6\", \"radialaxis\": {\"gridcolor\": \"white\", \"linecolor\": \"white\", \"ticks\": \"\"}}, \"scene\": {\"xaxis\": {\"backgroundcolor\": \"#E5ECF6\", \"gridcolor\": \"white\", \"gridwidth\": 2, \"linecolor\": \"white\", \"showbackground\": true, \"ticks\": \"\", \"zerolinecolor\": \"white\"}, \"yaxis\": {\"backgroundcolor\": \"#E5ECF6\", \"gridcolor\": \"white\", \"gridwidth\": 2, \"linecolor\": \"white\", \"showbackground\": true, \"ticks\": \"\", \"zerolinecolor\": \"white\"}, \"zaxis\": {\"backgroundcolor\": \"#E5ECF6\", \"gridcolor\": \"white\", \"gridwidth\": 2, \"linecolor\": \"white\", \"showbackground\": true, \"ticks\": \"\", \"zerolinecolor\": \"white\"}}, \"shapedefaults\": {\"line\": {\"color\": \"#2a3f5f\"}}, \"ternary\": {\"aaxis\": {\"gridcolor\": \"white\", \"linecolor\": \"white\", \"ticks\": \"\"}, \"baxis\": {\"gridcolor\": \"white\", \"linecolor\": \"white\", \"ticks\": \"\"}, \"bgcolor\": \"#E5ECF6\", \"caxis\": {\"gridcolor\": \"white\", \"linecolor\": \"white\", \"ticks\": \"\"}}, \"title\": {\"x\": 0.05}, \"xaxis\": {\"automargin\": true, \"gridcolor\": \"white\", \"linecolor\": \"white\", \"ticks\": \"\", \"title\": {\"standoff\": 15}, \"zerolinecolor\": \"white\", \"zerolinewidth\": 2}, \"yaxis\": {\"automargin\": true, \"gridcolor\": \"white\", \"linecolor\": \"white\", \"ticks\": \"\", \"title\": {\"standoff\": 15}, \"zerolinecolor\": \"white\", \"zerolinewidth\": 2}}}, \"title\": {\"font\": {\"color\": \"#4D5663\"}}, \"xaxis\": {\"anchor\": \"y\", \"domain\": [0.0, 0.2125], \"gridcolor\": \"#E1E5ED\", \"showgrid\": false, \"tickfont\": {\"color\": \"#4D5663\"}, \"title\": {\"font\": {\"color\": \"#4D5663\"}, \"text\": \"\"}, \"zerolinecolor\": \"#E1E5ED\"}, \"xaxis10\": {\"anchor\": \"y10\", \"domain\": [0.2625, 0.475], \"gridcolor\": \"#E1E5ED\", \"showgrid\": false, \"tickfont\": {\"color\": \"#4D5663\"}, \"title\": {\"font\": {\"color\": \"#4D5663\"}, \"text\": \"\"}, \"zerolinecolor\": \"#E1E5ED\"}, \"xaxis11\": {\"anchor\": \"y11\", \"domain\": [0.525, 0.7375], \"gridcolor\": \"#E1E5ED\", \"showgrid\": false, \"tickfont\": {\"color\": \"#4D5663\"}, \"title\": {\"font\": {\"color\": \"#4D5663\"}, \"text\": \"\"}, \"zerolinecolor\": \"#E1E5ED\"}, \"xaxis12\": {\"anchor\": \"y12\", \"domain\": [0.7875, 1.0], \"gridcolor\": \"#E1E5ED\", \"showgrid\": false, \"tickfont\": {\"color\": \"#4D5663\"}, \"title\": {\"font\": {\"color\": \"#4D5663\"}, \"text\": \"\"}, \"zerolinecolor\": \"#E1E5ED\"}, \"xaxis13\": {\"anchor\": \"y13\", \"domain\": [0.0, 0.2125], \"gridcolor\": \"#E1E5ED\", \"showgrid\": false, \"tickfont\": {\"color\": \"#4D5663\"}, \"title\": {\"font\": {\"color\": \"#4D5663\"}, \"text\": \"\"}, \"zerolinecolor\": \"#E1E5ED\"}, \"xaxis14\": {\"anchor\": \"y14\", \"domain\": [0.2625, 0.475], \"gridcolor\": \"#E1E5ED\", \"showgrid\": false, \"tickfont\": {\"color\": \"#4D5663\"}, \"title\": {\"font\": {\"color\": \"#4D5663\"}, \"text\": \"\"}, \"zerolinecolor\": \"#E1E5ED\"}, \"xaxis15\": {\"anchor\": \"y15\", \"domain\": [0.525, 0.7375], \"gridcolor\": \"#E1E5ED\", \"showgrid\": false, \"tickfont\": {\"color\": \"#4D5663\"}, \"title\": {\"font\": {\"color\": \"#4D5663\"}, \"text\": \"\"}, \"zerolinecolor\": \"#E1E5ED\"}, \"xaxis16\": {\"anchor\": \"y16\", \"domain\": [0.7875, 1.0], \"gridcolor\": \"#E1E5ED\", \"showgrid\": false, \"tickfont\": {\"color\": \"#4D5663\"}, \"title\": {\"font\": {\"color\": \"#4D5663\"}, \"text\": \"\"}, \"zerolinecolor\": \"#E1E5ED\"}, \"xaxis2\": {\"anchor\": \"y2\", \"domain\": [0.2625, 0.475], \"gridcolor\": \"#E1E5ED\", \"showgrid\": false, \"tickfont\": {\"color\": \"#4D5663\"}, \"title\": {\"font\": {\"color\": \"#4D5663\"}, \"text\": \"\"}, \"zerolinecolor\": \"#E1E5ED\"}, \"xaxis3\": {\"anchor\": \"y3\", \"domain\": [0.525, 0.7375], \"gridcolor\": \"#E1E5ED\", \"showgrid\": false, \"tickfont\": {\"color\": \"#4D5663\"}, \"title\": {\"font\": {\"color\": \"#4D5663\"}, \"text\": \"\"}, \"zerolinecolor\": \"#E1E5ED\"}, \"xaxis4\": {\"anchor\": \"y4\", \"domain\": [0.7875, 1.0], \"gridcolor\": \"#E1E5ED\", \"showgrid\": false, \"tickfont\": {\"color\": \"#4D5663\"}, \"title\": {\"font\": {\"color\": \"#4D5663\"}, \"text\": \"\"}, \"zerolinecolor\": \"#E1E5ED\"}, \"xaxis5\": {\"anchor\": \"y5\", \"domain\": [0.0, 0.2125], \"gridcolor\": \"#E1E5ED\", \"showgrid\": false, \"tickfont\": {\"color\": \"#4D5663\"}, \"title\": {\"font\": {\"color\": \"#4D5663\"}, \"text\": \"\"}, \"zerolinecolor\": \"#E1E5ED\"}, \"xaxis6\": {\"anchor\": \"y6\", \"domain\": [0.2625, 0.475], \"gridcolor\": \"#E1E5ED\", \"showgrid\": false, \"tickfont\": {\"color\": \"#4D5663\"}, \"title\": {\"font\": {\"color\": \"#4D5663\"}, \"text\": \"\"}, \"zerolinecolor\": \"#E1E5ED\"}, \"xaxis7\": {\"anchor\": \"y7\", \"domain\": [0.525, 0.7375], \"gridcolor\": \"#E1E5ED\", \"showgrid\": false, \"tickfont\": {\"color\": \"#4D5663\"}, \"title\": {\"font\": {\"color\": \"#4D5663\"}, \"text\": \"\"}, \"zerolinecolor\": \"#E1E5ED\"}, \"xaxis8\": {\"anchor\": \"y8\", \"domain\": [0.7875, 1.0], \"gridcolor\": \"#E1E5ED\", \"showgrid\": false, \"tickfont\": {\"color\": \"#4D5663\"}, \"title\": {\"font\": {\"color\": \"#4D5663\"}, \"text\": \"\"}, \"zerolinecolor\": \"#E1E5ED\"}, \"xaxis9\": {\"anchor\": \"y9\", \"domain\": [0.0, 0.2125], \"gridcolor\": \"#E1E5ED\", \"showgrid\": false, \"tickfont\": {\"color\": \"#4D5663\"}, \"title\": {\"font\": {\"color\": \"#4D5663\"}, \"text\": \"\"}, \"zerolinecolor\": \"#E1E5ED\"}, \"yaxis\": {\"anchor\": \"x\", \"domain\": [0.8025, 1.0], \"gridcolor\": \"#E1E5ED\", \"showgrid\": false, \"tickfont\": {\"color\": \"#4D5663\"}, \"title\": {\"font\": {\"color\": \"#4D5663\"}, \"text\": \"\"}, \"zerolinecolor\": \"#E1E5ED\"}, \"yaxis10\": {\"anchor\": \"x10\", \"domain\": [0.2675, 0.465], \"gridcolor\": \"#E1E5ED\", \"showgrid\": false, \"tickfont\": {\"color\": \"#4D5663\"}, \"title\": {\"font\": {\"color\": \"#4D5663\"}, \"text\": \"\"}, \"zerolinecolor\": \"#E1E5ED\"}, \"yaxis11\": {\"anchor\": \"x11\", \"domain\": [0.2675, 0.465], \"gridcolor\": \"#E1E5ED\", \"showgrid\": false, \"tickfont\": {\"color\": \"#4D5663\"}, \"title\": {\"font\": {\"color\": \"#4D5663\"}, \"text\": \"\"}, \"zerolinecolor\": \"#E1E5ED\"}, \"yaxis12\": {\"anchor\": \"x12\", \"domain\": [0.2675, 0.465], \"gridcolor\": \"#E1E5ED\", \"showgrid\": false, \"tickfont\": {\"color\": \"#4D5663\"}, \"title\": {\"font\": {\"color\": \"#4D5663\"}, \"text\": \"\"}, \"zerolinecolor\": \"#E1E5ED\"}, \"yaxis13\": {\"anchor\": \"x13\", \"domain\": [0.0, 0.1975], \"gridcolor\": \"#E1E5ED\", \"showgrid\": false, \"tickfont\": {\"color\": \"#4D5663\"}, \"title\": {\"font\": {\"color\": \"#4D5663\"}, \"text\": \"\"}, \"zerolinecolor\": \"#E1E5ED\"}, \"yaxis14\": {\"anchor\": \"x14\", \"domain\": [0.0, 0.1975], \"gridcolor\": \"#E1E5ED\", \"showgrid\": false, \"tickfont\": {\"color\": \"#4D5663\"}, \"title\": {\"font\": {\"color\": \"#4D5663\"}, \"text\": \"\"}, \"zerolinecolor\": \"#E1E5ED\"}, \"yaxis15\": {\"anchor\": \"x15\", \"domain\": [0.0, 0.1975], \"gridcolor\": \"#E1E5ED\", \"showgrid\": false, \"tickfont\": {\"color\": \"#4D5663\"}, \"title\": {\"font\": {\"color\": \"#4D5663\"}, \"text\": \"\"}, \"zerolinecolor\": \"#E1E5ED\"}, \"yaxis16\": {\"anchor\": \"x16\", \"domain\": [0.0, 0.1975], \"gridcolor\": \"#E1E5ED\", \"showgrid\": false, \"tickfont\": {\"color\": \"#4D5663\"}, \"title\": {\"font\": {\"color\": \"#4D5663\"}, \"text\": \"\"}, \"zerolinecolor\": \"#E1E5ED\"}, \"yaxis2\": {\"anchor\": \"x2\", \"domain\": [0.8025, 1.0], \"gridcolor\": \"#E1E5ED\", \"showgrid\": false, \"tickfont\": {\"color\": \"#4D5663\"}, \"title\": {\"font\": {\"color\": \"#4D5663\"}, \"text\": \"\"}, \"zerolinecolor\": \"#E1E5ED\"}, \"yaxis3\": {\"anchor\": \"x3\", \"domain\": [0.8025, 1.0], \"gridcolor\": \"#E1E5ED\", \"showgrid\": false, \"tickfont\": {\"color\": \"#4D5663\"}, \"title\": {\"font\": {\"color\": \"#4D5663\"}, \"text\": \"\"}, \"zerolinecolor\": \"#E1E5ED\"}, \"yaxis4\": {\"anchor\": \"x4\", \"domain\": [0.8025, 1.0], \"gridcolor\": \"#E1E5ED\", \"showgrid\": false, \"tickfont\": {\"color\": \"#4D5663\"}, \"title\": {\"font\": {\"color\": \"#4D5663\"}, \"text\": \"\"}, \"zerolinecolor\": \"#E1E5ED\"}, \"yaxis5\": {\"anchor\": \"x5\", \"domain\": [0.535, 0.7325], \"gridcolor\": \"#E1E5ED\", \"showgrid\": false, \"tickfont\": {\"color\": \"#4D5663\"}, \"title\": {\"font\": {\"color\": \"#4D5663\"}, \"text\": \"\"}, \"zerolinecolor\": \"#E1E5ED\"}, \"yaxis6\": {\"anchor\": \"x6\", \"domain\": [0.535, 0.7325], \"gridcolor\": \"#E1E5ED\", \"showgrid\": false, \"tickfont\": {\"color\": \"#4D5663\"}, \"title\": {\"font\": {\"color\": \"#4D5663\"}, \"text\": \"\"}, \"zerolinecolor\": \"#E1E5ED\"}, \"yaxis7\": {\"anchor\": \"x7\", \"domain\": [0.535, 0.7325], \"gridcolor\": \"#E1E5ED\", \"showgrid\": false, \"tickfont\": {\"color\": \"#4D5663\"}, \"title\": {\"font\": {\"color\": \"#4D5663\"}, \"text\": \"\"}, \"zerolinecolor\": \"#E1E5ED\"}, \"yaxis8\": {\"anchor\": \"x8\", \"domain\": [0.535, 0.7325], \"gridcolor\": \"#E1E5ED\", \"showgrid\": false, \"tickfont\": {\"color\": \"#4D5663\"}, \"title\": {\"font\": {\"color\": \"#4D5663\"}, \"text\": \"\"}, \"zerolinecolor\": \"#E1E5ED\"}, \"yaxis9\": {\"anchor\": \"x9\", \"domain\": [0.2675, 0.465], \"gridcolor\": \"#E1E5ED\", \"showgrid\": false, \"tickfont\": {\"color\": \"#4D5663\"}, \"title\": {\"font\": {\"color\": \"#4D5663\"}, \"text\": \"\"}, \"zerolinecolor\": \"#E1E5ED\"}},\n",
       "                        {\"showLink\": true, \"linkText\": \"Export to plot.ly\", \"plotlyServerURL\": \"https://plot.ly\", \"responsive\": true}\n",
       "                    ).then(function(){\n",
       "                            \n",
       "var gd = document.getElementById('b60884bf-a156-4a12-845b-e31b148a4626');\n",
       "var x = new MutationObserver(function (mutations, observer) {{\n",
       "        var display = window.getComputedStyle(gd).display;\n",
       "        if (!display || display === 'none') {{\n",
       "            console.log([gd, 'removed!']);\n",
       "            Plotly.purge(gd);\n",
       "            observer.disconnect();\n",
       "        }}\n",
       "}});\n",
       "\n",
       "// Listen for the removal of the full notebook cells\n",
       "var notebookContainer = gd.closest('#notebook-container');\n",
       "if (notebookContainer) {{\n",
       "    x.observe(notebookContainer, {childList: true});\n",
       "}}\n",
       "\n",
       "// Listen for the clearing of the current output cell\n",
       "var outputEl = gd.closest('.output');\n",
       "if (outputEl) {{\n",
       "    x.observe(outputEl, {childList: true});\n",
       "}}\n",
       "\n",
       "                        })\n",
       "                };\n",
       "                });\n",
       "            </script>\n",
       "        </div>"
      ]
     },
     "metadata": {},
     "output_type": "display_data"
    }
   ],
   "source": [
    "df.scatter_matrix()"
   ]
  },
  {
   "cell_type": "code",
   "execution_count": null,
   "metadata": {},
   "outputs": [],
   "source": []
  }
 ],
 "metadata": {
  "kernelspec": {
   "display_name": "Python 3",
   "language": "python",
   "name": "python3"
  },
  "language_info": {
   "codemirror_mode": {
    "name": "ipython",
    "version": 3
   },
   "file_extension": ".py",
   "mimetype": "text/x-python",
   "name": "python",
   "nbconvert_exporter": "python",
   "pygments_lexer": "ipython3",
   "version": "3.6.9"
  }
 },
 "nbformat": 4,
 "nbformat_minor": 4
}
